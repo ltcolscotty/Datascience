{
 "cells": [
  {
   "cell_type": "code",
   "execution_count": 15,
   "id": "02053065-9686-4030-a7b9-c37c5d20df49",
   "metadata": {},
   "outputs": [],
   "source": [
    "import pandas as pd\n",
    "import plotly.express as px"
   ]
  },
  {
   "cell_type": "code",
   "execution_count": 7,
   "id": "d16c389b-ca6f-498a-8ce0-3dd20db481e8",
   "metadata": {},
   "outputs": [],
   "source": [
    "df1 = pd.read_csv('data/data1.csv')"
   ]
  },
  {
   "cell_type": "code",
   "execution_count": 9,
   "id": "3f531c7f-acf0-49c6-9a45-c4b289ad15c1",
   "metadata": {},
   "outputs": [],
   "source": [
    "df1.dropna(inplace=True)"
   ]
  },
  {
   "cell_type": "code",
   "execution_count": 17,
   "id": "b827865e-eacb-48b8-9bab-dd0865cf69ff",
   "metadata": {},
   "outputs": [
    {
     "data": {
      "text/plain": [
       "array(['Adolescent fertility rate (births per 1,000 women ages 15-19)',\n",
       "       'Adults (ages 15+) and children (0-14 years) living with HIV',\n",
       "       'Adults (ages 15+) and children (ages 0-14) newly infected with HIV',\n",
       "       'Adults (ages 15+) living with HIV',\n",
       "       'Adults (ages 15-49) newly infected with HIV',\n",
       "       'Age at first marriage, female', 'Age at first marriage, male',\n",
       "       'Age dependency ratio (% of working-age population)',\n",
       "       'Age dependency ratio, old', 'Age dependency ratio, young',\n",
       "       'Age population, age 00, female', 'Age population, age 00, male',\n",
       "       'Age population, age 01, female', 'Age population, age 01, male',\n",
       "       'Age population, age 02, female', 'Age population, age 02, male',\n",
       "       'Age population, age 03, female', 'Age population, age 03, male',\n",
       "       'Age population, age 04, female', 'Age population, age 04, male',\n",
       "       'Age population, age 05, female', 'Age population, age 05, male',\n",
       "       'Age population, age 06, female', 'Age population, age 06, male',\n",
       "       'Age population, age 07, female', 'Age population, age 07, male',\n",
       "       'Age population, age 08, female', 'Age population, age 08, male',\n",
       "       'Age population, age 09, female', 'Age population, age 09, male',\n",
       "       'Age population, age 10, female', 'Age population, age 10, male',\n",
       "       'Age population, age 11, female', 'Age population, age 11, male',\n",
       "       'Age population, age 12, female', 'Age population, age 12, male',\n",
       "       'Age population, age 13, female', 'Age population, age 13, male',\n",
       "       'Age population, age 14, female', 'Age population, age 14, male',\n",
       "       'Age population, age 15, female', 'Age population, age 15, male',\n",
       "       'Age population, age 16, female', 'Age population, age 16, male',\n",
       "       'Age population, age 17, female', 'Age population, age 17, male',\n",
       "       'Age population, age 18, female', 'Age population, age 18, male',\n",
       "       'Age population, age 19, female', 'Age population, age 19, male',\n",
       "       'Age population, age 20, female', 'Age population, age 20, male',\n",
       "       'Age population, age 21, female', 'Age population, age 21, male',\n",
       "       'Age population, age 22, female', 'Age population, age 22, male',\n",
       "       'Age population, age 23, female', 'Age population, age 23, male',\n",
       "       'Age population, age 24, female', 'Age population, age 24, male',\n",
       "       'Age population, age 25, female', 'Age population, age 25, male',\n",
       "       'AIDS estimated deaths (UNAIDS estimates)',\n",
       "       'Antiretroviral therapy coverage (% of people living with HIV)',\n",
       "       'Antiretroviral therapy coverage for PMTCT (% of pregnant women living with HIV)',\n",
       "       'ARI treatment (% of children under 5 taken to a health provider)',\n",
       "       'Birth rate, crude (per 1,000 people)',\n",
       "       'Births attended by skilled health staff (% of total)',\n",
       "       'Capital health expenditure (% of GDP)',\n",
       "       'Cause of death, by communicable diseases and maternal, prenatal and nutrition conditions (% of total)',\n",
       "       'Cause of death, by injury (% of total)',\n",
       "       'Cause of death, by non-communicable diseases (% of total)',\n",
       "       'Children (0-14) living with HIV',\n",
       "       'Children (ages 0-14) newly infected with HIV',\n",
       "       'Children orphaned by HIV/AIDS',\n",
       "       'Children with fever receiving antimalarial drugs (% of children under age 5 with fever)',\n",
       "       'Community health workers (per 1,000 people)',\n",
       "       'Completeness of birth registration (%)',\n",
       "       'Completeness of birth registration, female (%)',\n",
       "       'Completeness of birth registration, male (%)',\n",
       "       'Completeness of birth registration, rural (%)',\n",
       "       'Completeness of birth registration, urban (%)',\n",
       "       'Completeness of death registration with cause-of-death information (%)',\n",
       "       'Comprehensive correct knowledge of HIV/AIDS, ages 15-24, female (2 prevent ways and reject 3 misconceptions)',\n",
       "       'Comprehensive correct knowledge of HIV/AIDS, ages 15-24, male (2 prevent ways and reject 3 misconceptions)',\n",
       "       'Comprehensive correct knowledge of HIV/AIDS, ages 15-49, female (2 prevent ways and reject 3 misconceptions)',\n",
       "       'Comprehensive correct knowledge of HIV/AIDS, ages 15-49, male (2 prevent ways and reject 3 misconceptions)',\n",
       "       'Condom use at last high-risk sex, adult female (% ages 15-49)',\n",
       "       'Condom use at last high-risk sex, adult male (% ages 15-49)',\n",
       "       'Condom use, population ages 15-24, female (% of females ages 15-24)',\n",
       "       'Condom use, population ages 15-24, male (% of males ages 15-24)',\n",
       "       'Consumption of iodized salt (% of households)',\n",
       "       'Contraceptive prevalence, any method (% of all women ages 15-49)',\n",
       "       'Contraceptive prevalence, any method (% of married women ages 15-49)',\n",
       "       'Contraceptive prevalence, any method (% of sexually active unmarried women ages 15-49)',\n",
       "       'Contraceptive prevalence, any modern method (% of all women ages 15-49)',\n",
       "       'Contraceptive prevalence, any modern method (% of married women ages 15-49)',\n",
       "       'Contraceptive prevalence, any modern method (% of sexually active unmarried women ages 15-49)',\n",
       "       'Current health expenditure (% of GDP)',\n",
       "       'Current health expenditure per capita (current US$)',\n",
       "       'Current health expenditure per capita, PPP (current international $)',\n",
       "       'Death rate, crude (per 1,000 people)',\n",
       "       'Demand for family planning satisfied by any methods (% of married women with demand for family planning)',\n",
       "       'Demand for family planning satisfied by modern methods (% of married women with demand for family planning)',\n",
       "       'Diabetes prevalence (% of population ages 20 to 79)',\n",
       "       'Diarrhea treatment (% of children under 5 receiving oral rehydration and continued feeding)',\n",
       "       'Diarrhea treatment (% of children under 5 who received ORS packet)',\n",
       "       'Domestic general government health expenditure (% of current health expenditure)',\n",
       "       'Domestic general government health expenditure (% of GDP)',\n",
       "       'Domestic general government health expenditure (% of general government expenditure)',\n",
       "       'Domestic general government health expenditure per capita (current US$)',\n",
       "       'Domestic general government health expenditure per capita, PPP (current international $)',\n",
       "       'Domestic private health expenditure (% of current health expenditure)',\n",
       "       'Domestic private health expenditure per capita (current US$)',\n",
       "       'Domestic private health expenditure per capita, PPP  (current international $)',\n",
       "       'Exclusive breastfeeding (% of children under 6 months)',\n",
       "       'External health expenditure (% of current health expenditure)',\n",
       "       'External health expenditure channeled through government (% of external health expenditure)',\n",
       "       'External health expenditure per capita (current US$)',\n",
       "       'External health expenditure per capita, PPP (current international $)',\n",
       "       'Female headed households (% of households with a female head)',\n",
       "       'Fertility rate, total (births per woman)',\n",
       "       'GNI per capita, Atlas method (current US$)',\n",
       "       'Hospital beds (per 1,000 people)',\n",
       "       'Human capital index (HCI) (scale 0-1)',\n",
       "       'Human capital index (HCI), female (scale 0-1)',\n",
       "       'Human capital index (HCI), female, lower bound (scale 0-1)',\n",
       "       'Human capital index (HCI), female, upper bound (scale 0-1)',\n",
       "       'Human capital index (HCI), lower bound (scale 0-1)',\n",
       "       'Human capital index (HCI), male (scale 0-1)',\n",
       "       'Human capital index (HCI), male, lower bound (scale 0-1)',\n",
       "       'Human capital index (HCI), male, upper bound (scale 0-1)',\n",
       "       'Human capital index (HCI), upper bound (scale 0-1)',\n",
       "       'Immunization, BCG (% of one-year-old children)',\n",
       "       'Immunization, DPT (% of children ages 12-23 months)',\n",
       "       'Immunization, HepB3 (% of one-year-old children)',\n",
       "       'Immunization, Hib3 (% of children ages 12-23 months)',\n",
       "       'Immunization, measles (% of children ages 12-23 months)',\n",
       "       'Immunization, measles second dose (% of children by the nationally recommended age)',\n",
       "       'Immunization, Pol3 (% of one-year-old children)',\n",
       "       'Incidence of HIV, ages 15-24 (per 1,000 uninfected population ages 15-24)',\n",
       "       'Incidence of HIV, ages 15-49 (per 1,000 uninfected population ages 15-49)',\n",
       "       'Incidence of HIV, ages 50+ (per 1,000 uninfected population ages 50+)',\n",
       "       'Incidence of HIV, all (per 1,000 uninfected population)',\n",
       "       'Incidence of malaria (per 1,000 population at risk)',\n",
       "       'Incidence of tuberculosis (per 100,000 people)',\n",
       "       'Infant and young child feeding practices, all 3 IYCF (% children ages 6-23 months)',\n",
       "       'Intermittent preventive treatment (IPT) of malaria in pregnancy (% of pregnant women)',\n",
       "       'Labor force, female (% of total labor force)',\n",
       "       'Labor force, total', 'Life expectancy at birth, female (years)',\n",
       "       'Life expectancy at birth, male (years)',\n",
       "       'Life expectancy at birth, total (years)',\n",
       "       'Lifetime risk of maternal death (%)',\n",
       "       'Lifetime risk of maternal death (1 in: rate varies by country)',\n",
       "       'Literacy rate, adult female (% of females ages 15 and above)',\n",
       "       'Literacy rate, adult male (% of males ages 15 and above)',\n",
       "       'Literacy rate, adult total (% of people ages 15 and above)',\n",
       "       'Literacy rate, youth male (% of males ages 15-24)',\n",
       "       'Literacy rate, youth total (% of people ages 15-24)',\n",
       "       'Low-birthweight babies (% of births)', 'Malaria cases reported',\n",
       "       'Maternal leave benefits (% of wages paid in covered period)',\n",
       "       'Maternal mortality ratio (modeled estimate, per 100,000 live births)',\n",
       "       'Maternal mortality ratio (national estimate, per 100,000 live births)',\n",
       "       'Mortality caused by road traffic injury (per 100,000 people)',\n",
       "       'Mortality caused by road traffic injury, female (per 100,000 female population)',\n",
       "       'Mortality caused by road traffic injury, male (per 100,000 male population)',\n",
       "       'Mortality from CVD, cancer, diabetes or CRD between exact ages 30 and 70 (%)',\n",
       "       'Mortality from CVD, cancer, diabetes or CRD between exact ages 30 and 70, female (%)',\n",
       "       'Mortality from CVD, cancer, diabetes or CRD between exact ages 30 and 70, male (%)',\n",
       "       'Mortality rate attributed to household and ambient air pollution (per 100,000 population)',\n",
       "       'Mortality rate attributed to household and ambient air pollution, age-standardized, female (per 100,000 female population)',\n",
       "       'Mortality rate attributed to household and ambient air pollution, age-standardized, male (per 100,000 male population)',\n",
       "       'Mortality rate attributed to unintentional poisoning (per 100,000 population)',\n",
       "       'Mortality rate attributed to unintentional poisoning, female (per 100,000 female population)',\n",
       "       'Mortality rate attributed to unintentional poisoning, male (per 100,000 male population)',\n",
       "       'Mortality rate attributed to unsafe water, unsafe sanitation and lack of hygiene (per 100,000 population)',\n",
       "       'Mortality rate attributed to unsafe water, unsafe sanitation and lack of hygiene, female (per 100,000 female population)',\n",
       "       'Mortality rate attributed to unsafe water, unsafe sanitation and lack of hygiene, male (per 100,000 male population)',\n",
       "       'Mortality rate, adult, female (per 1,000 female adults)',\n",
       "       'Mortality rate, adult, male (per 1,000 male adults)',\n",
       "       'Mortality rate, infant (per 1,000 live births)',\n",
       "       'Mortality rate, infant, female (per 1,000 live births)',\n",
       "       'Mortality rate, infant, male (per 1,000 live births)',\n",
       "       'Mortality rate, neonatal (per 1,000 live births)',\n",
       "       'Mortality rate, under-5 (per 1,000)',\n",
       "       'Mortality rate, under-5, female (per 1,000)',\n",
       "       'Mortality rate, under-5, male (per 1,000)', 'Net migration',\n",
       "       'Newborns protected against tetanus (%)',\n",
       "       'Number of deaths ages 10-14 years',\n",
       "       'Number of deaths ages 10-14 years, female',\n",
       "       'Number of deaths ages 10-14 years, male',\n",
       "       'Number of deaths ages 10-19 years',\n",
       "       'Number of deaths ages 10-19 years, female',\n",
       "       'Number of deaths ages 10-19 years, male',\n",
       "       'Number of deaths ages 15-19 years',\n",
       "       'Number of deaths ages 15-19 years, female',\n",
       "       'Number of deaths ages 15-19 years, male',\n",
       "       'Number of deaths ages 20-24 years',\n",
       "       'Number of deaths ages 20-24 years, female',\n",
       "       'Number of deaths ages 20-24 years, male',\n",
       "       'Number of deaths ages 5-9 years',\n",
       "       'Number of deaths ages 5-9 years, female',\n",
       "       'Number of deaths ages 5-9 years, male', 'Number of infant deaths',\n",
       "       'Number of infant deaths, female', 'Number of infant deaths, male',\n",
       "       'Number of maternal deaths', 'Number of neonatal deaths',\n",
       "       'Number of people pushed below the $2.15 ($ 2017 PPP) poverty line by out-of-pocket health care expenditure',\n",
       "       'Number of people pushed below the $3.65 ($ 2017 PPP) poverty line by out-of-pocket health care expenditure',\n",
       "       'Number of people pushed below the 60% median consumption poverty line by out-of-pocket health care expenditure',\n",
       "       'Number of people pushed further below the $2.15 ($ 2017 PPP) poverty line by out-of-pocket health care expenditure',\n",
       "       'Number of people pushed further below the $3.65 ($ 2017 PPP) poverty line by out-of-pocket health care expenditure',\n",
       "       'Number of people pushed further below the 60% median consumption poverty line by out-of-pocket health care expenditure',\n",
       "       'Number of people pushed or further pushed below the $2.15 ($ 2017 PPP) poverty line by out-of-pocket health care expenditure',\n",
       "       'Number of people pushed or further pushed below the $3.65 ($ 2017 PPP) poverty line by out-of-pocket health care expenditure',\n",
       "       'Number of people pushed or further pushed below the 60% median consumption poverty line by out-of-pocket health care expenditure',\n",
       "       'Number of people spending more than 10% of household consumption or income on out-of-pocket health care expenditure',\n",
       "       'Number of people spending more than 25% of household consumption or income on out-of-pocket health care expenditure',\n",
       "       'Number of people who are undernourished', 'Number of stillbirths',\n",
       "       'Number of surgical procedures (per 100,000 population)',\n",
       "       'Number of under-five deaths',\n",
       "       'Number of under-five deaths, female',\n",
       "       'Number of under-five deaths, male',\n",
       "       'Number of weeks of maternity leave',\n",
       "       'Nurses and midwives (per 1,000 people)',\n",
       "       'Out-of-pocket expenditure (% of current health expenditure)',\n",
       "       'Out-of-pocket expenditure per capita (current US$)',\n",
       "       'Out-of-pocket expenditure per capita, PPP (current international $)',\n",
       "       'People practicing open defecation (% of population)',\n",
       "       'People practicing open defecation, rural (% of rural population)',\n",
       "       'People practicing open defecation, urban (% of urban population)',\n",
       "       'People using at least basic drinking water services (% of population)',\n",
       "       'People using at least basic drinking water services, rural (% of rural population)',\n",
       "       'People using at least basic drinking water services, urban (% of urban population)',\n",
       "       'People using at least basic sanitation services (% of population)',\n",
       "       'People using at least basic sanitation services, rural (% of rural population)',\n",
       "       'People using at least basic sanitation services, urban  (% of urban population)',\n",
       "       'People using safely managed drinking water services (% of population)',\n",
       "       'People using safely managed drinking water services, rural (% of rural population)',\n",
       "       'People using safely managed drinking water services, urban (% of urban population)',\n",
       "       'People using safely managed sanitation services (% of population)',\n",
       "       'People using safely managed sanitation services, rural (% of rural population)',\n",
       "       'People using safely managed sanitation services, urban  (% of urban population)',\n",
       "       'People with basic handwashing facilities including soap and water (% of population)',\n",
       "       'People with basic handwashing facilities including soap and water, rural (% of rural population)',\n",
       "       'People with basic handwashing facilities including soap and water, urban (% of urban population)',\n",
       "       'Physicians (per 1,000 people)', 'Population ages 00-04, female',\n",
       "       'Population ages 00-04, female (% of female population)',\n",
       "       'Population ages 00-04, male',\n",
       "       'Population ages 00-04, male (% of male population)',\n",
       "       'Population ages 00-14, total',\n",
       "       'Population ages 0-14 (% of total population)',\n",
       "       'Population ages 0-14, female',\n",
       "       'Population ages 0-14, female (% of female population)',\n",
       "       'Population ages 0-14, male',\n",
       "       'Population ages 0-14, male (% of male population)',\n",
       "       'Population ages 05-09, female',\n",
       "       'Population ages 05-09, female (% of female population)',\n",
       "       'Population ages 05-09, male',\n",
       "       'Population ages 05-09, male (% of male population)',\n",
       "       'Population ages 10-14, female',\n",
       "       'Population ages 10-14, female (% of female population)',\n",
       "       'Population ages 10-14, male',\n",
       "       'Population ages 10-14, male (% of male population)',\n",
       "       'Population ages 15-19, female',\n",
       "       'Population ages 15-19, female (% of female population)',\n",
       "       'Population ages 15-19, male',\n",
       "       'Population ages 15-19, male (% of male population)',\n",
       "       'Population ages 15-64 (% of total population)',\n",
       "       'Population ages 15-64, female',\n",
       "       'Population ages 15-64, female (% of female population)',\n",
       "       'Population ages 15-64, male',\n",
       "       'Population ages 15-64, male (% of male population)',\n",
       "       'Population ages 15-64, total', 'Population ages 20-24, female',\n",
       "       'Population ages 20-24, female (% of female population)',\n",
       "       'Population ages 20-24, male',\n",
       "       'Population ages 20-24, male (% of male population)',\n",
       "       'Population ages 25-29, female',\n",
       "       'Population ages 25-29, female (% of female population)',\n",
       "       'Population ages 25-29, male',\n",
       "       'Population ages 25-29, male (% of male population)',\n",
       "       'Population ages 30-34, female',\n",
       "       'Population ages 30-34, female (% of female population)',\n",
       "       'Population ages 30-34, male',\n",
       "       'Population ages 30-34, male (% of male population)',\n",
       "       'Population ages 35-39, female',\n",
       "       'Population ages 35-39, female (% of female population)',\n",
       "       'Population ages 35-39, male',\n",
       "       'Population ages 35-39, male (% of male population)',\n",
       "       'Population ages 40-44, female',\n",
       "       'Population ages 40-44, female (% of female population)',\n",
       "       'Population ages 40-44, male',\n",
       "       'Population ages 40-44, male (% of male population)',\n",
       "       'Population ages 45-49, female',\n",
       "       'Population ages 45-49, female (% of female population)',\n",
       "       'Population ages 45-49, male',\n",
       "       'Population ages 45-49, male (% of male population)',\n",
       "       'Population ages 50-54, female',\n",
       "       'Population ages 50-54, female (% of female population)',\n",
       "       'Population ages 50-54, male',\n",
       "       'Population ages 50-54, male (% of male population)',\n",
       "       'Population ages 55-59, female',\n",
       "       'Population ages 55-59, female (% of female population)',\n",
       "       'Population ages 55-59, male',\n",
       "       'Population ages 55-59, male (% of male population)',\n",
       "       'Population ages 60-64, female',\n",
       "       'Population ages 60-64, female (% of female population)',\n",
       "       'Population ages 60-64, male',\n",
       "       'Population ages 60-64, male (% of male population)',\n",
       "       'Population ages 65 and above (% of total population)',\n",
       "       'Population ages 65 and above, female',\n",
       "       'Population ages 65 and above, female (% of female population)',\n",
       "       'Population ages 65 and above, male',\n",
       "       'Population ages 65 and above, male (% of male population)',\n",
       "       'Population ages 65 and above, total',\n",
       "       'Population ages 65-69, female',\n",
       "       'Population ages 65-69, female (% of female population)',\n",
       "       'Population ages 65-69, male',\n",
       "       'Population ages 65-69, male (% of male population)',\n",
       "       'Population ages 70-74, female',\n",
       "       'Population ages 70-74, female (% of female population)',\n",
       "       'Population ages 70-74, male',\n",
       "       'Population ages 70-74, male (% of male population)',\n",
       "       'Population ages 75-79, female',\n",
       "       'Population ages 75-79, female (% of female population)',\n",
       "       'Population ages 75-79, male',\n",
       "       'Population ages 75-79, male (% of male population)',\n",
       "       'Population ages 80 and above, female',\n",
       "       'Population ages 80 and above, male',\n",
       "       'Population ages 80 and above, male (% of male population)',\n",
       "       'Population ages 80 and older, female (% of female population)',\n",
       "       'Population growth (annual %)', 'Population, female',\n",
       "       'Population, female (% of total population)', 'Population, male',\n",
       "       'Population, male (% of total population)', 'Population, total',\n",
       "       'Postnatal care coverage (% mothers)',\n",
       "       'Poverty headcount ratio at national poverty line (% of population)',\n",
       "       'Pregnant women receiving prenatal care (%)',\n",
       "       'Pregnant women receiving prenatal care of at least four visits (% of pregnant women)',\n",
       "       'Prevalence of anemia among children (% of children ages 6-59 months)',\n",
       "       'Prevalence of anemia among non-pregnant women (% of women ages 15-49)',\n",
       "       'Prevalence of anemia among pregnant women (%)',\n",
       "       'Prevalence of anemia among women of reproductive age (% of women ages 15-49)',\n",
       "       'Prevalence of current tobacco use (% of adults)',\n",
       "       'Prevalence of current tobacco use, females (% of female adults)',\n",
       "       'Prevalence of current tobacco use, males (% of male adults)',\n",
       "       'Prevalence of HIV, female (% ages 15-24)',\n",
       "       'Prevalence of HIV, male (% ages 15-24)',\n",
       "       'Prevalence of HIV, total (% of population ages 15-49)',\n",
       "       'Prevalence of hypertension (% of adults ages 30-79)',\n",
       "       'Prevalence of hypertension, female (% of female adults ages 30-79)',\n",
       "       'Prevalence of hypertension, male (% of male adults ages 30-79)',\n",
       "       'Prevalence of overweight (% of adults)',\n",
       "       'Prevalence of overweight (% of children under 5)',\n",
       "       'Prevalence of overweight (modeled estimate, % of children under 5)',\n",
       "       'Prevalence of overweight, female (% of children under 5)',\n",
       "       'Prevalence of overweight, female (% of female adults)',\n",
       "       'Prevalence of overweight, male (% of children under 5)',\n",
       "       'Prevalence of overweight, male (% of male adults)',\n",
       "       'Prevalence of severe wasting, weight for height (% of children under 5)',\n",
       "       'Prevalence of severe wasting, weight for height, female (% of children under 5)',\n",
       "       'Prevalence of severe wasting, weight for height, male (% of children under 5)',\n",
       "       'Prevalence of stunting, height for age (% of children under 5)',\n",
       "       'Prevalence of stunting, height for age (modeled estimate, % of children under 5)',\n",
       "       'Prevalence of stunting, height for age, female (% of children under 5)',\n",
       "       'Prevalence of stunting, height for age, male (% of children under 5)',\n",
       "       'Prevalence of syphilis (% of women attending antenatal care)',\n",
       "       'Prevalence of undernourishment (% of population)',\n",
       "       'Prevalence of underweight, weight for age (% of children under 5)',\n",
       "       'Prevalence of underweight, weight for age, female (% of children under 5)',\n",
       "       'Prevalence of underweight, weight for age, male (% of children under 5)',\n",
       "       'Prevalence of wasting, weight for height (% of children under 5)',\n",
       "       'Prevalence of wasting, weight for height, female (% of children under 5)',\n",
       "       'Prevalence of wasting, weight for height, male (% of children under 5)',\n",
       "       'Primary completion rate, female (% of relevant age group)',\n",
       "       'Primary completion rate, male (% of relevant age group)',\n",
       "       'Primary completion rate, total (% of relevant age group)',\n",
       "       'Probability of dying among adolescents ages 10-14 years (per 1,000)',\n",
       "       'Probability of dying among adolescents ages 10-14 years, female (per 1,000)',\n",
       "       'Probability of dying among adolescents ages 10-14 years, male (per 1,000)',\n",
       "       'Probability of dying among adolescents ages 10-19 years (per 1,000)',\n",
       "       'Probability of dying among adolescents ages 10-19 years, female (per 1,000)',\n",
       "       'Probability of dying among adolescents ages 10-19 years, male (per 1,000)',\n",
       "       'Probability of dying among adolescents ages 15-19 years (per 1,000)',\n",
       "       'Probability of dying among adolescents ages 15-19 years, female (per 1,000)',\n",
       "       'Probability of dying among adolescents ages 15-19 years, male (per 1,000)',\n",
       "       'Probability of dying among children ages 5-9 years (per 1,000)',\n",
       "       'Probability of dying among children ages 5-9 years, female (per 1,000)',\n",
       "       'Probability of dying among children ages 5-9 years, male (per 1,000)',\n",
       "       'Probability of dying among youth ages 20-24 years (per 1,000)',\n",
       "       'Probability of dying among youth ages 20-24 years, female (per 1,000)',\n",
       "       'Probability of dying among youth ages 20-24 years, male (per 1,000)',\n",
       "       'Proportion of population pushed below the $2.15 ($ 2017 PPP) poverty line by out-of-pocket health care expenditure (%)',\n",
       "       'Proportion of population pushed below the $3.65 ($ 2017 PPP) poverty line by out-of-pocket health care expenditure (%)',\n",
       "       'Proportion of population pushed below the 60% median consumption poverty line by out-of-pocket health expenditure (%)',\n",
       "       'Proportion of population pushed further below the $2.15 ($ 2017 PPP) poverty line by out-of-pocket health care expenditure (%)',\n",
       "       'Proportion of population pushed further below the $3.65 ($ 2017 PPP) poverty line by out-of-pocket health care expenditure (%)',\n",
       "       'Proportion of population pushed further below the 60% median consumption poverty line by out-of-pocket health care expenditure (%)',\n",
       "       'Proportion of population pushed or further pushed below the $2.15 ($ 2017 PPP) poverty line by out-of-pocket health care expenditure (%)',\n",
       "       'Proportion of population pushed or further pushed below the $3.65 ($ 2017 PPP) poverty line by out-of-pocket health care expenditure (%)',\n",
       "       'Proportion of population pushed or further pushed below the 60% median consumption poverty line by out-of-pocket health expenditure (%)',\n",
       "       'Proportion of population spending more than 10% of household consumption or income on out-of-pocket health care expenditure (%)',\n",
       "       'Proportion of population spending more than 25% of household consumption or income on out-of-pocket health care expenditure (%)',\n",
       "       'Public spending on education, total (% of GDP)',\n",
       "       'Ratio of school attendance of orphans to school attendance of non-orphans ages 10-14',\n",
       "       'Ratio of young literate females to males (% ages 15-24)',\n",
       "       'Risk of catastrophic expenditure for surgical care (% of people at risk)',\n",
       "       'Risk of impoverishing expenditure for surgical care (% of people at risk)',\n",
       "       'Rural population', 'Rural population (% of total population)',\n",
       "       'Rural population growth (annual %)',\n",
       "       'Rural poverty headcount ratio at national poverty lines (% of rural population)',\n",
       "       'School enrollment, primary (% gross)',\n",
       "       'School enrollment, primary (% net)',\n",
       "       'School enrollment, primary, female (% gross)',\n",
       "       'School enrollment, primary, female (% net)',\n",
       "       'School enrollment, primary, male (% gross)',\n",
       "       'School enrollment, primary, male (% net)',\n",
       "       'School enrollment, secondary (% gross)',\n",
       "       'School enrollment, secondary (% net)',\n",
       "       'School enrollment, secondary, female (% gross)',\n",
       "       'School enrollment, secondary, female (% net)',\n",
       "       'School enrollment, secondary, male (% gross)',\n",
       "       'School enrollment, secondary, male (% net)',\n",
       "       'School enrollment, tertiary (% gross)',\n",
       "       'School enrollment, tertiary, female (% gross)',\n",
       "       'Sex ratio at birth (male births per female births)',\n",
       "       'Share of women employed in the nonagricultural sector (% of total nonagricultural employment)',\n",
       "       'Specialist surgical workforce (per 100,000 population)',\n",
       "       'Stillbirth rate (per 1,000 total births)',\n",
       "       'Suicide mortality rate (per 100,000 population)',\n",
       "       'Suicide mortality rate, female (per 100,000 female population)',\n",
       "       'Suicide mortality rate, male (per 100,000 male population)',\n",
       "       'Survival to age 65, female (% of cohort)',\n",
       "       'Survival to age 65, male (% of cohort)',\n",
       "       'Teenage mothers (% of women ages 15-19 who have had children or are currently pregnant)',\n",
       "       'Total alcohol consumption per capita (liters of pure alcohol, projected estimates, 15+ years of age)',\n",
       "       'Total alcohol consumption per capita, female (liters of pure alcohol, projected estimates, female 15+ years of age)',\n",
       "       'Total alcohol consumption per capita, male (liters of pure alcohol, projected estimates, male 15+ years of age)',\n",
       "       'Treatment for hypertension (% of adults ages 30-79 with hypertension)',\n",
       "       'Treatment for hypertension, female (% of female adults ages 30-79 with hypertension)',\n",
       "       'Treatment for hypertension, male (% of male adults ages 30-79 with hypertension)',\n",
       "       'Tuberculosis case detection rate (%, all forms)',\n",
       "       'Tuberculosis death rate (per 100,000 people)',\n",
       "       'Tuberculosis treatment success rate (% of new cases)',\n",
       "       'UHC service coverage index',\n",
       "       'Unemployment, female (% of female labor force)',\n",
       "       'Unemployment, male (% of male labor force)',\n",
       "       'Unemployment, total (% of total labor force)',\n",
       "       'Unmet need for contraception (% of married women ages 15-49)',\n",
       "       'Urban population', 'Urban population (% of total population)',\n",
       "       'Urban population growth (annual %)',\n",
       "       'Urban poverty headcount ratio at national poverty lines (% of urban population)',\n",
       "       'Use of insecticide-treated bed nets (% of under-5 population)',\n",
       "       'Vitamin A supplementation coverage rate (% of children ages 6-59 months)',\n",
       "       'Wanted fertility rate (births per woman)',\n",
       "       'Women who were first married by age 15 (% of women ages 20-24)',\n",
       "       'Women who were first married by age 18 (% of women ages 20-24)',\n",
       "       \"Women's share of population ages 15+ living with HIV (%)\",\n",
       "       'Young people (ages 15-24) newly infected with HIV'], dtype=object)"
      ]
     },
     "execution_count": 17,
     "metadata": {},
     "output_type": "execute_result"
    }
   ],
   "source": [
    "df1['Series Name'].unique()"
   ]
  },
  {
   "cell_type": "code",
   "execution_count": 19,
   "id": "334db419-6729-43ac-8272-086f690a4e74",
   "metadata": {},
   "outputs": [],
   "source": [
    "dff = df1[df1['Series Name'] == 'School enrollment, primary (% net)']"
   ]
  },
  {
   "cell_type": "code",
   "execution_count": 25,
   "id": "95bbc80e-07d1-496e-8aea-461ba08b70ce",
   "metadata": {},
   "outputs": [
    {
     "data": {
      "application/vnd.plotly.v1+json": {
       "config": {
        "plotlyServerURL": "https://plot.ly"
       },
       "data": [
        {
         "colorscale": [
          [
           0,
           "#636efa"
          ],
          [
           1,
           "#636efa"
          ]
         ],
         "geo": "geo",
         "hovertemplate": "<b>%{hovertext}</b><br><br>2010 [YR2010]=..<br>Country Code=%{location}<extra></extra>",
         "hovertext": [
          "Afghanistan",
          "Africa Eastern and Southern",
          "Africa Western and Central",
          "American Samoa",
          "Andorra",
          "Armenia",
          "Bahrain",
          "Bermuda",
          "Bosnia and Herzegovina",
          "Botswana",
          "Brazil",
          "British Virgin Islands",
          "Brunei Darussalam",
          "Cameroon",
          "Canada",
          "Cayman Islands",
          "Chad",
          "Channel Islands",
          "China",
          "Comoros",
          "Congo, Dem. Rep.",
          "Costa Rica",
          "Cote d'Ivoire",
          "Curacao",
          "Djibouti",
          "Dominica",
          "Faroe Islands",
          "Fiji",
          "Fragile and conflict affected situations",
          "French Polynesia",
          "Gabon",
          "Georgia",
          "Ghana",
          "Gibraltar",
          "Greenland",
          "Grenada",
          "Guam",
          "Haiti",
          "Heavily indebted poor countries (HIPC)",
          "Hong Kong SAR, China",
          "IBRD only",
          "IDA blend",
          "IDA only",
          "IDA total",
          "Iraq",
          "Isle of Man",
          "Jamaica",
          "Japan",
          "Kenya",
          "Kiribati",
          "Korea, Dem. People's Rep.",
          "Kosovo",
          "Lebanon",
          "Liberia",
          "Libya",
          "Low income",
          "Madagascar",
          "Malawi",
          "Maldives",
          "Malta",
          "Marshall Islands",
          "Micronesia, Fed. Sts.",
          "Monaco",
          "Montenegro",
          "Nauru",
          "Nepal",
          "New Caledonia",
          "New Zealand",
          "Northern Mariana Islands",
          "Not classified",
          "Oman",
          "Palau",
          "Papua New Guinea",
          "Philippines",
          "Pre-demographic dividend",
          "Russian Federation",
          "Rwanda",
          "San Marino",
          "Seychelles",
          "Sierra Leone",
          "Singapore",
          "Sint Maarten (Dutch part)",
          "Small states",
          "Solomon Islands",
          "Somalia",
          "South Africa",
          "South Sudan",
          "St. Lucia",
          "St. Martin (French part)",
          "Sub-Saharan Africa",
          "Sub-Saharan Africa (excluding high income)",
          "Sub-Saharan Africa (IDA & IBRD countries)",
          "Sudan",
          "Thailand",
          "Togo",
          "Tonga",
          "Turkmenistan",
          "Turks and Caicos Islands",
          "Tuvalu",
          "United Arab Emirates",
          "Vanuatu",
          "Virgin Islands (U.S.)",
          "Zimbabwe"
         ],
         "locations": [
          "AFG",
          "AFE",
          "AFW",
          "ASM",
          "AND",
          "ARM",
          "BHR",
          "BMU",
          "BIH",
          "BWA",
          "BRA",
          "VGB",
          "BRN",
          "CMR",
          "CAN",
          "CYM",
          "TCD",
          "CHI",
          "CHN",
          "COM",
          "COD",
          "CRI",
          "CIV",
          "CUW",
          "DJI",
          "DMA",
          "FRO",
          "FJI",
          "FCS",
          "PYF",
          "GAB",
          "GEO",
          "GHA",
          "GIB",
          "GRL",
          "GRD",
          "GUM",
          "HTI",
          "HPC",
          "HKG",
          "IBD",
          "IDB",
          "IDX",
          "IDA",
          "IRQ",
          "IMN",
          "JAM",
          "JPN",
          "KEN",
          "KIR",
          "PRK",
          "XKX",
          "LBN",
          "LBR",
          "LBY",
          "LIC",
          "MDG",
          "MWI",
          "MDV",
          "MLT",
          "MHL",
          "FSM",
          "MCO",
          "MNE",
          "NRU",
          "NPL",
          "NCL",
          "NZL",
          "MNP",
          "INX",
          "OMN",
          "PLW",
          "PNG",
          "PHL",
          "PRE",
          "RUS",
          "RWA",
          "SMR",
          "SYC",
          "SLE",
          "SGP",
          "SXM",
          "SST",
          "SLB",
          "SOM",
          "ZAF",
          "SSD",
          "LCA",
          "MAF",
          "SSF",
          "SSA",
          "TSS",
          "SDN",
          "THA",
          "TGO",
          "TON",
          "TKM",
          "TCA",
          "TUV",
          "ARE",
          "VUT",
          "VIR",
          "ZWE"
         ],
         "name": "..",
         "showlegend": true,
         "showscale": false,
         "type": "choropleth",
         "z": [
          1,
          1,
          1,
          1,
          1,
          1,
          1,
          1,
          1,
          1,
          1,
          1,
          1,
          1,
          1,
          1,
          1,
          1,
          1,
          1,
          1,
          1,
          1,
          1,
          1,
          1,
          1,
          1,
          1,
          1,
          1,
          1,
          1,
          1,
          1,
          1,
          1,
          1,
          1,
          1,
          1,
          1,
          1,
          1,
          1,
          1,
          1,
          1,
          1,
          1,
          1,
          1,
          1,
          1,
          1,
          1,
          1,
          1,
          1,
          1,
          1,
          1,
          1,
          1,
          1,
          1,
          1,
          1,
          1,
          1,
          1,
          1,
          1,
          1,
          1,
          1,
          1,
          1,
          1,
          1,
          1,
          1,
          1,
          1,
          1,
          1,
          1,
          1,
          1,
          1,
          1,
          1,
          1,
          1,
          1,
          1,
          1,
          1,
          1,
          1,
          1,
          1,
          1
         ]
        },
        {
         "colorscale": [
          [
           0,
           "#EF553B"
          ],
          [
           1,
           "#EF553B"
          ]
         ],
         "geo": "geo",
         "hovertemplate": "<b>%{hovertext}</b><br><br>2010 [YR2010]=85.95611<br>Country Code=%{location}<extra></extra>",
         "hovertext": [
          "Albania"
         ],
         "locations": [
          "ALB"
         ],
         "name": "85.95611",
         "showlegend": true,
         "showscale": false,
         "type": "choropleth",
         "z": [
          1
         ]
        },
        {
         "colorscale": [
          [
           0,
           "#00cc96"
          ],
          [
           1,
           "#00cc96"
          ]
         ],
         "geo": "geo",
         "hovertemplate": "<b>%{hovertext}</b><br><br>2010 [YR2010]=97.23353<br>Country Code=%{location}<extra></extra>",
         "hovertext": [
          "Algeria"
         ],
         "locations": [
          "DZA"
         ],
         "name": "97.23353",
         "showlegend": true,
         "showscale": false,
         "type": "choropleth",
         "z": [
          1
         ]
        },
        {
         "colorscale": [
          [
           0,
           "#ab63fa"
          ],
          [
           1,
           "#ab63fa"
          ]
         ],
         "geo": "geo",
         "hovertemplate": "<b>%{hovertext}</b><br><br>2010 [YR2010]=75.80242<br>Country Code=%{location}<extra></extra>",
         "hovertext": [
          "Angola"
         ],
         "locations": [
          "AGO"
         ],
         "name": "75.80242",
         "showlegend": true,
         "showscale": false,
         "type": "choropleth",
         "z": [
          1
         ]
        },
        {
         "colorscale": [
          [
           0,
           "#FFA15A"
          ],
          [
           1,
           "#FFA15A"
          ]
         ],
         "geo": "geo",
         "hovertemplate": "<b>%{hovertext}</b><br><br>2010 [YR2010]=95.1015<br>Country Code=%{location}<extra></extra>",
         "hovertext": [
          "Antigua and Barbuda"
         ],
         "locations": [
          "ATG"
         ],
         "name": "95.1015",
         "showlegend": true,
         "showscale": false,
         "type": "choropleth",
         "z": [
          1
         ]
        },
        {
         "colorscale": [
          [
           0,
           "#19d3f3"
          ],
          [
           1,
           "#19d3f3"
          ]
         ],
         "geo": "geo",
         "hovertemplate": "<b>%{hovertext}</b><br><br>2010 [YR2010]=84.13909<br>Country Code=%{location}<extra></extra>",
         "hovertext": [
          "Arab World"
         ],
         "locations": [
          "ARB"
         ],
         "name": "84.13909",
         "showlegend": true,
         "showscale": false,
         "type": "choropleth",
         "z": [
          1
         ]
        },
        {
         "colorscale": [
          [
           0,
           "#FF6692"
          ],
          [
           1,
           "#FF6692"
          ]
         ],
         "geo": "geo",
         "hovertemplate": "<b>%{hovertext}</b><br><br>2010 [YR2010]=98.7319<br>Country Code=%{location}<extra></extra>",
         "hovertext": [
          "Argentina"
         ],
         "locations": [
          "ARG"
         ],
         "name": "98.7319",
         "showlegend": true,
         "showscale": false,
         "type": "choropleth",
         "z": [
          1
         ]
        },
        {
         "colorscale": [
          [
           0,
           "#B6E880"
          ],
          [
           1,
           "#B6E880"
          ]
         ],
         "geo": "geo",
         "hovertemplate": "<b>%{hovertext}</b><br><br>2010 [YR2010]=98.91975<br>Country Code=%{location}<extra></extra>",
         "hovertext": [
          "Aruba"
         ],
         "locations": [
          "ABW"
         ],
         "name": "98.91975",
         "showlegend": true,
         "showscale": false,
         "type": "choropleth",
         "z": [
          1
         ]
        },
        {
         "colorscale": [
          [
           0,
           "#FF97FF"
          ],
          [
           1,
           "#FF97FF"
          ]
         ],
         "geo": "geo",
         "hovertemplate": "<b>%{hovertext}</b><br><br>2010 [YR2010]=96.98847<br>Country Code=%{location}<extra></extra>",
         "hovertext": [
          "Australia"
         ],
         "locations": [
          "AUS"
         ],
         "name": "96.98847",
         "showlegend": true,
         "showscale": false,
         "type": "choropleth",
         "z": [
          1
         ]
        },
        {
         "colorscale": [
          [
           0,
           "#FECB52"
          ],
          [
           1,
           "#FECB52"
          ]
         ],
         "geo": "geo",
         "hovertemplate": "<b>%{hovertext}</b><br><br>2010 [YR2010]=87.36683<br>Country Code=%{location}<extra></extra>",
         "hovertext": [
          "Austria"
         ],
         "locations": [
          "AUT"
         ],
         "name": "87.36683",
         "showlegend": true,
         "showscale": false,
         "type": "choropleth",
         "z": [
          1
         ]
        },
        {
         "colorscale": [
          [
           0,
           "#636efa"
          ],
          [
           1,
           "#636efa"
          ]
         ],
         "geo": "geo",
         "hovertemplate": "<b>%{hovertext}</b><br><br>2010 [YR2010]=84.44645<br>Country Code=%{location}<extra></extra>",
         "hovertext": [
          "Azerbaijan"
         ],
         "locations": [
          "AZE"
         ],
         "name": "84.44645",
         "showlegend": true,
         "showscale": false,
         "type": "choropleth",
         "z": [
          1
         ]
        },
        {
         "colorscale": [
          [
           0,
           "#EF553B"
          ],
          [
           1,
           "#EF553B"
          ]
         ],
         "geo": "geo",
         "hovertemplate": "<b>%{hovertext}</b><br><br>2010 [YR2010]=80.42244<br>Country Code=%{location}<extra></extra>",
         "hovertext": [
          "Bahamas, The"
         ],
         "locations": [
          "BHS"
         ],
         "name": "80.42244",
         "showlegend": true,
         "showscale": false,
         "type": "choropleth",
         "z": [
          1
         ]
        },
        {
         "colorscale": [
          [
           0,
           "#00cc96"
          ],
          [
           1,
           "#00cc96"
          ]
         ],
         "geo": "geo",
         "hovertemplate": "<b>%{hovertext}</b><br><br>2010 [YR2010]=90.53203<br>Country Code=%{location}<extra></extra>",
         "hovertext": [
          "Bangladesh"
         ],
         "locations": [
          "BGD"
         ],
         "name": "90.53203",
         "showlegend": true,
         "showscale": false,
         "type": "choropleth",
         "z": [
          1
         ]
        },
        {
         "colorscale": [
          [
           0,
           "#ab63fa"
          ],
          [
           1,
           "#ab63fa"
          ]
         ],
         "geo": "geo",
         "hovertemplate": "<b>%{hovertext}</b><br><br>2010 [YR2010]=94.95407<br>Country Code=%{location}<extra></extra>",
         "hovertext": [
          "Barbados"
         ],
         "locations": [
          "BRB"
         ],
         "name": "94.95407",
         "showlegend": true,
         "showscale": false,
         "type": "choropleth",
         "z": [
          1
         ]
        },
        {
         "colorscale": [
          [
           0,
           "#FFA15A"
          ],
          [
           1,
           "#FFA15A"
          ]
         ],
         "geo": "geo",
         "hovertemplate": "<b>%{hovertext}</b><br><br>2010 [YR2010]=91.05012<br>Country Code=%{location}<extra></extra>",
         "hovertext": [
          "Belarus"
         ],
         "locations": [
          "BLR"
         ],
         "name": "91.05012",
         "showlegend": true,
         "showscale": false,
         "type": "choropleth",
         "z": [
          1
         ]
        },
        {
         "colorscale": [
          [
           0,
           "#19d3f3"
          ],
          [
           1,
           "#19d3f3"
          ]
         ],
         "geo": "geo",
         "hovertemplate": "<b>%{hovertext}</b><br><br>2010 [YR2010]=97.25467<br>Country Code=%{location}<extra></extra>",
         "hovertext": [
          "Belgium"
         ],
         "locations": [
          "BEL"
         ],
         "name": "97.25467",
         "showlegend": true,
         "showscale": false,
         "type": "choropleth",
         "z": [
          1
         ]
        },
        {
         "colorscale": [
          [
           0,
           "#FF6692"
          ],
          [
           1,
           "#FF6692"
          ]
         ],
         "geo": "geo",
         "hovertemplate": "<b>%{hovertext}</b><br><br>2010 [YR2010]=95.41596<br>Country Code=%{location}<extra></extra>",
         "hovertext": [
          "Belize"
         ],
         "locations": [
          "BLZ"
         ],
         "name": "95.41596",
         "showlegend": true,
         "showscale": false,
         "type": "choropleth",
         "z": [
          1
         ]
        },
        {
         "colorscale": [
          [
           0,
           "#B6E880"
          ],
          [
           1,
           "#B6E880"
          ]
         ],
         "geo": "geo",
         "hovertemplate": "<b>%{hovertext}</b><br><br>2010 [YR2010]=94.92278<br>Country Code=%{location}<extra></extra>",
         "hovertext": [
          "Benin"
         ],
         "locations": [
          "BEN"
         ],
         "name": "94.92278",
         "showlegend": true,
         "showscale": false,
         "type": "choropleth",
         "z": [
          1
         ]
        },
        {
         "colorscale": [
          [
           0,
           "#FF97FF"
          ],
          [
           1,
           "#FF97FF"
          ]
         ],
         "geo": "geo",
         "hovertemplate": "<b>%{hovertext}</b><br><br>2010 [YR2010]=86.28016<br>Country Code=%{location}<extra></extra>",
         "hovertext": [
          "Bhutan"
         ],
         "locations": [
          "BTN"
         ],
         "name": "86.28016",
         "showlegend": true,
         "showscale": false,
         "type": "choropleth",
         "z": [
          1
         ]
        },
        {
         "colorscale": [
          [
           0,
           "#FECB52"
          ],
          [
           1,
           "#FECB52"
          ]
         ],
         "geo": "geo",
         "hovertemplate": "<b>%{hovertext}</b><br><br>2010 [YR2010]=90.89746<br>Country Code=%{location}<extra></extra>",
         "hovertext": [
          "Bolivia"
         ],
         "locations": [
          "BOL"
         ],
         "name": "90.89746",
         "showlegend": true,
         "showscale": false,
         "type": "choropleth",
         "z": [
          1
         ]
        },
        {
         "colorscale": [
          [
           0,
           "#636efa"
          ],
          [
           1,
           "#636efa"
          ]
         ],
         "geo": "geo",
         "hovertemplate": "<b>%{hovertext}</b><br><br>2010 [YR2010]=97.95684<br>Country Code=%{location}<extra></extra>",
         "hovertext": [
          "Bulgaria"
         ],
         "locations": [
          "BGR"
         ],
         "name": "97.95684",
         "showlegend": true,
         "showscale": false,
         "type": "choropleth",
         "z": [
          1
         ]
        },
        {
         "colorscale": [
          [
           0,
           "#EF553B"
          ],
          [
           1,
           "#EF553B"
          ]
         ],
         "geo": "geo",
         "hovertemplate": "<b>%{hovertext}</b><br><br>2010 [YR2010]=59.91302<br>Country Code=%{location}<extra></extra>",
         "hovertext": [
          "Burkina Faso"
         ],
         "locations": [
          "BFA"
         ],
         "name": "59.91302",
         "showlegend": true,
         "showscale": false,
         "type": "choropleth",
         "z": [
          1
         ]
        },
        {
         "colorscale": [
          [
           0,
           "#00cc96"
          ],
          [
           1,
           "#00cc96"
          ]
         ],
         "geo": "geo",
         "hovertemplate": "<b>%{hovertext}</b><br><br>2010 [YR2010]=95.37413<br>Country Code=%{location}<extra></extra>",
         "hovertext": [
          "Burundi"
         ],
         "locations": [
          "BDI"
         ],
         "name": "95.37413",
         "showlegend": true,
         "showscale": false,
         "type": "choropleth",
         "z": [
          1
         ]
        },
        {
         "colorscale": [
          [
           0,
           "#ab63fa"
          ],
          [
           1,
           "#ab63fa"
          ]
         ],
         "geo": "geo",
         "hovertemplate": "<b>%{hovertext}</b><br><br>2010 [YR2010]=94.47048<br>Country Code=%{location}<extra></extra>",
         "hovertext": [
          "Cabo Verde"
         ],
         "locations": [
          "CPV"
         ],
         "name": "94.47048",
         "showlegend": true,
         "showscale": false,
         "type": "choropleth",
         "z": [
          1
         ]
        },
        {
         "colorscale": [
          [
           0,
           "#FFA15A"
          ],
          [
           1,
           "#FFA15A"
          ]
         ],
         "geo": "geo",
         "hovertemplate": "<b>%{hovertext}</b><br><br>2010 [YR2010]=93.61728<br>Country Code=%{location}<extra></extra>",
         "hovertext": [
          "Cambodia"
         ],
         "locations": [
          "KHM"
         ],
         "name": "93.61728",
         "showlegend": true,
         "showscale": false,
         "type": "choropleth",
         "z": [
          1
         ]
        },
        {
         "colorscale": [
          [
           0,
           "#19d3f3"
          ],
          [
           1,
           "#19d3f3"
          ]
         ],
         "geo": "geo",
         "hovertemplate": "<b>%{hovertext}</b><br><br>2010 [YR2010]=90.52427<br>Country Code=%{location}<extra></extra>",
         "hovertext": [
          "Caribbean small states"
         ],
         "locations": [
          "CSS"
         ],
         "name": "90.52427",
         "showlegend": true,
         "showscale": false,
         "type": "choropleth",
         "z": [
          1
         ]
        },
        {
         "colorscale": [
          [
           0,
           "#FF6692"
          ],
          [
           1,
           "#FF6692"
          ]
         ],
         "geo": "geo",
         "hovertemplate": "<b>%{hovertext}</b><br><br>2010 [YR2010]=65.95599<br>Country Code=%{location}<extra></extra>",
         "hovertext": [
          "Central African Republic"
         ],
         "locations": [
          "CAF"
         ],
         "name": "65.95599",
         "showlegend": true,
         "showscale": false,
         "type": "choropleth",
         "z": [
          1
         ]
        },
        {
         "colorscale": [
          [
           0,
           "#B6E880"
          ],
          [
           1,
           "#B6E880"
          ]
         ],
         "geo": "geo",
         "hovertemplate": "<b>%{hovertext}</b><br><br>2010 [YR2010]=92.95217<br>Country Code=%{location}<extra></extra>",
         "hovertext": [
          "Central Europe and the Baltics"
         ],
         "locations": [
          "CEB"
         ],
         "name": "92.95217",
         "showlegend": true,
         "showscale": false,
         "type": "choropleth",
         "z": [
          1
         ]
        },
        {
         "colorscale": [
          [
           0,
           "#FF97FF"
          ],
          [
           1,
           "#FF97FF"
          ]
         ],
         "geo": "geo",
         "hovertemplate": "<b>%{hovertext}</b><br><br>2010 [YR2010]=95.45718<br>Country Code=%{location}<extra></extra>",
         "hovertext": [
          "Chile"
         ],
         "locations": [
          "CHL"
         ],
         "name": "95.45718",
         "showlegend": true,
         "showscale": false,
         "type": "choropleth",
         "z": [
          1
         ]
        },
        {
         "colorscale": [
          [
           0,
           "#FECB52"
          ],
          [
           1,
           "#FECB52"
          ]
         ],
         "geo": "geo",
         "hovertemplate": "<b>%{hovertext}</b><br><br>2010 [YR2010]=91.85368<br>Country Code=%{location}<extra></extra>",
         "hovertext": [
          "Colombia"
         ],
         "locations": [
          "COL"
         ],
         "name": "91.85368",
         "showlegend": true,
         "showscale": false,
         "type": "choropleth",
         "z": [
          1
         ]
        },
        {
         "colorscale": [
          [
           0,
           "#636efa"
          ],
          [
           1,
           "#636efa"
          ]
         ],
         "geo": "geo",
         "hovertemplate": "<b>%{hovertext}</b><br><br>2010 [YR2010]=86.245<br>Country Code=%{location}<extra></extra>",
         "hovertext": [
          "Congo, Rep."
         ],
         "locations": [
          "COG"
         ],
         "name": "86.245",
         "showlegend": true,
         "showscale": false,
         "type": "choropleth",
         "z": [
          1
         ]
        },
        {
         "colorscale": [
          [
           0,
           "#EF553B"
          ],
          [
           1,
           "#EF553B"
          ]
         ],
         "geo": "geo",
         "hovertemplate": "<b>%{hovertext}</b><br><br>2010 [YR2010]=85.81516<br>Country Code=%{location}<extra></extra>",
         "hovertext": [
          "Croatia"
         ],
         "locations": [
          "HRV"
         ],
         "name": "85.81516",
         "showlegend": true,
         "showscale": false,
         "type": "choropleth",
         "z": [
          1
         ]
        },
        {
         "colorscale": [
          [
           0,
           "#00cc96"
          ],
          [
           1,
           "#00cc96"
          ]
         ],
         "geo": "geo",
         "hovertemplate": "<b>%{hovertext}</b><br><br>2010 [YR2010]=98.55296<br>Country Code=%{location}<extra></extra>",
         "hovertext": [
          "Cuba"
         ],
         "locations": [
          "CUB"
         ],
         "name": "98.55296",
         "showlegend": true,
         "showscale": false,
         "type": "choropleth",
         "z": [
          1
         ]
        },
        {
         "colorscale": [
          [
           0,
           "#ab63fa"
          ],
          [
           1,
           "#ab63fa"
          ]
         ],
         "geo": "geo",
         "hovertemplate": "<b>%{hovertext}</b><br><br>2010 [YR2010]=98.96982<br>Country Code=%{location}<extra></extra>",
         "hovertext": [
          "Cyprus"
         ],
         "locations": [
          "CYP"
         ],
         "name": "98.96982",
         "showlegend": true,
         "showscale": false,
         "type": "choropleth",
         "z": [
          1
         ]
        },
        {
         "colorscale": [
          [
           0,
           "#FFA15A"
          ],
          [
           1,
           "#FFA15A"
          ]
         ],
         "geo": "geo",
         "hovertemplate": "<b>%{hovertext}</b><br><br>2010 [YR2010]=88.90289<br>Country Code=%{location}<extra></extra>",
         "hovertext": [
          "Czechia"
         ],
         "locations": [
          "CZE"
         ],
         "name": "88.90289",
         "showlegend": true,
         "showscale": false,
         "type": "choropleth",
         "z": [
          1
         ]
        },
        {
         "colorscale": [
          [
           0,
           "#19d3f3"
          ],
          [
           1,
           "#19d3f3"
          ]
         ],
         "geo": "geo",
         "hovertemplate": "<b>%{hovertext}</b><br><br>2010 [YR2010]=95.89593<br>Country Code=%{location}<extra></extra>",
         "hovertext": [
          "Denmark"
         ],
         "locations": [
          "DNK"
         ],
         "name": "95.89593",
         "showlegend": true,
         "showscale": false,
         "type": "choropleth",
         "z": [
          1
         ]
        },
        {
         "colorscale": [
          [
           0,
           "#FF6692"
          ],
          [
           1,
           "#FF6692"
          ]
         ],
         "geo": "geo",
         "hovertemplate": "<b>%{hovertext}</b><br><br>2010 [YR2010]=91.87024<br>Country Code=%{location}<extra></extra>",
         "hovertext": [
          "Dominican Republic"
         ],
         "locations": [
          "DOM"
         ],
         "name": "91.87024",
         "showlegend": true,
         "showscale": false,
         "type": "choropleth",
         "z": [
          1
         ]
        },
        {
         "colorscale": [
          [
           0,
           "#B6E880"
          ],
          [
           1,
           "#B6E880"
          ]
         ],
         "geo": "geo",
         "hovertemplate": "<b>%{hovertext}</b><br><br>2010 [YR2010]=89.24961<br>Country Code=%{location}<extra></extra>",
         "hovertext": [
          "Early-demographic dividend"
         ],
         "locations": [
          "EAR"
         ],
         "name": "89.24961",
         "showlegend": true,
         "showscale": false,
         "type": "choropleth",
         "z": [
          1
         ]
        },
        {
         "colorscale": [
          [
           0,
           "#FF97FF"
          ],
          [
           1,
           "#FF97FF"
          ]
         ],
         "geo": "geo",
         "hovertemplate": "<b>%{hovertext}</b><br><br>2010 [YR2010]=95.50824<br>Country Code=%{location}<extra></extra>",
         "hovertext": [
          "East Asia & Pacific"
         ],
         "locations": [
          "EAS"
         ],
         "name": "95.50824",
         "showlegend": true,
         "showscale": false,
         "type": "choropleth",
         "z": [
          1
         ]
        },
        {
         "colorscale": [
          [
           0,
           "#FECB52"
          ],
          [
           1,
           "#FECB52"
          ]
         ],
         "geo": "geo",
         "hovertemplate": "<b>%{hovertext}</b><br><br>2010 [YR2010]=95.49505<br>Country Code=%{location}<extra></extra>",
         "hovertext": [
          "East Asia & Pacific (excluding high income)"
         ],
         "locations": [
          "EAP"
         ],
         "name": "95.49505",
         "showlegend": true,
         "showscale": false,
         "type": "choropleth",
         "z": [
          1
         ]
        },
        {
         "colorscale": [
          [
           0,
           "#636efa"
          ],
          [
           1,
           "#636efa"
          ]
         ],
         "geo": "geo",
         "hovertemplate": "<b>%{hovertext}</b><br><br>2010 [YR2010]=95.51326<br>Country Code=%{location}<extra></extra>",
         "hovertext": [
          "East Asia & Pacific (IDA & IBRD countries)"
         ],
         "locations": [
          "TEA"
         ],
         "name": "95.51326",
         "showlegend": true,
         "showscale": false,
         "type": "choropleth",
         "z": [
          1
         ]
        },
        {
         "colorscale": [
          [
           0,
           "#EF553B"
          ],
          [
           1,
           "#EF553B"
          ]
         ],
         "geo": "geo",
         "hovertemplate": "<b>%{hovertext}</b><br><br>2010 [YR2010]=92.62287<br>Country Code=%{location}<extra></extra>",
         "hovertext": [
          "Ecuador"
         ],
         "locations": [
          "ECU"
         ],
         "name": "92.62287",
         "showlegend": true,
         "showscale": false,
         "type": "choropleth",
         "z": [
          1
         ]
        },
        {
         "colorscale": [
          [
           0,
           "#00cc96"
          ],
          [
           1,
           "#00cc96"
          ]
         ],
         "geo": "geo",
         "hovertemplate": "<b>%{hovertext}</b><br><br>2010 [YR2010]=95.94726<br>Country Code=%{location}<extra></extra>",
         "hovertext": [
          "Egypt, Arab Rep."
         ],
         "locations": [
          "EGY"
         ],
         "name": "95.94726",
         "showlegend": true,
         "showscale": false,
         "type": "choropleth",
         "z": [
          1
         ]
        },
        {
         "colorscale": [
          [
           0,
           "#ab63fa"
          ],
          [
           1,
           "#ab63fa"
          ]
         ],
         "geo": "geo",
         "hovertemplate": "<b>%{hovertext}</b><br><br>2010 [YR2010]=94.46109<br>Country Code=%{location}<extra></extra>",
         "hovertext": [
          "El Salvador"
         ],
         "locations": [
          "SLV"
         ],
         "name": "94.46109",
         "showlegend": true,
         "showscale": false,
         "type": "choropleth",
         "z": [
          1
         ]
        },
        {
         "colorscale": [
          [
           0,
           "#FFA15A"
          ],
          [
           1,
           "#FFA15A"
          ]
         ],
         "geo": "geo",
         "hovertemplate": "<b>%{hovertext}</b><br><br>2010 [YR2010]=45.07741<br>Country Code=%{location}<extra></extra>",
         "hovertext": [
          "Equatorial Guinea"
         ],
         "locations": [
          "GNQ"
         ],
         "name": "45.07741",
         "showlegend": true,
         "showscale": false,
         "type": "choropleth",
         "z": [
          1
         ]
        },
        {
         "colorscale": [
          [
           0,
           "#19d3f3"
          ],
          [
           1,
           "#19d3f3"
          ]
         ],
         "geo": "geo",
         "hovertemplate": "<b>%{hovertext}</b><br><br>2010 [YR2010]=62.77906<br>Country Code=%{location}<extra></extra>",
         "hovertext": [
          "Eritrea"
         ],
         "locations": [
          "ERI"
         ],
         "name": "62.77906",
         "showlegend": true,
         "showscale": false,
         "type": "choropleth",
         "z": [
          1
         ]
        },
        {
         "colorscale": [
          [
           0,
           "#FF6692"
          ],
          [
           1,
           "#FF6692"
          ]
         ],
         "geo": "geo",
         "hovertemplate": "<b>%{hovertext}</b><br><br>2010 [YR2010]=96.75183<br>Country Code=%{location}<extra></extra>",
         "hovertext": [
          "Estonia"
         ],
         "locations": [
          "EST"
         ],
         "name": "96.75183",
         "showlegend": true,
         "showscale": false,
         "type": "choropleth",
         "z": [
          1
         ]
        },
        {
         "colorscale": [
          [
           0,
           "#B6E880"
          ],
          [
           1,
           "#B6E880"
          ]
         ],
         "geo": "geo",
         "hovertemplate": "<b>%{hovertext}</b><br><br>2010 [YR2010]=87.79701<br>Country Code=%{location}<extra></extra>",
         "hovertext": [
          "Eswatini"
         ],
         "locations": [
          "SWZ"
         ],
         "name": "87.79701",
         "showlegend": true,
         "showscale": false,
         "type": "choropleth",
         "z": [
          1
         ]
        },
        {
         "colorscale": [
          [
           0,
           "#FF97FF"
          ],
          [
           1,
           "#FF97FF"
          ]
         ],
         "geo": "geo",
         "hovertemplate": "<b>%{hovertext}</b><br><br>2010 [YR2010]=73.35168<br>Country Code=%{location}<extra></extra>",
         "hovertext": [
          "Ethiopia"
         ],
         "locations": [
          "ETH"
         ],
         "name": "73.35168",
         "showlegend": true,
         "showscale": false,
         "type": "choropleth",
         "z": [
          1
         ]
        },
        {
         "colorscale": [
          [
           0,
           "#FECB52"
          ],
          [
           1,
           "#FECB52"
          ]
         ],
         "geo": "geo",
         "hovertemplate": "<b>%{hovertext}</b><br><br>2010 [YR2010]=97.61237<br>Country Code=%{location}<extra></extra>",
         "hovertext": [
          "Euro area"
         ],
         "locations": [
          "EMU"
         ],
         "name": "97.61237",
         "showlegend": true,
         "showscale": false,
         "type": "choropleth",
         "z": [
          1
         ]
        },
        {
         "colorscale": [
          [
           0,
           "#636efa"
          ],
          [
           1,
           "#636efa"
          ]
         ],
         "geo": "geo",
         "hovertemplate": "<b>%{hovertext}</b><br><br>2010 [YR2010]=95.42895<br>Country Code=%{location}<extra></extra>",
         "hovertext": [
          "Europe & Central Asia"
         ],
         "locations": [
          "ECS"
         ],
         "name": "95.42895",
         "showlegend": true,
         "showscale": false,
         "type": "choropleth",
         "z": [
          1
         ]
        },
        {
         "colorscale": [
          [
           0,
           "#EF553B"
          ],
          [
           1,
           "#EF553B"
          ]
         ],
         "geo": "geo",
         "hovertemplate": "<b>%{hovertext}</b><br><br>2010 [YR2010]=93.29969<br>Country Code=%{location}<extra></extra>",
         "hovertext": [
          "Europe & Central Asia (excluding high income)"
         ],
         "locations": [
          "ECA"
         ],
         "name": "93.29969",
         "showlegend": true,
         "showscale": false,
         "type": "choropleth",
         "z": [
          1
         ]
        },
        {
         "colorscale": [
          [
           0,
           "#00cc96"
          ],
          [
           1,
           "#00cc96"
          ]
         ],
         "geo": "geo",
         "hovertemplate": "<b>%{hovertext}</b><br><br>2010 [YR2010]=93.36737<br>Country Code=%{location}<extra></extra>",
         "hovertext": [
          "Europe & Central Asia (IDA & IBRD countries)"
         ],
         "locations": [
          "TEC"
         ],
         "name": "93.36737",
         "showlegend": true,
         "showscale": false,
         "type": "choropleth",
         "z": [
          1
         ]
        },
        {
         "colorscale": [
          [
           0,
           "#ab63fa"
          ],
          [
           1,
           "#ab63fa"
          ]
         ],
         "geo": "geo",
         "hovertemplate": "<b>%{hovertext}</b><br><br>2010 [YR2010]=96.93236<br>Country Code=%{location}<extra></extra>",
         "hovertext": [
          "European Union"
         ],
         "locations": [
          "EUU"
         ],
         "name": "96.93236",
         "showlegend": true,
         "showscale": false,
         "type": "choropleth",
         "z": [
          1
         ]
        },
        {
         "colorscale": [
          [
           0,
           "#FFA15A"
          ],
          [
           1,
           "#FFA15A"
          ]
         ],
         "geo": "geo",
         "hovertemplate": "<b>%{hovertext}</b><br><br>2010 [YR2010]=98.21163<br>Country Code=%{location}<extra></extra>",
         "hovertext": [
          "Finland"
         ],
         "locations": [
          "FIN"
         ],
         "name": "98.21163",
         "showlegend": true,
         "showscale": false,
         "type": "choropleth",
         "z": [
          1
         ]
        },
        {
         "colorscale": [
          [
           0,
           "#19d3f3"
          ],
          [
           1,
           "#19d3f3"
          ]
         ],
         "geo": "geo",
         "hovertemplate": "<b>%{hovertext}</b><br><br>2010 [YR2010]=97.35002<br>Country Code=%{location}<extra></extra>",
         "hovertext": [
          "France"
         ],
         "locations": [
          "FRA"
         ],
         "name": "97.35002",
         "showlegend": true,
         "showscale": false,
         "type": "choropleth",
         "z": [
          1
         ]
        },
        {
         "colorscale": [
          [
           0,
           "#FF6692"
          ],
          [
           1,
           "#FF6692"
          ]
         ],
         "geo": "geo",
         "hovertemplate": "<b>%{hovertext}</b><br><br>2010 [YR2010]=63.27525<br>Country Code=%{location}<extra></extra>",
         "hovertext": [
          "Gambia, The"
         ],
         "locations": [
          "GMB"
         ],
         "name": "63.27525",
         "showlegend": true,
         "showscale": false,
         "type": "choropleth",
         "z": [
          1
         ]
        },
        {
         "colorscale": [
          [
           0,
           "#B6E880"
          ],
          [
           1,
           "#B6E880"
          ]
         ],
         "geo": "geo",
         "hovertemplate": "<b>%{hovertext}</b><br><br>2010 [YR2010]=88.84321<br>Country Code=%{location}<extra></extra>",
         "hovertext": [
          "Germany"
         ],
         "locations": [
          "DEU"
         ],
         "name": "88.84321",
         "showlegend": true,
         "showscale": false,
         "type": "choropleth",
         "z": [
          1
         ]
        },
        {
         "colorscale": [
          [
           0,
           "#FF97FF"
          ],
          [
           1,
           "#FF97FF"
          ]
         ],
         "geo": "geo",
         "hovertemplate": "<b>%{hovertext}</b><br><br>2010 [YR2010]=96.8096<br>Country Code=%{location}<extra></extra>",
         "hovertext": [
          "Greece"
         ],
         "locations": [
          "GRC"
         ],
         "name": "96.8096",
         "showlegend": true,
         "showscale": false,
         "type": "choropleth",
         "z": [
          1
         ]
        },
        {
         "colorscale": [
          [
           0,
           "#FECB52"
          ],
          [
           1,
           "#FECB52"
          ]
         ],
         "geo": "geo",
         "hovertemplate": "<b>%{hovertext}</b><br><br>2010 [YR2010]=95.20853<br>Country Code=%{location}<extra></extra>",
         "hovertext": [
          "Guatemala"
         ],
         "locations": [
          "GTM"
         ],
         "name": "95.20853",
         "showlegend": true,
         "showscale": false,
         "type": "choropleth",
         "z": [
          1
         ]
        },
        {
         "colorscale": [
          [
           0,
           "#636efa"
          ],
          [
           1,
           "#636efa"
          ]
         ],
         "geo": "geo",
         "hovertemplate": "<b>%{hovertext}</b><br><br>2010 [YR2010]=68.67825<br>Country Code=%{location}<extra></extra>",
         "hovertext": [
          "Guinea"
         ],
         "locations": [
          "GIN"
         ],
         "name": "68.67825",
         "showlegend": true,
         "showscale": false,
         "type": "choropleth",
         "z": [
          1
         ]
        },
        {
         "colorscale": [
          [
           0,
           "#EF553B"
          ],
          [
           1,
           "#EF553B"
          ]
         ],
         "geo": "geo",
         "hovertemplate": "<b>%{hovertext}</b><br><br>2010 [YR2010]=71.25324<br>Country Code=%{location}<extra></extra>",
         "hovertext": [
          "Guinea-Bissau"
         ],
         "locations": [
          "GNB"
         ],
         "name": "71.25324",
         "showlegend": true,
         "showscale": false,
         "type": "choropleth",
         "z": [
          1
         ]
        },
        {
         "colorscale": [
          [
           0,
           "#00cc96"
          ],
          [
           1,
           "#00cc96"
          ]
         ],
         "geo": "geo",
         "hovertemplate": "<b>%{hovertext}</b><br><br>2010 [YR2010]=91.70702<br>Country Code=%{location}<extra></extra>",
         "hovertext": [
          "Guyana"
         ],
         "locations": [
          "GUY"
         ],
         "name": "91.70702",
         "showlegend": true,
         "showscale": false,
         "type": "choropleth",
         "z": [
          1
         ]
        },
        {
         "colorscale": [
          [
           0,
           "#ab63fa"
          ],
          [
           1,
           "#ab63fa"
          ]
         ],
         "geo": "geo",
         "hovertemplate": "<b>%{hovertext}</b><br><br>2010 [YR2010]=95.49749<br>Country Code=%{location}<extra></extra>",
         "hovertext": [
          "High income"
         ],
         "locations": [
          "HIC"
         ],
         "name": "95.49749",
         "showlegend": true,
         "showscale": false,
         "type": "choropleth",
         "z": [
          1
         ]
        },
        {
         "colorscale": [
          [
           0,
           "#FFA15A"
          ],
          [
           1,
           "#FFA15A"
          ]
         ],
         "geo": "geo",
         "hovertemplate": "<b>%{hovertext}</b><br><br>2010 [YR2010]=84.76193<br>Country Code=%{location}<extra></extra>",
         "hovertext": [
          "Honduras"
         ],
         "locations": [
          "HND"
         ],
         "name": "84.76193",
         "showlegend": true,
         "showscale": false,
         "type": "choropleth",
         "z": [
          1
         ]
        },
        {
         "colorscale": [
          [
           0,
           "#19d3f3"
          ],
          [
           1,
           "#19d3f3"
          ]
         ],
         "geo": "geo",
         "hovertemplate": "<b>%{hovertext}</b><br><br>2010 [YR2010]=92.05381<br>Country Code=%{location}<extra></extra>",
         "hovertext": [
          "Hungary"
         ],
         "locations": [
          "HUN"
         ],
         "name": "92.05381",
         "showlegend": true,
         "showscale": false,
         "type": "choropleth",
         "z": [
          1
         ]
        },
        {
         "colorscale": [
          [
           0,
           "#FF6692"
          ],
          [
           1,
           "#FF6692"
          ]
         ],
         "geo": "geo",
         "hovertemplate": "<b>%{hovertext}</b><br><br>2010 [YR2010]=99.2208<br>Country Code=%{location}<extra></extra>",
         "hovertext": [
          "Iceland"
         ],
         "locations": [
          "ISL"
         ],
         "name": "99.2208",
         "showlegend": true,
         "showscale": false,
         "type": "choropleth",
         "z": [
          1
         ]
        },
        {
         "colorscale": [
          [
           0,
           "#B6E880"
          ],
          [
           1,
           "#B6E880"
          ]
         ],
         "geo": "geo",
         "hovertemplate": "<b>%{hovertext}</b><br><br>2010 [YR2010]=87.81299<br>Country Code=%{location}<extra></extra>",
         "hovertext": [
          "IDA & IBRD total"
         ],
         "locations": [
          "IBT"
         ],
         "name": "87.81299",
         "showlegend": true,
         "showscale": false,
         "type": "choropleth",
         "z": [
          1
         ]
        },
        {
         "colorscale": [
          [
           0,
           "#FF97FF"
          ],
          [
           1,
           "#FF97FF"
          ]
         ],
         "geo": "geo",
         "hovertemplate": "<b>%{hovertext}</b><br><br>2010 [YR2010]=90.95531<br>Country Code=%{location}<extra></extra>",
         "hovertext": [
          "India"
         ],
         "locations": [
          "IND"
         ],
         "name": "90.95531",
         "showlegend": true,
         "showscale": false,
         "type": "choropleth",
         "z": [
          1
         ]
        },
        {
         "colorscale": [
          [
           0,
           "#FECB52"
          ],
          [
           1,
           "#FECB52"
          ]
         ],
         "geo": "geo",
         "hovertemplate": "<b>%{hovertext}</b><br><br>2010 [YR2010]=94.22952<br>Country Code=%{location}<extra></extra>",
         "hovertext": [
          "Indonesia"
         ],
         "locations": [
          "IDN"
         ],
         "name": "94.22952",
         "showlegend": true,
         "showscale": false,
         "type": "choropleth",
         "z": [
          1
         ]
        },
        {
         "colorscale": [
          [
           0,
           "#636efa"
          ],
          [
           1,
           "#636efa"
          ]
         ],
         "geo": "geo",
         "hovertemplate": "<b>%{hovertext}</b><br><br>2010 [YR2010]=96.5537<br>Country Code=%{location}<extra></extra>",
         "hovertext": [
          "Iran, Islamic Rep."
         ],
         "locations": [
          "IRN"
         ],
         "name": "96.5537",
         "showlegend": true,
         "showscale": false,
         "type": "choropleth",
         "z": [
          1
         ]
        },
        {
         "colorscale": [
          [
           0,
           "#EF553B"
          ],
          [
           1,
           "#EF553B"
          ]
         ],
         "geo": "geo",
         "hovertemplate": "<b>%{hovertext}</b><br><br>2010 [YR2010]=95.20748<br>Country Code=%{location}<extra></extra>",
         "hovertext": [
          "Ireland"
         ],
         "locations": [
          "IRL"
         ],
         "name": "95.20748",
         "showlegend": true,
         "showscale": false,
         "type": "choropleth",
         "z": [
          1
         ]
        },
        {
         "colorscale": [
          [
           0,
           "#00cc96"
          ],
          [
           1,
           "#00cc96"
          ]
         ],
         "geo": "geo",
         "hovertemplate": "<b>%{hovertext}</b><br><br>2010 [YR2010]=97.04351<br>Country Code=%{location}<extra></extra>",
         "hovertext": [
          "Israel"
         ],
         "locations": [
          "ISR"
         ],
         "name": "97.04351",
         "showlegend": true,
         "showscale": false,
         "type": "choropleth",
         "z": [
          1
         ]
        },
        {
         "colorscale": [
          [
           0,
           "#ab63fa"
          ],
          [
           1,
           "#ab63fa"
          ]
         ],
         "geo": "geo",
         "hovertemplate": "<b>%{hovertext}</b><br><br>2010 [YR2010]=97.63938<br>Country Code=%{location}<extra></extra>",
         "hovertext": [
          "Italy"
         ],
         "locations": [
          "ITA"
         ],
         "name": "97.63938",
         "showlegend": true,
         "showscale": false,
         "type": "choropleth",
         "z": [
          1
         ]
        },
        {
         "colorscale": [
          [
           0,
           "#FFA15A"
          ],
          [
           1,
           "#FFA15A"
          ]
         ],
         "geo": "geo",
         "hovertemplate": "<b>%{hovertext}</b><br><br>2010 [YR2010]=80.7257<br>Country Code=%{location}<extra></extra>",
         "hovertext": [
          "Jordan"
         ],
         "locations": [
          "JOR"
         ],
         "name": "80.7257",
         "showlegend": true,
         "showscale": false,
         "type": "choropleth",
         "z": [
          1
         ]
        },
        {
         "colorscale": [
          [
           0,
           "#19d3f3"
          ],
          [
           1,
           "#19d3f3"
          ]
         ],
         "geo": "geo",
         "hovertemplate": "<b>%{hovertext}</b><br><br>2010 [YR2010]=89.45954<br>Country Code=%{location}<extra></extra>",
         "hovertext": [
          "Kazakhstan"
         ],
         "locations": [
          "KAZ"
         ],
         "name": "89.45954",
         "showlegend": true,
         "showscale": false,
         "type": "choropleth",
         "z": [
          1
         ]
        },
        {
         "colorscale": [
          [
           0,
           "#FF6692"
          ],
          [
           1,
           "#FF6692"
          ]
         ],
         "geo": "geo",
         "hovertemplate": "<b>%{hovertext}</b><br><br>2010 [YR2010]=98.38177<br>Country Code=%{location}<extra></extra>",
         "hovertext": [
          "Korea, Rep."
         ],
         "locations": [
          "KOR"
         ],
         "name": "98.38177",
         "showlegend": true,
         "showscale": false,
         "type": "choropleth",
         "z": [
          1
         ]
        },
        {
         "colorscale": [
          [
           0,
           "#B6E880"
          ],
          [
           1,
           "#B6E880"
          ]
         ],
         "geo": "geo",
         "hovertemplate": "<b>%{hovertext}</b><br><br>2010 [YR2010]=92.3455<br>Country Code=%{location}<extra></extra>",
         "hovertext": [
          "Kuwait"
         ],
         "locations": [
          "KWT"
         ],
         "name": "92.3455",
         "showlegend": true,
         "showscale": false,
         "type": "choropleth",
         "z": [
          1
         ]
        },
        {
         "colorscale": [
          [
           0,
           "#FF97FF"
          ],
          [
           1,
           "#FF97FF"
          ]
         ],
         "geo": "geo",
         "hovertemplate": "<b>%{hovertext}</b><br><br>2010 [YR2010]=87.3591<br>Country Code=%{location}<extra></extra>",
         "hovertext": [
          "Kyrgyz Republic"
         ],
         "locations": [
          "KGZ"
         ],
         "name": "87.3591",
         "showlegend": true,
         "showscale": false,
         "type": "choropleth",
         "z": [
          1
         ]
        },
        {
         "colorscale": [
          [
           0,
           "#FECB52"
          ],
          [
           1,
           "#FECB52"
          ]
         ],
         "geo": "geo",
         "hovertemplate": "<b>%{hovertext}</b><br><br>2010 [YR2010]=94.53585<br>Country Code=%{location}<extra></extra>",
         "hovertext": [
          "Lao PDR"
         ],
         "locations": [
          "LAO"
         ],
         "name": "94.53585",
         "showlegend": true,
         "showscale": false,
         "type": "choropleth",
         "z": [
          1
         ]
        },
        {
         "colorscale": [
          [
           0,
           "#636efa"
          ],
          [
           1,
           "#636efa"
          ]
         ],
         "geo": "geo",
         "hovertemplate": "<b>%{hovertext}</b><br><br>2010 [YR2010]=96.06111<br>Country Code=%{location}<extra></extra>",
         "hovertext": [
          "Late-demographic dividend"
         ],
         "locations": [
          "LTE"
         ],
         "name": "96.06111",
         "showlegend": true,
         "showscale": false,
         "type": "choropleth",
         "z": [
          1
         ]
        },
        {
         "colorscale": [
          [
           0,
           "#EF553B"
          ],
          [
           1,
           "#EF553B"
          ]
         ],
         "geo": "geo",
         "hovertemplate": "<b>%{hovertext}</b><br><br>2010 [YR2010]=94.9263<br>Country Code=%{location}<extra></extra>",
         "hovertext": [
          "Latin America & Caribbean"
         ],
         "locations": [
          "LCN"
         ],
         "name": "94.9263",
         "showlegend": true,
         "showscale": false,
         "type": "choropleth",
         "z": [
          1
         ]
        },
        {
         "colorscale": [
          [
           0,
           "#00cc96"
          ],
          [
           1,
           "#00cc96"
          ]
         ],
         "geo": "geo",
         "hovertemplate": "<b>%{hovertext}</b><br><br>2010 [YR2010]=94.92005<br>Country Code=%{location}<extra></extra>",
         "hovertext": [
          "Latin America & Caribbean (excluding high income)"
         ],
         "locations": [
          "LAC"
         ],
         "name": "94.92005",
         "showlegend": true,
         "showscale": false,
         "type": "choropleth",
         "z": [
          1
         ]
        },
        {
         "colorscale": [
          [
           0,
           "#ab63fa"
          ],
          [
           1,
           "#ab63fa"
          ]
         ],
         "geo": "geo",
         "hovertemplate": "<b>%{hovertext}</b><br><br>2010 [YR2010]=94.91106<br>Country Code=%{location}<extra></extra>",
         "hovertext": [
          "Latin America & the Caribbean (IDA & IBRD countries)"
         ],
         "locations": [
          "TLA"
         ],
         "name": "94.91106",
         "showlegend": true,
         "showscale": false,
         "type": "choropleth",
         "z": [
          1
         ]
        },
        {
         "colorscale": [
          [
           0,
           "#FFA15A"
          ],
          [
           1,
           "#FFA15A"
          ]
         ],
         "geo": "geo",
         "hovertemplate": "<b>%{hovertext}</b><br><br>2010 [YR2010]=97.18449<br>Country Code=%{location}<extra></extra>",
         "hovertext": [
          "Latvia"
         ],
         "locations": [
          "LVA"
         ],
         "name": "97.18449",
         "showlegend": true,
         "showscale": false,
         "type": "choropleth",
         "z": [
          1
         ]
        },
        {
         "colorscale": [
          [
           0,
           "#19d3f3"
          ],
          [
           1,
           "#19d3f3"
          ]
         ],
         "geo": "geo",
         "hovertemplate": "<b>%{hovertext}</b><br><br>2010 [YR2010]=79.00299<br>Country Code=%{location}<extra></extra>",
         "hovertext": [
          "Least developed countries: UN classification"
         ],
         "locations": [
          "LDC"
         ],
         "name": "79.00299",
         "showlegend": true,
         "showscale": false,
         "type": "choropleth",
         "z": [
          1
         ]
        },
        {
         "colorscale": [
          [
           0,
           "#FF6692"
          ],
          [
           1,
           "#FF6692"
          ]
         ],
         "geo": "geo",
         "hovertemplate": "<b>%{hovertext}</b><br><br>2010 [YR2010]=88.6368<br>Country Code=%{location}<extra></extra>",
         "hovertext": [
          "Lesotho"
         ],
         "locations": [
          "LSO"
         ],
         "name": "88.6368",
         "showlegend": true,
         "showscale": false,
         "type": "choropleth",
         "z": [
          1
         ]
        },
        {
         "colorscale": [
          [
           0,
           "#B6E880"
          ],
          [
           1,
           "#B6E880"
          ]
         ],
         "geo": "geo",
         "hovertemplate": "<b>%{hovertext}</b><br><br>2010 [YR2010]=93.53901<br>Country Code=%{location}<extra></extra>",
         "hovertext": [
          "Liechtenstein"
         ],
         "locations": [
          "LIE"
         ],
         "name": "93.53901",
         "showlegend": true,
         "showscale": false,
         "type": "choropleth",
         "z": [
          1
         ]
        },
        {
         "colorscale": [
          [
           0,
           "#FF97FF"
          ],
          [
           1,
           "#FF97FF"
          ]
         ],
         "geo": "geo",
         "hovertemplate": "<b>%{hovertext}</b><br><br>2010 [YR2010]=96.32562<br>Country Code=%{location}<extra></extra>",
         "hovertext": [
          "Lithuania"
         ],
         "locations": [
          "LTU"
         ],
         "name": "96.32562",
         "showlegend": true,
         "showscale": false,
         "type": "choropleth",
         "z": [
          1
         ]
        },
        {
         "colorscale": [
          [
           0,
           "#FECB52"
          ],
          [
           1,
           "#FECB52"
          ]
         ],
         "geo": "geo",
         "hovertemplate": "<b>%{hovertext}</b><br><br>2010 [YR2010]=87.78454<br>Country Code=%{location}<extra></extra>",
         "hovertext": [
          "Low & middle income"
         ],
         "locations": [
          "LMY"
         ],
         "name": "87.78454",
         "showlegend": true,
         "showscale": false,
         "type": "choropleth",
         "z": [
          1
         ]
        },
        {
         "colorscale": [
          [
           0,
           "#636efa"
          ],
          [
           1,
           "#636efa"
          ]
         ],
         "geo": "geo",
         "hovertemplate": "<b>%{hovertext}</b><br><br>2010 [YR2010]=85.56855<br>Country Code=%{location}<extra></extra>",
         "hovertext": [
          "Lower middle income"
         ],
         "locations": [
          "LMC"
         ],
         "name": "85.56855",
         "showlegend": true,
         "showscale": false,
         "type": "choropleth",
         "z": [
          1
         ]
        },
        {
         "colorscale": [
          [
           0,
           "#EF553B"
          ],
          [
           1,
           "#EF553B"
          ]
         ],
         "geo": "geo",
         "hovertemplate": "<b>%{hovertext}</b><br><br>2010 [YR2010]=92.73811<br>Country Code=%{location}<extra></extra>",
         "hovertext": [
          "Luxembourg"
         ],
         "locations": [
          "LUX"
         ],
         "name": "92.73811",
         "showlegend": true,
         "showscale": false,
         "type": "choropleth",
         "z": [
          1
         ]
        },
        {
         "colorscale": [
          [
           0,
           "#00cc96"
          ],
          [
           1,
           "#00cc96"
          ]
         ],
         "geo": "geo",
         "hovertemplate": "<b>%{hovertext}</b><br><br>2010 [YR2010]=83.6919<br>Country Code=%{location}<extra></extra>",
         "hovertext": [
          "Macao SAR, China"
         ],
         "locations": [
          "MAC"
         ],
         "name": "83.6919",
         "showlegend": true,
         "showscale": false,
         "type": "choropleth",
         "z": [
          1
         ]
        },
        {
         "colorscale": [
          [
           0,
           "#ab63fa"
          ],
          [
           1,
           "#ab63fa"
          ]
         ],
         "geo": "geo",
         "hovertemplate": "<b>%{hovertext}</b><br><br>2010 [YR2010]=96.23306<br>Country Code=%{location}<extra></extra>",
         "hovertext": [
          "Malaysia"
         ],
         "locations": [
          "MYS"
         ],
         "name": "96.23306",
         "showlegend": true,
         "showscale": false,
         "type": "choropleth",
         "z": [
          1
         ]
        },
        {
         "colorscale": [
          [
           0,
           "#FFA15A"
          ],
          [
           1,
           "#FFA15A"
          ]
         ],
         "geo": "geo",
         "hovertemplate": "<b>%{hovertext}</b><br><br>2010 [YR2010]=64.28644<br>Country Code=%{location}<extra></extra>",
         "hovertext": [
          "Mali"
         ],
         "locations": [
          "MLI"
         ],
         "name": "64.28644",
         "showlegend": true,
         "showscale": false,
         "type": "choropleth",
         "z": [
          1
         ]
        },
        {
         "colorscale": [
          [
           0,
           "#19d3f3"
          ],
          [
           1,
           "#19d3f3"
          ]
         ],
         "geo": "geo",
         "hovertemplate": "<b>%{hovertext}</b><br><br>2010 [YR2010]=72.37404<br>Country Code=%{location}<extra></extra>",
         "hovertext": [
          "Mauritania"
         ],
         "locations": [
          "MRT"
         ],
         "name": "72.37404",
         "showlegend": true,
         "showscale": false,
         "type": "choropleth",
         "z": [
          1
         ]
        },
        {
         "colorscale": [
          [
           0,
           "#FF6692"
          ],
          [
           1,
           "#FF6692"
          ]
         ],
         "geo": "geo",
         "hovertemplate": "<b>%{hovertext}</b><br><br>2010 [YR2010]=96.50869<br>Country Code=%{location}<extra></extra>",
         "hovertext": [
          "Mauritius"
         ],
         "locations": [
          "MUS"
         ],
         "name": "96.50869",
         "showlegend": true,
         "showscale": false,
         "type": "choropleth",
         "z": [
          1
         ]
        },
        {
         "colorscale": [
          [
           0,
           "#B6E880"
          ],
          [
           1,
           "#B6E880"
          ]
         ],
         "geo": "geo",
         "hovertemplate": "<b>%{hovertext}</b><br><br>2010 [YR2010]=98.0771<br>Country Code=%{location}<extra></extra>",
         "hovertext": [
          "Mexico"
         ],
         "locations": [
          "MEX"
         ],
         "name": "98.0771",
         "showlegend": true,
         "showscale": false,
         "type": "choropleth",
         "z": [
          1
         ]
        },
        {
         "colorscale": [
          [
           0,
           "#FF97FF"
          ],
          [
           1,
           "#FF97FF"
          ]
         ],
         "geo": "geo",
         "hovertemplate": "<b>%{hovertext}</b><br><br>2010 [YR2010]=93.10114<br>Country Code=%{location}<extra></extra>",
         "hovertext": [
          "Middle East & North Africa"
         ],
         "locations": [
          "MEA"
         ],
         "name": "93.10114",
         "showlegend": true,
         "showscale": false,
         "type": "choropleth",
         "z": [
          1
         ]
        },
        {
         "colorscale": [
          [
           0,
           "#FECB52"
          ],
          [
           1,
           "#FECB52"
          ]
         ],
         "geo": "geo",
         "hovertemplate": "<b>%{hovertext}</b><br><br>2010 [YR2010]=92.74378<br>Country Code=%{location}<extra></extra>",
         "hovertext": [
          "Middle East & North Africa (excluding high income)"
         ],
         "locations": [
          "MNA"
         ],
         "name": "92.74378",
         "showlegend": true,
         "showscale": false,
         "type": "choropleth",
         "z": [
          1
         ]
        },
        {
         "colorscale": [
          [
           0,
           "#636efa"
          ],
          [
           1,
           "#636efa"
          ]
         ],
         "geo": "geo",
         "hovertemplate": "<b>%{hovertext}</b><br><br>2010 [YR2010]=92.81373<br>Country Code=%{location}<extra></extra>",
         "hovertext": [
          "Middle East & North Africa (IDA & IBRD countries)"
         ],
         "locations": [
          "TMN"
         ],
         "name": "92.81373",
         "showlegend": true,
         "showscale": false,
         "type": "choropleth",
         "z": [
          1
         ]
        },
        {
         "colorscale": [
          [
           0,
           "#EF553B"
          ],
          [
           1,
           "#EF553B"
          ]
         ],
         "geo": "geo",
         "hovertemplate": "<b>%{hovertext}</b><br><br>2010 [YR2010]=89.57565<br>Country Code=%{location}<extra></extra>",
         "hovertext": [
          "Middle income"
         ],
         "locations": [
          "MIC"
         ],
         "name": "89.57565",
         "showlegend": true,
         "showscale": false,
         "type": "choropleth",
         "z": [
          1
         ]
        },
        {
         "colorscale": [
          [
           0,
           "#00cc96"
          ],
          [
           1,
           "#00cc96"
          ]
         ],
         "geo": "geo",
         "hovertemplate": "<b>%{hovertext}</b><br><br>2010 [YR2010]=87.59101<br>Country Code=%{location}<extra></extra>",
         "hovertext": [
          "Moldova"
         ],
         "locations": [
          "MDA"
         ],
         "name": "87.59101",
         "showlegend": true,
         "showscale": false,
         "type": "choropleth",
         "z": [
          1
         ]
        },
        {
         "colorscale": [
          [
           0,
           "#ab63fa"
          ],
          [
           1,
           "#ab63fa"
          ]
         ],
         "geo": "geo",
         "hovertemplate": "<b>%{hovertext}</b><br><br>2010 [YR2010]=97.30346<br>Country Code=%{location}<extra></extra>",
         "hovertext": [
          "Mongolia"
         ],
         "locations": [
          "MNG"
         ],
         "name": "97.30346",
         "showlegend": true,
         "showscale": false,
         "type": "choropleth",
         "z": [
          1
         ]
        },
        {
         "colorscale": [
          [
           0,
           "#FFA15A"
          ],
          [
           1,
           "#FFA15A"
          ]
         ],
         "geo": "geo",
         "hovertemplate": "<b>%{hovertext}</b><br><br>2010 [YR2010]=92.28772<br>Country Code=%{location}<extra></extra>",
         "hovertext": [
          "Morocco"
         ],
         "locations": [
          "MAR"
         ],
         "name": "92.28772",
         "showlegend": true,
         "showscale": false,
         "type": "choropleth",
         "z": [
          1
         ]
        },
        {
         "colorscale": [
          [
           0,
           "#19d3f3"
          ],
          [
           1,
           "#19d3f3"
          ]
         ],
         "geo": "geo",
         "hovertemplate": "<b>%{hovertext}</b><br><br>2010 [YR2010]=89.83316<br>Country Code=%{location}<extra></extra>",
         "hovertext": [
          "Mozambique"
         ],
         "locations": [
          "MOZ"
         ],
         "name": "89.83316",
         "showlegend": true,
         "showscale": false,
         "type": "choropleth",
         "z": [
          1
         ]
        },
        {
         "colorscale": [
          [
           0,
           "#FF6692"
          ],
          [
           1,
           "#FF6692"
          ]
         ],
         "geo": "geo",
         "hovertemplate": "<b>%{hovertext}</b><br><br>2010 [YR2010]=89.00709<br>Country Code=%{location}<extra></extra>",
         "hovertext": [
          "Myanmar"
         ],
         "locations": [
          "MMR"
         ],
         "name": "89.00709",
         "showlegend": true,
         "showscale": false,
         "type": "choropleth",
         "z": [
          1
         ]
        },
        {
         "colorscale": [
          [
           0,
           "#B6E880"
          ],
          [
           1,
           "#B6E880"
          ]
         ],
         "geo": "geo",
         "hovertemplate": "<b>%{hovertext}</b><br><br>2010 [YR2010]=91.7836<br>Country Code=%{location}<extra></extra>",
         "hovertext": [
          "Namibia"
         ],
         "locations": [
          "NAM"
         ],
         "name": "91.7836",
         "showlegend": true,
         "showscale": false,
         "type": "choropleth",
         "z": [
          1
         ]
        },
        {
         "colorscale": [
          [
           0,
           "#FF97FF"
          ],
          [
           1,
           "#FF97FF"
          ]
         ],
         "geo": "geo",
         "hovertemplate": "<b>%{hovertext}</b><br><br>2010 [YR2010]=99.51312<br>Country Code=%{location}<extra></extra>",
         "hovertext": [
          "Netherlands"
         ],
         "locations": [
          "NLD"
         ],
         "name": "99.51312",
         "showlegend": true,
         "showscale": false,
         "type": "choropleth",
         "z": [
          1
         ]
        },
        {
         "colorscale": [
          [
           0,
           "#FECB52"
          ],
          [
           1,
           "#FECB52"
          ]
         ],
         "geo": "geo",
         "hovertemplate": "<b>%{hovertext}</b><br><br>2010 [YR2010]=94.89265<br>Country Code=%{location}<extra></extra>",
         "hovertext": [
          "Nicaragua"
         ],
         "locations": [
          "NIC"
         ],
         "name": "94.89265",
         "showlegend": true,
         "showscale": false,
         "type": "choropleth",
         "z": [
          1
         ]
        },
        {
         "colorscale": [
          [
           0,
           "#636efa"
          ],
          [
           1,
           "#636efa"
          ]
         ],
         "geo": "geo",
         "hovertemplate": "<b>%{hovertext}</b><br><br>2010 [YR2010]=54.06424<br>Country Code=%{location}<extra></extra>",
         "hovertext": [
          "Niger"
         ],
         "locations": [
          "NER"
         ],
         "name": "54.06424",
         "showlegend": true,
         "showscale": false,
         "type": "choropleth",
         "z": [
          1
         ]
        },
        {
         "colorscale": [
          [
           0,
           "#EF553B"
          ],
          [
           1,
           "#EF553B"
          ]
         ],
         "geo": "geo",
         "hovertemplate": "<b>%{hovertext}</b><br><br>2010 [YR2010]=64.13783<br>Country Code=%{location}<extra></extra>",
         "hovertext": [
          "Nigeria"
         ],
         "locations": [
          "NGA"
         ],
         "name": "64.13783",
         "showlegend": true,
         "showscale": false,
         "type": "choropleth",
         "z": [
          1
         ]
        },
        {
         "colorscale": [
          [
           0,
           "#00cc96"
          ],
          [
           1,
           "#00cc96"
          ]
         ],
         "geo": "geo",
         "hovertemplate": "<b>%{hovertext}</b><br><br>2010 [YR2010]=93.79489<br>Country Code=%{location}<extra></extra>",
         "hovertext": [
          "North America"
         ],
         "locations": [
          "NAC"
         ],
         "name": "93.79489",
         "showlegend": true,
         "showscale": false,
         "type": "choropleth",
         "z": [
          1
         ]
        },
        {
         "colorscale": [
          [
           0,
           "#ab63fa"
          ],
          [
           1,
           "#ab63fa"
          ]
         ],
         "geo": "geo",
         "hovertemplate": "<b>%{hovertext}</b><br><br>2010 [YR2010]=85.3765<br>Country Code=%{location}<extra></extra>",
         "hovertext": [
          "North Macedonia"
         ],
         "locations": [
          "MKD"
         ],
         "name": "85.3765",
         "showlegend": true,
         "showscale": false,
         "type": "choropleth",
         "z": [
          1
         ]
        },
        {
         "colorscale": [
          [
           0,
           "#FFA15A"
          ],
          [
           1,
           "#FFA15A"
          ]
         ],
         "geo": "geo",
         "hovertemplate": "<b>%{hovertext}</b><br><br>2010 [YR2010]=99.08012<br>Country Code=%{location}<extra></extra>",
         "hovertext": [
          "Norway"
         ],
         "locations": [
          "NOR"
         ],
         "name": "99.08012",
         "showlegend": true,
         "showscale": false,
         "type": "choropleth",
         "z": [
          1
         ]
        },
        {
         "colorscale": [
          [
           0,
           "#19d3f3"
          ],
          [
           1,
           "#19d3f3"
          ]
         ],
         "geo": "geo",
         "hovertemplate": "<b>%{hovertext}</b><br><br>2010 [YR2010]=95.96256<br>Country Code=%{location}<extra></extra>",
         "hovertext": [
          "OECD members"
         ],
         "locations": [
          "OED"
         ],
         "name": "95.96256",
         "showlegend": true,
         "showscale": false,
         "type": "choropleth",
         "z": [
          1
         ]
        },
        {
         "colorscale": [
          [
           0,
           "#FF6692"
          ],
          [
           1,
           "#FF6692"
          ]
         ],
         "geo": "geo",
         "hovertemplate": "<b>%{hovertext}</b><br><br>2010 [YR2010]=83.62232<br>Country Code=%{location}<extra></extra>",
         "hovertext": [
          "Other small states"
         ],
         "locations": [
          "OSS"
         ],
         "name": "83.62232",
         "showlegend": true,
         "showscale": false,
         "type": "choropleth",
         "z": [
          1
         ]
        },
        {
         "colorscale": [
          [
           0,
           "#B6E880"
          ],
          [
           1,
           "#B6E880"
          ]
         ],
         "geo": "geo",
         "hovertemplate": "<b>%{hovertext}</b><br><br>2010 [YR2010]=90.7157<br>Country Code=%{location}<extra></extra>",
         "hovertext": [
          "Pacific island small states"
         ],
         "locations": [
          "PSS"
         ],
         "name": "90.7157",
         "showlegend": true,
         "showscale": false,
         "type": "choropleth",
         "z": [
          1
         ]
        },
        {
         "colorscale": [
          [
           0,
           "#FF97FF"
          ],
          [
           1,
           "#FF97FF"
          ]
         ],
         "geo": "geo",
         "hovertemplate": "<b>%{hovertext}</b><br><br>2010 [YR2010]=65.98301<br>Country Code=%{location}<extra></extra>",
         "hovertext": [
          "Pakistan"
         ],
         "locations": [
          "PAK"
         ],
         "name": "65.98301",
         "showlegend": true,
         "showscale": false,
         "type": "choropleth",
         "z": [
          1
         ]
        },
        {
         "colorscale": [
          [
           0,
           "#FECB52"
          ],
          [
           1,
           "#FECB52"
          ]
         ],
         "geo": "geo",
         "hovertemplate": "<b>%{hovertext}</b><br><br>2010 [YR2010]=95.62248<br>Country Code=%{location}<extra></extra>",
         "hovertext": [
          "Panama"
         ],
         "locations": [
          "PAN"
         ],
         "name": "95.62248",
         "showlegend": true,
         "showscale": false,
         "type": "choropleth",
         "z": [
          1
         ]
        },
        {
         "colorscale": [
          [
           0,
           "#636efa"
          ],
          [
           1,
           "#636efa"
          ]
         ],
         "geo": "geo",
         "hovertemplate": "<b>%{hovertext}</b><br><br>2010 [YR2010]=87.9171<br>Country Code=%{location}<extra></extra>",
         "hovertext": [
          "Paraguay"
         ],
         "locations": [
          "PRY"
         ],
         "name": "87.9171",
         "showlegend": true,
         "showscale": false,
         "type": "choropleth",
         "z": [
          1
         ]
        },
        {
         "colorscale": [
          [
           0,
           "#EF553B"
          ],
          [
           1,
           "#EF553B"
          ]
         ],
         "geo": "geo",
         "hovertemplate": "<b>%{hovertext}</b><br><br>2010 [YR2010]=96.60304<br>Country Code=%{location}<extra></extra>",
         "hovertext": [
          "Peru"
         ],
         "locations": [
          "PER"
         ],
         "name": "96.60304",
         "showlegend": true,
         "showscale": false,
         "type": "choropleth",
         "z": [
          1
         ]
        },
        {
         "colorscale": [
          [
           0,
           "#00cc96"
          ],
          [
           1,
           "#00cc96"
          ]
         ],
         "geo": "geo",
         "hovertemplate": "<b>%{hovertext}</b><br><br>2010 [YR2010]=94.57285<br>Country Code=%{location}<extra></extra>",
         "hovertext": [
          "Poland"
         ],
         "locations": [
          "POL"
         ],
         "name": "94.57285",
         "showlegend": true,
         "showscale": false,
         "type": "choropleth",
         "z": [
          1
         ]
        },
        {
         "colorscale": [
          [
           0,
           "#ab63fa"
          ],
          [
           1,
           "#ab63fa"
          ]
         ],
         "geo": "geo",
         "hovertemplate": "<b>%{hovertext}</b><br><br>2010 [YR2010]=99.31374<br>Country Code=%{location}<extra></extra>",
         "hovertext": [
          "Portugal"
         ],
         "locations": [
          "PRT"
         ],
         "name": "99.31374",
         "showlegend": true,
         "showscale": false,
         "type": "choropleth",
         "z": [
          1
         ]
        },
        {
         "colorscale": [
          [
           0,
           "#FFA15A"
          ],
          [
           1,
           "#FFA15A"
          ]
         ],
         "geo": "geo",
         "hovertemplate": "<b>%{hovertext}</b><br><br>2010 [YR2010]=95.45566<br>Country Code=%{location}<extra></extra>",
         "hovertext": [
          "Post-demographic dividend"
         ],
         "locations": [
          "PST"
         ],
         "name": "95.45566",
         "showlegend": true,
         "showscale": false,
         "type": "choropleth",
         "z": [
          1
         ]
        },
        {
         "colorscale": [
          [
           0,
           "#19d3f3"
          ],
          [
           1,
           "#19d3f3"
          ]
         ],
         "geo": "geo",
         "hovertemplate": "<b>%{hovertext}</b><br><br>2010 [YR2010]=89.70856<br>Country Code=%{location}<extra></extra>",
         "hovertext": [
          "Puerto Rico"
         ],
         "locations": [
          "PRI"
         ],
         "name": "89.70856",
         "showlegend": true,
         "showscale": false,
         "type": "choropleth",
         "z": [
          1
         ]
        },
        {
         "colorscale": [
          [
           0,
           "#FF6692"
          ],
          [
           1,
           "#FF6692"
          ]
         ],
         "geo": "geo",
         "hovertemplate": "<b>%{hovertext}</b><br><br>2010 [YR2010]=90.21337<br>Country Code=%{location}<extra></extra>",
         "hovertext": [
          "Qatar"
         ],
         "locations": [
          "QAT"
         ],
         "name": "90.21337",
         "showlegend": true,
         "showscale": false,
         "type": "choropleth",
         "z": [
          1
         ]
        },
        {
         "colorscale": [
          [
           0,
           "#B6E880"
          ],
          [
           1,
           "#B6E880"
          ]
         ],
         "geo": "geo",
         "hovertemplate": "<b>%{hovertext}</b><br><br>2010 [YR2010]=91.31441<br>Country Code=%{location}<extra></extra>",
         "hovertext": [
          "Romania"
         ],
         "locations": [
          "ROU"
         ],
         "name": "91.31441",
         "showlegend": true,
         "showscale": false,
         "type": "choropleth",
         "z": [
          1
         ]
        },
        {
         "colorscale": [
          [
           0,
           "#FF97FF"
          ],
          [
           1,
           "#FF97FF"
          ]
         ],
         "geo": "geo",
         "hovertemplate": "<b>%{hovertext}</b><br><br>2010 [YR2010]=95.36821<br>Country Code=%{location}<extra></extra>",
         "hovertext": [
          "Samoa"
         ],
         "locations": [
          "WSM"
         ],
         "name": "95.36821",
         "showlegend": true,
         "showscale": false,
         "type": "choropleth",
         "z": [
          1
         ]
        },
        {
         "colorscale": [
          [
           0,
           "#FECB52"
          ],
          [
           1,
           "#FECB52"
          ]
         ],
         "geo": "geo",
         "hovertemplate": "<b>%{hovertext}</b><br><br>2010 [YR2010]=90.48221<br>Country Code=%{location}<extra></extra>",
         "hovertext": [
          "Sao Tome and Principe"
         ],
         "locations": [
          "STP"
         ],
         "name": "90.48221",
         "showlegend": true,
         "showscale": false,
         "type": "choropleth",
         "z": [
          1
         ]
        },
        {
         "colorscale": [
          [
           0,
           "#636efa"
          ],
          [
           1,
           "#636efa"
          ]
         ],
         "geo": "geo",
         "hovertemplate": "<b>%{hovertext}</b><br><br>2010 [YR2010]=97.10889<br>Country Code=%{location}<extra></extra>",
         "hovertext": [
          "Saudi Arabia"
         ],
         "locations": [
          "SAU"
         ],
         "name": "97.10889",
         "showlegend": true,
         "showscale": false,
         "type": "choropleth",
         "z": [
          1
         ]
        },
        {
         "colorscale": [
          [
           0,
           "#EF553B"
          ],
          [
           1,
           "#EF553B"
          ]
         ],
         "geo": "geo",
         "hovertemplate": "<b>%{hovertext}</b><br><br>2010 [YR2010]=71.57491<br>Country Code=%{location}<extra></extra>",
         "hovertext": [
          "Senegal"
         ],
         "locations": [
          "SEN"
         ],
         "name": "71.57491",
         "showlegend": true,
         "showscale": false,
         "type": "choropleth",
         "z": [
          1
         ]
        },
        {
         "colorscale": [
          [
           0,
           "#00cc96"
          ],
          [
           1,
           "#00cc96"
          ]
         ],
         "geo": "geo",
         "hovertemplate": "<b>%{hovertext}</b><br><br>2010 [YR2010]=92.74722<br>Country Code=%{location}<extra></extra>",
         "hovertext": [
          "Serbia"
         ],
         "locations": [
          "SRB"
         ],
         "name": "92.74722",
         "showlegend": true,
         "showscale": false,
         "type": "choropleth",
         "z": [
          1
         ]
        },
        {
         "colorscale": [
          [
           0,
           "#ab63fa"
          ],
          [
           1,
           "#ab63fa"
          ]
         ],
         "geo": "geo",
         "hovertemplate": "<b>%{hovertext}</b><br><br>2010 [YR2010]=84.07748<br>Country Code=%{location}<extra></extra>",
         "hovertext": [
          "Slovak Republic"
         ],
         "locations": [
          "SVK"
         ],
         "name": "84.07748",
         "showlegend": true,
         "showscale": false,
         "type": "choropleth",
         "z": [
          1
         ]
        },
        {
         "colorscale": [
          [
           0,
           "#FFA15A"
          ],
          [
           1,
           "#FFA15A"
          ]
         ],
         "geo": "geo",
         "hovertemplate": "<b>%{hovertext}</b><br><br>2010 [YR2010]=98.42773<br>Country Code=%{location}<extra></extra>",
         "hovertext": [
          "Slovenia"
         ],
         "locations": [
          "SVN"
         ],
         "name": "98.42773",
         "showlegend": true,
         "showscale": false,
         "type": "choropleth",
         "z": [
          1
         ]
        },
        {
         "colorscale": [
          [
           0,
           "#19d3f3"
          ],
          [
           1,
           "#19d3f3"
          ]
         ],
         "geo": "geo",
         "hovertemplate": "<b>%{hovertext}</b><br><br>2010 [YR2010]=86.79966<br>Country Code=%{location}<extra></extra>",
         "hovertext": [
          "South Asia",
          "South Asia (IDA & IBRD)"
         ],
         "locations": [
          "SAS",
          "TSA"
         ],
         "name": "86.79966",
         "showlegend": true,
         "showscale": false,
         "type": "choropleth",
         "z": [
          1,
          1
         ]
        },
        {
         "colorscale": [
          [
           0,
           "#FF6692"
          ],
          [
           1,
           "#FF6692"
          ]
         ],
         "geo": "geo",
         "hovertemplate": "<b>%{hovertext}</b><br><br>2010 [YR2010]=99.71354<br>Country Code=%{location}<extra></extra>",
         "hovertext": [
          "Spain"
         ],
         "locations": [
          "ESP"
         ],
         "name": "99.71354",
         "showlegend": true,
         "showscale": false,
         "type": "choropleth",
         "z": [
          1
         ]
        },
        {
         "colorscale": [
          [
           0,
           "#B6E880"
          ],
          [
           1,
           "#B6E880"
          ]
         ],
         "geo": "geo",
         "hovertemplate": "<b>%{hovertext}</b><br><br>2010 [YR2010]=94.73654<br>Country Code=%{location}<extra></extra>",
         "hovertext": [
          "Sri Lanka"
         ],
         "locations": [
          "LKA"
         ],
         "name": "94.73654",
         "showlegend": true,
         "showscale": false,
         "type": "choropleth",
         "z": [
          1
         ]
        },
        {
         "colorscale": [
          [
           0,
           "#FF97FF"
          ],
          [
           1,
           "#FF97FF"
          ]
         ],
         "geo": "geo",
         "hovertemplate": "<b>%{hovertext}</b><br><br>2010 [YR2010]=94.39666<br>Country Code=%{location}<extra></extra>",
         "hovertext": [
          "St. Kitts and Nevis"
         ],
         "locations": [
          "KNA"
         ],
         "name": "94.39666",
         "showlegend": true,
         "showscale": false,
         "type": "choropleth",
         "z": [
          1
         ]
        },
        {
         "colorscale": [
          [
           0,
           "#FECB52"
          ],
          [
           1,
           "#FECB52"
          ]
         ],
         "geo": "geo",
         "hovertemplate": "<b>%{hovertext}</b><br><br>2010 [YR2010]=94.8599<br>Country Code=%{location}<extra></extra>",
         "hovertext": [
          "St. Vincent and the Grenadines"
         ],
         "locations": [
          "VCT"
         ],
         "name": "94.8599",
         "showlegend": true,
         "showscale": false,
         "type": "choropleth",
         "z": [
          1
         ]
        },
        {
         "colorscale": [
          [
           0,
           "#636efa"
          ],
          [
           1,
           "#636efa"
          ]
         ],
         "geo": "geo",
         "hovertemplate": "<b>%{hovertext}</b><br><br>2010 [YR2010]=88.62022<br>Country Code=%{location}<extra></extra>",
         "hovertext": [
          "Suriname"
         ],
         "locations": [
          "SUR"
         ],
         "name": "88.62022",
         "showlegend": true,
         "showscale": false,
         "type": "choropleth",
         "z": [
          1
         ]
        },
        {
         "colorscale": [
          [
           0,
           "#EF553B"
          ],
          [
           1,
           "#EF553B"
          ]
         ],
         "geo": "geo",
         "hovertemplate": "<b>%{hovertext}</b><br><br>2010 [YR2010]=99.38254<br>Country Code=%{location}<extra></extra>",
         "hovertext": [
          "Sweden"
         ],
         "locations": [
          "SWE"
         ],
         "name": "99.38254",
         "showlegend": true,
         "showscale": false,
         "type": "choropleth",
         "z": [
          1
         ]
        },
        {
         "colorscale": [
          [
           0,
           "#00cc96"
          ],
          [
           1,
           "#00cc96"
          ]
         ],
         "geo": "geo",
         "hovertemplate": "<b>%{hovertext}</b><br><br>2010 [YR2010]=93.96341<br>Country Code=%{location}<extra></extra>",
         "hovertext": [
          "Switzerland"
         ],
         "locations": [
          "CHE"
         ],
         "name": "93.96341",
         "showlegend": true,
         "showscale": false,
         "type": "choropleth",
         "z": [
          1
         ]
        },
        {
         "colorscale": [
          [
           0,
           "#ab63fa"
          ],
          [
           1,
           "#ab63fa"
          ]
         ],
         "geo": "geo",
         "hovertemplate": "<b>%{hovertext}</b><br><br>2010 [YR2010]=92.96128<br>Country Code=%{location}<extra></extra>",
         "hovertext": [
          "Syrian Arab Republic"
         ],
         "locations": [
          "SYR"
         ],
         "name": "92.96128",
         "showlegend": true,
         "showscale": false,
         "type": "choropleth",
         "z": [
          1
         ]
        },
        {
         "colorscale": [
          [
           0,
           "#FFA15A"
          ],
          [
           1,
           "#FFA15A"
          ]
         ],
         "geo": "geo",
         "hovertemplate": "<b>%{hovertext}</b><br><br>2010 [YR2010]=97.85753<br>Country Code=%{location}<extra></extra>",
         "hovertext": [
          "Tajikistan"
         ],
         "locations": [
          "TJK"
         ],
         "name": "97.85753",
         "showlegend": true,
         "showscale": false,
         "type": "choropleth",
         "z": [
          1
         ]
        },
        {
         "colorscale": [
          [
           0,
           "#19d3f3"
          ],
          [
           1,
           "#19d3f3"
          ]
         ],
         "geo": "geo",
         "hovertemplate": "<b>%{hovertext}</b><br><br>2010 [YR2010]=92.19632<br>Country Code=%{location}<extra></extra>",
         "hovertext": [
          "Tanzania"
         ],
         "locations": [
          "TZA"
         ],
         "name": "92.19632",
         "showlegend": true,
         "showscale": false,
         "type": "choropleth",
         "z": [
          1
         ]
        },
        {
         "colorscale": [
          [
           0,
           "#FF6692"
          ],
          [
           1,
           "#FF6692"
          ]
         ],
         "geo": "geo",
         "hovertemplate": "<b>%{hovertext}</b><br><br>2010 [YR2010]=89.50847<br>Country Code=%{location}<extra></extra>",
         "hovertext": [
          "Timor-Leste"
         ],
         "locations": [
          "TLS"
         ],
         "name": "89.50847",
         "showlegend": true,
         "showscale": false,
         "type": "choropleth",
         "z": [
          1
         ]
        },
        {
         "colorscale": [
          [
           0,
           "#B6E880"
          ],
          [
           1,
           "#B6E880"
          ]
         ],
         "geo": "geo",
         "hovertemplate": "<b>%{hovertext}</b><br><br>2010 [YR2010]=95.28261<br>Country Code=%{location}<extra></extra>",
         "hovertext": [
          "Trinidad and Tobago"
         ],
         "locations": [
          "TTO"
         ],
         "name": "95.28261",
         "showlegend": true,
         "showscale": false,
         "type": "choropleth",
         "z": [
          1
         ]
        },
        {
         "colorscale": [
          [
           0,
           "#FF97FF"
          ],
          [
           1,
           "#FF97FF"
          ]
         ],
         "geo": "geo",
         "hovertemplate": "<b>%{hovertext}</b><br><br>2010 [YR2010]=98.15464<br>Country Code=%{location}<extra></extra>",
         "hovertext": [
          "Tunisia"
         ],
         "locations": [
          "TUN"
         ],
         "name": "98.15464",
         "showlegend": true,
         "showscale": false,
         "type": "choropleth",
         "z": [
          1
         ]
        },
        {
         "colorscale": [
          [
           0,
           "#FECB52"
          ],
          [
           1,
           "#FECB52"
          ]
         ],
         "geo": "geo",
         "hovertemplate": "<b>%{hovertext}</b><br><br>2010 [YR2010]=96.08606<br>Country Code=%{location}<extra></extra>",
         "hovertext": [
          "Turkiye"
         ],
         "locations": [
          "TUR"
         ],
         "name": "96.08606",
         "showlegend": true,
         "showscale": false,
         "type": "choropleth",
         "z": [
          1
         ]
        },
        {
         "colorscale": [
          [
           0,
           "#636efa"
          ],
          [
           1,
           "#636efa"
          ]
         ],
         "geo": "geo",
         "hovertemplate": "<b>%{hovertext}</b><br><br>2010 [YR2010]=91.5001<br>Country Code=%{location}<extra></extra>",
         "hovertext": [
          "Uganda"
         ],
         "locations": [
          "UGA"
         ],
         "name": "91.5001",
         "showlegend": true,
         "showscale": false,
         "type": "choropleth",
         "z": [
          1
         ]
        },
        {
         "colorscale": [
          [
           0,
           "#EF553B"
          ],
          [
           1,
           "#EF553B"
          ]
         ],
         "geo": "geo",
         "hovertemplate": "<b>%{hovertext}</b><br><br>2010 [YR2010]=90.41149<br>Country Code=%{location}<extra></extra>",
         "hovertext": [
          "Ukraine"
         ],
         "locations": [
          "UKR"
         ],
         "name": "90.41149",
         "showlegend": true,
         "showscale": false,
         "type": "choropleth",
         "z": [
          1
         ]
        },
        {
         "colorscale": [
          [
           0,
           "#00cc96"
          ],
          [
           1,
           "#00cc96"
          ]
         ],
         "geo": "geo",
         "hovertemplate": "<b>%{hovertext}</b><br><br>2010 [YR2010]=98.01015<br>Country Code=%{location}<extra></extra>",
         "hovertext": [
          "United Kingdom"
         ],
         "locations": [
          "GBR"
         ],
         "name": "98.01015",
         "showlegend": true,
         "showscale": false,
         "type": "choropleth",
         "z": [
          1
         ]
        },
        {
         "colorscale": [
          [
           0,
           "#ab63fa"
          ],
          [
           1,
           "#ab63fa"
          ]
         ],
         "geo": "geo",
         "hovertemplate": "<b>%{hovertext}</b><br><br>2010 [YR2010]=93.37426<br>Country Code=%{location}<extra></extra>",
         "hovertext": [
          "United States"
         ],
         "locations": [
          "USA"
         ],
         "name": "93.37426",
         "showlegend": true,
         "showscale": false,
         "type": "choropleth",
         "z": [
          1
         ]
        },
        {
         "colorscale": [
          [
           0,
           "#FFA15A"
          ],
          [
           1,
           "#FFA15A"
          ]
         ],
         "geo": "geo",
         "hovertemplate": "<b>%{hovertext}</b><br><br>2010 [YR2010]=95.66169<br>Country Code=%{location}<extra></extra>",
         "hovertext": [
          "Upper middle income"
         ],
         "locations": [
          "UMC"
         ],
         "name": "95.66169",
         "showlegend": true,
         "showscale": false,
         "type": "choropleth",
         "z": [
          1
         ]
        },
        {
         "colorscale": [
          [
           0,
           "#19d3f3"
          ],
          [
           1,
           "#19d3f3"
          ]
         ],
         "geo": "geo",
         "hovertemplate": "<b>%{hovertext}</b><br><br>2010 [YR2010]=99.54073<br>Country Code=%{location}<extra></extra>",
         "hovertext": [
          "Uruguay"
         ],
         "locations": [
          "URY"
         ],
         "name": "99.54073",
         "showlegend": true,
         "showscale": false,
         "type": "choropleth",
         "z": [
          1
         ]
        },
        {
         "colorscale": [
          [
           0,
           "#FF6692"
          ],
          [
           1,
           "#FF6692"
          ]
         ],
         "geo": "geo",
         "hovertemplate": "<b>%{hovertext}</b><br><br>2010 [YR2010]=89.1713<br>Country Code=%{location}<extra></extra>",
         "hovertext": [
          "Uzbekistan"
         ],
         "locations": [
          "UZB"
         ],
         "name": "89.1713",
         "showlegend": true,
         "showscale": false,
         "type": "choropleth",
         "z": [
          1
         ]
        },
        {
         "colorscale": [
          [
           0,
           "#B6E880"
          ],
          [
           1,
           "#B6E880"
          ]
         ],
         "geo": "geo",
         "hovertemplate": "<b>%{hovertext}</b><br><br>2010 [YR2010]=92.48108<br>Country Code=%{location}<extra></extra>",
         "hovertext": [
          "Venezuela, RB"
         ],
         "locations": [
          "VEN"
         ],
         "name": "92.48108",
         "showlegend": true,
         "showscale": false,
         "type": "choropleth",
         "z": [
          1
         ]
        },
        {
         "colorscale": [
          [
           0,
           "#FF97FF"
          ],
          [
           1,
           "#FF97FF"
          ]
         ],
         "geo": "geo",
         "hovertemplate": "<b>%{hovertext}</b><br><br>2010 [YR2010]=98.01475<br>Country Code=%{location}<extra></extra>",
         "hovertext": [
          "Viet Nam"
         ],
         "locations": [
          "VNM"
         ],
         "name": "98.01475",
         "showlegend": true,
         "showscale": false,
         "type": "choropleth",
         "z": [
          1
         ]
        },
        {
         "colorscale": [
          [
           0,
           "#FECB52"
          ],
          [
           1,
           "#FECB52"
          ]
         ],
         "geo": "geo",
         "hovertemplate": "<b>%{hovertext}</b><br><br>2010 [YR2010]=87.00422<br>Country Code=%{location}<extra></extra>",
         "hovertext": [
          "West Bank and Gaza"
         ],
         "locations": [
          "PSE"
         ],
         "name": "87.00422",
         "showlegend": true,
         "showscale": false,
         "type": "choropleth",
         "z": [
          1
         ]
        },
        {
         "colorscale": [
          [
           0,
           "#636efa"
          ],
          [
           1,
           "#636efa"
          ]
         ],
         "geo": "geo",
         "hovertemplate": "<b>%{hovertext}</b><br><br>2010 [YR2010]=88.63339<br>Country Code=%{location}<extra></extra>",
         "hovertext": [
          "World"
         ],
         "locations": [
          "WLD"
         ],
         "name": "88.63339",
         "showlegend": true,
         "showscale": false,
         "type": "choropleth",
         "z": [
          1
         ]
        },
        {
         "colorscale": [
          [
           0,
           "#EF553B"
          ],
          [
           1,
           "#EF553B"
          ]
         ],
         "geo": "geo",
         "hovertemplate": "<b>%{hovertext}</b><br><br>2010 [YR2010]=81.53256<br>Country Code=%{location}<extra></extra>",
         "hovertext": [
          "Yemen, Rep."
         ],
         "locations": [
          "YEM"
         ],
         "name": "81.53256",
         "showlegend": true,
         "showscale": false,
         "type": "choropleth",
         "z": [
          1
         ]
        },
        {
         "colorscale": [
          [
           0,
           "#00cc96"
          ],
          [
           1,
           "#00cc96"
          ]
         ],
         "geo": "geo",
         "hovertemplate": "<b>%{hovertext}</b><br><br>2010 [YR2010]=84.80889<br>Country Code=%{location}<extra></extra>",
         "hovertext": [
          "Zambia"
         ],
         "locations": [
          "ZMB"
         ],
         "name": "84.80889",
         "showlegend": true,
         "showscale": false,
         "type": "choropleth",
         "z": [
          1
         ]
        }
       ],
       "layout": {
        "geo": {
         "center": {},
         "domain": {
          "x": [
           0,
           1
          ],
          "y": [
           0,
           1
          ]
         }
        },
        "legend": {
         "title": {
          "text": "2010 [YR2010]"
         },
         "tracegroupgap": 0
        },
        "margin": {
         "t": 60
        },
        "template": {
         "data": {
          "bar": [
           {
            "error_x": {
             "color": "#2a3f5f"
            },
            "error_y": {
             "color": "#2a3f5f"
            },
            "marker": {
             "line": {
              "color": "#E5ECF6",
              "width": 0.5
             },
             "pattern": {
              "fillmode": "overlay",
              "size": 10,
              "solidity": 0.2
             }
            },
            "type": "bar"
           }
          ],
          "barpolar": [
           {
            "marker": {
             "line": {
              "color": "#E5ECF6",
              "width": 0.5
             },
             "pattern": {
              "fillmode": "overlay",
              "size": 10,
              "solidity": 0.2
             }
            },
            "type": "barpolar"
           }
          ],
          "carpet": [
           {
            "aaxis": {
             "endlinecolor": "#2a3f5f",
             "gridcolor": "white",
             "linecolor": "white",
             "minorgridcolor": "white",
             "startlinecolor": "#2a3f5f"
            },
            "baxis": {
             "endlinecolor": "#2a3f5f",
             "gridcolor": "white",
             "linecolor": "white",
             "minorgridcolor": "white",
             "startlinecolor": "#2a3f5f"
            },
            "type": "carpet"
           }
          ],
          "choropleth": [
           {
            "colorbar": {
             "outlinewidth": 0,
             "ticks": ""
            },
            "type": "choropleth"
           }
          ],
          "contour": [
           {
            "colorbar": {
             "outlinewidth": 0,
             "ticks": ""
            },
            "colorscale": [
             [
              0,
              "#0d0887"
             ],
             [
              0.1111111111111111,
              "#46039f"
             ],
             [
              0.2222222222222222,
              "#7201a8"
             ],
             [
              0.3333333333333333,
              "#9c179e"
             ],
             [
              0.4444444444444444,
              "#bd3786"
             ],
             [
              0.5555555555555556,
              "#d8576b"
             ],
             [
              0.6666666666666666,
              "#ed7953"
             ],
             [
              0.7777777777777778,
              "#fb9f3a"
             ],
             [
              0.8888888888888888,
              "#fdca26"
             ],
             [
              1,
              "#f0f921"
             ]
            ],
            "type": "contour"
           }
          ],
          "contourcarpet": [
           {
            "colorbar": {
             "outlinewidth": 0,
             "ticks": ""
            },
            "type": "contourcarpet"
           }
          ],
          "heatmap": [
           {
            "colorbar": {
             "outlinewidth": 0,
             "ticks": ""
            },
            "colorscale": [
             [
              0,
              "#0d0887"
             ],
             [
              0.1111111111111111,
              "#46039f"
             ],
             [
              0.2222222222222222,
              "#7201a8"
             ],
             [
              0.3333333333333333,
              "#9c179e"
             ],
             [
              0.4444444444444444,
              "#bd3786"
             ],
             [
              0.5555555555555556,
              "#d8576b"
             ],
             [
              0.6666666666666666,
              "#ed7953"
             ],
             [
              0.7777777777777778,
              "#fb9f3a"
             ],
             [
              0.8888888888888888,
              "#fdca26"
             ],
             [
              1,
              "#f0f921"
             ]
            ],
            "type": "heatmap"
           }
          ],
          "heatmapgl": [
           {
            "colorbar": {
             "outlinewidth": 0,
             "ticks": ""
            },
            "colorscale": [
             [
              0,
              "#0d0887"
             ],
             [
              0.1111111111111111,
              "#46039f"
             ],
             [
              0.2222222222222222,
              "#7201a8"
             ],
             [
              0.3333333333333333,
              "#9c179e"
             ],
             [
              0.4444444444444444,
              "#bd3786"
             ],
             [
              0.5555555555555556,
              "#d8576b"
             ],
             [
              0.6666666666666666,
              "#ed7953"
             ],
             [
              0.7777777777777778,
              "#fb9f3a"
             ],
             [
              0.8888888888888888,
              "#fdca26"
             ],
             [
              1,
              "#f0f921"
             ]
            ],
            "type": "heatmapgl"
           }
          ],
          "histogram": [
           {
            "marker": {
             "pattern": {
              "fillmode": "overlay",
              "size": 10,
              "solidity": 0.2
             }
            },
            "type": "histogram"
           }
          ],
          "histogram2d": [
           {
            "colorbar": {
             "outlinewidth": 0,
             "ticks": ""
            },
            "colorscale": [
             [
              0,
              "#0d0887"
             ],
             [
              0.1111111111111111,
              "#46039f"
             ],
             [
              0.2222222222222222,
              "#7201a8"
             ],
             [
              0.3333333333333333,
              "#9c179e"
             ],
             [
              0.4444444444444444,
              "#bd3786"
             ],
             [
              0.5555555555555556,
              "#d8576b"
             ],
             [
              0.6666666666666666,
              "#ed7953"
             ],
             [
              0.7777777777777778,
              "#fb9f3a"
             ],
             [
              0.8888888888888888,
              "#fdca26"
             ],
             [
              1,
              "#f0f921"
             ]
            ],
            "type": "histogram2d"
           }
          ],
          "histogram2dcontour": [
           {
            "colorbar": {
             "outlinewidth": 0,
             "ticks": ""
            },
            "colorscale": [
             [
              0,
              "#0d0887"
             ],
             [
              0.1111111111111111,
              "#46039f"
             ],
             [
              0.2222222222222222,
              "#7201a8"
             ],
             [
              0.3333333333333333,
              "#9c179e"
             ],
             [
              0.4444444444444444,
              "#bd3786"
             ],
             [
              0.5555555555555556,
              "#d8576b"
             ],
             [
              0.6666666666666666,
              "#ed7953"
             ],
             [
              0.7777777777777778,
              "#fb9f3a"
             ],
             [
              0.8888888888888888,
              "#fdca26"
             ],
             [
              1,
              "#f0f921"
             ]
            ],
            "type": "histogram2dcontour"
           }
          ],
          "mesh3d": [
           {
            "colorbar": {
             "outlinewidth": 0,
             "ticks": ""
            },
            "type": "mesh3d"
           }
          ],
          "parcoords": [
           {
            "line": {
             "colorbar": {
              "outlinewidth": 0,
              "ticks": ""
             }
            },
            "type": "parcoords"
           }
          ],
          "pie": [
           {
            "automargin": true,
            "type": "pie"
           }
          ],
          "scatter": [
           {
            "fillpattern": {
             "fillmode": "overlay",
             "size": 10,
             "solidity": 0.2
            },
            "type": "scatter"
           }
          ],
          "scatter3d": [
           {
            "line": {
             "colorbar": {
              "outlinewidth": 0,
              "ticks": ""
             }
            },
            "marker": {
             "colorbar": {
              "outlinewidth": 0,
              "ticks": ""
             }
            },
            "type": "scatter3d"
           }
          ],
          "scattercarpet": [
           {
            "marker": {
             "colorbar": {
              "outlinewidth": 0,
              "ticks": ""
             }
            },
            "type": "scattercarpet"
           }
          ],
          "scattergeo": [
           {
            "marker": {
             "colorbar": {
              "outlinewidth": 0,
              "ticks": ""
             }
            },
            "type": "scattergeo"
           }
          ],
          "scattergl": [
           {
            "marker": {
             "colorbar": {
              "outlinewidth": 0,
              "ticks": ""
             }
            },
            "type": "scattergl"
           }
          ],
          "scattermapbox": [
           {
            "marker": {
             "colorbar": {
              "outlinewidth": 0,
              "ticks": ""
             }
            },
            "type": "scattermapbox"
           }
          ],
          "scatterpolar": [
           {
            "marker": {
             "colorbar": {
              "outlinewidth": 0,
              "ticks": ""
             }
            },
            "type": "scatterpolar"
           }
          ],
          "scatterpolargl": [
           {
            "marker": {
             "colorbar": {
              "outlinewidth": 0,
              "ticks": ""
             }
            },
            "type": "scatterpolargl"
           }
          ],
          "scatterternary": [
           {
            "marker": {
             "colorbar": {
              "outlinewidth": 0,
              "ticks": ""
             }
            },
            "type": "scatterternary"
           }
          ],
          "surface": [
           {
            "colorbar": {
             "outlinewidth": 0,
             "ticks": ""
            },
            "colorscale": [
             [
              0,
              "#0d0887"
             ],
             [
              0.1111111111111111,
              "#46039f"
             ],
             [
              0.2222222222222222,
              "#7201a8"
             ],
             [
              0.3333333333333333,
              "#9c179e"
             ],
             [
              0.4444444444444444,
              "#bd3786"
             ],
             [
              0.5555555555555556,
              "#d8576b"
             ],
             [
              0.6666666666666666,
              "#ed7953"
             ],
             [
              0.7777777777777778,
              "#fb9f3a"
             ],
             [
              0.8888888888888888,
              "#fdca26"
             ],
             [
              1,
              "#f0f921"
             ]
            ],
            "type": "surface"
           }
          ],
          "table": [
           {
            "cells": {
             "fill": {
              "color": "#EBF0F8"
             },
             "line": {
              "color": "white"
             }
            },
            "header": {
             "fill": {
              "color": "#C8D4E3"
             },
             "line": {
              "color": "white"
             }
            },
            "type": "table"
           }
          ]
         },
         "layout": {
          "annotationdefaults": {
           "arrowcolor": "#2a3f5f",
           "arrowhead": 0,
           "arrowwidth": 1
          },
          "autotypenumbers": "strict",
          "coloraxis": {
           "colorbar": {
            "outlinewidth": 0,
            "ticks": ""
           }
          },
          "colorscale": {
           "diverging": [
            [
             0,
             "#8e0152"
            ],
            [
             0.1,
             "#c51b7d"
            ],
            [
             0.2,
             "#de77ae"
            ],
            [
             0.3,
             "#f1b6da"
            ],
            [
             0.4,
             "#fde0ef"
            ],
            [
             0.5,
             "#f7f7f7"
            ],
            [
             0.6,
             "#e6f5d0"
            ],
            [
             0.7,
             "#b8e186"
            ],
            [
             0.8,
             "#7fbc41"
            ],
            [
             0.9,
             "#4d9221"
            ],
            [
             1,
             "#276419"
            ]
           ],
           "sequential": [
            [
             0,
             "#0d0887"
            ],
            [
             0.1111111111111111,
             "#46039f"
            ],
            [
             0.2222222222222222,
             "#7201a8"
            ],
            [
             0.3333333333333333,
             "#9c179e"
            ],
            [
             0.4444444444444444,
             "#bd3786"
            ],
            [
             0.5555555555555556,
             "#d8576b"
            ],
            [
             0.6666666666666666,
             "#ed7953"
            ],
            [
             0.7777777777777778,
             "#fb9f3a"
            ],
            [
             0.8888888888888888,
             "#fdca26"
            ],
            [
             1,
             "#f0f921"
            ]
           ],
           "sequentialminus": [
            [
             0,
             "#0d0887"
            ],
            [
             0.1111111111111111,
             "#46039f"
            ],
            [
             0.2222222222222222,
             "#7201a8"
            ],
            [
             0.3333333333333333,
             "#9c179e"
            ],
            [
             0.4444444444444444,
             "#bd3786"
            ],
            [
             0.5555555555555556,
             "#d8576b"
            ],
            [
             0.6666666666666666,
             "#ed7953"
            ],
            [
             0.7777777777777778,
             "#fb9f3a"
            ],
            [
             0.8888888888888888,
             "#fdca26"
            ],
            [
             1,
             "#f0f921"
            ]
           ]
          },
          "colorway": [
           "#636efa",
           "#EF553B",
           "#00cc96",
           "#ab63fa",
           "#FFA15A",
           "#19d3f3",
           "#FF6692",
           "#B6E880",
           "#FF97FF",
           "#FECB52"
          ],
          "font": {
           "color": "#2a3f5f"
          },
          "geo": {
           "bgcolor": "white",
           "lakecolor": "white",
           "landcolor": "#E5ECF6",
           "showlakes": true,
           "showland": true,
           "subunitcolor": "white"
          },
          "hoverlabel": {
           "align": "left"
          },
          "hovermode": "closest",
          "mapbox": {
           "style": "light"
          },
          "paper_bgcolor": "white",
          "plot_bgcolor": "#E5ECF6",
          "polar": {
           "angularaxis": {
            "gridcolor": "white",
            "linecolor": "white",
            "ticks": ""
           },
           "bgcolor": "#E5ECF6",
           "radialaxis": {
            "gridcolor": "white",
            "linecolor": "white",
            "ticks": ""
           }
          },
          "scene": {
           "xaxis": {
            "backgroundcolor": "#E5ECF6",
            "gridcolor": "white",
            "gridwidth": 2,
            "linecolor": "white",
            "showbackground": true,
            "ticks": "",
            "zerolinecolor": "white"
           },
           "yaxis": {
            "backgroundcolor": "#E5ECF6",
            "gridcolor": "white",
            "gridwidth": 2,
            "linecolor": "white",
            "showbackground": true,
            "ticks": "",
            "zerolinecolor": "white"
           },
           "zaxis": {
            "backgroundcolor": "#E5ECF6",
            "gridcolor": "white",
            "gridwidth": 2,
            "linecolor": "white",
            "showbackground": true,
            "ticks": "",
            "zerolinecolor": "white"
           }
          },
          "shapedefaults": {
           "line": {
            "color": "#2a3f5f"
           }
          },
          "ternary": {
           "aaxis": {
            "gridcolor": "white",
            "linecolor": "white",
            "ticks": ""
           },
           "baxis": {
            "gridcolor": "white",
            "linecolor": "white",
            "ticks": ""
           },
           "bgcolor": "#E5ECF6",
           "caxis": {
            "gridcolor": "white",
            "linecolor": "white",
            "ticks": ""
           }
          },
          "title": {
           "x": 0.05
          },
          "xaxis": {
           "automargin": true,
           "gridcolor": "white",
           "linecolor": "white",
           "ticks": "",
           "title": {
            "standoff": 15
           },
           "zerolinecolor": "white",
           "zerolinewidth": 2
          },
          "yaxis": {
           "automargin": true,
           "gridcolor": "white",
           "linecolor": "white",
           "ticks": "",
           "title": {
            "standoff": 15
           },
           "zerolinecolor": "white",
           "zerolinewidth": 2
          }
         }
        }
       }
      },
      "image/png": "[encoded data removed]",
      "text/html": [
       "<div>                            <div id=\"8b60850f-e585-4e0a-8bba-a88133e12918\" class=\"plotly-graph-div\" style=\"height:525px; width:100%;\"></div>            <script type=\"text/javascript\">                require([\"plotly\"], function(Plotly) {                    window.PLOTLYENV=window.PLOTLYENV || {};                                    if (document.getElementById(\"8b60850f-e585-4e0a-8bba-a88133e12918\")) {                    Plotly.newPlot(                        \"8b60850f-e585-4e0a-8bba-a88133e12918\",                        [{\"colorscale\":[[0.0,\"#636efa\"],[1.0,\"#636efa\"]],\"geo\":\"geo\",\"hovertemplate\":\"\\u003cb\\u003e%{hovertext}\\u003c\\u002fb\\u003e\\u003cbr\\u003e\\u003cbr\\u003e2010 [YR2010]=..\\u003cbr\\u003eCountry Code=%{location}\\u003cextra\\u003e\\u003c\\u002fextra\\u003e\",\"hovertext\":[\"Afghanistan\",\"Africa Eastern and Southern\",\"Africa Western and Central\",\"American Samoa\",\"Andorra\",\"Armenia\",\"Bahrain\",\"Bermuda\",\"Bosnia and Herzegovina\",\"Botswana\",\"Brazil\",\"British Virgin Islands\",\"Brunei Darussalam\",\"Cameroon\",\"Canada\",\"Cayman Islands\",\"Chad\",\"Channel Islands\",\"China\",\"Comoros\",\"Congo, Dem. Rep.\",\"Costa Rica\",\"Cote d'Ivoire\",\"Curacao\",\"Djibouti\",\"Dominica\",\"Faroe Islands\",\"Fiji\",\"Fragile and conflict affected situations\",\"French Polynesia\",\"Gabon\",\"Georgia\",\"Ghana\",\"Gibraltar\",\"Greenland\",\"Grenada\",\"Guam\",\"Haiti\",\"Heavily indebted poor countries (HIPC)\",\"Hong Kong SAR, China\",\"IBRD only\",\"IDA blend\",\"IDA only\",\"IDA total\",\"Iraq\",\"Isle of Man\",\"Jamaica\",\"Japan\",\"Kenya\",\"Kiribati\",\"Korea, Dem. People's Rep.\",\"Kosovo\",\"Lebanon\",\"Liberia\",\"Libya\",\"Low income\",\"Madagascar\",\"Malawi\",\"Maldives\",\"Malta\",\"Marshall Islands\",\"Micronesia, Fed. Sts.\",\"Monaco\",\"Montenegro\",\"Nauru\",\"Nepal\",\"New Caledonia\",\"New Zealand\",\"Northern Mariana Islands\",\"Not classified\",\"Oman\",\"Palau\",\"Papua New Guinea\",\"Philippines\",\"Pre-demographic dividend\",\"Russian Federation\",\"Rwanda\",\"San Marino\",\"Seychelles\",\"Sierra Leone\",\"Singapore\",\"Sint Maarten (Dutch part)\",\"Small states\",\"Solomon Islands\",\"Somalia\",\"South Africa\",\"South Sudan\",\"St. Lucia\",\"St. Martin (French part)\",\"Sub-Saharan Africa\",\"Sub-Saharan Africa (excluding high income)\",\"Sub-Saharan Africa (IDA & IBRD countries)\",\"Sudan\",\"Thailand\",\"Togo\",\"Tonga\",\"Turkmenistan\",\"Turks and Caicos Islands\",\"Tuvalu\",\"United Arab Emirates\",\"Vanuatu\",\"Virgin Islands (U.S.)\",\"Zimbabwe\"],\"locations\":[\"AFG\",\"AFE\",\"AFW\",\"ASM\",\"AND\",\"ARM\",\"BHR\",\"BMU\",\"BIH\",\"BWA\",\"BRA\",\"VGB\",\"BRN\",\"CMR\",\"CAN\",\"CYM\",\"TCD\",\"CHI\",\"CHN\",\"COM\",\"COD\",\"CRI\",\"CIV\",\"CUW\",\"DJI\",\"DMA\",\"FRO\",\"FJI\",\"FCS\",\"PYF\",\"GAB\",\"GEO\",\"GHA\",\"GIB\",\"GRL\",\"GRD\",\"GUM\",\"HTI\",\"HPC\",\"HKG\",\"IBD\",\"IDB\",\"IDX\",\"IDA\",\"IRQ\",\"IMN\",\"JAM\",\"JPN\",\"KEN\",\"KIR\",\"PRK\",\"XKX\",\"LBN\",\"LBR\",\"LBY\",\"LIC\",\"MDG\",\"MWI\",\"MDV\",\"MLT\",\"MHL\",\"FSM\",\"MCO\",\"MNE\",\"NRU\",\"NPL\",\"NCL\",\"NZL\",\"MNP\",\"INX\",\"OMN\",\"PLW\",\"PNG\",\"PHL\",\"PRE\",\"RUS\",\"RWA\",\"SMR\",\"SYC\",\"SLE\",\"SGP\",\"SXM\",\"SST\",\"SLB\",\"SOM\",\"ZAF\",\"SSD\",\"LCA\",\"MAF\",\"SSF\",\"SSA\",\"TSS\",\"SDN\",\"THA\",\"TGO\",\"TON\",\"TKM\",\"TCA\",\"TUV\",\"ARE\",\"VUT\",\"VIR\",\"ZWE\"],\"name\":\"..\",\"showlegend\":true,\"showscale\":false,\"z\":[1,1,1,1,1,1,1,1,1,1,1,1,1,1,1,1,1,1,1,1,1,1,1,1,1,1,1,1,1,1,1,1,1,1,1,1,1,1,1,1,1,1,1,1,1,1,1,1,1,1,1,1,1,1,1,1,1,1,1,1,1,1,1,1,1,1,1,1,1,1,1,1,1,1,1,1,1,1,1,1,1,1,1,1,1,1,1,1,1,1,1,1,1,1,1,1,1,1,1,1,1,1,1],\"type\":\"choropleth\"},{\"colorscale\":[[0.0,\"#EF553B\"],[1.0,\"#EF553B\"]],\"geo\":\"geo\",\"hovertemplate\":\"\\u003cb\\u003e%{hovertext}\\u003c\\u002fb\\u003e\\u003cbr\\u003e\\u003cbr\\u003e2010 [YR2010]=85.95611\\u003cbr\\u003eCountry Code=%{location}\\u003cextra\\u003e\\u003c\\u002fextra\\u003e\",\"hovertext\":[\"Albania\"],\"locations\":[\"ALB\"],\"name\":\"85.95611\",\"showlegend\":true,\"showscale\":false,\"z\":[1],\"type\":\"choropleth\"},{\"colorscale\":[[0.0,\"#00cc96\"],[1.0,\"#00cc96\"]],\"geo\":\"geo\",\"hovertemplate\":\"\\u003cb\\u003e%{hovertext}\\u003c\\u002fb\\u003e\\u003cbr\\u003e\\u003cbr\\u003e2010 [YR2010]=97.23353\\u003cbr\\u003eCountry Code=%{location}\\u003cextra\\u003e\\u003c\\u002fextra\\u003e\",\"hovertext\":[\"Algeria\"],\"locations\":[\"DZA\"],\"name\":\"97.23353\",\"showlegend\":true,\"showscale\":false,\"z\":[1],\"type\":\"choropleth\"},{\"colorscale\":[[0.0,\"#ab63fa\"],[1.0,\"#ab63fa\"]],\"geo\":\"geo\",\"hovertemplate\":\"\\u003cb\\u003e%{hovertext}\\u003c\\u002fb\\u003e\\u003cbr\\u003e\\u003cbr\\u003e2010 [YR2010]=75.80242\\u003cbr\\u003eCountry Code=%{location}\\u003cextra\\u003e\\u003c\\u002fextra\\u003e\",\"hovertext\":[\"Angola\"],\"locations\":[\"AGO\"],\"name\":\"75.80242\",\"showlegend\":true,\"showscale\":false,\"z\":[1],\"type\":\"choropleth\"},{\"colorscale\":[[0.0,\"#FFA15A\"],[1.0,\"#FFA15A\"]],\"geo\":\"geo\",\"hovertemplate\":\"\\u003cb\\u003e%{hovertext}\\u003c\\u002fb\\u003e\\u003cbr\\u003e\\u003cbr\\u003e2010 [YR2010]=95.1015\\u003cbr\\u003eCountry Code=%{location}\\u003cextra\\u003e\\u003c\\u002fextra\\u003e\",\"hovertext\":[\"Antigua and Barbuda\"],\"locations\":[\"ATG\"],\"name\":\"95.1015\",\"showlegend\":true,\"showscale\":false,\"z\":[1],\"type\":\"choropleth\"},{\"colorscale\":[[0.0,\"#19d3f3\"],[1.0,\"#19d3f3\"]],\"geo\":\"geo\",\"hovertemplate\":\"\\u003cb\\u003e%{hovertext}\\u003c\\u002fb\\u003e\\u003cbr\\u003e\\u003cbr\\u003e2010 [YR2010]=84.13909\\u003cbr\\u003eCountry Code=%{location}\\u003cextra\\u003e\\u003c\\u002fextra\\u003e\",\"hovertext\":[\"Arab World\"],\"locations\":[\"ARB\"],\"name\":\"84.13909\",\"showlegend\":true,\"showscale\":false,\"z\":[1],\"type\":\"choropleth\"},{\"colorscale\":[[0.0,\"#FF6692\"],[1.0,\"#FF6692\"]],\"geo\":\"geo\",\"hovertemplate\":\"\\u003cb\\u003e%{hovertext}\\u003c\\u002fb\\u003e\\u003cbr\\u003e\\u003cbr\\u003e2010 [YR2010]=98.7319\\u003cbr\\u003eCountry Code=%{location}\\u003cextra\\u003e\\u003c\\u002fextra\\u003e\",\"hovertext\":[\"Argentina\"],\"locations\":[\"ARG\"],\"name\":\"98.7319\",\"showlegend\":true,\"showscale\":false,\"z\":[1],\"type\":\"choropleth\"},{\"colorscale\":[[0.0,\"#B6E880\"],[1.0,\"#B6E880\"]],\"geo\":\"geo\",\"hovertemplate\":\"\\u003cb\\u003e%{hovertext}\\u003c\\u002fb\\u003e\\u003cbr\\u003e\\u003cbr\\u003e2010 [YR2010]=98.91975\\u003cbr\\u003eCountry Code=%{location}\\u003cextra\\u003e\\u003c\\u002fextra\\u003e\",\"hovertext\":[\"Aruba\"],\"locations\":[\"ABW\"],\"name\":\"98.91975\",\"showlegend\":true,\"showscale\":false,\"z\":[1],\"type\":\"choropleth\"},{\"colorscale\":[[0.0,\"#FF97FF\"],[1.0,\"#FF97FF\"]],\"geo\":\"geo\",\"hovertemplate\":\"\\u003cb\\u003e%{hovertext}\\u003c\\u002fb\\u003e\\u003cbr\\u003e\\u003cbr\\u003e2010 [YR2010]=96.98847\\u003cbr\\u003eCountry Code=%{location}\\u003cextra\\u003e\\u003c\\u002fextra\\u003e\",\"hovertext\":[\"Australia\"],\"locations\":[\"AUS\"],\"name\":\"96.98847\",\"showlegend\":true,\"showscale\":false,\"z\":[1],\"type\":\"choropleth\"},{\"colorscale\":[[0.0,\"#FECB52\"],[1.0,\"#FECB52\"]],\"geo\":\"geo\",\"hovertemplate\":\"\\u003cb\\u003e%{hovertext}\\u003c\\u002fb\\u003e\\u003cbr\\u003e\\u003cbr\\u003e2010 [YR2010]=87.36683\\u003cbr\\u003eCountry Code=%{location}\\u003cextra\\u003e\\u003c\\u002fextra\\u003e\",\"hovertext\":[\"Austria\"],\"locations\":[\"AUT\"],\"name\":\"87.36683\",\"showlegend\":true,\"showscale\":false,\"z\":[1],\"type\":\"choropleth\"},{\"colorscale\":[[0.0,\"#636efa\"],[1.0,\"#636efa\"]],\"geo\":\"geo\",\"hovertemplate\":\"\\u003cb\\u003e%{hovertext}\\u003c\\u002fb\\u003e\\u003cbr\\u003e\\u003cbr\\u003e2010 [YR2010]=84.44645\\u003cbr\\u003eCountry Code=%{location}\\u003cextra\\u003e\\u003c\\u002fextra\\u003e\",\"hovertext\":[\"Azerbaijan\"],\"locations\":[\"AZE\"],\"name\":\"84.44645\",\"showlegend\":true,\"showscale\":false,\"z\":[1],\"type\":\"choropleth\"},{\"colorscale\":[[0.0,\"#EF553B\"],[1.0,\"#EF553B\"]],\"geo\":\"geo\",\"hovertemplate\":\"\\u003cb\\u003e%{hovertext}\\u003c\\u002fb\\u003e\\u003cbr\\u003e\\u003cbr\\u003e2010 [YR2010]=80.42244\\u003cbr\\u003eCountry Code=%{location}\\u003cextra\\u003e\\u003c\\u002fextra\\u003e\",\"hovertext\":[\"Bahamas, The\"],\"locations\":[\"BHS\"],\"name\":\"80.42244\",\"showlegend\":true,\"showscale\":false,\"z\":[1],\"type\":\"choropleth\"},{\"colorscale\":[[0.0,\"#00cc96\"],[1.0,\"#00cc96\"]],\"geo\":\"geo\",\"hovertemplate\":\"\\u003cb\\u003e%{hovertext}\\u003c\\u002fb\\u003e\\u003cbr\\u003e\\u003cbr\\u003e2010 [YR2010]=90.53203\\u003cbr\\u003eCountry Code=%{location}\\u003cextra\\u003e\\u003c\\u002fextra\\u003e\",\"hovertext\":[\"Bangladesh\"],\"locations\":[\"BGD\"],\"name\":\"90.53203\",\"showlegend\":true,\"showscale\":false,\"z\":[1],\"type\":\"choropleth\"},{\"colorscale\":[[0.0,\"#ab63fa\"],[1.0,\"#ab63fa\"]],\"geo\":\"geo\",\"hovertemplate\":\"\\u003cb\\u003e%{hovertext}\\u003c\\u002fb\\u003e\\u003cbr\\u003e\\u003cbr\\u003e2010 [YR2010]=94.95407\\u003cbr\\u003eCountry Code=%{location}\\u003cextra\\u003e\\u003c\\u002fextra\\u003e\",\"hovertext\":[\"Barbados\"],\"locations\":[\"BRB\"],\"name\":\"94.95407\",\"showlegend\":true,\"showscale\":false,\"z\":[1],\"type\":\"choropleth\"},{\"colorscale\":[[0.0,\"#FFA15A\"],[1.0,\"#FFA15A\"]],\"geo\":\"geo\",\"hovertemplate\":\"\\u003cb\\u003e%{hovertext}\\u003c\\u002fb\\u003e\\u003cbr\\u003e\\u003cbr\\u003e2010 [YR2010]=91.05012\\u003cbr\\u003eCountry Code=%{location}\\u003cextra\\u003e\\u003c\\u002fextra\\u003e\",\"hovertext\":[\"Belarus\"],\"locations\":[\"BLR\"],\"name\":\"91.05012\",\"showlegend\":true,\"showscale\":false,\"z\":[1],\"type\":\"choropleth\"},{\"colorscale\":[[0.0,\"#19d3f3\"],[1.0,\"#19d3f3\"]],\"geo\":\"geo\",\"hovertemplate\":\"\\u003cb\\u003e%{hovertext}\\u003c\\u002fb\\u003e\\u003cbr\\u003e\\u003cbr\\u003e2010 [YR2010]=97.25467\\u003cbr\\u003eCountry Code=%{location}\\u003cextra\\u003e\\u003c\\u002fextra\\u003e\",\"hovertext\":[\"Belgium\"],\"locations\":[\"BEL\"],\"name\":\"97.25467\",\"showlegend\":true,\"showscale\":false,\"z\":[1],\"type\":\"choropleth\"},{\"colorscale\":[[0.0,\"#FF6692\"],[1.0,\"#FF6692\"]],\"geo\":\"geo\",\"hovertemplate\":\"\\u003cb\\u003e%{hovertext}\\u003c\\u002fb\\u003e\\u003cbr\\u003e\\u003cbr\\u003e2010 [YR2010]=95.41596\\u003cbr\\u003eCountry Code=%{location}\\u003cextra\\u003e\\u003c\\u002fextra\\u003e\",\"hovertext\":[\"Belize\"],\"locations\":[\"BLZ\"],\"name\":\"95.41596\",\"showlegend\":true,\"showscale\":false,\"z\":[1],\"type\":\"choropleth\"},{\"colorscale\":[[0.0,\"#B6E880\"],[1.0,\"#B6E880\"]],\"geo\":\"geo\",\"hovertemplate\":\"\\u003cb\\u003e%{hovertext}\\u003c\\u002fb\\u003e\\u003cbr\\u003e\\u003cbr\\u003e2010 [YR2010]=94.92278\\u003cbr\\u003eCountry Code=%{location}\\u003cextra\\u003e\\u003c\\u002fextra\\u003e\",\"hovertext\":[\"Benin\"],\"locations\":[\"BEN\"],\"name\":\"94.92278\",\"showlegend\":true,\"showscale\":false,\"z\":[1],\"type\":\"choropleth\"},{\"colorscale\":[[0.0,\"#FF97FF\"],[1.0,\"#FF97FF\"]],\"geo\":\"geo\",\"hovertemplate\":\"\\u003cb\\u003e%{hovertext}\\u003c\\u002fb\\u003e\\u003cbr\\u003e\\u003cbr\\u003e2010 [YR2010]=86.28016\\u003cbr\\u003eCountry Code=%{location}\\u003cextra\\u003e\\u003c\\u002fextra\\u003e\",\"hovertext\":[\"Bhutan\"],\"locations\":[\"BTN\"],\"name\":\"86.28016\",\"showlegend\":true,\"showscale\":false,\"z\":[1],\"type\":\"choropleth\"},{\"colorscale\":[[0.0,\"#FECB52\"],[1.0,\"#FECB52\"]],\"geo\":\"geo\",\"hovertemplate\":\"\\u003cb\\u003e%{hovertext}\\u003c\\u002fb\\u003e\\u003cbr\\u003e\\u003cbr\\u003e2010 [YR2010]=90.89746\\u003cbr\\u003eCountry Code=%{location}\\u003cextra\\u003e\\u003c\\u002fextra\\u003e\",\"hovertext\":[\"Bolivia\"],\"locations\":[\"BOL\"],\"name\":\"90.89746\",\"showlegend\":true,\"showscale\":false,\"z\":[1],\"type\":\"choropleth\"},{\"colorscale\":[[0.0,\"#636efa\"],[1.0,\"#636efa\"]],\"geo\":\"geo\",\"hovertemplate\":\"\\u003cb\\u003e%{hovertext}\\u003c\\u002fb\\u003e\\u003cbr\\u003e\\u003cbr\\u003e2010 [YR2010]=97.95684\\u003cbr\\u003eCountry Code=%{location}\\u003cextra\\u003e\\u003c\\u002fextra\\u003e\",\"hovertext\":[\"Bulgaria\"],\"locations\":[\"BGR\"],\"name\":\"97.95684\",\"showlegend\":true,\"showscale\":false,\"z\":[1],\"type\":\"choropleth\"},{\"colorscale\":[[0.0,\"#EF553B\"],[1.0,\"#EF553B\"]],\"geo\":\"geo\",\"hovertemplate\":\"\\u003cb\\u003e%{hovertext}\\u003c\\u002fb\\u003e\\u003cbr\\u003e\\u003cbr\\u003e2010 [YR2010]=59.91302\\u003cbr\\u003eCountry Code=%{location}\\u003cextra\\u003e\\u003c\\u002fextra\\u003e\",\"hovertext\":[\"Burkina Faso\"],\"locations\":[\"BFA\"],\"name\":\"59.91302\",\"showlegend\":true,\"showscale\":false,\"z\":[1],\"type\":\"choropleth\"},{\"colorscale\":[[0.0,\"#00cc96\"],[1.0,\"#00cc96\"]],\"geo\":\"geo\",\"hovertemplate\":\"\\u003cb\\u003e%{hovertext}\\u003c\\u002fb\\u003e\\u003cbr\\u003e\\u003cbr\\u003e2010 [YR2010]=95.37413\\u003cbr\\u003eCountry Code=%{location}\\u003cextra\\u003e\\u003c\\u002fextra\\u003e\",\"hovertext\":[\"Burundi\"],\"locations\":[\"BDI\"],\"name\":\"95.37413\",\"showlegend\":true,\"showscale\":false,\"z\":[1],\"type\":\"choropleth\"},{\"colorscale\":[[0.0,\"#ab63fa\"],[1.0,\"#ab63fa\"]],\"geo\":\"geo\",\"hovertemplate\":\"\\u003cb\\u003e%{hovertext}\\u003c\\u002fb\\u003e\\u003cbr\\u003e\\u003cbr\\u003e2010 [YR2010]=94.47048\\u003cbr\\u003eCountry Code=%{location}\\u003cextra\\u003e\\u003c\\u002fextra\\u003e\",\"hovertext\":[\"Cabo Verde\"],\"locations\":[\"CPV\"],\"name\":\"94.47048\",\"showlegend\":true,\"showscale\":false,\"z\":[1],\"type\":\"choropleth\"},{\"colorscale\":[[0.0,\"#FFA15A\"],[1.0,\"#FFA15A\"]],\"geo\":\"geo\",\"hovertemplate\":\"\\u003cb\\u003e%{hovertext}\\u003c\\u002fb\\u003e\\u003cbr\\u003e\\u003cbr\\u003e2010 [YR2010]=93.61728\\u003cbr\\u003eCountry Code=%{location}\\u003cextra\\u003e\\u003c\\u002fextra\\u003e\",\"hovertext\":[\"Cambodia\"],\"locations\":[\"KHM\"],\"name\":\"93.61728\",\"showlegend\":true,\"showscale\":false,\"z\":[1],\"type\":\"choropleth\"},{\"colorscale\":[[0.0,\"#19d3f3\"],[1.0,\"#19d3f3\"]],\"geo\":\"geo\",\"hovertemplate\":\"\\u003cb\\u003e%{hovertext}\\u003c\\u002fb\\u003e\\u003cbr\\u003e\\u003cbr\\u003e2010 [YR2010]=90.52427\\u003cbr\\u003eCountry Code=%{location}\\u003cextra\\u003e\\u003c\\u002fextra\\u003e\",\"hovertext\":[\"Caribbean small states\"],\"locations\":[\"CSS\"],\"name\":\"90.52427\",\"showlegend\":true,\"showscale\":false,\"z\":[1],\"type\":\"choropleth\"},{\"colorscale\":[[0.0,\"#FF6692\"],[1.0,\"#FF6692\"]],\"geo\":\"geo\",\"hovertemplate\":\"\\u003cb\\u003e%{hovertext}\\u003c\\u002fb\\u003e\\u003cbr\\u003e\\u003cbr\\u003e2010 [YR2010]=65.95599\\u003cbr\\u003eCountry Code=%{location}\\u003cextra\\u003e\\u003c\\u002fextra\\u003e\",\"hovertext\":[\"Central African Republic\"],\"locations\":[\"CAF\"],\"name\":\"65.95599\",\"showlegend\":true,\"showscale\":false,\"z\":[1],\"type\":\"choropleth\"},{\"colorscale\":[[0.0,\"#B6E880\"],[1.0,\"#B6E880\"]],\"geo\":\"geo\",\"hovertemplate\":\"\\u003cb\\u003e%{hovertext}\\u003c\\u002fb\\u003e\\u003cbr\\u003e\\u003cbr\\u003e2010 [YR2010]=92.95217\\u003cbr\\u003eCountry Code=%{location}\\u003cextra\\u003e\\u003c\\u002fextra\\u003e\",\"hovertext\":[\"Central Europe and the Baltics\"],\"locations\":[\"CEB\"],\"name\":\"92.95217\",\"showlegend\":true,\"showscale\":false,\"z\":[1],\"type\":\"choropleth\"},{\"colorscale\":[[0.0,\"#FF97FF\"],[1.0,\"#FF97FF\"]],\"geo\":\"geo\",\"hovertemplate\":\"\\u003cb\\u003e%{hovertext}\\u003c\\u002fb\\u003e\\u003cbr\\u003e\\u003cbr\\u003e2010 [YR2010]=95.45718\\u003cbr\\u003eCountry Code=%{location}\\u003cextra\\u003e\\u003c\\u002fextra\\u003e\",\"hovertext\":[\"Chile\"],\"locations\":[\"CHL\"],\"name\":\"95.45718\",\"showlegend\":true,\"showscale\":false,\"z\":[1],\"type\":\"choropleth\"},{\"colorscale\":[[0.0,\"#FECB52\"],[1.0,\"#FECB52\"]],\"geo\":\"geo\",\"hovertemplate\":\"\\u003cb\\u003e%{hovertext}\\u003c\\u002fb\\u003e\\u003cbr\\u003e\\u003cbr\\u003e2010 [YR2010]=91.85368\\u003cbr\\u003eCountry Code=%{location}\\u003cextra\\u003e\\u003c\\u002fextra\\u003e\",\"hovertext\":[\"Colombia\"],\"locations\":[\"COL\"],\"name\":\"91.85368\",\"showlegend\":true,\"showscale\":false,\"z\":[1],\"type\":\"choropleth\"},{\"colorscale\":[[0.0,\"#636efa\"],[1.0,\"#636efa\"]],\"geo\":\"geo\",\"hovertemplate\":\"\\u003cb\\u003e%{hovertext}\\u003c\\u002fb\\u003e\\u003cbr\\u003e\\u003cbr\\u003e2010 [YR2010]=86.245\\u003cbr\\u003eCountry Code=%{location}\\u003cextra\\u003e\\u003c\\u002fextra\\u003e\",\"hovertext\":[\"Congo, Rep.\"],\"locations\":[\"COG\"],\"name\":\"86.245\",\"showlegend\":true,\"showscale\":false,\"z\":[1],\"type\":\"choropleth\"},{\"colorscale\":[[0.0,\"#EF553B\"],[1.0,\"#EF553B\"]],\"geo\":\"geo\",\"hovertemplate\":\"\\u003cb\\u003e%{hovertext}\\u003c\\u002fb\\u003e\\u003cbr\\u003e\\u003cbr\\u003e2010 [YR2010]=85.81516\\u003cbr\\u003eCountry Code=%{location}\\u003cextra\\u003e\\u003c\\u002fextra\\u003e\",\"hovertext\":[\"Croatia\"],\"locations\":[\"HRV\"],\"name\":\"85.81516\",\"showlegend\":true,\"showscale\":false,\"z\":[1],\"type\":\"choropleth\"},{\"colorscale\":[[0.0,\"#00cc96\"],[1.0,\"#00cc96\"]],\"geo\":\"geo\",\"hovertemplate\":\"\\u003cb\\u003e%{hovertext}\\u003c\\u002fb\\u003e\\u003cbr\\u003e\\u003cbr\\u003e2010 [YR2010]=98.55296\\u003cbr\\u003eCountry Code=%{location}\\u003cextra\\u003e\\u003c\\u002fextra\\u003e\",\"hovertext\":[\"Cuba\"],\"locations\":[\"CUB\"],\"name\":\"98.55296\",\"showlegend\":true,\"showscale\":false,\"z\":[1],\"type\":\"choropleth\"},{\"colorscale\":[[0.0,\"#ab63fa\"],[1.0,\"#ab63fa\"]],\"geo\":\"geo\",\"hovertemplate\":\"\\u003cb\\u003e%{hovertext}\\u003c\\u002fb\\u003e\\u003cbr\\u003e\\u003cbr\\u003e2010 [YR2010]=98.96982\\u003cbr\\u003eCountry Code=%{location}\\u003cextra\\u003e\\u003c\\u002fextra\\u003e\",\"hovertext\":[\"Cyprus\"],\"locations\":[\"CYP\"],\"name\":\"98.96982\",\"showlegend\":true,\"showscale\":false,\"z\":[1],\"type\":\"choropleth\"},{\"colorscale\":[[0.0,\"#FFA15A\"],[1.0,\"#FFA15A\"]],\"geo\":\"geo\",\"hovertemplate\":\"\\u003cb\\u003e%{hovertext}\\u003c\\u002fb\\u003e\\u003cbr\\u003e\\u003cbr\\u003e2010 [YR2010]=88.90289\\u003cbr\\u003eCountry Code=%{location}\\u003cextra\\u003e\\u003c\\u002fextra\\u003e\",\"hovertext\":[\"Czechia\"],\"locations\":[\"CZE\"],\"name\":\"88.90289\",\"showlegend\":true,\"showscale\":false,\"z\":[1],\"type\":\"choropleth\"},{\"colorscale\":[[0.0,\"#19d3f3\"],[1.0,\"#19d3f3\"]],\"geo\":\"geo\",\"hovertemplate\":\"\\u003cb\\u003e%{hovertext}\\u003c\\u002fb\\u003e\\u003cbr\\u003e\\u003cbr\\u003e2010 [YR2010]=95.89593\\u003cbr\\u003eCountry Code=%{location}\\u003cextra\\u003e\\u003c\\u002fextra\\u003e\",\"hovertext\":[\"Denmark\"],\"locations\":[\"DNK\"],\"name\":\"95.89593\",\"showlegend\":true,\"showscale\":false,\"z\":[1],\"type\":\"choropleth\"},{\"colorscale\":[[0.0,\"#FF6692\"],[1.0,\"#FF6692\"]],\"geo\":\"geo\",\"hovertemplate\":\"\\u003cb\\u003e%{hovertext}\\u003c\\u002fb\\u003e\\u003cbr\\u003e\\u003cbr\\u003e2010 [YR2010]=91.87024\\u003cbr\\u003eCountry Code=%{location}\\u003cextra\\u003e\\u003c\\u002fextra\\u003e\",\"hovertext\":[\"Dominican Republic\"],\"locations\":[\"DOM\"],\"name\":\"91.87024\",\"showlegend\":true,\"showscale\":false,\"z\":[1],\"type\":\"choropleth\"},{\"colorscale\":[[0.0,\"#B6E880\"],[1.0,\"#B6E880\"]],\"geo\":\"geo\",\"hovertemplate\":\"\\u003cb\\u003e%{hovertext}\\u003c\\u002fb\\u003e\\u003cbr\\u003e\\u003cbr\\u003e2010 [YR2010]=89.24961\\u003cbr\\u003eCountry Code=%{location}\\u003cextra\\u003e\\u003c\\u002fextra\\u003e\",\"hovertext\":[\"Early-demographic dividend\"],\"locations\":[\"EAR\"],\"name\":\"89.24961\",\"showlegend\":true,\"showscale\":false,\"z\":[1],\"type\":\"choropleth\"},{\"colorscale\":[[0.0,\"#FF97FF\"],[1.0,\"#FF97FF\"]],\"geo\":\"geo\",\"hovertemplate\":\"\\u003cb\\u003e%{hovertext}\\u003c\\u002fb\\u003e\\u003cbr\\u003e\\u003cbr\\u003e2010 [YR2010]=95.50824\\u003cbr\\u003eCountry Code=%{location}\\u003cextra\\u003e\\u003c\\u002fextra\\u003e\",\"hovertext\":[\"East Asia & Pacific\"],\"locations\":[\"EAS\"],\"name\":\"95.50824\",\"showlegend\":true,\"showscale\":false,\"z\":[1],\"type\":\"choropleth\"},{\"colorscale\":[[0.0,\"#FECB52\"],[1.0,\"#FECB52\"]],\"geo\":\"geo\",\"hovertemplate\":\"\\u003cb\\u003e%{hovertext}\\u003c\\u002fb\\u003e\\u003cbr\\u003e\\u003cbr\\u003e2010 [YR2010]=95.49505\\u003cbr\\u003eCountry Code=%{location}\\u003cextra\\u003e\\u003c\\u002fextra\\u003e\",\"hovertext\":[\"East Asia & Pacific (excluding high income)\"],\"locations\":[\"EAP\"],\"name\":\"95.49505\",\"showlegend\":true,\"showscale\":false,\"z\":[1],\"type\":\"choropleth\"},{\"colorscale\":[[0.0,\"#636efa\"],[1.0,\"#636efa\"]],\"geo\":\"geo\",\"hovertemplate\":\"\\u003cb\\u003e%{hovertext}\\u003c\\u002fb\\u003e\\u003cbr\\u003e\\u003cbr\\u003e2010 [YR2010]=95.51326\\u003cbr\\u003eCountry Code=%{location}\\u003cextra\\u003e\\u003c\\u002fextra\\u003e\",\"hovertext\":[\"East Asia & Pacific (IDA & IBRD countries)\"],\"locations\":[\"TEA\"],\"name\":\"95.51326\",\"showlegend\":true,\"showscale\":false,\"z\":[1],\"type\":\"choropleth\"},{\"colorscale\":[[0.0,\"#EF553B\"],[1.0,\"#EF553B\"]],\"geo\":\"geo\",\"hovertemplate\":\"\\u003cb\\u003e%{hovertext}\\u003c\\u002fb\\u003e\\u003cbr\\u003e\\u003cbr\\u003e2010 [YR2010]=92.62287\\u003cbr\\u003eCountry Code=%{location}\\u003cextra\\u003e\\u003c\\u002fextra\\u003e\",\"hovertext\":[\"Ecuador\"],\"locations\":[\"ECU\"],\"name\":\"92.62287\",\"showlegend\":true,\"showscale\":false,\"z\":[1],\"type\":\"choropleth\"},{\"colorscale\":[[0.0,\"#00cc96\"],[1.0,\"#00cc96\"]],\"geo\":\"geo\",\"hovertemplate\":\"\\u003cb\\u003e%{hovertext}\\u003c\\u002fb\\u003e\\u003cbr\\u003e\\u003cbr\\u003e2010 [YR2010]=95.94726\\u003cbr\\u003eCountry Code=%{location}\\u003cextra\\u003e\\u003c\\u002fextra\\u003e\",\"hovertext\":[\"Egypt, Arab Rep.\"],\"locations\":[\"EGY\"],\"name\":\"95.94726\",\"showlegend\":true,\"showscale\":false,\"z\":[1],\"type\":\"choropleth\"},{\"colorscale\":[[0.0,\"#ab63fa\"],[1.0,\"#ab63fa\"]],\"geo\":\"geo\",\"hovertemplate\":\"\\u003cb\\u003e%{hovertext}\\u003c\\u002fb\\u003e\\u003cbr\\u003e\\u003cbr\\u003e2010 [YR2010]=94.46109\\u003cbr\\u003eCountry Code=%{location}\\u003cextra\\u003e\\u003c\\u002fextra\\u003e\",\"hovertext\":[\"El Salvador\"],\"locations\":[\"SLV\"],\"name\":\"94.46109\",\"showlegend\":true,\"showscale\":false,\"z\":[1],\"type\":\"choropleth\"},{\"colorscale\":[[0.0,\"#FFA15A\"],[1.0,\"#FFA15A\"]],\"geo\":\"geo\",\"hovertemplate\":\"\\u003cb\\u003e%{hovertext}\\u003c\\u002fb\\u003e\\u003cbr\\u003e\\u003cbr\\u003e2010 [YR2010]=45.07741\\u003cbr\\u003eCountry Code=%{location}\\u003cextra\\u003e\\u003c\\u002fextra\\u003e\",\"hovertext\":[\"Equatorial Guinea\"],\"locations\":[\"GNQ\"],\"name\":\"45.07741\",\"showlegend\":true,\"showscale\":false,\"z\":[1],\"type\":\"choropleth\"},{\"colorscale\":[[0.0,\"#19d3f3\"],[1.0,\"#19d3f3\"]],\"geo\":\"geo\",\"hovertemplate\":\"\\u003cb\\u003e%{hovertext}\\u003c\\u002fb\\u003e\\u003cbr\\u003e\\u003cbr\\u003e2010 [YR2010]=62.77906\\u003cbr\\u003eCountry Code=%{location}\\u003cextra\\u003e\\u003c\\u002fextra\\u003e\",\"hovertext\":[\"Eritrea\"],\"locations\":[\"ERI\"],\"name\":\"62.77906\",\"showlegend\":true,\"showscale\":false,\"z\":[1],\"type\":\"choropleth\"},{\"colorscale\":[[0.0,\"#FF6692\"],[1.0,\"#FF6692\"]],\"geo\":\"geo\",\"hovertemplate\":\"\\u003cb\\u003e%{hovertext}\\u003c\\u002fb\\u003e\\u003cbr\\u003e\\u003cbr\\u003e2010 [YR2010]=96.75183\\u003cbr\\u003eCountry Code=%{location}\\u003cextra\\u003e\\u003c\\u002fextra\\u003e\",\"hovertext\":[\"Estonia\"],\"locations\":[\"EST\"],\"name\":\"96.75183\",\"showlegend\":true,\"showscale\":false,\"z\":[1],\"type\":\"choropleth\"},{\"colorscale\":[[0.0,\"#B6E880\"],[1.0,\"#B6E880\"]],\"geo\":\"geo\",\"hovertemplate\":\"\\u003cb\\u003e%{hovertext}\\u003c\\u002fb\\u003e\\u003cbr\\u003e\\u003cbr\\u003e2010 [YR2010]=87.79701\\u003cbr\\u003eCountry Code=%{location}\\u003cextra\\u003e\\u003c\\u002fextra\\u003e\",\"hovertext\":[\"Eswatini\"],\"locations\":[\"SWZ\"],\"name\":\"87.79701\",\"showlegend\":true,\"showscale\":false,\"z\":[1],\"type\":\"choropleth\"},{\"colorscale\":[[0.0,\"#FF97FF\"],[1.0,\"#FF97FF\"]],\"geo\":\"geo\",\"hovertemplate\":\"\\u003cb\\u003e%{hovertext}\\u003c\\u002fb\\u003e\\u003cbr\\u003e\\u003cbr\\u003e2010 [YR2010]=73.35168\\u003cbr\\u003eCountry Code=%{location}\\u003cextra\\u003e\\u003c\\u002fextra\\u003e\",\"hovertext\":[\"Ethiopia\"],\"locations\":[\"ETH\"],\"name\":\"73.35168\",\"showlegend\":true,\"showscale\":false,\"z\":[1],\"type\":\"choropleth\"},{\"colorscale\":[[0.0,\"#FECB52\"],[1.0,\"#FECB52\"]],\"geo\":\"geo\",\"hovertemplate\":\"\\u003cb\\u003e%{hovertext}\\u003c\\u002fb\\u003e\\u003cbr\\u003e\\u003cbr\\u003e2010 [YR2010]=97.61237\\u003cbr\\u003eCountry Code=%{location}\\u003cextra\\u003e\\u003c\\u002fextra\\u003e\",\"hovertext\":[\"Euro area\"],\"locations\":[\"EMU\"],\"name\":\"97.61237\",\"showlegend\":true,\"showscale\":false,\"z\":[1],\"type\":\"choropleth\"},{\"colorscale\":[[0.0,\"#636efa\"],[1.0,\"#636efa\"]],\"geo\":\"geo\",\"hovertemplate\":\"\\u003cb\\u003e%{hovertext}\\u003c\\u002fb\\u003e\\u003cbr\\u003e\\u003cbr\\u003e2010 [YR2010]=95.42895\\u003cbr\\u003eCountry Code=%{location}\\u003cextra\\u003e\\u003c\\u002fextra\\u003e\",\"hovertext\":[\"Europe & Central Asia\"],\"locations\":[\"ECS\"],\"name\":\"95.42895\",\"showlegend\":true,\"showscale\":false,\"z\":[1],\"type\":\"choropleth\"},{\"colorscale\":[[0.0,\"#EF553B\"],[1.0,\"#EF553B\"]],\"geo\":\"geo\",\"hovertemplate\":\"\\u003cb\\u003e%{hovertext}\\u003c\\u002fb\\u003e\\u003cbr\\u003e\\u003cbr\\u003e2010 [YR2010]=93.29969\\u003cbr\\u003eCountry Code=%{location}\\u003cextra\\u003e\\u003c\\u002fextra\\u003e\",\"hovertext\":[\"Europe & Central Asia (excluding high income)\"],\"locations\":[\"ECA\"],\"name\":\"93.29969\",\"showlegend\":true,\"showscale\":false,\"z\":[1],\"type\":\"choropleth\"},{\"colorscale\":[[0.0,\"#00cc96\"],[1.0,\"#00cc96\"]],\"geo\":\"geo\",\"hovertemplate\":\"\\u003cb\\u003e%{hovertext}\\u003c\\u002fb\\u003e\\u003cbr\\u003e\\u003cbr\\u003e2010 [YR2010]=93.36737\\u003cbr\\u003eCountry Code=%{location}\\u003cextra\\u003e\\u003c\\u002fextra\\u003e\",\"hovertext\":[\"Europe & Central Asia (IDA & IBRD countries)\"],\"locations\":[\"TEC\"],\"name\":\"93.36737\",\"showlegend\":true,\"showscale\":false,\"z\":[1],\"type\":\"choropleth\"},{\"colorscale\":[[0.0,\"#ab63fa\"],[1.0,\"#ab63fa\"]],\"geo\":\"geo\",\"hovertemplate\":\"\\u003cb\\u003e%{hovertext}\\u003c\\u002fb\\u003e\\u003cbr\\u003e\\u003cbr\\u003e2010 [YR2010]=96.93236\\u003cbr\\u003eCountry Code=%{location}\\u003cextra\\u003e\\u003c\\u002fextra\\u003e\",\"hovertext\":[\"European Union\"],\"locations\":[\"EUU\"],\"name\":\"96.93236\",\"showlegend\":true,\"showscale\":false,\"z\":[1],\"type\":\"choropleth\"},{\"colorscale\":[[0.0,\"#FFA15A\"],[1.0,\"#FFA15A\"]],\"geo\":\"geo\",\"hovertemplate\":\"\\u003cb\\u003e%{hovertext}\\u003c\\u002fb\\u003e\\u003cbr\\u003e\\u003cbr\\u003e2010 [YR2010]=98.21163\\u003cbr\\u003eCountry Code=%{location}\\u003cextra\\u003e\\u003c\\u002fextra\\u003e\",\"hovertext\":[\"Finland\"],\"locations\":[\"FIN\"],\"name\":\"98.21163\",\"showlegend\":true,\"showscale\":false,\"z\":[1],\"type\":\"choropleth\"},{\"colorscale\":[[0.0,\"#19d3f3\"],[1.0,\"#19d3f3\"]],\"geo\":\"geo\",\"hovertemplate\":\"\\u003cb\\u003e%{hovertext}\\u003c\\u002fb\\u003e\\u003cbr\\u003e\\u003cbr\\u003e2010 [YR2010]=97.35002\\u003cbr\\u003eCountry Code=%{location}\\u003cextra\\u003e\\u003c\\u002fextra\\u003e\",\"hovertext\":[\"France\"],\"locations\":[\"FRA\"],\"name\":\"97.35002\",\"showlegend\":true,\"showscale\":false,\"z\":[1],\"type\":\"choropleth\"},{\"colorscale\":[[0.0,\"#FF6692\"],[1.0,\"#FF6692\"]],\"geo\":\"geo\",\"hovertemplate\":\"\\u003cb\\u003e%{hovertext}\\u003c\\u002fb\\u003e\\u003cbr\\u003e\\u003cbr\\u003e2010 [YR2010]=63.27525\\u003cbr\\u003eCountry Code=%{location}\\u003cextra\\u003e\\u003c\\u002fextra\\u003e\",\"hovertext\":[\"Gambia, The\"],\"locations\":[\"GMB\"],\"name\":\"63.27525\",\"showlegend\":true,\"showscale\":false,\"z\":[1],\"type\":\"choropleth\"},{\"colorscale\":[[0.0,\"#B6E880\"],[1.0,\"#B6E880\"]],\"geo\":\"geo\",\"hovertemplate\":\"\\u003cb\\u003e%{hovertext}\\u003c\\u002fb\\u003e\\u003cbr\\u003e\\u003cbr\\u003e2010 [YR2010]=88.84321\\u003cbr\\u003eCountry Code=%{location}\\u003cextra\\u003e\\u003c\\u002fextra\\u003e\",\"hovertext\":[\"Germany\"],\"locations\":[\"DEU\"],\"name\":\"88.84321\",\"showlegend\":true,\"showscale\":false,\"z\":[1],\"type\":\"choropleth\"},{\"colorscale\":[[0.0,\"#FF97FF\"],[1.0,\"#FF97FF\"]],\"geo\":\"geo\",\"hovertemplate\":\"\\u003cb\\u003e%{hovertext}\\u003c\\u002fb\\u003e\\u003cbr\\u003e\\u003cbr\\u003e2010 [YR2010]=96.8096\\u003cbr\\u003eCountry Code=%{location}\\u003cextra\\u003e\\u003c\\u002fextra\\u003e\",\"hovertext\":[\"Greece\"],\"locations\":[\"GRC\"],\"name\":\"96.8096\",\"showlegend\":true,\"showscale\":false,\"z\":[1],\"type\":\"choropleth\"},{\"colorscale\":[[0.0,\"#FECB52\"],[1.0,\"#FECB52\"]],\"geo\":\"geo\",\"hovertemplate\":\"\\u003cb\\u003e%{hovertext}\\u003c\\u002fb\\u003e\\u003cbr\\u003e\\u003cbr\\u003e2010 [YR2010]=95.20853\\u003cbr\\u003eCountry Code=%{location}\\u003cextra\\u003e\\u003c\\u002fextra\\u003e\",\"hovertext\":[\"Guatemala\"],\"locations\":[\"GTM\"],\"name\":\"95.20853\",\"showlegend\":true,\"showscale\":false,\"z\":[1],\"type\":\"choropleth\"},{\"colorscale\":[[0.0,\"#636efa\"],[1.0,\"#636efa\"]],\"geo\":\"geo\",\"hovertemplate\":\"\\u003cb\\u003e%{hovertext}\\u003c\\u002fb\\u003e\\u003cbr\\u003e\\u003cbr\\u003e2010 [YR2010]=68.67825\\u003cbr\\u003eCountry Code=%{location}\\u003cextra\\u003e\\u003c\\u002fextra\\u003e\",\"hovertext\":[\"Guinea\"],\"locations\":[\"GIN\"],\"name\":\"68.67825\",\"showlegend\":true,\"showscale\":false,\"z\":[1],\"type\":\"choropleth\"},{\"colorscale\":[[0.0,\"#EF553B\"],[1.0,\"#EF553B\"]],\"geo\":\"geo\",\"hovertemplate\":\"\\u003cb\\u003e%{hovertext}\\u003c\\u002fb\\u003e\\u003cbr\\u003e\\u003cbr\\u003e2010 [YR2010]=71.25324\\u003cbr\\u003eCountry Code=%{location}\\u003cextra\\u003e\\u003c\\u002fextra\\u003e\",\"hovertext\":[\"Guinea-Bissau\"],\"locations\":[\"GNB\"],\"name\":\"71.25324\",\"showlegend\":true,\"showscale\":false,\"z\":[1],\"type\":\"choropleth\"},{\"colorscale\":[[0.0,\"#00cc96\"],[1.0,\"#00cc96\"]],\"geo\":\"geo\",\"hovertemplate\":\"\\u003cb\\u003e%{hovertext}\\u003c\\u002fb\\u003e\\u003cbr\\u003e\\u003cbr\\u003e2010 [YR2010]=91.70702\\u003cbr\\u003eCountry Code=%{location}\\u003cextra\\u003e\\u003c\\u002fextra\\u003e\",\"hovertext\":[\"Guyana\"],\"locations\":[\"GUY\"],\"name\":\"91.70702\",\"showlegend\":true,\"showscale\":false,\"z\":[1],\"type\":\"choropleth\"},{\"colorscale\":[[0.0,\"#ab63fa\"],[1.0,\"#ab63fa\"]],\"geo\":\"geo\",\"hovertemplate\":\"\\u003cb\\u003e%{hovertext}\\u003c\\u002fb\\u003e\\u003cbr\\u003e\\u003cbr\\u003e2010 [YR2010]=95.49749\\u003cbr\\u003eCountry Code=%{location}\\u003cextra\\u003e\\u003c\\u002fextra\\u003e\",\"hovertext\":[\"High income\"],\"locations\":[\"HIC\"],\"name\":\"95.49749\",\"showlegend\":true,\"showscale\":false,\"z\":[1],\"type\":\"choropleth\"},{\"colorscale\":[[0.0,\"#FFA15A\"],[1.0,\"#FFA15A\"]],\"geo\":\"geo\",\"hovertemplate\":\"\\u003cb\\u003e%{hovertext}\\u003c\\u002fb\\u003e\\u003cbr\\u003e\\u003cbr\\u003e2010 [YR2010]=84.76193\\u003cbr\\u003eCountry Code=%{location}\\u003cextra\\u003e\\u003c\\u002fextra\\u003e\",\"hovertext\":[\"Honduras\"],\"locations\":[\"HND\"],\"name\":\"84.76193\",\"showlegend\":true,\"showscale\":false,\"z\":[1],\"type\":\"choropleth\"},{\"colorscale\":[[0.0,\"#19d3f3\"],[1.0,\"#19d3f3\"]],\"geo\":\"geo\",\"hovertemplate\":\"\\u003cb\\u003e%{hovertext}\\u003c\\u002fb\\u003e\\u003cbr\\u003e\\u003cbr\\u003e2010 [YR2010]=92.05381\\u003cbr\\u003eCountry Code=%{location}\\u003cextra\\u003e\\u003c\\u002fextra\\u003e\",\"hovertext\":[\"Hungary\"],\"locations\":[\"HUN\"],\"name\":\"92.05381\",\"showlegend\":true,\"showscale\":false,\"z\":[1],\"type\":\"choropleth\"},{\"colorscale\":[[0.0,\"#FF6692\"],[1.0,\"#FF6692\"]],\"geo\":\"geo\",\"hovertemplate\":\"\\u003cb\\u003e%{hovertext}\\u003c\\u002fb\\u003e\\u003cbr\\u003e\\u003cbr\\u003e2010 [YR2010]=99.2208\\u003cbr\\u003eCountry Code=%{location}\\u003cextra\\u003e\\u003c\\u002fextra\\u003e\",\"hovertext\":[\"Iceland\"],\"locations\":[\"ISL\"],\"name\":\"99.2208\",\"showlegend\":true,\"showscale\":false,\"z\":[1],\"type\":\"choropleth\"},{\"colorscale\":[[0.0,\"#B6E880\"],[1.0,\"#B6E880\"]],\"geo\":\"geo\",\"hovertemplate\":\"\\u003cb\\u003e%{hovertext}\\u003c\\u002fb\\u003e\\u003cbr\\u003e\\u003cbr\\u003e2010 [YR2010]=87.81299\\u003cbr\\u003eCountry Code=%{location}\\u003cextra\\u003e\\u003c\\u002fextra\\u003e\",\"hovertext\":[\"IDA & IBRD total\"],\"locations\":[\"IBT\"],\"name\":\"87.81299\",\"showlegend\":true,\"showscale\":false,\"z\":[1],\"type\":\"choropleth\"},{\"colorscale\":[[0.0,\"#FF97FF\"],[1.0,\"#FF97FF\"]],\"geo\":\"geo\",\"hovertemplate\":\"\\u003cb\\u003e%{hovertext}\\u003c\\u002fb\\u003e\\u003cbr\\u003e\\u003cbr\\u003e2010 [YR2010]=90.95531\\u003cbr\\u003eCountry Code=%{location}\\u003cextra\\u003e\\u003c\\u002fextra\\u003e\",\"hovertext\":[\"India\"],\"locations\":[\"IND\"],\"name\":\"90.95531\",\"showlegend\":true,\"showscale\":false,\"z\":[1],\"type\":\"choropleth\"},{\"colorscale\":[[0.0,\"#FECB52\"],[1.0,\"#FECB52\"]],\"geo\":\"geo\",\"hovertemplate\":\"\\u003cb\\u003e%{hovertext}\\u003c\\u002fb\\u003e\\u003cbr\\u003e\\u003cbr\\u003e2010 [YR2010]=94.22952\\u003cbr\\u003eCountry Code=%{location}\\u003cextra\\u003e\\u003c\\u002fextra\\u003e\",\"hovertext\":[\"Indonesia\"],\"locations\":[\"IDN\"],\"name\":\"94.22952\",\"showlegend\":true,\"showscale\":false,\"z\":[1],\"type\":\"choropleth\"},{\"colorscale\":[[0.0,\"#636efa\"],[1.0,\"#636efa\"]],\"geo\":\"geo\",\"hovertemplate\":\"\\u003cb\\u003e%{hovertext}\\u003c\\u002fb\\u003e\\u003cbr\\u003e\\u003cbr\\u003e2010 [YR2010]=96.5537\\u003cbr\\u003eCountry Code=%{location}\\u003cextra\\u003e\\u003c\\u002fextra\\u003e\",\"hovertext\":[\"Iran, Islamic Rep.\"],\"locations\":[\"IRN\"],\"name\":\"96.5537\",\"showlegend\":true,\"showscale\":false,\"z\":[1],\"type\":\"choropleth\"},{\"colorscale\":[[0.0,\"#EF553B\"],[1.0,\"#EF553B\"]],\"geo\":\"geo\",\"hovertemplate\":\"\\u003cb\\u003e%{hovertext}\\u003c\\u002fb\\u003e\\u003cbr\\u003e\\u003cbr\\u003e2010 [YR2010]=95.20748\\u003cbr\\u003eCountry Code=%{location}\\u003cextra\\u003e\\u003c\\u002fextra\\u003e\",\"hovertext\":[\"Ireland\"],\"locations\":[\"IRL\"],\"name\":\"95.20748\",\"showlegend\":true,\"showscale\":false,\"z\":[1],\"type\":\"choropleth\"},{\"colorscale\":[[0.0,\"#00cc96\"],[1.0,\"#00cc96\"]],\"geo\":\"geo\",\"hovertemplate\":\"\\u003cb\\u003e%{hovertext}\\u003c\\u002fb\\u003e\\u003cbr\\u003e\\u003cbr\\u003e2010 [YR2010]=97.04351\\u003cbr\\u003eCountry Code=%{location}\\u003cextra\\u003e\\u003c\\u002fextra\\u003e\",\"hovertext\":[\"Israel\"],\"locations\":[\"ISR\"],\"name\":\"97.04351\",\"showlegend\":true,\"showscale\":false,\"z\":[1],\"type\":\"choropleth\"},{\"colorscale\":[[0.0,\"#ab63fa\"],[1.0,\"#ab63fa\"]],\"geo\":\"geo\",\"hovertemplate\":\"\\u003cb\\u003e%{hovertext}\\u003c\\u002fb\\u003e\\u003cbr\\u003e\\u003cbr\\u003e2010 [YR2010]=97.63938\\u003cbr\\u003eCountry Code=%{location}\\u003cextra\\u003e\\u003c\\u002fextra\\u003e\",\"hovertext\":[\"Italy\"],\"locations\":[\"ITA\"],\"name\":\"97.63938\",\"showlegend\":true,\"showscale\":false,\"z\":[1],\"type\":\"choropleth\"},{\"colorscale\":[[0.0,\"#FFA15A\"],[1.0,\"#FFA15A\"]],\"geo\":\"geo\",\"hovertemplate\":\"\\u003cb\\u003e%{hovertext}\\u003c\\u002fb\\u003e\\u003cbr\\u003e\\u003cbr\\u003e2010 [YR2010]=80.7257\\u003cbr\\u003eCountry Code=%{location}\\u003cextra\\u003e\\u003c\\u002fextra\\u003e\",\"hovertext\":[\"Jordan\"],\"locations\":[\"JOR\"],\"name\":\"80.7257\",\"showlegend\":true,\"showscale\":false,\"z\":[1],\"type\":\"choropleth\"},{\"colorscale\":[[0.0,\"#19d3f3\"],[1.0,\"#19d3f3\"]],\"geo\":\"geo\",\"hovertemplate\":\"\\u003cb\\u003e%{hovertext}\\u003c\\u002fb\\u003e\\u003cbr\\u003e\\u003cbr\\u003e2010 [YR2010]=89.45954\\u003cbr\\u003eCountry Code=%{location}\\u003cextra\\u003e\\u003c\\u002fextra\\u003e\",\"hovertext\":[\"Kazakhstan\"],\"locations\":[\"KAZ\"],\"name\":\"89.45954\",\"showlegend\":true,\"showscale\":false,\"z\":[1],\"type\":\"choropleth\"},{\"colorscale\":[[0.0,\"#FF6692\"],[1.0,\"#FF6692\"]],\"geo\":\"geo\",\"hovertemplate\":\"\\u003cb\\u003e%{hovertext}\\u003c\\u002fb\\u003e\\u003cbr\\u003e\\u003cbr\\u003e2010 [YR2010]=98.38177\\u003cbr\\u003eCountry Code=%{location}\\u003cextra\\u003e\\u003c\\u002fextra\\u003e\",\"hovertext\":[\"Korea, Rep.\"],\"locations\":[\"KOR\"],\"name\":\"98.38177\",\"showlegend\":true,\"showscale\":false,\"z\":[1],\"type\":\"choropleth\"},{\"colorscale\":[[0.0,\"#B6E880\"],[1.0,\"#B6E880\"]],\"geo\":\"geo\",\"hovertemplate\":\"\\u003cb\\u003e%{hovertext}\\u003c\\u002fb\\u003e\\u003cbr\\u003e\\u003cbr\\u003e2010 [YR2010]=92.3455\\u003cbr\\u003eCountry Code=%{location}\\u003cextra\\u003e\\u003c\\u002fextra\\u003e\",\"hovertext\":[\"Kuwait\"],\"locations\":[\"KWT\"],\"name\":\"92.3455\",\"showlegend\":true,\"showscale\":false,\"z\":[1],\"type\":\"choropleth\"},{\"colorscale\":[[0.0,\"#FF97FF\"],[1.0,\"#FF97FF\"]],\"geo\":\"geo\",\"hovertemplate\":\"\\u003cb\\u003e%{hovertext}\\u003c\\u002fb\\u003e\\u003cbr\\u003e\\u003cbr\\u003e2010 [YR2010]=87.3591\\u003cbr\\u003eCountry Code=%{location}\\u003cextra\\u003e\\u003c\\u002fextra\\u003e\",\"hovertext\":[\"Kyrgyz Republic\"],\"locations\":[\"KGZ\"],\"name\":\"87.3591\",\"showlegend\":true,\"showscale\":false,\"z\":[1],\"type\":\"choropleth\"},{\"colorscale\":[[0.0,\"#FECB52\"],[1.0,\"#FECB52\"]],\"geo\":\"geo\",\"hovertemplate\":\"\\u003cb\\u003e%{hovertext}\\u003c\\u002fb\\u003e\\u003cbr\\u003e\\u003cbr\\u003e2010 [YR2010]=94.53585\\u003cbr\\u003eCountry Code=%{location}\\u003cextra\\u003e\\u003c\\u002fextra\\u003e\",\"hovertext\":[\"Lao PDR\"],\"locations\":[\"LAO\"],\"name\":\"94.53585\",\"showlegend\":true,\"showscale\":false,\"z\":[1],\"type\":\"choropleth\"},{\"colorscale\":[[0.0,\"#636efa\"],[1.0,\"#636efa\"]],\"geo\":\"geo\",\"hovertemplate\":\"\\u003cb\\u003e%{hovertext}\\u003c\\u002fb\\u003e\\u003cbr\\u003e\\u003cbr\\u003e2010 [YR2010]=96.06111\\u003cbr\\u003eCountry Code=%{location}\\u003cextra\\u003e\\u003c\\u002fextra\\u003e\",\"hovertext\":[\"Late-demographic dividend\"],\"locations\":[\"LTE\"],\"name\":\"96.06111\",\"showlegend\":true,\"showscale\":false,\"z\":[1],\"type\":\"choropleth\"},{\"colorscale\":[[0.0,\"#EF553B\"],[1.0,\"#EF553B\"]],\"geo\":\"geo\",\"hovertemplate\":\"\\u003cb\\u003e%{hovertext}\\u003c\\u002fb\\u003e\\u003cbr\\u003e\\u003cbr\\u003e2010 [YR2010]=94.9263\\u003cbr\\u003eCountry Code=%{location}\\u003cextra\\u003e\\u003c\\u002fextra\\u003e\",\"hovertext\":[\"Latin America & Caribbean\"],\"locations\":[\"LCN\"],\"name\":\"94.9263\",\"showlegend\":true,\"showscale\":false,\"z\":[1],\"type\":\"choropleth\"},{\"colorscale\":[[0.0,\"#00cc96\"],[1.0,\"#00cc96\"]],\"geo\":\"geo\",\"hovertemplate\":\"\\u003cb\\u003e%{hovertext}\\u003c\\u002fb\\u003e\\u003cbr\\u003e\\u003cbr\\u003e2010 [YR2010]=94.92005\\u003cbr\\u003eCountry Code=%{location}\\u003cextra\\u003e\\u003c\\u002fextra\\u003e\",\"hovertext\":[\"Latin America & Caribbean (excluding high income)\"],\"locations\":[\"LAC\"],\"name\":\"94.92005\",\"showlegend\":true,\"showscale\":false,\"z\":[1],\"type\":\"choropleth\"},{\"colorscale\":[[0.0,\"#ab63fa\"],[1.0,\"#ab63fa\"]],\"geo\":\"geo\",\"hovertemplate\":\"\\u003cb\\u003e%{hovertext}\\u003c\\u002fb\\u003e\\u003cbr\\u003e\\u003cbr\\u003e2010 [YR2010]=94.91106\\u003cbr\\u003eCountry Code=%{location}\\u003cextra\\u003e\\u003c\\u002fextra\\u003e\",\"hovertext\":[\"Latin America & the Caribbean (IDA & IBRD countries)\"],\"locations\":[\"TLA\"],\"name\":\"94.91106\",\"showlegend\":true,\"showscale\":false,\"z\":[1],\"type\":\"choropleth\"},{\"colorscale\":[[0.0,\"#FFA15A\"],[1.0,\"#FFA15A\"]],\"geo\":\"geo\",\"hovertemplate\":\"\\u003cb\\u003e%{hovertext}\\u003c\\u002fb\\u003e\\u003cbr\\u003e\\u003cbr\\u003e2010 [YR2010]=97.18449\\u003cbr\\u003eCountry Code=%{location}\\u003cextra\\u003e\\u003c\\u002fextra\\u003e\",\"hovertext\":[\"Latvia\"],\"locations\":[\"LVA\"],\"name\":\"97.18449\",\"showlegend\":true,\"showscale\":false,\"z\":[1],\"type\":\"choropleth\"},{\"colorscale\":[[0.0,\"#19d3f3\"],[1.0,\"#19d3f3\"]],\"geo\":\"geo\",\"hovertemplate\":\"\\u003cb\\u003e%{hovertext}\\u003c\\u002fb\\u003e\\u003cbr\\u003e\\u003cbr\\u003e2010 [YR2010]=79.00299\\u003cbr\\u003eCountry Code=%{location}\\u003cextra\\u003e\\u003c\\u002fextra\\u003e\",\"hovertext\":[\"Least developed countries: UN classification\"],\"locations\":[\"LDC\"],\"name\":\"79.00299\",\"showlegend\":true,\"showscale\":false,\"z\":[1],\"type\":\"choropleth\"},{\"colorscale\":[[0.0,\"#FF6692\"],[1.0,\"#FF6692\"]],\"geo\":\"geo\",\"hovertemplate\":\"\\u003cb\\u003e%{hovertext}\\u003c\\u002fb\\u003e\\u003cbr\\u003e\\u003cbr\\u003e2010 [YR2010]=88.6368\\u003cbr\\u003eCountry Code=%{location}\\u003cextra\\u003e\\u003c\\u002fextra\\u003e\",\"hovertext\":[\"Lesotho\"],\"locations\":[\"LSO\"],\"name\":\"88.6368\",\"showlegend\":true,\"showscale\":false,\"z\":[1],\"type\":\"choropleth\"},{\"colorscale\":[[0.0,\"#B6E880\"],[1.0,\"#B6E880\"]],\"geo\":\"geo\",\"hovertemplate\":\"\\u003cb\\u003e%{hovertext}\\u003c\\u002fb\\u003e\\u003cbr\\u003e\\u003cbr\\u003e2010 [YR2010]=93.53901\\u003cbr\\u003eCountry Code=%{location}\\u003cextra\\u003e\\u003c\\u002fextra\\u003e\",\"hovertext\":[\"Liechtenstein\"],\"locations\":[\"LIE\"],\"name\":\"93.53901\",\"showlegend\":true,\"showscale\":false,\"z\":[1],\"type\":\"choropleth\"},{\"colorscale\":[[0.0,\"#FF97FF\"],[1.0,\"#FF97FF\"]],\"geo\":\"geo\",\"hovertemplate\":\"\\u003cb\\u003e%{hovertext}\\u003c\\u002fb\\u003e\\u003cbr\\u003e\\u003cbr\\u003e2010 [YR2010]=96.32562\\u003cbr\\u003eCountry Code=%{location}\\u003cextra\\u003e\\u003c\\u002fextra\\u003e\",\"hovertext\":[\"Lithuania\"],\"locations\":[\"LTU\"],\"name\":\"96.32562\",\"showlegend\":true,\"showscale\":false,\"z\":[1],\"type\":\"choropleth\"},{\"colorscale\":[[0.0,\"#FECB52\"],[1.0,\"#FECB52\"]],\"geo\":\"geo\",\"hovertemplate\":\"\\u003cb\\u003e%{hovertext}\\u003c\\u002fb\\u003e\\u003cbr\\u003e\\u003cbr\\u003e2010 [YR2010]=87.78454\\u003cbr\\u003eCountry Code=%{location}\\u003cextra\\u003e\\u003c\\u002fextra\\u003e\",\"hovertext\":[\"Low & middle income\"],\"locations\":[\"LMY\"],\"name\":\"87.78454\",\"showlegend\":true,\"showscale\":false,\"z\":[1],\"type\":\"choropleth\"},{\"colorscale\":[[0.0,\"#636efa\"],[1.0,\"#636efa\"]],\"geo\":\"geo\",\"hovertemplate\":\"\\u003cb\\u003e%{hovertext}\\u003c\\u002fb\\u003e\\u003cbr\\u003e\\u003cbr\\u003e2010 [YR2010]=85.56855\\u003cbr\\u003eCountry Code=%{location}\\u003cextra\\u003e\\u003c\\u002fextra\\u003e\",\"hovertext\":[\"Lower middle income\"],\"locations\":[\"LMC\"],\"name\":\"85.56855\",\"showlegend\":true,\"showscale\":false,\"z\":[1],\"type\":\"choropleth\"},{\"colorscale\":[[0.0,\"#EF553B\"],[1.0,\"#EF553B\"]],\"geo\":\"geo\",\"hovertemplate\":\"\\u003cb\\u003e%{hovertext}\\u003c\\u002fb\\u003e\\u003cbr\\u003e\\u003cbr\\u003e2010 [YR2010]=92.73811\\u003cbr\\u003eCountry Code=%{location}\\u003cextra\\u003e\\u003c\\u002fextra\\u003e\",\"hovertext\":[\"Luxembourg\"],\"locations\":[\"LUX\"],\"name\":\"92.73811\",\"showlegend\":true,\"showscale\":false,\"z\":[1],\"type\":\"choropleth\"},{\"colorscale\":[[0.0,\"#00cc96\"],[1.0,\"#00cc96\"]],\"geo\":\"geo\",\"hovertemplate\":\"\\u003cb\\u003e%{hovertext}\\u003c\\u002fb\\u003e\\u003cbr\\u003e\\u003cbr\\u003e2010 [YR2010]=83.6919\\u003cbr\\u003eCountry Code=%{location}\\u003cextra\\u003e\\u003c\\u002fextra\\u003e\",\"hovertext\":[\"Macao SAR, China\"],\"locations\":[\"MAC\"],\"name\":\"83.6919\",\"showlegend\":true,\"showscale\":false,\"z\":[1],\"type\":\"choropleth\"},{\"colorscale\":[[0.0,\"#ab63fa\"],[1.0,\"#ab63fa\"]],\"geo\":\"geo\",\"hovertemplate\":\"\\u003cb\\u003e%{hovertext}\\u003c\\u002fb\\u003e\\u003cbr\\u003e\\u003cbr\\u003e2010 [YR2010]=96.23306\\u003cbr\\u003eCountry Code=%{location}\\u003cextra\\u003e\\u003c\\u002fextra\\u003e\",\"hovertext\":[\"Malaysia\"],\"locations\":[\"MYS\"],\"name\":\"96.23306\",\"showlegend\":true,\"showscale\":false,\"z\":[1],\"type\":\"choropleth\"},{\"colorscale\":[[0.0,\"#FFA15A\"],[1.0,\"#FFA15A\"]],\"geo\":\"geo\",\"hovertemplate\":\"\\u003cb\\u003e%{hovertext}\\u003c\\u002fb\\u003e\\u003cbr\\u003e\\u003cbr\\u003e2010 [YR2010]=64.28644\\u003cbr\\u003eCountry Code=%{location}\\u003cextra\\u003e\\u003c\\u002fextra\\u003e\",\"hovertext\":[\"Mali\"],\"locations\":[\"MLI\"],\"name\":\"64.28644\",\"showlegend\":true,\"showscale\":false,\"z\":[1],\"type\":\"choropleth\"},{\"colorscale\":[[0.0,\"#19d3f3\"],[1.0,\"#19d3f3\"]],\"geo\":\"geo\",\"hovertemplate\":\"\\u003cb\\u003e%{hovertext}\\u003c\\u002fb\\u003e\\u003cbr\\u003e\\u003cbr\\u003e2010 [YR2010]=72.37404\\u003cbr\\u003eCountry Code=%{location}\\u003cextra\\u003e\\u003c\\u002fextra\\u003e\",\"hovertext\":[\"Mauritania\"],\"locations\":[\"MRT\"],\"name\":\"72.37404\",\"showlegend\":true,\"showscale\":false,\"z\":[1],\"type\":\"choropleth\"},{\"colorscale\":[[0.0,\"#FF6692\"],[1.0,\"#FF6692\"]],\"geo\":\"geo\",\"hovertemplate\":\"\\u003cb\\u003e%{hovertext}\\u003c\\u002fb\\u003e\\u003cbr\\u003e\\u003cbr\\u003e2010 [YR2010]=96.50869\\u003cbr\\u003eCountry Code=%{location}\\u003cextra\\u003e\\u003c\\u002fextra\\u003e\",\"hovertext\":[\"Mauritius\"],\"locations\":[\"MUS\"],\"name\":\"96.50869\",\"showlegend\":true,\"showscale\":false,\"z\":[1],\"type\":\"choropleth\"},{\"colorscale\":[[0.0,\"#B6E880\"],[1.0,\"#B6E880\"]],\"geo\":\"geo\",\"hovertemplate\":\"\\u003cb\\u003e%{hovertext}\\u003c\\u002fb\\u003e\\u003cbr\\u003e\\u003cbr\\u003e2010 [YR2010]=98.0771\\u003cbr\\u003eCountry Code=%{location}\\u003cextra\\u003e\\u003c\\u002fextra\\u003e\",\"hovertext\":[\"Mexico\"],\"locations\":[\"MEX\"],\"name\":\"98.0771\",\"showlegend\":true,\"showscale\":false,\"z\":[1],\"type\":\"choropleth\"},{\"colorscale\":[[0.0,\"#FF97FF\"],[1.0,\"#FF97FF\"]],\"geo\":\"geo\",\"hovertemplate\":\"\\u003cb\\u003e%{hovertext}\\u003c\\u002fb\\u003e\\u003cbr\\u003e\\u003cbr\\u003e2010 [YR2010]=93.10114\\u003cbr\\u003eCountry Code=%{location}\\u003cextra\\u003e\\u003c\\u002fextra\\u003e\",\"hovertext\":[\"Middle East & North Africa\"],\"locations\":[\"MEA\"],\"name\":\"93.10114\",\"showlegend\":true,\"showscale\":false,\"z\":[1],\"type\":\"choropleth\"},{\"colorscale\":[[0.0,\"#FECB52\"],[1.0,\"#FECB52\"]],\"geo\":\"geo\",\"hovertemplate\":\"\\u003cb\\u003e%{hovertext}\\u003c\\u002fb\\u003e\\u003cbr\\u003e\\u003cbr\\u003e2010 [YR2010]=92.74378\\u003cbr\\u003eCountry Code=%{location}\\u003cextra\\u003e\\u003c\\u002fextra\\u003e\",\"hovertext\":[\"Middle East & North Africa (excluding high income)\"],\"locations\":[\"MNA\"],\"name\":\"92.74378\",\"showlegend\":true,\"showscale\":false,\"z\":[1],\"type\":\"choropleth\"},{\"colorscale\":[[0.0,\"#636efa\"],[1.0,\"#636efa\"]],\"geo\":\"geo\",\"hovertemplate\":\"\\u003cb\\u003e%{hovertext}\\u003c\\u002fb\\u003e\\u003cbr\\u003e\\u003cbr\\u003e2010 [YR2010]=92.81373\\u003cbr\\u003eCountry Code=%{location}\\u003cextra\\u003e\\u003c\\u002fextra\\u003e\",\"hovertext\":[\"Middle East & North Africa (IDA & IBRD countries)\"],\"locations\":[\"TMN\"],\"name\":\"92.81373\",\"showlegend\":true,\"showscale\":false,\"z\":[1],\"type\":\"choropleth\"},{\"colorscale\":[[0.0,\"#EF553B\"],[1.0,\"#EF553B\"]],\"geo\":\"geo\",\"hovertemplate\":\"\\u003cb\\u003e%{hovertext}\\u003c\\u002fb\\u003e\\u003cbr\\u003e\\u003cbr\\u003e2010 [YR2010]=89.57565\\u003cbr\\u003eCountry Code=%{location}\\u003cextra\\u003e\\u003c\\u002fextra\\u003e\",\"hovertext\":[\"Middle income\"],\"locations\":[\"MIC\"],\"name\":\"89.57565\",\"showlegend\":true,\"showscale\":false,\"z\":[1],\"type\":\"choropleth\"},{\"colorscale\":[[0.0,\"#00cc96\"],[1.0,\"#00cc96\"]],\"geo\":\"geo\",\"hovertemplate\":\"\\u003cb\\u003e%{hovertext}\\u003c\\u002fb\\u003e\\u003cbr\\u003e\\u003cbr\\u003e2010 [YR2010]=87.59101\\u003cbr\\u003eCountry Code=%{location}\\u003cextra\\u003e\\u003c\\u002fextra\\u003e\",\"hovertext\":[\"Moldova\"],\"locations\":[\"MDA\"],\"name\":\"87.59101\",\"showlegend\":true,\"showscale\":false,\"z\":[1],\"type\":\"choropleth\"},{\"colorscale\":[[0.0,\"#ab63fa\"],[1.0,\"#ab63fa\"]],\"geo\":\"geo\",\"hovertemplate\":\"\\u003cb\\u003e%{hovertext}\\u003c\\u002fb\\u003e\\u003cbr\\u003e\\u003cbr\\u003e2010 [YR2010]=97.30346\\u003cbr\\u003eCountry Code=%{location}\\u003cextra\\u003e\\u003c\\u002fextra\\u003e\",\"hovertext\":[\"Mongolia\"],\"locations\":[\"MNG\"],\"name\":\"97.30346\",\"showlegend\":true,\"showscale\":false,\"z\":[1],\"type\":\"choropleth\"},{\"colorscale\":[[0.0,\"#FFA15A\"],[1.0,\"#FFA15A\"]],\"geo\":\"geo\",\"hovertemplate\":\"\\u003cb\\u003e%{hovertext}\\u003c\\u002fb\\u003e\\u003cbr\\u003e\\u003cbr\\u003e2010 [YR2010]=92.28772\\u003cbr\\u003eCountry Code=%{location}\\u003cextra\\u003e\\u003c\\u002fextra\\u003e\",\"hovertext\":[\"Morocco\"],\"locations\":[\"MAR\"],\"name\":\"92.28772\",\"showlegend\":true,\"showscale\":false,\"z\":[1],\"type\":\"choropleth\"},{\"colorscale\":[[0.0,\"#19d3f3\"],[1.0,\"#19d3f3\"]],\"geo\":\"geo\",\"hovertemplate\":\"\\u003cb\\u003e%{hovertext}\\u003c\\u002fb\\u003e\\u003cbr\\u003e\\u003cbr\\u003e2010 [YR2010]=89.83316\\u003cbr\\u003eCountry Code=%{location}\\u003cextra\\u003e\\u003c\\u002fextra\\u003e\",\"hovertext\":[\"Mozambique\"],\"locations\":[\"MOZ\"],\"name\":\"89.83316\",\"showlegend\":true,\"showscale\":false,\"z\":[1],\"type\":\"choropleth\"},{\"colorscale\":[[0.0,\"#FF6692\"],[1.0,\"#FF6692\"]],\"geo\":\"geo\",\"hovertemplate\":\"\\u003cb\\u003e%{hovertext}\\u003c\\u002fb\\u003e\\u003cbr\\u003e\\u003cbr\\u003e2010 [YR2010]=89.00709\\u003cbr\\u003eCountry Code=%{location}\\u003cextra\\u003e\\u003c\\u002fextra\\u003e\",\"hovertext\":[\"Myanmar\"],\"locations\":[\"MMR\"],\"name\":\"89.00709\",\"showlegend\":true,\"showscale\":false,\"z\":[1],\"type\":\"choropleth\"},{\"colorscale\":[[0.0,\"#B6E880\"],[1.0,\"#B6E880\"]],\"geo\":\"geo\",\"hovertemplate\":\"\\u003cb\\u003e%{hovertext}\\u003c\\u002fb\\u003e\\u003cbr\\u003e\\u003cbr\\u003e2010 [YR2010]=91.7836\\u003cbr\\u003eCountry Code=%{location}\\u003cextra\\u003e\\u003c\\u002fextra\\u003e\",\"hovertext\":[\"Namibia\"],\"locations\":[\"NAM\"],\"name\":\"91.7836\",\"showlegend\":true,\"showscale\":false,\"z\":[1],\"type\":\"choropleth\"},{\"colorscale\":[[0.0,\"#FF97FF\"],[1.0,\"#FF97FF\"]],\"geo\":\"geo\",\"hovertemplate\":\"\\u003cb\\u003e%{hovertext}\\u003c\\u002fb\\u003e\\u003cbr\\u003e\\u003cbr\\u003e2010 [YR2010]=99.51312\\u003cbr\\u003eCountry Code=%{location}\\u003cextra\\u003e\\u003c\\u002fextra\\u003e\",\"hovertext\":[\"Netherlands\"],\"locations\":[\"NLD\"],\"name\":\"99.51312\",\"showlegend\":true,\"showscale\":false,\"z\":[1],\"type\":\"choropleth\"},{\"colorscale\":[[0.0,\"#FECB52\"],[1.0,\"#FECB52\"]],\"geo\":\"geo\",\"hovertemplate\":\"\\u003cb\\u003e%{hovertext}\\u003c\\u002fb\\u003e\\u003cbr\\u003e\\u003cbr\\u003e2010 [YR2010]=94.89265\\u003cbr\\u003eCountry Code=%{location}\\u003cextra\\u003e\\u003c\\u002fextra\\u003e\",\"hovertext\":[\"Nicaragua\"],\"locations\":[\"NIC\"],\"name\":\"94.89265\",\"showlegend\":true,\"showscale\":false,\"z\":[1],\"type\":\"choropleth\"},{\"colorscale\":[[0.0,\"#636efa\"],[1.0,\"#636efa\"]],\"geo\":\"geo\",\"hovertemplate\":\"\\u003cb\\u003e%{hovertext}\\u003c\\u002fb\\u003e\\u003cbr\\u003e\\u003cbr\\u003e2010 [YR2010]=54.06424\\u003cbr\\u003eCountry Code=%{location}\\u003cextra\\u003e\\u003c\\u002fextra\\u003e\",\"hovertext\":[\"Niger\"],\"locations\":[\"NER\"],\"name\":\"54.06424\",\"showlegend\":true,\"showscale\":false,\"z\":[1],\"type\":\"choropleth\"},{\"colorscale\":[[0.0,\"#EF553B\"],[1.0,\"#EF553B\"]],\"geo\":\"geo\",\"hovertemplate\":\"\\u003cb\\u003e%{hovertext}\\u003c\\u002fb\\u003e\\u003cbr\\u003e\\u003cbr\\u003e2010 [YR2010]=64.13783\\u003cbr\\u003eCountry Code=%{location}\\u003cextra\\u003e\\u003c\\u002fextra\\u003e\",\"hovertext\":[\"Nigeria\"],\"locations\":[\"NGA\"],\"name\":\"64.13783\",\"showlegend\":true,\"showscale\":false,\"z\":[1],\"type\":\"choropleth\"},{\"colorscale\":[[0.0,\"#00cc96\"],[1.0,\"#00cc96\"]],\"geo\":\"geo\",\"hovertemplate\":\"\\u003cb\\u003e%{hovertext}\\u003c\\u002fb\\u003e\\u003cbr\\u003e\\u003cbr\\u003e2010 [YR2010]=93.79489\\u003cbr\\u003eCountry Code=%{location}\\u003cextra\\u003e\\u003c\\u002fextra\\u003e\",\"hovertext\":[\"North America\"],\"locations\":[\"NAC\"],\"name\":\"93.79489\",\"showlegend\":true,\"showscale\":false,\"z\":[1],\"type\":\"choropleth\"},{\"colorscale\":[[0.0,\"#ab63fa\"],[1.0,\"#ab63fa\"]],\"geo\":\"geo\",\"hovertemplate\":\"\\u003cb\\u003e%{hovertext}\\u003c\\u002fb\\u003e\\u003cbr\\u003e\\u003cbr\\u003e2010 [YR2010]=85.3765\\u003cbr\\u003eCountry Code=%{location}\\u003cextra\\u003e\\u003c\\u002fextra\\u003e\",\"hovertext\":[\"North Macedonia\"],\"locations\":[\"MKD\"],\"name\":\"85.3765\",\"showlegend\":true,\"showscale\":false,\"z\":[1],\"type\":\"choropleth\"},{\"colorscale\":[[0.0,\"#FFA15A\"],[1.0,\"#FFA15A\"]],\"geo\":\"geo\",\"hovertemplate\":\"\\u003cb\\u003e%{hovertext}\\u003c\\u002fb\\u003e\\u003cbr\\u003e\\u003cbr\\u003e2010 [YR2010]=99.08012\\u003cbr\\u003eCountry Code=%{location}\\u003cextra\\u003e\\u003c\\u002fextra\\u003e\",\"hovertext\":[\"Norway\"],\"locations\":[\"NOR\"],\"name\":\"99.08012\",\"showlegend\":true,\"showscale\":false,\"z\":[1],\"type\":\"choropleth\"},{\"colorscale\":[[0.0,\"#19d3f3\"],[1.0,\"#19d3f3\"]],\"geo\":\"geo\",\"hovertemplate\":\"\\u003cb\\u003e%{hovertext}\\u003c\\u002fb\\u003e\\u003cbr\\u003e\\u003cbr\\u003e2010 [YR2010]=95.96256\\u003cbr\\u003eCountry Code=%{location}\\u003cextra\\u003e\\u003c\\u002fextra\\u003e\",\"hovertext\":[\"OECD members\"],\"locations\":[\"OED\"],\"name\":\"95.96256\",\"showlegend\":true,\"showscale\":false,\"z\":[1],\"type\":\"choropleth\"},{\"colorscale\":[[0.0,\"#FF6692\"],[1.0,\"#FF6692\"]],\"geo\":\"geo\",\"hovertemplate\":\"\\u003cb\\u003e%{hovertext}\\u003c\\u002fb\\u003e\\u003cbr\\u003e\\u003cbr\\u003e2010 [YR2010]=83.62232\\u003cbr\\u003eCountry Code=%{location}\\u003cextra\\u003e\\u003c\\u002fextra\\u003e\",\"hovertext\":[\"Other small states\"],\"locations\":[\"OSS\"],\"name\":\"83.62232\",\"showlegend\":true,\"showscale\":false,\"z\":[1],\"type\":\"choropleth\"},{\"colorscale\":[[0.0,\"#B6E880\"],[1.0,\"#B6E880\"]],\"geo\":\"geo\",\"hovertemplate\":\"\\u003cb\\u003e%{hovertext}\\u003c\\u002fb\\u003e\\u003cbr\\u003e\\u003cbr\\u003e2010 [YR2010]=90.7157\\u003cbr\\u003eCountry Code=%{location}\\u003cextra\\u003e\\u003c\\u002fextra\\u003e\",\"hovertext\":[\"Pacific island small states\"],\"locations\":[\"PSS\"],\"name\":\"90.7157\",\"showlegend\":true,\"showscale\":false,\"z\":[1],\"type\":\"choropleth\"},{\"colorscale\":[[0.0,\"#FF97FF\"],[1.0,\"#FF97FF\"]],\"geo\":\"geo\",\"hovertemplate\":\"\\u003cb\\u003e%{hovertext}\\u003c\\u002fb\\u003e\\u003cbr\\u003e\\u003cbr\\u003e2010 [YR2010]=65.98301\\u003cbr\\u003eCountry Code=%{location}\\u003cextra\\u003e\\u003c\\u002fextra\\u003e\",\"hovertext\":[\"Pakistan\"],\"locations\":[\"PAK\"],\"name\":\"65.98301\",\"showlegend\":true,\"showscale\":false,\"z\":[1],\"type\":\"choropleth\"},{\"colorscale\":[[0.0,\"#FECB52\"],[1.0,\"#FECB52\"]],\"geo\":\"geo\",\"hovertemplate\":\"\\u003cb\\u003e%{hovertext}\\u003c\\u002fb\\u003e\\u003cbr\\u003e\\u003cbr\\u003e2010 [YR2010]=95.62248\\u003cbr\\u003eCountry Code=%{location}\\u003cextra\\u003e\\u003c\\u002fextra\\u003e\",\"hovertext\":[\"Panama\"],\"locations\":[\"PAN\"],\"name\":\"95.62248\",\"showlegend\":true,\"showscale\":false,\"z\":[1],\"type\":\"choropleth\"},{\"colorscale\":[[0.0,\"#636efa\"],[1.0,\"#636efa\"]],\"geo\":\"geo\",\"hovertemplate\":\"\\u003cb\\u003e%{hovertext}\\u003c\\u002fb\\u003e\\u003cbr\\u003e\\u003cbr\\u003e2010 [YR2010]=87.9171\\u003cbr\\u003eCountry Code=%{location}\\u003cextra\\u003e\\u003c\\u002fextra\\u003e\",\"hovertext\":[\"Paraguay\"],\"locations\":[\"PRY\"],\"name\":\"87.9171\",\"showlegend\":true,\"showscale\":false,\"z\":[1],\"type\":\"choropleth\"},{\"colorscale\":[[0.0,\"#EF553B\"],[1.0,\"#EF553B\"]],\"geo\":\"geo\",\"hovertemplate\":\"\\u003cb\\u003e%{hovertext}\\u003c\\u002fb\\u003e\\u003cbr\\u003e\\u003cbr\\u003e2010 [YR2010]=96.60304\\u003cbr\\u003eCountry Code=%{location}\\u003cextra\\u003e\\u003c\\u002fextra\\u003e\",\"hovertext\":[\"Peru\"],\"locations\":[\"PER\"],\"name\":\"96.60304\",\"showlegend\":true,\"showscale\":false,\"z\":[1],\"type\":\"choropleth\"},{\"colorscale\":[[0.0,\"#00cc96\"],[1.0,\"#00cc96\"]],\"geo\":\"geo\",\"hovertemplate\":\"\\u003cb\\u003e%{hovertext}\\u003c\\u002fb\\u003e\\u003cbr\\u003e\\u003cbr\\u003e2010 [YR2010]=94.57285\\u003cbr\\u003eCountry Code=%{location}\\u003cextra\\u003e\\u003c\\u002fextra\\u003e\",\"hovertext\":[\"Poland\"],\"locations\":[\"POL\"],\"name\":\"94.57285\",\"showlegend\":true,\"showscale\":false,\"z\":[1],\"type\":\"choropleth\"},{\"colorscale\":[[0.0,\"#ab63fa\"],[1.0,\"#ab63fa\"]],\"geo\":\"geo\",\"hovertemplate\":\"\\u003cb\\u003e%{hovertext}\\u003c\\u002fb\\u003e\\u003cbr\\u003e\\u003cbr\\u003e2010 [YR2010]=99.31374\\u003cbr\\u003eCountry Code=%{location}\\u003cextra\\u003e\\u003c\\u002fextra\\u003e\",\"hovertext\":[\"Portugal\"],\"locations\":[\"PRT\"],\"name\":\"99.31374\",\"showlegend\":true,\"showscale\":false,\"z\":[1],\"type\":\"choropleth\"},{\"colorscale\":[[0.0,\"#FFA15A\"],[1.0,\"#FFA15A\"]],\"geo\":\"geo\",\"hovertemplate\":\"\\u003cb\\u003e%{hovertext}\\u003c\\u002fb\\u003e\\u003cbr\\u003e\\u003cbr\\u003e2010 [YR2010]=95.45566\\u003cbr\\u003eCountry Code=%{location}\\u003cextra\\u003e\\u003c\\u002fextra\\u003e\",\"hovertext\":[\"Post-demographic dividend\"],\"locations\":[\"PST\"],\"name\":\"95.45566\",\"showlegend\":true,\"showscale\":false,\"z\":[1],\"type\":\"choropleth\"},{\"colorscale\":[[0.0,\"#19d3f3\"],[1.0,\"#19d3f3\"]],\"geo\":\"geo\",\"hovertemplate\":\"\\u003cb\\u003e%{hovertext}\\u003c\\u002fb\\u003e\\u003cbr\\u003e\\u003cbr\\u003e2010 [YR2010]=89.70856\\u003cbr\\u003eCountry Code=%{location}\\u003cextra\\u003e\\u003c\\u002fextra\\u003e\",\"hovertext\":[\"Puerto Rico\"],\"locations\":[\"PRI\"],\"name\":\"89.70856\",\"showlegend\":true,\"showscale\":false,\"z\":[1],\"type\":\"choropleth\"},{\"colorscale\":[[0.0,\"#FF6692\"],[1.0,\"#FF6692\"]],\"geo\":\"geo\",\"hovertemplate\":\"\\u003cb\\u003e%{hovertext}\\u003c\\u002fb\\u003e\\u003cbr\\u003e\\u003cbr\\u003e2010 [YR2010]=90.21337\\u003cbr\\u003eCountry Code=%{location}\\u003cextra\\u003e\\u003c\\u002fextra\\u003e\",\"hovertext\":[\"Qatar\"],\"locations\":[\"QAT\"],\"name\":\"90.21337\",\"showlegend\":true,\"showscale\":false,\"z\":[1],\"type\":\"choropleth\"},{\"colorscale\":[[0.0,\"#B6E880\"],[1.0,\"#B6E880\"]],\"geo\":\"geo\",\"hovertemplate\":\"\\u003cb\\u003e%{hovertext}\\u003c\\u002fb\\u003e\\u003cbr\\u003e\\u003cbr\\u003e2010 [YR2010]=91.31441\\u003cbr\\u003eCountry Code=%{location}\\u003cextra\\u003e\\u003c\\u002fextra\\u003e\",\"hovertext\":[\"Romania\"],\"locations\":[\"ROU\"],\"name\":\"91.31441\",\"showlegend\":true,\"showscale\":false,\"z\":[1],\"type\":\"choropleth\"},{\"colorscale\":[[0.0,\"#FF97FF\"],[1.0,\"#FF97FF\"]],\"geo\":\"geo\",\"hovertemplate\":\"\\u003cb\\u003e%{hovertext}\\u003c\\u002fb\\u003e\\u003cbr\\u003e\\u003cbr\\u003e2010 [YR2010]=95.36821\\u003cbr\\u003eCountry Code=%{location}\\u003cextra\\u003e\\u003c\\u002fextra\\u003e\",\"hovertext\":[\"Samoa\"],\"locations\":[\"WSM\"],\"name\":\"95.36821\",\"showlegend\":true,\"showscale\":false,\"z\":[1],\"type\":\"choropleth\"},{\"colorscale\":[[0.0,\"#FECB52\"],[1.0,\"#FECB52\"]],\"geo\":\"geo\",\"hovertemplate\":\"\\u003cb\\u003e%{hovertext}\\u003c\\u002fb\\u003e\\u003cbr\\u003e\\u003cbr\\u003e2010 [YR2010]=90.48221\\u003cbr\\u003eCountry Code=%{location}\\u003cextra\\u003e\\u003c\\u002fextra\\u003e\",\"hovertext\":[\"Sao Tome and Principe\"],\"locations\":[\"STP\"],\"name\":\"90.48221\",\"showlegend\":true,\"showscale\":false,\"z\":[1],\"type\":\"choropleth\"},{\"colorscale\":[[0.0,\"#636efa\"],[1.0,\"#636efa\"]],\"geo\":\"geo\",\"hovertemplate\":\"\\u003cb\\u003e%{hovertext}\\u003c\\u002fb\\u003e\\u003cbr\\u003e\\u003cbr\\u003e2010 [YR2010]=97.10889\\u003cbr\\u003eCountry Code=%{location}\\u003cextra\\u003e\\u003c\\u002fextra\\u003e\",\"hovertext\":[\"Saudi Arabia\"],\"locations\":[\"SAU\"],\"name\":\"97.10889\",\"showlegend\":true,\"showscale\":false,\"z\":[1],\"type\":\"choropleth\"},{\"colorscale\":[[0.0,\"#EF553B\"],[1.0,\"#EF553B\"]],\"geo\":\"geo\",\"hovertemplate\":\"\\u003cb\\u003e%{hovertext}\\u003c\\u002fb\\u003e\\u003cbr\\u003e\\u003cbr\\u003e2010 [YR2010]=71.57491\\u003cbr\\u003eCountry Code=%{location}\\u003cextra\\u003e\\u003c\\u002fextra\\u003e\",\"hovertext\":[\"Senegal\"],\"locations\":[\"SEN\"],\"name\":\"71.57491\",\"showlegend\":true,\"showscale\":false,\"z\":[1],\"type\":\"choropleth\"},{\"colorscale\":[[0.0,\"#00cc96\"],[1.0,\"#00cc96\"]],\"geo\":\"geo\",\"hovertemplate\":\"\\u003cb\\u003e%{hovertext}\\u003c\\u002fb\\u003e\\u003cbr\\u003e\\u003cbr\\u003e2010 [YR2010]=92.74722\\u003cbr\\u003eCountry Code=%{location}\\u003cextra\\u003e\\u003c\\u002fextra\\u003e\",\"hovertext\":[\"Serbia\"],\"locations\":[\"SRB\"],\"name\":\"92.74722\",\"showlegend\":true,\"showscale\":false,\"z\":[1],\"type\":\"choropleth\"},{\"colorscale\":[[0.0,\"#ab63fa\"],[1.0,\"#ab63fa\"]],\"geo\":\"geo\",\"hovertemplate\":\"\\u003cb\\u003e%{hovertext}\\u003c\\u002fb\\u003e\\u003cbr\\u003e\\u003cbr\\u003e2010 [YR2010]=84.07748\\u003cbr\\u003eCountry Code=%{location}\\u003cextra\\u003e\\u003c\\u002fextra\\u003e\",\"hovertext\":[\"Slovak Republic\"],\"locations\":[\"SVK\"],\"name\":\"84.07748\",\"showlegend\":true,\"showscale\":false,\"z\":[1],\"type\":\"choropleth\"},{\"colorscale\":[[0.0,\"#FFA15A\"],[1.0,\"#FFA15A\"]],\"geo\":\"geo\",\"hovertemplate\":\"\\u003cb\\u003e%{hovertext}\\u003c\\u002fb\\u003e\\u003cbr\\u003e\\u003cbr\\u003e2010 [YR2010]=98.42773\\u003cbr\\u003eCountry Code=%{location}\\u003cextra\\u003e\\u003c\\u002fextra\\u003e\",\"hovertext\":[\"Slovenia\"],\"locations\":[\"SVN\"],\"name\":\"98.42773\",\"showlegend\":true,\"showscale\":false,\"z\":[1],\"type\":\"choropleth\"},{\"colorscale\":[[0.0,\"#19d3f3\"],[1.0,\"#19d3f3\"]],\"geo\":\"geo\",\"hovertemplate\":\"\\u003cb\\u003e%{hovertext}\\u003c\\u002fb\\u003e\\u003cbr\\u003e\\u003cbr\\u003e2010 [YR2010]=86.79966\\u003cbr\\u003eCountry Code=%{location}\\u003cextra\\u003e\\u003c\\u002fextra\\u003e\",\"hovertext\":[\"South Asia\",\"South Asia (IDA & IBRD)\"],\"locations\":[\"SAS\",\"TSA\"],\"name\":\"86.79966\",\"showlegend\":true,\"showscale\":false,\"z\":[1,1],\"type\":\"choropleth\"},{\"colorscale\":[[0.0,\"#FF6692\"],[1.0,\"#FF6692\"]],\"geo\":\"geo\",\"hovertemplate\":\"\\u003cb\\u003e%{hovertext}\\u003c\\u002fb\\u003e\\u003cbr\\u003e\\u003cbr\\u003e2010 [YR2010]=99.71354\\u003cbr\\u003eCountry Code=%{location}\\u003cextra\\u003e\\u003c\\u002fextra\\u003e\",\"hovertext\":[\"Spain\"],\"locations\":[\"ESP\"],\"name\":\"99.71354\",\"showlegend\":true,\"showscale\":false,\"z\":[1],\"type\":\"choropleth\"},{\"colorscale\":[[0.0,\"#B6E880\"],[1.0,\"#B6E880\"]],\"geo\":\"geo\",\"hovertemplate\":\"\\u003cb\\u003e%{hovertext}\\u003c\\u002fb\\u003e\\u003cbr\\u003e\\u003cbr\\u003e2010 [YR2010]=94.73654\\u003cbr\\u003eCountry Code=%{location}\\u003cextra\\u003e\\u003c\\u002fextra\\u003e\",\"hovertext\":[\"Sri Lanka\"],\"locations\":[\"LKA\"],\"name\":\"94.73654\",\"showlegend\":true,\"showscale\":false,\"z\":[1],\"type\":\"choropleth\"},{\"colorscale\":[[0.0,\"#FF97FF\"],[1.0,\"#FF97FF\"]],\"geo\":\"geo\",\"hovertemplate\":\"\\u003cb\\u003e%{hovertext}\\u003c\\u002fb\\u003e\\u003cbr\\u003e\\u003cbr\\u003e2010 [YR2010]=94.39666\\u003cbr\\u003eCountry Code=%{location}\\u003cextra\\u003e\\u003c\\u002fextra\\u003e\",\"hovertext\":[\"St. Kitts and Nevis\"],\"locations\":[\"KNA\"],\"name\":\"94.39666\",\"showlegend\":true,\"showscale\":false,\"z\":[1],\"type\":\"choropleth\"},{\"colorscale\":[[0.0,\"#FECB52\"],[1.0,\"#FECB52\"]],\"geo\":\"geo\",\"hovertemplate\":\"\\u003cb\\u003e%{hovertext}\\u003c\\u002fb\\u003e\\u003cbr\\u003e\\u003cbr\\u003e2010 [YR2010]=94.8599\\u003cbr\\u003eCountry Code=%{location}\\u003cextra\\u003e\\u003c\\u002fextra\\u003e\",\"hovertext\":[\"St. Vincent and the Grenadines\"],\"locations\":[\"VCT\"],\"name\":\"94.8599\",\"showlegend\":true,\"showscale\":false,\"z\":[1],\"type\":\"choropleth\"},{\"colorscale\":[[0.0,\"#636efa\"],[1.0,\"#636efa\"]],\"geo\":\"geo\",\"hovertemplate\":\"\\u003cb\\u003e%{hovertext}\\u003c\\u002fb\\u003e\\u003cbr\\u003e\\u003cbr\\u003e2010 [YR2010]=88.62022\\u003cbr\\u003eCountry Code=%{location}\\u003cextra\\u003e\\u003c\\u002fextra\\u003e\",\"hovertext\":[\"Suriname\"],\"locations\":[\"SUR\"],\"name\":\"88.62022\",\"showlegend\":true,\"showscale\":false,\"z\":[1],\"type\":\"choropleth\"},{\"colorscale\":[[0.0,\"#EF553B\"],[1.0,\"#EF553B\"]],\"geo\":\"geo\",\"hovertemplate\":\"\\u003cb\\u003e%{hovertext}\\u003c\\u002fb\\u003e\\u003cbr\\u003e\\u003cbr\\u003e2010 [YR2010]=99.38254\\u003cbr\\u003eCountry Code=%{location}\\u003cextra\\u003e\\u003c\\u002fextra\\u003e\",\"hovertext\":[\"Sweden\"],\"locations\":[\"SWE\"],\"name\":\"99.38254\",\"showlegend\":true,\"showscale\":false,\"z\":[1],\"type\":\"choropleth\"},{\"colorscale\":[[0.0,\"#00cc96\"],[1.0,\"#00cc96\"]],\"geo\":\"geo\",\"hovertemplate\":\"\\u003cb\\u003e%{hovertext}\\u003c\\u002fb\\u003e\\u003cbr\\u003e\\u003cbr\\u003e2010 [YR2010]=93.96341\\u003cbr\\u003eCountry Code=%{location}\\u003cextra\\u003e\\u003c\\u002fextra\\u003e\",\"hovertext\":[\"Switzerland\"],\"locations\":[\"CHE\"],\"name\":\"93.96341\",\"showlegend\":true,\"showscale\":false,\"z\":[1],\"type\":\"choropleth\"},{\"colorscale\":[[0.0,\"#ab63fa\"],[1.0,\"#ab63fa\"]],\"geo\":\"geo\",\"hovertemplate\":\"\\u003cb\\u003e%{hovertext}\\u003c\\u002fb\\u003e\\u003cbr\\u003e\\u003cbr\\u003e2010 [YR2010]=92.96128\\u003cbr\\u003eCountry Code=%{location}\\u003cextra\\u003e\\u003c\\u002fextra\\u003e\",\"hovertext\":[\"Syrian Arab Republic\"],\"locations\":[\"SYR\"],\"name\":\"92.96128\",\"showlegend\":true,\"showscale\":false,\"z\":[1],\"type\":\"choropleth\"},{\"colorscale\":[[0.0,\"#FFA15A\"],[1.0,\"#FFA15A\"]],\"geo\":\"geo\",\"hovertemplate\":\"\\u003cb\\u003e%{hovertext}\\u003c\\u002fb\\u003e\\u003cbr\\u003e\\u003cbr\\u003e2010 [YR2010]=97.85753\\u003cbr\\u003eCountry Code=%{location}\\u003cextra\\u003e\\u003c\\u002fextra\\u003e\",\"hovertext\":[\"Tajikistan\"],\"locations\":[\"TJK\"],\"name\":\"97.85753\",\"showlegend\":true,\"showscale\":false,\"z\":[1],\"type\":\"choropleth\"},{\"colorscale\":[[0.0,\"#19d3f3\"],[1.0,\"#19d3f3\"]],\"geo\":\"geo\",\"hovertemplate\":\"\\u003cb\\u003e%{hovertext}\\u003c\\u002fb\\u003e\\u003cbr\\u003e\\u003cbr\\u003e2010 [YR2010]=92.19632\\u003cbr\\u003eCountry Code=%{location}\\u003cextra\\u003e\\u003c\\u002fextra\\u003e\",\"hovertext\":[\"Tanzania\"],\"locations\":[\"TZA\"],\"name\":\"92.19632\",\"showlegend\":true,\"showscale\":false,\"z\":[1],\"type\":\"choropleth\"},{\"colorscale\":[[0.0,\"#FF6692\"],[1.0,\"#FF6692\"]],\"geo\":\"geo\",\"hovertemplate\":\"\\u003cb\\u003e%{hovertext}\\u003c\\u002fb\\u003e\\u003cbr\\u003e\\u003cbr\\u003e2010 [YR2010]=89.50847\\u003cbr\\u003eCountry Code=%{location}\\u003cextra\\u003e\\u003c\\u002fextra\\u003e\",\"hovertext\":[\"Timor-Leste\"],\"locations\":[\"TLS\"],\"name\":\"89.50847\",\"showlegend\":true,\"showscale\":false,\"z\":[1],\"type\":\"choropleth\"},{\"colorscale\":[[0.0,\"#B6E880\"],[1.0,\"#B6E880\"]],\"geo\":\"geo\",\"hovertemplate\":\"\\u003cb\\u003e%{hovertext}\\u003c\\u002fb\\u003e\\u003cbr\\u003e\\u003cbr\\u003e2010 [YR2010]=95.28261\\u003cbr\\u003eCountry Code=%{location}\\u003cextra\\u003e\\u003c\\u002fextra\\u003e\",\"hovertext\":[\"Trinidad and Tobago\"],\"locations\":[\"TTO\"],\"name\":\"95.28261\",\"showlegend\":true,\"showscale\":false,\"z\":[1],\"type\":\"choropleth\"},{\"colorscale\":[[0.0,\"#FF97FF\"],[1.0,\"#FF97FF\"]],\"geo\":\"geo\",\"hovertemplate\":\"\\u003cb\\u003e%{hovertext}\\u003c\\u002fb\\u003e\\u003cbr\\u003e\\u003cbr\\u003e2010 [YR2010]=98.15464\\u003cbr\\u003eCountry Code=%{location}\\u003cextra\\u003e\\u003c\\u002fextra\\u003e\",\"hovertext\":[\"Tunisia\"],\"locations\":[\"TUN\"],\"name\":\"98.15464\",\"showlegend\":true,\"showscale\":false,\"z\":[1],\"type\":\"choropleth\"},{\"colorscale\":[[0.0,\"#FECB52\"],[1.0,\"#FECB52\"]],\"geo\":\"geo\",\"hovertemplate\":\"\\u003cb\\u003e%{hovertext}\\u003c\\u002fb\\u003e\\u003cbr\\u003e\\u003cbr\\u003e2010 [YR2010]=96.08606\\u003cbr\\u003eCountry Code=%{location}\\u003cextra\\u003e\\u003c\\u002fextra\\u003e\",\"hovertext\":[\"Turkiye\"],\"locations\":[\"TUR\"],\"name\":\"96.08606\",\"showlegend\":true,\"showscale\":false,\"z\":[1],\"type\":\"choropleth\"},{\"colorscale\":[[0.0,\"#636efa\"],[1.0,\"#636efa\"]],\"geo\":\"geo\",\"hovertemplate\":\"\\u003cb\\u003e%{hovertext}\\u003c\\u002fb\\u003e\\u003cbr\\u003e\\u003cbr\\u003e2010 [YR2010]=91.5001\\u003cbr\\u003eCountry Code=%{location}\\u003cextra\\u003e\\u003c\\u002fextra\\u003e\",\"hovertext\":[\"Uganda\"],\"locations\":[\"UGA\"],\"name\":\"91.5001\",\"showlegend\":true,\"showscale\":false,\"z\":[1],\"type\":\"choropleth\"},{\"colorscale\":[[0.0,\"#EF553B\"],[1.0,\"#EF553B\"]],\"geo\":\"geo\",\"hovertemplate\":\"\\u003cb\\u003e%{hovertext}\\u003c\\u002fb\\u003e\\u003cbr\\u003e\\u003cbr\\u003e2010 [YR2010]=90.41149\\u003cbr\\u003eCountry Code=%{location}\\u003cextra\\u003e\\u003c\\u002fextra\\u003e\",\"hovertext\":[\"Ukraine\"],\"locations\":[\"UKR\"],\"name\":\"90.41149\",\"showlegend\":true,\"showscale\":false,\"z\":[1],\"type\":\"choropleth\"},{\"colorscale\":[[0.0,\"#00cc96\"],[1.0,\"#00cc96\"]],\"geo\":\"geo\",\"hovertemplate\":\"\\u003cb\\u003e%{hovertext}\\u003c\\u002fb\\u003e\\u003cbr\\u003e\\u003cbr\\u003e2010 [YR2010]=98.01015\\u003cbr\\u003eCountry Code=%{location}\\u003cextra\\u003e\\u003c\\u002fextra\\u003e\",\"hovertext\":[\"United Kingdom\"],\"locations\":[\"GBR\"],\"name\":\"98.01015\",\"showlegend\":true,\"showscale\":false,\"z\":[1],\"type\":\"choropleth\"},{\"colorscale\":[[0.0,\"#ab63fa\"],[1.0,\"#ab63fa\"]],\"geo\":\"geo\",\"hovertemplate\":\"\\u003cb\\u003e%{hovertext}\\u003c\\u002fb\\u003e\\u003cbr\\u003e\\u003cbr\\u003e2010 [YR2010]=93.37426\\u003cbr\\u003eCountry Code=%{location}\\u003cextra\\u003e\\u003c\\u002fextra\\u003e\",\"hovertext\":[\"United States\"],\"locations\":[\"USA\"],\"name\":\"93.37426\",\"showlegend\":true,\"showscale\":false,\"z\":[1],\"type\":\"choropleth\"},{\"colorscale\":[[0.0,\"#FFA15A\"],[1.0,\"#FFA15A\"]],\"geo\":\"geo\",\"hovertemplate\":\"\\u003cb\\u003e%{hovertext}\\u003c\\u002fb\\u003e\\u003cbr\\u003e\\u003cbr\\u003e2010 [YR2010]=95.66169\\u003cbr\\u003eCountry Code=%{location}\\u003cextra\\u003e\\u003c\\u002fextra\\u003e\",\"hovertext\":[\"Upper middle income\"],\"locations\":[\"UMC\"],\"name\":\"95.66169\",\"showlegend\":true,\"showscale\":false,\"z\":[1],\"type\":\"choropleth\"},{\"colorscale\":[[0.0,\"#19d3f3\"],[1.0,\"#19d3f3\"]],\"geo\":\"geo\",\"hovertemplate\":\"\\u003cb\\u003e%{hovertext}\\u003c\\u002fb\\u003e\\u003cbr\\u003e\\u003cbr\\u003e2010 [YR2010]=99.54073\\u003cbr\\u003eCountry Code=%{location}\\u003cextra\\u003e\\u003c\\u002fextra\\u003e\",\"hovertext\":[\"Uruguay\"],\"locations\":[\"URY\"],\"name\":\"99.54073\",\"showlegend\":true,\"showscale\":false,\"z\":[1],\"type\":\"choropleth\"},{\"colorscale\":[[0.0,\"#FF6692\"],[1.0,\"#FF6692\"]],\"geo\":\"geo\",\"hovertemplate\":\"\\u003cb\\u003e%{hovertext}\\u003c\\u002fb\\u003e\\u003cbr\\u003e\\u003cbr\\u003e2010 [YR2010]=89.1713\\u003cbr\\u003eCountry Code=%{location}\\u003cextra\\u003e\\u003c\\u002fextra\\u003e\",\"hovertext\":[\"Uzbekistan\"],\"locations\":[\"UZB\"],\"name\":\"89.1713\",\"showlegend\":true,\"showscale\":false,\"z\":[1],\"type\":\"choropleth\"},{\"colorscale\":[[0.0,\"#B6E880\"],[1.0,\"#B6E880\"]],\"geo\":\"geo\",\"hovertemplate\":\"\\u003cb\\u003e%{hovertext}\\u003c\\u002fb\\u003e\\u003cbr\\u003e\\u003cbr\\u003e2010 [YR2010]=92.48108\\u003cbr\\u003eCountry Code=%{location}\\u003cextra\\u003e\\u003c\\u002fextra\\u003e\",\"hovertext\":[\"Venezuela, RB\"],\"locations\":[\"VEN\"],\"name\":\"92.48108\",\"showlegend\":true,\"showscale\":false,\"z\":[1],\"type\":\"choropleth\"},{\"colorscale\":[[0.0,\"#FF97FF\"],[1.0,\"#FF97FF\"]],\"geo\":\"geo\",\"hovertemplate\":\"\\u003cb\\u003e%{hovertext}\\u003c\\u002fb\\u003e\\u003cbr\\u003e\\u003cbr\\u003e2010 [YR2010]=98.01475\\u003cbr\\u003eCountry Code=%{location}\\u003cextra\\u003e\\u003c\\u002fextra\\u003e\",\"hovertext\":[\"Viet Nam\"],\"locations\":[\"VNM\"],\"name\":\"98.01475\",\"showlegend\":true,\"showscale\":false,\"z\":[1],\"type\":\"choropleth\"},{\"colorscale\":[[0.0,\"#FECB52\"],[1.0,\"#FECB52\"]],\"geo\":\"geo\",\"hovertemplate\":\"\\u003cb\\u003e%{hovertext}\\u003c\\u002fb\\u003e\\u003cbr\\u003e\\u003cbr\\u003e2010 [YR2010]=87.00422\\u003cbr\\u003eCountry Code=%{location}\\u003cextra\\u003e\\u003c\\u002fextra\\u003e\",\"hovertext\":[\"West Bank and Gaza\"],\"locations\":[\"PSE\"],\"name\":\"87.00422\",\"showlegend\":true,\"showscale\":false,\"z\":[1],\"type\":\"choropleth\"},{\"colorscale\":[[0.0,\"#636efa\"],[1.0,\"#636efa\"]],\"geo\":\"geo\",\"hovertemplate\":\"\\u003cb\\u003e%{hovertext}\\u003c\\u002fb\\u003e\\u003cbr\\u003e\\u003cbr\\u003e2010 [YR2010]=88.63339\\u003cbr\\u003eCountry Code=%{location}\\u003cextra\\u003e\\u003c\\u002fextra\\u003e\",\"hovertext\":[\"World\"],\"locations\":[\"WLD\"],\"name\":\"88.63339\",\"showlegend\":true,\"showscale\":false,\"z\":[1],\"type\":\"choropleth\"},{\"colorscale\":[[0.0,\"#EF553B\"],[1.0,\"#EF553B\"]],\"geo\":\"geo\",\"hovertemplate\":\"\\u003cb\\u003e%{hovertext}\\u003c\\u002fb\\u003e\\u003cbr\\u003e\\u003cbr\\u003e2010 [YR2010]=81.53256\\u003cbr\\u003eCountry Code=%{location}\\u003cextra\\u003e\\u003c\\u002fextra\\u003e\",\"hovertext\":[\"Yemen, Rep.\"],\"locations\":[\"YEM\"],\"name\":\"81.53256\",\"showlegend\":true,\"showscale\":false,\"z\":[1],\"type\":\"choropleth\"},{\"colorscale\":[[0.0,\"#00cc96\"],[1.0,\"#00cc96\"]],\"geo\":\"geo\",\"hovertemplate\":\"\\u003cb\\u003e%{hovertext}\\u003c\\u002fb\\u003e\\u003cbr\\u003e\\u003cbr\\u003e2010 [YR2010]=84.80889\\u003cbr\\u003eCountry Code=%{location}\\u003cextra\\u003e\\u003c\\u002fextra\\u003e\",\"hovertext\":[\"Zambia\"],\"locations\":[\"ZMB\"],\"name\":\"84.80889\",\"showlegend\":true,\"showscale\":false,\"z\":[1],\"type\":\"choropleth\"}],                        {\"template\":{\"data\":{\"histogram2dcontour\":[{\"type\":\"histogram2dcontour\",\"colorbar\":{\"outlinewidth\":0,\"ticks\":\"\"},\"colorscale\":[[0.0,\"#0d0887\"],[0.1111111111111111,\"#46039f\"],[0.2222222222222222,\"#7201a8\"],[0.3333333333333333,\"#9c179e\"],[0.4444444444444444,\"#bd3786\"],[0.5555555555555556,\"#d8576b\"],[0.6666666666666666,\"#ed7953\"],[0.7777777777777778,\"#fb9f3a\"],[0.8888888888888888,\"#fdca26\"],[1.0,\"#f0f921\"]]}],\"choropleth\":[{\"type\":\"choropleth\",\"colorbar\":{\"outlinewidth\":0,\"ticks\":\"\"}}],\"histogram2d\":[{\"type\":\"histogram2d\",\"colorbar\":{\"outlinewidth\":0,\"ticks\":\"\"},\"colorscale\":[[0.0,\"#0d0887\"],[0.1111111111111111,\"#46039f\"],[0.2222222222222222,\"#7201a8\"],[0.3333333333333333,\"#9c179e\"],[0.4444444444444444,\"#bd3786\"],[0.5555555555555556,\"#d8576b\"],[0.6666666666666666,\"#ed7953\"],[0.7777777777777778,\"#fb9f3a\"],[0.8888888888888888,\"#fdca26\"],[1.0,\"#f0f921\"]]}],\"heatmap\":[{\"type\":\"heatmap\",\"colorbar\":{\"outlinewidth\":0,\"ticks\":\"\"},\"colorscale\":[[0.0,\"#0d0887\"],[0.1111111111111111,\"#46039f\"],[0.2222222222222222,\"#7201a8\"],[0.3333333333333333,\"#9c179e\"],[0.4444444444444444,\"#bd3786\"],[0.5555555555555556,\"#d8576b\"],[0.6666666666666666,\"#ed7953\"],[0.7777777777777778,\"#fb9f3a\"],[0.8888888888888888,\"#fdca26\"],[1.0,\"#f0f921\"]]}],\"heatmapgl\":[{\"type\":\"heatmapgl\",\"colorbar\":{\"outlinewidth\":0,\"ticks\":\"\"},\"colorscale\":[[0.0,\"#0d0887\"],[0.1111111111111111,\"#46039f\"],[0.2222222222222222,\"#7201a8\"],[0.3333333333333333,\"#9c179e\"],[0.4444444444444444,\"#bd3786\"],[0.5555555555555556,\"#d8576b\"],[0.6666666666666666,\"#ed7953\"],[0.7777777777777778,\"#fb9f3a\"],[0.8888888888888888,\"#fdca26\"],[1.0,\"#f0f921\"]]}],\"contourcarpet\":[{\"type\":\"contourcarpet\",\"colorbar\":{\"outlinewidth\":0,\"ticks\":\"\"}}],\"contour\":[{\"type\":\"contour\",\"colorbar\":{\"outlinewidth\":0,\"ticks\":\"\"},\"colorscale\":[[0.0,\"#0d0887\"],[0.1111111111111111,\"#46039f\"],[0.2222222222222222,\"#7201a8\"],[0.3333333333333333,\"#9c179e\"],[0.4444444444444444,\"#bd3786\"],[0.5555555555555556,\"#d8576b\"],[0.6666666666666666,\"#ed7953\"],[0.7777777777777778,\"#fb9f3a\"],[0.8888888888888888,\"#fdca26\"],[1.0,\"#f0f921\"]]}],\"surface\":[{\"type\":\"surface\",\"colorbar\":{\"outlinewidth\":0,\"ticks\":\"\"},\"colorscale\":[[0.0,\"#0d0887\"],[0.1111111111111111,\"#46039f\"],[0.2222222222222222,\"#7201a8\"],[0.3333333333333333,\"#9c179e\"],[0.4444444444444444,\"#bd3786\"],[0.5555555555555556,\"#d8576b\"],[0.6666666666666666,\"#ed7953\"],[0.7777777777777778,\"#fb9f3a\"],[0.8888888888888888,\"#fdca26\"],[1.0,\"#f0f921\"]]}],\"mesh3d\":[{\"type\":\"mesh3d\",\"colorbar\":{\"outlinewidth\":0,\"ticks\":\"\"}}],\"scatter\":[{\"fillpattern\":{\"fillmode\":\"overlay\",\"size\":10,\"solidity\":0.2},\"type\":\"scatter\"}],\"parcoords\":[{\"type\":\"parcoords\",\"line\":{\"colorbar\":{\"outlinewidth\":0,\"ticks\":\"\"}}}],\"scatterpolargl\":[{\"type\":\"scatterpolargl\",\"marker\":{\"colorbar\":{\"outlinewidth\":0,\"ticks\":\"\"}}}],\"bar\":[{\"error_x\":{\"color\":\"#2a3f5f\"},\"error_y\":{\"color\":\"#2a3f5f\"},\"marker\":{\"line\":{\"color\":\"#E5ECF6\",\"width\":0.5},\"pattern\":{\"fillmode\":\"overlay\",\"size\":10,\"solidity\":0.2}},\"type\":\"bar\"}],\"scattergeo\":[{\"type\":\"scattergeo\",\"marker\":{\"colorbar\":{\"outlinewidth\":0,\"ticks\":\"\"}}}],\"scatterpolar\":[{\"type\":\"scatterpolar\",\"marker\":{\"colorbar\":{\"outlinewidth\":0,\"ticks\":\"\"}}}],\"histogram\":[{\"marker\":{\"pattern\":{\"fillmode\":\"overlay\",\"size\":10,\"solidity\":0.2}},\"type\":\"histogram\"}],\"scattergl\":[{\"type\":\"scattergl\",\"marker\":{\"colorbar\":{\"outlinewidth\":0,\"ticks\":\"\"}}}],\"scatter3d\":[{\"type\":\"scatter3d\",\"line\":{\"colorbar\":{\"outlinewidth\":0,\"ticks\":\"\"}},\"marker\":{\"colorbar\":{\"outlinewidth\":0,\"ticks\":\"\"}}}],\"scattermapbox\":[{\"type\":\"scattermapbox\",\"marker\":{\"colorbar\":{\"outlinewidth\":0,\"ticks\":\"\"}}}],\"scatterternary\":[{\"type\":\"scatterternary\",\"marker\":{\"colorbar\":{\"outlinewidth\":0,\"ticks\":\"\"}}}],\"scattercarpet\":[{\"type\":\"scattercarpet\",\"marker\":{\"colorbar\":{\"outlinewidth\":0,\"ticks\":\"\"}}}],\"carpet\":[{\"aaxis\":{\"endlinecolor\":\"#2a3f5f\",\"gridcolor\":\"white\",\"linecolor\":\"white\",\"minorgridcolor\":\"white\",\"startlinecolor\":\"#2a3f5f\"},\"baxis\":{\"endlinecolor\":\"#2a3f5f\",\"gridcolor\":\"white\",\"linecolor\":\"white\",\"minorgridcolor\":\"white\",\"startlinecolor\":\"#2a3f5f\"},\"type\":\"carpet\"}],\"table\":[{\"cells\":{\"fill\":{\"color\":\"#EBF0F8\"},\"line\":{\"color\":\"white\"}},\"header\":{\"fill\":{\"color\":\"#C8D4E3\"},\"line\":{\"color\":\"white\"}},\"type\":\"table\"}],\"barpolar\":[{\"marker\":{\"line\":{\"color\":\"#E5ECF6\",\"width\":0.5},\"pattern\":{\"fillmode\":\"overlay\",\"size\":10,\"solidity\":0.2}},\"type\":\"barpolar\"}],\"pie\":[{\"automargin\":true,\"type\":\"pie\"}]},\"layout\":{\"autotypenumbers\":\"strict\",\"colorway\":[\"#636efa\",\"#EF553B\",\"#00cc96\",\"#ab63fa\",\"#FFA15A\",\"#19d3f3\",\"#FF6692\",\"#B6E880\",\"#FF97FF\",\"#FECB52\"],\"font\":{\"color\":\"#2a3f5f\"},\"hovermode\":\"closest\",\"hoverlabel\":{\"align\":\"left\"},\"paper_bgcolor\":\"white\",\"plot_bgcolor\":\"#E5ECF6\",\"polar\":{\"bgcolor\":\"#E5ECF6\",\"angularaxis\":{\"gridcolor\":\"white\",\"linecolor\":\"white\",\"ticks\":\"\"},\"radialaxis\":{\"gridcolor\":\"white\",\"linecolor\":\"white\",\"ticks\":\"\"}},\"ternary\":{\"bgcolor\":\"#E5ECF6\",\"aaxis\":{\"gridcolor\":\"white\",\"linecolor\":\"white\",\"ticks\":\"\"},\"baxis\":{\"gridcolor\":\"white\",\"linecolor\":\"white\",\"ticks\":\"\"},\"caxis\":{\"gridcolor\":\"white\",\"linecolor\":\"white\",\"ticks\":\"\"}},\"coloraxis\":{\"colorbar\":{\"outlinewidth\":0,\"ticks\":\"\"}},\"colorscale\":{\"sequential\":[[0.0,\"#0d0887\"],[0.1111111111111111,\"#46039f\"],[0.2222222222222222,\"#7201a8\"],[0.3333333333333333,\"#9c179e\"],[0.4444444444444444,\"#bd3786\"],[0.5555555555555556,\"#d8576b\"],[0.6666666666666666,\"#ed7953\"],[0.7777777777777778,\"#fb9f3a\"],[0.8888888888888888,\"#fdca26\"],[1.0,\"#f0f921\"]],\"sequentialminus\":[[0.0,\"#0d0887\"],[0.1111111111111111,\"#46039f\"],[0.2222222222222222,\"#7201a8\"],[0.3333333333333333,\"#9c179e\"],[0.4444444444444444,\"#bd3786\"],[0.5555555555555556,\"#d8576b\"],[0.6666666666666666,\"#ed7953\"],[0.7777777777777778,\"#fb9f3a\"],[0.8888888888888888,\"#fdca26\"],[1.0,\"#f0f921\"]],\"diverging\":[[0,\"#8e0152\"],[0.1,\"#c51b7d\"],[0.2,\"#de77ae\"],[0.3,\"#f1b6da\"],[0.4,\"#fde0ef\"],[0.5,\"#f7f7f7\"],[0.6,\"#e6f5d0\"],[0.7,\"#b8e186\"],[0.8,\"#7fbc41\"],[0.9,\"#4d9221\"],[1,\"#276419\"]]},\"xaxis\":{\"gridcolor\":\"white\",\"linecolor\":\"white\",\"ticks\":\"\",\"title\":{\"standoff\":15},\"zerolinecolor\":\"white\",\"automargin\":true,\"zerolinewidth\":2},\"yaxis\":{\"gridcolor\":\"white\",\"linecolor\":\"white\",\"ticks\":\"\",\"title\":{\"standoff\":15},\"zerolinecolor\":\"white\",\"automargin\":true,\"zerolinewidth\":2},\"scene\":{\"xaxis\":{\"backgroundcolor\":\"#E5ECF6\",\"gridcolor\":\"white\",\"linecolor\":\"white\",\"showbackground\":true,\"ticks\":\"\",\"zerolinecolor\":\"white\",\"gridwidth\":2},\"yaxis\":{\"backgroundcolor\":\"#E5ECF6\",\"gridcolor\":\"white\",\"linecolor\":\"white\",\"showbackground\":true,\"ticks\":\"\",\"zerolinecolor\":\"white\",\"gridwidth\":2},\"zaxis\":{\"backgroundcolor\":\"#E5ECF6\",\"gridcolor\":\"white\",\"linecolor\":\"white\",\"showbackground\":true,\"ticks\":\"\",\"zerolinecolor\":\"white\",\"gridwidth\":2}},\"shapedefaults\":{\"line\":{\"color\":\"#2a3f5f\"}},\"annotationdefaults\":{\"arrowcolor\":\"#2a3f5f\",\"arrowhead\":0,\"arrowwidth\":1},\"geo\":{\"bgcolor\":\"white\",\"landcolor\":\"#E5ECF6\",\"subunitcolor\":\"white\",\"showland\":true,\"showlakes\":true,\"lakecolor\":\"white\"},\"title\":{\"x\":0.05},\"mapbox\":{\"style\":\"light\"}}},\"geo\":{\"domain\":{\"x\":[0.0,1.0],\"y\":[0.0,1.0]},\"center\":{}},\"legend\":{\"title\":{\"text\":\"2010 [YR2010]\"},\"tracegroupgap\":0},\"margin\":{\"t\":60}},                        {\"responsive\": true}                    ).then(function(){\n",
       "                            \n",
       "var gd = document.getElementById('8b60850f-e585-4e0a-8bba-a88133e12918');\n",
       "var x = new MutationObserver(function (mutations, observer) {{\n",
       "        var display = window.getComputedStyle(gd).display;\n",
       "        if (!display || display === 'none') {{\n",
       "            console.log([gd, 'removed!']);\n",
       "            Plotly.purge(gd);\n",
       "            observer.disconnect();\n",
       "        }}\n",
       "}});\n",
       "\n",
       "// Listen for the removal of the full notebook cells\n",
       "var notebookContainer = gd.closest('#notebook-container');\n",
       "if (notebookContainer) {{\n",
       "    x.observe(notebookContainer, {childList: true});\n",
       "}}\n",
       "\n",
       "// Listen for the clearing of the current output cell\n",
       "var outputEl = gd.closest('.output');\n",
       "if (outputEl) {{\n",
       "    x.observe(outputEl, {childList: true});\n",
       "}}\n",
       "\n",
       "                        })                };                });            </script>        </div>"
      ]
     },
     "metadata": {},
     "output_type": "display_data"
    }
   ],
   "source": [
    "px.choropleth(dff, locations=\"Country Code\", color=\"2010 [YR2010]\", hover_name=\"Country Name\", color_continuous_scale=px.colors.sequential.Plasma)"
   ]
  },
  {
   "cell_type": "code",
   "execution_count": 20,
   "id": "01142cce-9269-40b9-9248-4628f9676f0e",
   "metadata": {},
   "outputs": [
    {
     "data": {
      "text/html": [
       "<div>\n",
       "<style scoped>\n",
       "    .dataframe tbody tr th:only-of-type {\n",
       "        vertical-align: middle;\n",
       "    }\n",
       "\n",
       "    .dataframe tbody tr th {\n",
       "        vertical-align: top;\n",
       "    }\n",
       "\n",
       "    .dataframe thead th {\n",
       "        text-align: right;\n",
       "    }\n",
       "</style>\n",
       "<table border=\"1\" class=\"dataframe\">\n",
       "  <thead>\n",
       "    <tr style=\"text-align: right;\">\n",
       "      <th></th>\n",
       "      <th>Series Name</th>\n",
       "      <th>Series Code</th>\n",
       "      <th>Country Name</th>\n",
       "      <th>Country Code</th>\n",
       "      <th>2005 [YR2005]</th>\n",
       "      <th>2006 [YR2006]</th>\n",
       "      <th>2007 [YR2007]</th>\n",
       "      <th>2008 [YR2008]</th>\n",
       "      <th>2009 [YR2009]</th>\n",
       "      <th>2010 [YR2010]</th>\n",
       "      <th>...</th>\n",
       "      <th>2014 [YR2014]</th>\n",
       "      <th>2015 [YR2015]</th>\n",
       "      <th>2016 [YR2016]</th>\n",
       "      <th>2017 [YR2017]</th>\n",
       "      <th>2018 [YR2018]</th>\n",
       "      <th>2019 [YR2019]</th>\n",
       "      <th>2020 [YR2020]</th>\n",
       "      <th>2021 [YR2021]</th>\n",
       "      <th>2022 [YR2022]</th>\n",
       "      <th>2023 [YR2023]</th>\n",
       "    </tr>\n",
       "  </thead>\n",
       "  <tbody>\n",
       "    <tr>\n",
       "      <th>112252</th>\n",
       "      <td>School enrollment, primary (% net)</td>\n",
       "      <td>SE.PRM.NENR</td>\n",
       "      <td>Afghanistan</td>\n",
       "      <td>AFG</td>\n",
       "      <td>..</td>\n",
       "      <td>..</td>\n",
       "      <td>..</td>\n",
       "      <td>..</td>\n",
       "      <td>..</td>\n",
       "      <td>..</td>\n",
       "      <td>...</td>\n",
       "      <td>..</td>\n",
       "      <td>..</td>\n",
       "      <td>..</td>\n",
       "      <td>..</td>\n",
       "      <td>..</td>\n",
       "      <td>..</td>\n",
       "      <td>..</td>\n",
       "      <td>..</td>\n",
       "      <td>..</td>\n",
       "      <td>..</td>\n",
       "    </tr>\n",
       "    <tr>\n",
       "      <th>112253</th>\n",
       "      <td>School enrollment, primary (% net)</td>\n",
       "      <td>SE.PRM.NENR</td>\n",
       "      <td>Africa Eastern and Southern</td>\n",
       "      <td>AFE</td>\n",
       "      <td>..</td>\n",
       "      <td>..</td>\n",
       "      <td>..</td>\n",
       "      <td>..</td>\n",
       "      <td>..</td>\n",
       "      <td>..</td>\n",
       "      <td>...</td>\n",
       "      <td>..</td>\n",
       "      <td>..</td>\n",
       "      <td>..</td>\n",
       "      <td>..</td>\n",
       "      <td>..</td>\n",
       "      <td>..</td>\n",
       "      <td>..</td>\n",
       "      <td>..</td>\n",
       "      <td>..</td>\n",
       "      <td>..</td>\n",
       "    </tr>\n",
       "    <tr>\n",
       "      <th>112254</th>\n",
       "      <td>School enrollment, primary (% net)</td>\n",
       "      <td>SE.PRM.NENR</td>\n",
       "      <td>Africa Western and Central</td>\n",
       "      <td>AFW</td>\n",
       "      <td>..</td>\n",
       "      <td>..</td>\n",
       "      <td>..</td>\n",
       "      <td>..</td>\n",
       "      <td>..</td>\n",
       "      <td>..</td>\n",
       "      <td>...</td>\n",
       "      <td>..</td>\n",
       "      <td>..</td>\n",
       "      <td>..</td>\n",
       "      <td>..</td>\n",
       "      <td>..</td>\n",
       "      <td>..</td>\n",
       "      <td>..</td>\n",
       "      <td>..</td>\n",
       "      <td>..</td>\n",
       "      <td>..</td>\n",
       "    </tr>\n",
       "    <tr>\n",
       "      <th>112255</th>\n",
       "      <td>School enrollment, primary (% net)</td>\n",
       "      <td>SE.PRM.NENR</td>\n",
       "      <td>Albania</td>\n",
       "      <td>ALB</td>\n",
       "      <td>..</td>\n",
       "      <td>..</td>\n",
       "      <td>..</td>\n",
       "      <td>86.78701</td>\n",
       "      <td>85.34118</td>\n",
       "      <td>85.95611</td>\n",
       "      <td>...</td>\n",
       "      <td>93.78369</td>\n",
       "      <td>94.17835</td>\n",
       "      <td>94.05692</td>\n",
       "      <td>95.53947</td>\n",
       "      <td>94.52966</td>\n",
       "      <td>..</td>\n",
       "      <td>..</td>\n",
       "      <td>..</td>\n",
       "      <td>..</td>\n",
       "      <td>..</td>\n",
       "    </tr>\n",
       "    <tr>\n",
       "      <th>112256</th>\n",
       "      <td>School enrollment, primary (% net)</td>\n",
       "      <td>SE.PRM.NENR</td>\n",
       "      <td>Algeria</td>\n",
       "      <td>DZA</td>\n",
       "      <td>93.09766</td>\n",
       "      <td>93.20169</td>\n",
       "      <td>95.24939</td>\n",
       "      <td>96.36304</td>\n",
       "      <td>97.44184</td>\n",
       "      <td>97.23353</td>\n",
       "      <td>...</td>\n",
       "      <td>..</td>\n",
       "      <td>97.54838</td>\n",
       "      <td>97.5908</td>\n",
       "      <td>97.5883</td>\n",
       "      <td>97.63517</td>\n",
       "      <td>..</td>\n",
       "      <td>..</td>\n",
       "      <td>..</td>\n",
       "      <td>..</td>\n",
       "      <td>..</td>\n",
       "    </tr>\n",
       "    <tr>\n",
       "      <th>...</th>\n",
       "      <td>...</td>\n",
       "      <td>...</td>\n",
       "      <td>...</td>\n",
       "      <td>...</td>\n",
       "      <td>...</td>\n",
       "      <td>...</td>\n",
       "      <td>...</td>\n",
       "      <td>...</td>\n",
       "      <td>...</td>\n",
       "      <td>...</td>\n",
       "      <td>...</td>\n",
       "      <td>...</td>\n",
       "      <td>...</td>\n",
       "      <td>...</td>\n",
       "      <td>...</td>\n",
       "      <td>...</td>\n",
       "      <td>...</td>\n",
       "      <td>...</td>\n",
       "      <td>...</td>\n",
       "      <td>...</td>\n",
       "      <td>...</td>\n",
       "    </tr>\n",
       "    <tr>\n",
       "      <th>112513</th>\n",
       "      <td>School enrollment, primary (% net)</td>\n",
       "      <td>SE.PRM.NENR</td>\n",
       "      <td>West Bank and Gaza</td>\n",
       "      <td>PSE</td>\n",
       "      <td>79.69969</td>\n",
       "      <td>80.21203</td>\n",
       "      <td>79.59043</td>\n",
       "      <td>83.73253</td>\n",
       "      <td>85.43541</td>\n",
       "      <td>87.00422</td>\n",
       "      <td>...</td>\n",
       "      <td>93.53142</td>\n",
       "      <td>93.22201</td>\n",
       "      <td>93.8445</td>\n",
       "      <td>95.26274</td>\n",
       "      <td>94.84281</td>\n",
       "      <td>..</td>\n",
       "      <td>..</td>\n",
       "      <td>..</td>\n",
       "      <td>..</td>\n",
       "      <td>..</td>\n",
       "    </tr>\n",
       "    <tr>\n",
       "      <th>112514</th>\n",
       "      <td>School enrollment, primary (% net)</td>\n",
       "      <td>SE.PRM.NENR</td>\n",
       "      <td>World</td>\n",
       "      <td>WLD</td>\n",
       "      <td>86.78988</td>\n",
       "      <td>87.21038</td>\n",
       "      <td>88.44145</td>\n",
       "      <td>88.65773</td>\n",
       "      <td>88.62895</td>\n",
       "      <td>88.63339</td>\n",
       "      <td>...</td>\n",
       "      <td>89.22588</td>\n",
       "      <td>89.16969</td>\n",
       "      <td>89.41678</td>\n",
       "      <td>89.26194</td>\n",
       "      <td>89.4124</td>\n",
       "      <td>..</td>\n",
       "      <td>..</td>\n",
       "      <td>..</td>\n",
       "      <td>..</td>\n",
       "      <td>..</td>\n",
       "    </tr>\n",
       "    <tr>\n",
       "      <th>112515</th>\n",
       "      <td>School enrollment, primary (% net)</td>\n",
       "      <td>SE.PRM.NENR</td>\n",
       "      <td>Yemen, Rep.</td>\n",
       "      <td>YEM</td>\n",
       "      <td>76.71869</td>\n",
       "      <td>..</td>\n",
       "      <td>..</td>\n",
       "      <td>76.80185</td>\n",
       "      <td>..</td>\n",
       "      <td>81.53256</td>\n",
       "      <td>...</td>\n",
       "      <td>..</td>\n",
       "      <td>..</td>\n",
       "      <td>84.16556</td>\n",
       "      <td>..</td>\n",
       "      <td>..</td>\n",
       "      <td>..</td>\n",
       "      <td>..</td>\n",
       "      <td>..</td>\n",
       "      <td>..</td>\n",
       "      <td>..</td>\n",
       "    </tr>\n",
       "    <tr>\n",
       "      <th>112516</th>\n",
       "      <td>School enrollment, primary (% net)</td>\n",
       "      <td>SE.PRM.NENR</td>\n",
       "      <td>Zambia</td>\n",
       "      <td>ZMB</td>\n",
       "      <td>89.74576</td>\n",
       "      <td>89.24665</td>\n",
       "      <td>90.45893</td>\n",
       "      <td>92.16696</td>\n",
       "      <td>87.28261</td>\n",
       "      <td>84.80889</td>\n",
       "      <td>...</td>\n",
       "      <td>..</td>\n",
       "      <td>..</td>\n",
       "      <td>..</td>\n",
       "      <td>83.16745</td>\n",
       "      <td>..</td>\n",
       "      <td>..</td>\n",
       "      <td>..</td>\n",
       "      <td>..</td>\n",
       "      <td>..</td>\n",
       "      <td>..</td>\n",
       "    </tr>\n",
       "    <tr>\n",
       "      <th>112517</th>\n",
       "      <td>School enrollment, primary (% net)</td>\n",
       "      <td>SE.PRM.NENR</td>\n",
       "      <td>Zimbabwe</td>\n",
       "      <td>ZWE</td>\n",
       "      <td>..</td>\n",
       "      <td>..</td>\n",
       "      <td>..</td>\n",
       "      <td>..</td>\n",
       "      <td>..</td>\n",
       "      <td>..</td>\n",
       "      <td>...</td>\n",
       "      <td>..</td>\n",
       "      <td>..</td>\n",
       "      <td>..</td>\n",
       "      <td>..</td>\n",
       "      <td>..</td>\n",
       "      <td>..</td>\n",
       "      <td>..</td>\n",
       "      <td>..</td>\n",
       "      <td>..</td>\n",
       "      <td>..</td>\n",
       "    </tr>\n",
       "  </tbody>\n",
       "</table>\n",
       "<p>266 rows × 23 columns</p>\n",
       "</div>"
      ],
      "text/plain": [
       "                               Series Name  Series Code  \\\n",
       "112252  School enrollment, primary (% net)  SE.PRM.NENR   \n",
       "112253  School enrollment, primary (% net)  SE.PRM.NENR   \n",
       "112254  School enrollment, primary (% net)  SE.PRM.NENR   \n",
       "112255  School enrollment, primary (% net)  SE.PRM.NENR   \n",
       "112256  School enrollment, primary (% net)  SE.PRM.NENR   \n",
       "...                                    ...          ...   \n",
       "112513  School enrollment, primary (% net)  SE.PRM.NENR   \n",
       "112514  School enrollment, primary (% net)  SE.PRM.NENR   \n",
       "112515  School enrollment, primary (% net)  SE.PRM.NENR   \n",
       "112516  School enrollment, primary (% net)  SE.PRM.NENR   \n",
       "112517  School enrollment, primary (% net)  SE.PRM.NENR   \n",
       "\n",
       "                       Country Name Country Code 2005 [YR2005] 2006 [YR2006]  \\\n",
       "112252                  Afghanistan          AFG            ..            ..   \n",
       "112253  Africa Eastern and Southern          AFE            ..            ..   \n",
       "112254   Africa Western and Central          AFW            ..            ..   \n",
       "112255                      Albania          ALB            ..            ..   \n",
       "112256                      Algeria          DZA      93.09766      93.20169   \n",
       "...                             ...          ...           ...           ...   \n",
       "112513           West Bank and Gaza          PSE      79.69969      80.21203   \n",
       "112514                        World          WLD      86.78988      87.21038   \n",
       "112515                  Yemen, Rep.          YEM      76.71869            ..   \n",
       "112516                       Zambia          ZMB      89.74576      89.24665   \n",
       "112517                     Zimbabwe          ZWE            ..            ..   \n",
       "\n",
       "       2007 [YR2007] 2008 [YR2008] 2009 [YR2009] 2010 [YR2010]  ...  \\\n",
       "112252            ..            ..            ..            ..  ...   \n",
       "112253            ..            ..            ..            ..  ...   \n",
       "112254            ..            ..            ..            ..  ...   \n",
       "112255            ..      86.78701      85.34118      85.95611  ...   \n",
       "112256      95.24939      96.36304      97.44184      97.23353  ...   \n",
       "...              ...           ...           ...           ...  ...   \n",
       "112513      79.59043      83.73253      85.43541      87.00422  ...   \n",
       "112514      88.44145      88.65773      88.62895      88.63339  ...   \n",
       "112515            ..      76.80185            ..      81.53256  ...   \n",
       "112516      90.45893      92.16696      87.28261      84.80889  ...   \n",
       "112517            ..            ..            ..            ..  ...   \n",
       "\n",
       "       2014 [YR2014] 2015 [YR2015] 2016 [YR2016] 2017 [YR2017] 2018 [YR2018]  \\\n",
       "112252            ..            ..            ..            ..            ..   \n",
       "112253            ..            ..            ..            ..            ..   \n",
       "112254            ..            ..            ..            ..            ..   \n",
       "112255      93.78369      94.17835      94.05692      95.53947      94.52966   \n",
       "112256            ..      97.54838       97.5908       97.5883      97.63517   \n",
       "...              ...           ...           ...           ...           ...   \n",
       "112513      93.53142      93.22201       93.8445      95.26274      94.84281   \n",
       "112514      89.22588      89.16969      89.41678      89.26194       89.4124   \n",
       "112515            ..            ..      84.16556            ..            ..   \n",
       "112516            ..            ..            ..      83.16745            ..   \n",
       "112517            ..            ..            ..            ..            ..   \n",
       "\n",
       "       2019 [YR2019] 2020 [YR2020] 2021 [YR2021] 2022 [YR2022] 2023 [YR2023]  \n",
       "112252            ..            ..            ..            ..            ..  \n",
       "112253            ..            ..            ..            ..            ..  \n",
       "112254            ..            ..            ..            ..            ..  \n",
       "112255            ..            ..            ..            ..            ..  \n",
       "112256            ..            ..            ..            ..            ..  \n",
       "...              ...           ...           ...           ...           ...  \n",
       "112513            ..            ..            ..            ..            ..  \n",
       "112514            ..            ..            ..            ..            ..  \n",
       "112515            ..            ..            ..            ..            ..  \n",
       "112516            ..            ..            ..            ..            ..  \n",
       "112517            ..            ..            ..            ..            ..  \n",
       "\n",
       "[266 rows x 23 columns]"
      ]
     },
     "execution_count": 20,
     "metadata": {},
     "output_type": "execute_result"
    }
   ],
   "source": [
    "dff"
   ]
  },
  {
   "cell_type": "code",
   "execution_count": null,
   "id": "f17394e5-697e-4e01-a8cf-e8916b38f48b",
   "metadata": {},
   "outputs": [],
   "source": []
  }
 ],
 "metadata": {
  "kernelspec": {
   "display_name": "Python 3 (ipykernel)",
   "language": "python",
   "name": "python3"
  },
  "language_info": {
   "codemirror_mode": {
    "name": "ipython",
    "version": 3
   },
   "file_extension": ".py",
   "mimetype": "text/x-python",
   "name": "python",
   "nbconvert_exporter": "python",
   "pygments_lexer": "ipython3",
   "version": "3.12.4"
  }
 },
 "nbformat": 4,
 "nbformat_minor": 5
}
