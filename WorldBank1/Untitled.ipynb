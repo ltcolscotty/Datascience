{
 "cells": [
  {
   "cell_type": "code",
   "execution_count": 15,
   "id": "02053065-9686-4030-a7b9-c37c5d20df49",
   "metadata": {},
   "outputs": [],
   "source": [
    "import pandas as pd\n",
    "import plotly.express as px"
   ]
  },
  {
   "cell_type": "code",
   "execution_count": 7,
   "id": "d16c389b-ca6f-498a-8ce0-3dd20db481e8",
   "metadata": {},
   "outputs": [],
   "source": [
    "df1 = pd.read_csv('data/data1.csv')"
   ]
  },
  {
   "cell_type": "code",
   "execution_count": 9,
   "id": "3f531c7f-acf0-49c6-9a45-c4b289ad15c1",
   "metadata": {},
   "outputs": [],
   "source": [
    "df1.dropna(inplace=True)"
   ]
  },
  {
   "cell_type": "code",
   "execution_count": 17,
   "id": "b827865e-eacb-48b8-9bab-dd0865cf69ff",
   "metadata": {},
   "outputs": [
    {
     "data": {
      "text/plain": [
       "array(['Adolescent fertility rate (births per 1,000 women ages 15-19)',\n",
       "       'Adults (ages 15+) and children (0-14 years) living with HIV',\n",
       "       'Adults (ages 15+) and children (ages 0-14) newly infected with HIV',\n",
       "       'Adults (ages 15+) living with HIV',\n",
       "       'Adults (ages 15-49) newly infected with HIV',\n",
       "       'Age at first marriage, female', 'Age at first marriage, male',\n",
       "       'Age dependency ratio (% of working-age population)',\n",
       "       'Age dependency ratio, old', 'Age dependency ratio, young',\n",
       "       'Age population, age 00, female', 'Age population, age 00, male',\n",
       "       'Age population, age 01, female', 'Age population, age 01, male',\n",
       "       'Age population, age 02, female', 'Age population, age 02, male',\n",
       "       'Age population, age 03, female', 'Age population, age 03, male',\n",
       "       'Age population, age 04, female', 'Age population, age 04, male',\n",
       "       'Age population, age 05, female', 'Age population, age 05, male',\n",
       "       'Age population, age 06, female', 'Age population, age 06, male',\n",
       "       'Age population, age 07, female', 'Age population, age 07, male',\n",
       "       'Age population, age 08, female', 'Age population, age 08, male',\n",
       "       'Age population, age 09, female', 'Age population, age 09, male',\n",
       "       'Age population, age 10, female', 'Age population, age 10, male',\n",
       "       'Age population, age 11, female', 'Age population, age 11, male',\n",
       "       'Age population, age 12, female', 'Age population, age 12, male',\n",
       "       'Age population, age 13, female', 'Age population, age 13, male',\n",
       "       'Age population, age 14, female', 'Age population, age 14, male',\n",
       "       'Age population, age 15, female', 'Age population, age 15, male',\n",
       "       'Age population, age 16, female', 'Age population, age 16, male',\n",
       "       'Age population, age 17, female', 'Age population, age 17, male',\n",
       "       'Age population, age 18, female', 'Age population, age 18, male',\n",
       "       'Age population, age 19, female', 'Age population, age 19, male',\n",
       "       'Age population, age 20, female', 'Age population, age 20, male',\n",
       "       'Age population, age 21, female', 'Age population, age 21, male',\n",
       "       'Age population, age 22, female', 'Age population, age 22, male',\n",
       "       'Age population, age 23, female', 'Age population, age 23, male',\n",
       "       'Age population, age 24, female', 'Age population, age 24, male',\n",
       "       'Age population, age 25, female', 'Age population, age 25, male',\n",
       "       'AIDS estimated deaths (UNAIDS estimates)',\n",
       "       'Antiretroviral therapy coverage (% of people living with HIV)',\n",
       "       'Antiretroviral therapy coverage for PMTCT (% of pregnant women living with HIV)',\n",
       "       'ARI treatment (% of children under 5 taken to a health provider)',\n",
       "       'Birth rate, crude (per 1,000 people)',\n",
       "       'Births attended by skilled health staff (% of total)',\n",
       "       'Capital health expenditure (% of GDP)',\n",
       "       'Cause of death, by communicable diseases and maternal, prenatal and nutrition conditions (% of total)',\n",
       "       'Cause of death, by injury (% of total)',\n",
       "       'Cause of death, by non-communicable diseases (% of total)',\n",
       "       'Children (0-14) living with HIV',\n",
       "       'Children (ages 0-14) newly infected with HIV',\n",
       "       'Children orphaned by HIV/AIDS',\n",
       "       'Children with fever receiving antimalarial drugs (% of children under age 5 with fever)',\n",
       "       'Community health workers (per 1,000 people)',\n",
       "       'Completeness of birth registration (%)',\n",
       "       'Completeness of birth registration, female (%)',\n",
       "       'Completeness of birth registration, male (%)',\n",
       "       'Completeness of birth registration, rural (%)',\n",
       "       'Completeness of birth registration, urban (%)',\n",
       "       'Completeness of death registration with cause-of-death information (%)',\n",
       "       'Comprehensive correct knowledge of HIV/AIDS, ages 15-24, female (2 prevent ways and reject 3 misconceptions)',\n",
       "       'Comprehensive correct knowledge of HIV/AIDS, ages 15-24, male (2 prevent ways and reject 3 misconceptions)',\n",
       "       'Comprehensive correct knowledge of HIV/AIDS, ages 15-49, female (2 prevent ways and reject 3 misconceptions)',\n",
       "       'Comprehensive correct knowledge of HIV/AIDS, ages 15-49, male (2 prevent ways and reject 3 misconceptions)',\n",
       "       'Condom use at last high-risk sex, adult female (% ages 15-49)',\n",
       "       'Condom use at last high-risk sex, adult male (% ages 15-49)',\n",
       "       'Condom use, population ages 15-24, female (% of females ages 15-24)',\n",
       "       'Condom use, population ages 15-24, male (% of males ages 15-24)',\n",
       "       'Consumption of iodized salt (% of households)',\n",
       "       'Contraceptive prevalence, any method (% of all women ages 15-49)',\n",
       "       'Contraceptive prevalence, any method (% of married women ages 15-49)',\n",
       "       'Contraceptive prevalence, any method (% of sexually active unmarried women ages 15-49)',\n",
       "       'Contraceptive prevalence, any modern method (% of all women ages 15-49)',\n",
       "       'Contraceptive prevalence, any modern method (% of married women ages 15-49)',\n",
       "       'Contraceptive prevalence, any modern method (% of sexually active unmarried women ages 15-49)',\n",
       "       'Current health expenditure (% of GDP)',\n",
       "       'Current health expenditure per capita (current US$)',\n",
       "       'Current health expenditure per capita, PPP (current international $)',\n",
       "       'Death rate, crude (per 1,000 people)',\n",
       "       'Demand for family planning satisfied by any methods (% of married women with demand for family planning)',\n",
       "       'Demand for family planning satisfied by modern methods (% of married women with demand for family planning)',\n",
       "       'Diabetes prevalence (% of population ages 20 to 79)',\n",
       "       'Diarrhea treatment (% of children under 5 receiving oral rehydration and continued feeding)',\n",
       "       'Diarrhea treatment (% of children under 5 who received ORS packet)',\n",
       "       'Domestic general government health expenditure (% of current health expenditure)',\n",
       "       'Domestic general government health expenditure (% of GDP)',\n",
       "       'Domestic general government health expenditure (% of general government expenditure)',\n",
       "       'Domestic general government health expenditure per capita (current US$)',\n",
       "       'Domestic general government health expenditure per capita, PPP (current international $)',\n",
       "       'Domestic private health expenditure (% of current health expenditure)',\n",
       "       'Domestic private health expenditure per capita (current US$)',\n",
       "       'Domestic private health expenditure per capita, PPP  (current international $)',\n",
       "       'Exclusive breastfeeding (% of children under 6 months)',\n",
       "       'External health expenditure (% of current health expenditure)',\n",
       "       'External health expenditure channeled through government (% of external health expenditure)',\n",
       "       'External health expenditure per capita (current US$)',\n",
       "       'External health expenditure per capita, PPP (current international $)',\n",
       "       'Female headed households (% of households with a female head)',\n",
       "       'Fertility rate, total (births per woman)',\n",
       "       'GNI per capita, Atlas method (current US$)',\n",
       "       'Hospital beds (per 1,000 people)',\n",
       "       'Human capital index (HCI) (scale 0-1)',\n",
       "       'Human capital index (HCI), female (scale 0-1)',\n",
       "       'Human capital index (HCI), female, lower bound (scale 0-1)',\n",
       "       'Human capital index (HCI), female, upper bound (scale 0-1)',\n",
       "       'Human capital index (HCI), lower bound (scale 0-1)',\n",
       "       'Human capital index (HCI), male (scale 0-1)',\n",
       "       'Human capital index (HCI), male, lower bound (scale 0-1)',\n",
       "       'Human capital index (HCI), male, upper bound (scale 0-1)',\n",
       "       'Human capital index (HCI), upper bound (scale 0-1)',\n",
       "       'Immunization, BCG (% of one-year-old children)',\n",
       "       'Immunization, DPT (% of children ages 12-23 months)',\n",
       "       'Immunization, HepB3 (% of one-year-old children)',\n",
       "       'Immunization, Hib3 (% of children ages 12-23 months)',\n",
       "       'Immunization, measles (% of children ages 12-23 months)',\n",
       "       'Immunization, measles second dose (% of children by the nationally recommended age)',\n",
       "       'Immunization, Pol3 (% of one-year-old children)',\n",
       "       'Incidence of HIV, ages 15-24 (per 1,000 uninfected population ages 15-24)',\n",
       "       'Incidence of HIV, ages 15-49 (per 1,000 uninfected population ages 15-49)',\n",
       "       'Incidence of HIV, ages 50+ (per 1,000 uninfected population ages 50+)',\n",
       "       'Incidence of HIV, all (per 1,000 uninfected population)',\n",
       "       'Incidence of malaria (per 1,000 population at risk)',\n",
       "       'Incidence of tuberculosis (per 100,000 people)',\n",
       "       'Infant and young child feeding practices, all 3 IYCF (% children ages 6-23 months)',\n",
       "       'Intermittent preventive treatment (IPT) of malaria in pregnancy (% of pregnant women)',\n",
       "       'Labor force, female (% of total labor force)',\n",
       "       'Labor force, total', 'Life expectancy at birth, female (years)',\n",
       "       'Life expectancy at birth, male (years)',\n",
       "       'Life expectancy at birth, total (years)',\n",
       "       'Lifetime risk of maternal death (%)',\n",
       "       'Lifetime risk of maternal death (1 in: rate varies by country)',\n",
       "       'Literacy rate, adult female (% of females ages 15 and above)',\n",
       "       'Literacy rate, adult male (% of males ages 15 and above)',\n",
       "       'Literacy rate, adult total (% of people ages 15 and above)',\n",
       "       'Literacy rate, youth male (% of males ages 15-24)',\n",
       "       'Literacy rate, youth total (% of people ages 15-24)',\n",
       "       'Low-birthweight babies (% of births)', 'Malaria cases reported',\n",
       "       'Maternal leave benefits (% of wages paid in covered period)',\n",
       "       'Maternal mortality ratio (modeled estimate, per 100,000 live births)',\n",
       "       'Maternal mortality ratio (national estimate, per 100,000 live births)',\n",
       "       'Mortality caused by road traffic injury (per 100,000 people)',\n",
       "       'Mortality caused by road traffic injury, female (per 100,000 female population)',\n",
       "       'Mortality caused by road traffic injury, male (per 100,000 male population)',\n",
       "       'Mortality from CVD, cancer, diabetes or CRD between exact ages 30 and 70 (%)',\n",
       "       'Mortality from CVD, cancer, diabetes or CRD between exact ages 30 and 70, female (%)',\n",
       "       'Mortality from CVD, cancer, diabetes or CRD between exact ages 30 and 70, male (%)',\n",
       "       'Mortality rate attributed to household and ambient air pollution (per 100,000 population)',\n",
       "       'Mortality rate attributed to household and ambient air pollution, age-standardized, female (per 100,000 female population)',\n",
       "       'Mortality rate attributed to household and ambient air pollution, age-standardized, male (per 100,000 male population)',\n",
       "       'Mortality rate attributed to unintentional poisoning (per 100,000 population)',\n",
       "       'Mortality rate attributed to unintentional poisoning, female (per 100,000 female population)',\n",
       "       'Mortality rate attributed to unintentional poisoning, male (per 100,000 male population)',\n",
       "       'Mortality rate attributed to unsafe water, unsafe sanitation and lack of hygiene (per 100,000 population)',\n",
       "       'Mortality rate attributed to unsafe water, unsafe sanitation and lack of hygiene, female (per 100,000 female population)',\n",
       "       'Mortality rate attributed to unsafe water, unsafe sanitation and lack of hygiene, male (per 100,000 male population)',\n",
       "       'Mortality rate, adult, female (per 1,000 female adults)',\n",
       "       'Mortality rate, adult, male (per 1,000 male adults)',\n",
       "       'Mortality rate, infant (per 1,000 live births)',\n",
       "       'Mortality rate, infant, female (per 1,000 live births)',\n",
       "       'Mortality rate, infant, male (per 1,000 live births)',\n",
       "       'Mortality rate, neonatal (per 1,000 live births)',\n",
       "       'Mortality rate, under-5 (per 1,000)',\n",
       "       'Mortality rate, under-5, female (per 1,000)',\n",
       "       'Mortality rate, under-5, male (per 1,000)', 'Net migration',\n",
       "       'Newborns protected against tetanus (%)',\n",
       "       'Number of deaths ages 10-14 years',\n",
       "       'Number of deaths ages 10-14 years, female',\n",
       "       'Number of deaths ages 10-14 years, male',\n",
       "       'Number of deaths ages 10-19 years',\n",
       "       'Number of deaths ages 10-19 years, female',\n",
       "       'Number of deaths ages 10-19 years, male',\n",
       "       'Number of deaths ages 15-19 years',\n",
       "       'Number of deaths ages 15-19 years, female',\n",
       "       'Number of deaths ages 15-19 years, male',\n",
       "       'Number of deaths ages 20-24 years',\n",
       "       'Number of deaths ages 20-24 years, female',\n",
       "       'Number of deaths ages 20-24 years, male',\n",
       "       'Number of deaths ages 5-9 years',\n",
       "       'Number of deaths ages 5-9 years, female',\n",
       "       'Number of deaths ages 5-9 years, male', 'Number of infant deaths',\n",
       "       'Number of infant deaths, female', 'Number of infant deaths, male',\n",
       "       'Number of maternal deaths', 'Number of neonatal deaths',\n",
       "       'Number of people pushed below the $2.15 ($ 2017 PPP) poverty line by out-of-pocket health care expenditure',\n",
       "       'Number of people pushed below the $3.65 ($ 2017 PPP) poverty line by out-of-pocket health care expenditure',\n",
       "       'Number of people pushed below the 60% median consumption poverty line by out-of-pocket health care expenditure',\n",
       "       'Number of people pushed further below the $2.15 ($ 2017 PPP) poverty line by out-of-pocket health care expenditure',\n",
       "       'Number of people pushed further below the $3.65 ($ 2017 PPP) poverty line by out-of-pocket health care expenditure',\n",
       "       'Number of people pushed further below the 60% median consumption poverty line by out-of-pocket health care expenditure',\n",
       "       'Number of people pushed or further pushed below the $2.15 ($ 2017 PPP) poverty line by out-of-pocket health care expenditure',\n",
       "       'Number of people pushed or further pushed below the $3.65 ($ 2017 PPP) poverty line by out-of-pocket health care expenditure',\n",
       "       'Number of people pushed or further pushed below the 60% median consumption poverty line by out-of-pocket health care expenditure',\n",
       "       'Number of people spending more than 10% of household consumption or income on out-of-pocket health care expenditure',\n",
       "       'Number of people spending more than 25% of household consumption or income on out-of-pocket health care expenditure',\n",
       "       'Number of people who are undernourished', 'Number of stillbirths',\n",
       "       'Number of surgical procedures (per 100,000 population)',\n",
       "       'Number of under-five deaths',\n",
       "       'Number of under-five deaths, female',\n",
       "       'Number of under-five deaths, male',\n",
       "       'Number of weeks of maternity leave',\n",
       "       'Nurses and midwives (per 1,000 people)',\n",
       "       'Out-of-pocket expenditure (% of current health expenditure)',\n",
       "       'Out-of-pocket expenditure per capita (current US$)',\n",
       "       'Out-of-pocket expenditure per capita, PPP (current international $)',\n",
       "       'People practicing open defecation (% of population)',\n",
       "       'People practicing open defecation, rural (% of rural population)',\n",
       "       'People practicing open defecation, urban (% of urban population)',\n",
       "       'People using at least basic drinking water services (% of population)',\n",
       "       'People using at least basic drinking water services, rural (% of rural population)',\n",
       "       'People using at least basic drinking water services, urban (% of urban population)',\n",
       "       'People using at least basic sanitation services (% of population)',\n",
       "       'People using at least basic sanitation services, rural (% of rural population)',\n",
       "       'People using at least basic sanitation services, urban  (% of urban population)',\n",
       "       'People using safely managed drinking water services (% of population)',\n",
       "       'People using safely managed drinking water services, rural (% of rural population)',\n",
       "       'People using safely managed drinking water services, urban (% of urban population)',\n",
       "       'People using safely managed sanitation services (% of population)',\n",
       "       'People using safely managed sanitation services, rural (% of rural population)',\n",
       "       'People using safely managed sanitation services, urban  (% of urban population)',\n",
       "       'People with basic handwashing facilities including soap and water (% of population)',\n",
       "       'People with basic handwashing facilities including soap and water, rural (% of rural population)',\n",
       "       'People with basic handwashing facilities including soap and water, urban (% of urban population)',\n",
       "       'Physicians (per 1,000 people)', 'Population ages 00-04, female',\n",
       "       'Population ages 00-04, female (% of female population)',\n",
       "       'Population ages 00-04, male',\n",
       "       'Population ages 00-04, male (% of male population)',\n",
       "       'Population ages 00-14, total',\n",
       "       'Population ages 0-14 (% of total population)',\n",
       "       'Population ages 0-14, female',\n",
       "       'Population ages 0-14, female (% of female population)',\n",
       "       'Population ages 0-14, male',\n",
       "       'Population ages 0-14, male (% of male population)',\n",
       "       'Population ages 05-09, female',\n",
       "       'Population ages 05-09, female (% of female population)',\n",
       "       'Population ages 05-09, male',\n",
       "       'Population ages 05-09, male (% of male population)',\n",
       "       'Population ages 10-14, female',\n",
       "       'Population ages 10-14, female (% of female population)',\n",
       "       'Population ages 10-14, male',\n",
       "       'Population ages 10-14, male (% of male population)',\n",
       "       'Population ages 15-19, female',\n",
       "       'Population ages 15-19, female (% of female population)',\n",
       "       'Population ages 15-19, male',\n",
       "       'Population ages 15-19, male (% of male population)',\n",
       "       'Population ages 15-64 (% of total population)',\n",
       "       'Population ages 15-64, female',\n",
       "       'Population ages 15-64, female (% of female population)',\n",
       "       'Population ages 15-64, male',\n",
       "       'Population ages 15-64, male (% of male population)',\n",
       "       'Population ages 15-64, total', 'Population ages 20-24, female',\n",
       "       'Population ages 20-24, female (% of female population)',\n",
       "       'Population ages 20-24, male',\n",
       "       'Population ages 20-24, male (% of male population)',\n",
       "       'Population ages 25-29, female',\n",
       "       'Population ages 25-29, female (% of female population)',\n",
       "       'Population ages 25-29, male',\n",
       "       'Population ages 25-29, male (% of male population)',\n",
       "       'Population ages 30-34, female',\n",
       "       'Population ages 30-34, female (% of female population)',\n",
       "       'Population ages 30-34, male',\n",
       "       'Population ages 30-34, male (% of male population)',\n",
       "       'Population ages 35-39, female',\n",
       "       'Population ages 35-39, female (% of female population)',\n",
       "       'Population ages 35-39, male',\n",
       "       'Population ages 35-39, male (% of male population)',\n",
       "       'Population ages 40-44, female',\n",
       "       'Population ages 40-44, female (% of female population)',\n",
       "       'Population ages 40-44, male',\n",
       "       'Population ages 40-44, male (% of male population)',\n",
       "       'Population ages 45-49, female',\n",
       "       'Population ages 45-49, female (% of female population)',\n",
       "       'Population ages 45-49, male',\n",
       "       'Population ages 45-49, male (% of male population)',\n",
       "       'Population ages 50-54, female',\n",
       "       'Population ages 50-54, female (% of female population)',\n",
       "       'Population ages 50-54, male',\n",
       "       'Population ages 50-54, male (% of male population)',\n",
       "       'Population ages 55-59, female',\n",
       "       'Population ages 55-59, female (% of female population)',\n",
       "       'Population ages 55-59, male',\n",
       "       'Population ages 55-59, male (% of male population)',\n",
       "       'Population ages 60-64, female',\n",
       "       'Population ages 60-64, female (% of female population)',\n",
       "       'Population ages 60-64, male',\n",
       "       'Population ages 60-64, male (% of male population)',\n",
       "       'Population ages 65 and above (% of total population)',\n",
       "       'Population ages 65 and above, female',\n",
       "       'Population ages 65 and above, female (% of female population)',\n",
       "       'Population ages 65 and above, male',\n",
       "       'Population ages 65 and above, male (% of male population)',\n",
       "       'Population ages 65 and above, total',\n",
       "       'Population ages 65-69, female',\n",
       "       'Population ages 65-69, female (% of female population)',\n",
       "       'Population ages 65-69, male',\n",
       "       'Population ages 65-69, male (% of male population)',\n",
       "       'Population ages 70-74, female',\n",
       "       'Population ages 70-74, female (% of female population)',\n",
       "       'Population ages 70-74, male',\n",
       "       'Population ages 70-74, male (% of male population)',\n",
       "       'Population ages 75-79, female',\n",
       "       'Population ages 75-79, female (% of female population)',\n",
       "       'Population ages 75-79, male',\n",
       "       'Population ages 75-79, male (% of male population)',\n",
       "       'Population ages 80 and above, female',\n",
       "       'Population ages 80 and above, male',\n",
       "       'Population ages 80 and above, male (% of male population)',\n",
       "       'Population ages 80 and older, female (% of female population)',\n",
       "       'Population growth (annual %)', 'Population, female',\n",
       "       'Population, female (% of total population)', 'Population, male',\n",
       "       'Population, male (% of total population)', 'Population, total',\n",
       "       'Postnatal care coverage (% mothers)',\n",
       "       'Poverty headcount ratio at national poverty line (% of population)',\n",
       "       'Pregnant women receiving prenatal care (%)',\n",
       "       'Pregnant women receiving prenatal care of at least four visits (% of pregnant women)',\n",
       "       'Prevalence of anemia among children (% of children ages 6-59 months)',\n",
       "       'Prevalence of anemia among non-pregnant women (% of women ages 15-49)',\n",
       "       'Prevalence of anemia among pregnant women (%)',\n",
       "       'Prevalence of anemia among women of reproductive age (% of women ages 15-49)',\n",
       "       'Prevalence of current tobacco use (% of adults)',\n",
       "       'Prevalence of current tobacco use, females (% of female adults)',\n",
       "       'Prevalence of current tobacco use, males (% of male adults)',\n",
       "       'Prevalence of HIV, female (% ages 15-24)',\n",
       "       'Prevalence of HIV, male (% ages 15-24)',\n",
       "       'Prevalence of HIV, total (% of population ages 15-49)',\n",
       "       'Prevalence of hypertension (% of adults ages 30-79)',\n",
       "       'Prevalence of hypertension, female (% of female adults ages 30-79)',\n",
       "       'Prevalence of hypertension, male (% of male adults ages 30-79)',\n",
       "       'Prevalence of overweight (% of adults)',\n",
       "       'Prevalence of overweight (% of children under 5)',\n",
       "       'Prevalence of overweight (modeled estimate, % of children under 5)',\n",
       "       'Prevalence of overweight, female (% of children under 5)',\n",
       "       'Prevalence of overweight, female (% of female adults)',\n",
       "       'Prevalence of overweight, male (% of children under 5)',\n",
       "       'Prevalence of overweight, male (% of male adults)',\n",
       "       'Prevalence of severe wasting, weight for height (% of children under 5)',\n",
       "       'Prevalence of severe wasting, weight for height, female (% of children under 5)',\n",
       "       'Prevalence of severe wasting, weight for height, male (% of children under 5)',\n",
       "       'Prevalence of stunting, height for age (% of children under 5)',\n",
       "       'Prevalence of stunting, height for age (modeled estimate, % of children under 5)',\n",
       "       'Prevalence of stunting, height for age, female (% of children under 5)',\n",
       "       'Prevalence of stunting, height for age, male (% of children under 5)',\n",
       "       'Prevalence of syphilis (% of women attending antenatal care)',\n",
       "       'Prevalence of undernourishment (% of population)',\n",
       "       'Prevalence of underweight, weight for age (% of children under 5)',\n",
       "       'Prevalence of underweight, weight for age, female (% of children under 5)',\n",
       "       'Prevalence of underweight, weight for age, male (% of children under 5)',\n",
       "       'Prevalence of wasting, weight for height (% of children under 5)',\n",
       "       'Prevalence of wasting, weight for height, female (% of children under 5)',\n",
       "       'Prevalence of wasting, weight for height, male (% of children under 5)',\n",
       "       'Primary completion rate, female (% of relevant age group)',\n",
       "       'Primary completion rate, male (% of relevant age group)',\n",
       "       'Primary completion rate, total (% of relevant age group)',\n",
       "       'Probability of dying among adolescents ages 10-14 years (per 1,000)',\n",
       "       'Probability of dying among adolescents ages 10-14 years, female (per 1,000)',\n",
       "       'Probability of dying among adolescents ages 10-14 years, male (per 1,000)',\n",
       "       'Probability of dying among adolescents ages 10-19 years (per 1,000)',\n",
       "       'Probability of dying among adolescents ages 10-19 years, female (per 1,000)',\n",
       "       'Probability of dying among adolescents ages 10-19 years, male (per 1,000)',\n",
       "       'Probability of dying among adolescents ages 15-19 years (per 1,000)',\n",
       "       'Probability of dying among adolescents ages 15-19 years, female (per 1,000)',\n",
       "       'Probability of dying among adolescents ages 15-19 years, male (per 1,000)',\n",
       "       'Probability of dying among children ages 5-9 years (per 1,000)',\n",
       "       'Probability of dying among children ages 5-9 years, female (per 1,000)',\n",
       "       'Probability of dying among children ages 5-9 years, male (per 1,000)',\n",
       "       'Probability of dying among youth ages 20-24 years (per 1,000)',\n",
       "       'Probability of dying among youth ages 20-24 years, female (per 1,000)',\n",
       "       'Probability of dying among youth ages 20-24 years, male (per 1,000)',\n",
       "       'Proportion of population pushed below the $2.15 ($ 2017 PPP) poverty line by out-of-pocket health care expenditure (%)',\n",
       "       'Proportion of population pushed below the $3.65 ($ 2017 PPP) poverty line by out-of-pocket health care expenditure (%)',\n",
       "       'Proportion of population pushed below the 60% median consumption poverty line by out-of-pocket health expenditure (%)',\n",
       "       'Proportion of population pushed further below the $2.15 ($ 2017 PPP) poverty line by out-of-pocket health care expenditure (%)',\n",
       "       'Proportion of population pushed further below the $3.65 ($ 2017 PPP) poverty line by out-of-pocket health care expenditure (%)',\n",
       "       'Proportion of population pushed further below the 60% median consumption poverty line by out-of-pocket health care expenditure (%)',\n",
       "       'Proportion of population pushed or further pushed below the $2.15 ($ 2017 PPP) poverty line by out-of-pocket health care expenditure (%)',\n",
       "       'Proportion of population pushed or further pushed below the $3.65 ($ 2017 PPP) poverty line by out-of-pocket health care expenditure (%)',\n",
       "       'Proportion of population pushed or further pushed below the 60% median consumption poverty line by out-of-pocket health expenditure (%)',\n",
       "       'Proportion of population spending more than 10% of household consumption or income on out-of-pocket health care expenditure (%)',\n",
       "       'Proportion of population spending more than 25% of household consumption or income on out-of-pocket health care expenditure (%)',\n",
       "       'Public spending on education, total (% of GDP)',\n",
       "       'Ratio of school attendance of orphans to school attendance of non-orphans ages 10-14',\n",
       "       'Ratio of young literate females to males (% ages 15-24)',\n",
       "       'Risk of catastrophic expenditure for surgical care (% of people at risk)',\n",
       "       'Risk of impoverishing expenditure for surgical care (% of people at risk)',\n",
       "       'Rural population', 'Rural population (% of total population)',\n",
       "       'Rural population growth (annual %)',\n",
       "       'Rural poverty headcount ratio at national poverty lines (% of rural population)',\n",
       "       'School enrollment, primary (% gross)',\n",
       "       'School enrollment, primary (% net)',\n",
       "       'School enrollment, primary, female (% gross)',\n",
       "       'School enrollment, primary, female (% net)',\n",
       "       'School enrollment, primary, male (% gross)',\n",
       "       'School enrollment, primary, male (% net)',\n",
       "       'School enrollment, secondary (% gross)',\n",
       "       'School enrollment, secondary (% net)',\n",
       "       'School enrollment, secondary, female (% gross)',\n",
       "       'School enrollment, secondary, female (% net)',\n",
       "       'School enrollment, secondary, male (% gross)',\n",
       "       'School enrollment, secondary, male (% net)',\n",
       "       'School enrollment, tertiary (% gross)',\n",
       "       'School enrollment, tertiary, female (% gross)',\n",
       "       'Sex ratio at birth (male births per female births)',\n",
       "       'Share of women employed in the nonagricultural sector (% of total nonagricultural employment)',\n",
       "       'Specialist surgical workforce (per 100,000 population)',\n",
       "       'Stillbirth rate (per 1,000 total births)',\n",
       "       'Suicide mortality rate (per 100,000 population)',\n",
       "       'Suicide mortality rate, female (per 100,000 female population)',\n",
       "       'Suicide mortality rate, male (per 100,000 male population)',\n",
       "       'Survival to age 65, female (% of cohort)',\n",
       "       'Survival to age 65, male (% of cohort)',\n",
       "       'Teenage mothers (% of women ages 15-19 who have had children or are currently pregnant)',\n",
       "       'Total alcohol consumption per capita (liters of pure alcohol, projected estimates, 15+ years of age)',\n",
       "       'Total alcohol consumption per capita, female (liters of pure alcohol, projected estimates, female 15+ years of age)',\n",
       "       'Total alcohol consumption per capita, male (liters of pure alcohol, projected estimates, male 15+ years of age)',\n",
       "       'Treatment for hypertension (% of adults ages 30-79 with hypertension)',\n",
       "       'Treatment for hypertension, female (% of female adults ages 30-79 with hypertension)',\n",
       "       'Treatment for hypertension, male (% of male adults ages 30-79 with hypertension)',\n",
       "       'Tuberculosis case detection rate (%, all forms)',\n",
       "       'Tuberculosis death rate (per 100,000 people)',\n",
       "       'Tuberculosis treatment success rate (% of new cases)',\n",
       "       'UHC service coverage index',\n",
       "       'Unemployment, female (% of female labor force)',\n",
       "       'Unemployment, male (% of male labor force)',\n",
       "       'Unemployment, total (% of total labor force)',\n",
       "       'Unmet need for contraception (% of married women ages 15-49)',\n",
       "       'Urban population', 'Urban population (% of total population)',\n",
       "       'Urban population growth (annual %)',\n",
       "       'Urban poverty headcount ratio at national poverty lines (% of urban population)',\n",
       "       'Use of insecticide-treated bed nets (% of under-5 population)',\n",
       "       'Vitamin A supplementation coverage rate (% of children ages 6-59 months)',\n",
       "       'Wanted fertility rate (births per woman)',\n",
       "       'Women who were first married by age 15 (% of women ages 20-24)',\n",
       "       'Women who were first married by age 18 (% of women ages 20-24)',\n",
       "       \"Women's share of population ages 15+ living with HIV (%)\",\n",
       "       'Young people (ages 15-24) newly infected with HIV'], dtype=object)"
      ]
     },
     "execution_count": 17,
     "metadata": {},
     "output_type": "execute_result"
    }
   ],
   "source": [
    "df1['Series Name'].unique()"
   ]
  },
  {
   "cell_type": "code",
   "execution_count": 19,
   "id": "334db419-6729-43ac-8272-086f690a4e74",
   "metadata": {},
   "outputs": [],
   "source": [
    "dff = df1[df1['Series Name'] == 'School enrollment, primary (% net)']"
   ]
  },
  {
   "cell_type": "code",
   "execution_count": 23,
   "id": "95bbc80e-07d1-496e-8aea-461ba08b70ce",
   "metadata": {},
   "outputs": [
    {
     "data": {
      "application/vnd.plotly.v1+json": {
       "config": {
        "plotlyServerURL": "https://plot.ly"
       },
       "data": [
        {
         "colorscale": [
          [
           0,
           "#636efa"
          ],
          [
           1,
           "#636efa"
          ]
         ],
         "geo": "geo",
         "hovertemplate": "<b>%{hovertext}</b><br><br>2005 [YR2005]=..<br>Country Code=%{location}<extra></extra>",
         "hovertext": [
          "Afghanistan",
          "Africa Eastern and Southern",
          "Africa Western and Central",
          "Albania",
          "American Samoa",
          "Andorra",
          "Angola",
          "Antigua and Barbuda",
          "Bosnia and Herzegovina",
          "Brunei Darussalam",
          "Cambodia",
          "Cameroon",
          "Canada",
          "Cayman Islands",
          "Chad",
          "Channel Islands",
          "Chile",
          "China",
          "Comoros",
          "Congo, Dem. Rep.",
          "Costa Rica",
          "Cote d'Ivoire",
          "Curacao",
          "Czechia",
          "Equatorial Guinea",
          "Eswatini",
          "Faroe Islands",
          "Fiji",
          "French Polynesia",
          "Gabon",
          "Gibraltar",
          "Greenland",
          "Guam",
          "Guinea-Bissau",
          "Guyana",
          "Haiti",
          "Heavily indebted poor countries (HIPC)",
          "Hong Kong SAR, China",
          "IBRD only",
          "IDA blend",
          "IDA only",
          "IDA total",
          "India",
          "Iraq",
          "Isle of Man",
          "Jamaica",
          "Japan",
          "Kiribati",
          "Korea, Dem. People's Rep.",
          "Kosovo",
          "Latvia",
          "Lebanon",
          "Liberia",
          "Libya",
          "Low income",
          "Madagascar",
          "Malta",
          "Marshall Islands",
          "Micronesia, Fed. Sts.",
          "Monaco",
          "Nauru",
          "Nepal",
          "New Caledonia",
          "New Zealand",
          "Northern Mariana Islands",
          "Not classified",
          "Oman",
          "Other small states",
          "Pacific island small states",
          "Palau",
          "Papua New Guinea",
          "Pre-demographic dividend",
          "Puerto Rico",
          "Russian Federation",
          "Rwanda",
          "Samoa",
          "San Marino",
          "Saudi Arabia",
          "Sierra Leone",
          "Singapore",
          "Sint Maarten (Dutch part)",
          "Small states",
          "Somalia",
          "South Sudan",
          "St. Martin (French part)",
          "Sudan",
          "Thailand",
          "Timor-Leste",
          "Turkmenistan",
          "Turks and Caicos Islands",
          "Tuvalu",
          "Uganda",
          "United Arab Emirates",
          "Uzbekistan",
          "Virgin Islands (U.S.)",
          "Zimbabwe"
         ],
         "locations": [
          "AFG",
          "AFE",
          "AFW",
          "ALB",
          "ASM",
          "AND",
          "AGO",
          "ATG",
          "BIH",
          "BRN",
          "KHM",
          "CMR",
          "CAN",
          "CYM",
          "TCD",
          "CHI",
          "CHL",
          "CHN",
          "COM",
          "COD",
          "CRI",
          "CIV",
          "CUW",
          "CZE",
          "GNQ",
          "SWZ",
          "FRO",
          "FJI",
          "PYF",
          "GAB",
          "GIB",
          "GRL",
          "GUM",
          "GNB",
          "GUY",
          "HTI",
          "HPC",
          "HKG",
          "IBD",
          "IDB",
          "IDX",
          "IDA",
          "IND",
          "IRQ",
          "IMN",
          "JAM",
          "JPN",
          "KIR",
          "PRK",
          "XKX",
          "LVA",
          "LBN",
          "LBR",
          "LBY",
          "LIC",
          "MDG",
          "MLT",
          "MHL",
          "FSM",
          "MCO",
          "NRU",
          "NPL",
          "NCL",
          "NZL",
          "MNP",
          "INX",
          "OMN",
          "OSS",
          "PSS",
          "PLW",
          "PNG",
          "PRE",
          "PRI",
          "RUS",
          "RWA",
          "WSM",
          "SMR",
          "SAU",
          "SLE",
          "SGP",
          "SXM",
          "SST",
          "SOM",
          "SSD",
          "MAF",
          "SDN",
          "THA",
          "TLS",
          "TKM",
          "TCA",
          "TUV",
          "UGA",
          "ARE",
          "UZB",
          "VIR",
          "ZWE"
         ],
         "name": "..",
         "showlegend": true,
         "showscale": false,
         "type": "choropleth",
         "z": [
          1,
          1,
          1,
          1,
          1,
          1,
          1,
          1,
          1,
          1,
          1,
          1,
          1,
          1,
          1,
          1,
          1,
          1,
          1,
          1,
          1,
          1,
          1,
          1,
          1,
          1,
          1,
          1,
          1,
          1,
          1,
          1,
          1,
          1,
          1,
          1,
          1,
          1,
          1,
          1,
          1,
          1,
          1,
          1,
          1,
          1,
          1,
          1,
          1,
          1,
          1,
          1,
          1,
          1,
          1,
          1,
          1,
          1,
          1,
          1,
          1,
          1,
          1,
          1,
          1,
          1,
          1,
          1,
          1,
          1,
          1,
          1,
          1,
          1,
          1,
          1,
          1,
          1,
          1,
          1,
          1,
          1,
          1,
          1,
          1,
          1,
          1,
          1,
          1,
          1,
          1,
          1,
          1,
          1,
          1,
          1
         ]
        },
        {
         "colorscale": [
          [
           0,
           "#EF553B"
          ],
          [
           1,
           "#EF553B"
          ]
         ],
         "geo": "geo",
         "hovertemplate": "<b>%{hovertext}</b><br><br>2005 [YR2005]=93.09766<br>Country Code=%{location}<extra></extra>",
         "hovertext": [
          "Algeria"
         ],
         "locations": [
          "DZA"
         ],
         "name": "93.09766",
         "showlegend": true,
         "showscale": false,
         "type": "choropleth",
         "z": [
          1
         ]
        },
        {
         "colorscale": [
          [
           0,
           "#00cc96"
          ],
          [
           1,
           "#00cc96"
          ]
         ],
         "geo": "geo",
         "hovertemplate": "<b>%{hovertext}</b><br><br>2005 [YR2005]=80.2983<br>Country Code=%{location}<extra></extra>",
         "hovertext": [
          "Arab World"
         ],
         "locations": [
          "ARB"
         ],
         "name": "80.2983",
         "showlegend": true,
         "showscale": false,
         "type": "choropleth",
         "z": [
          1
         ]
        },
        {
         "colorscale": [
          [
           0,
           "#ab63fa"
          ],
          [
           1,
           "#ab63fa"
          ]
         ],
         "geo": "geo",
         "hovertemplate": "<b>%{hovertext}</b><br><br>2005 [YR2005]=98.81425<br>Country Code=%{location}<extra></extra>",
         "hovertext": [
          "Argentina"
         ],
         "locations": [
          "ARG"
         ],
         "name": "98.81425",
         "showlegend": true,
         "showscale": false,
         "type": "choropleth",
         "z": [
          1
         ]
        },
        {
         "colorscale": [
          [
           0,
           "#FFA15A"
          ],
          [
           1,
           "#FFA15A"
          ]
         ],
         "geo": "geo",
         "hovertemplate": "<b>%{hovertext}</b><br><br>2005 [YR2005]=81.05196<br>Country Code=%{location}<extra></extra>",
         "hovertext": [
          "Armenia"
         ],
         "locations": [
          "ARM"
         ],
         "name": "81.05196",
         "showlegend": true,
         "showscale": false,
         "type": "choropleth",
         "z": [
          1
         ]
        },
        {
         "colorscale": [
          [
           0,
           "#19d3f3"
          ],
          [
           1,
           "#19d3f3"
          ]
         ],
         "geo": "geo",
         "hovertemplate": "<b>%{hovertext}</b><br><br>2005 [YR2005]=97.80506<br>Country Code=%{location}<extra></extra>",
         "hovertext": [
          "Aruba"
         ],
         "locations": [
          "ABW"
         ],
         "name": "97.80506",
         "showlegend": true,
         "showscale": false,
         "type": "choropleth",
         "z": [
          1
         ]
        },
        {
         "colorscale": [
          [
           0,
           "#FF6692"
          ],
          [
           1,
           "#FF6692"
          ]
         ],
         "geo": "geo",
         "hovertemplate": "<b>%{hovertext}</b><br><br>2005 [YR2005]=95.50656<br>Country Code=%{location}<extra></extra>",
         "hovertext": [
          "Australia"
         ],
         "locations": [
          "AUS"
         ],
         "name": "95.50656",
         "showlegend": true,
         "showscale": false,
         "type": "choropleth",
         "z": [
          1
         ]
        },
        {
         "colorscale": [
          [
           0,
           "#B6E880"
          ],
          [
           1,
           "#B6E880"
          ]
         ],
         "geo": "geo",
         "hovertemplate": "<b>%{hovertext}</b><br><br>2005 [YR2005]=87.83857<br>Country Code=%{location}<extra></extra>",
         "hovertext": [
          "Austria"
         ],
         "locations": [
          "AUT"
         ],
         "name": "87.83857",
         "showlegend": true,
         "showscale": false,
         "type": "choropleth",
         "z": [
          1
         ]
        },
        {
         "colorscale": [
          [
           0,
           "#FF97FF"
          ],
          [
           1,
           "#FF97FF"
          ]
         ],
         "geo": "geo",
         "hovertemplate": "<b>%{hovertext}</b><br><br>2005 [YR2005]=83.86862<br>Country Code=%{location}<extra></extra>",
         "hovertext": [
          "Azerbaijan"
         ],
         "locations": [
          "AZE"
         ],
         "name": "83.86862",
         "showlegend": true,
         "showscale": false,
         "type": "choropleth",
         "z": [
          1
         ]
        },
        {
         "colorscale": [
          [
           0,
           "#FECB52"
          ],
          [
           1,
           "#FECB52"
          ]
         ],
         "geo": "geo",
         "hovertemplate": "<b>%{hovertext}</b><br><br>2005 [YR2005]=90.23928<br>Country Code=%{location}<extra></extra>",
         "hovertext": [
          "Bahamas, The"
         ],
         "locations": [
          "BHS"
         ],
         "name": "90.23928",
         "showlegend": true,
         "showscale": false,
         "type": "choropleth",
         "z": [
          1
         ]
        },
        {
         "colorscale": [
          [
           0,
           "#636efa"
          ],
          [
           1,
           "#636efa"
          ]
         ],
         "geo": "geo",
         "hovertemplate": "<b>%{hovertext}</b><br><br>2005 [YR2005]=89.10805<br>Country Code=%{location}<extra></extra>",
         "hovertext": [
          "Bahrain"
         ],
         "locations": [
          "BHR"
         ],
         "name": "89.10805",
         "showlegend": true,
         "showscale": false,
         "type": "choropleth",
         "z": [
          1
         ]
        },
        {
         "colorscale": [
          [
           0,
           "#EF553B"
          ],
          [
           1,
           "#EF553B"
          ]
         ],
         "geo": "geo",
         "hovertemplate": "<b>%{hovertext}</b><br><br>2005 [YR2005]=93.68999<br>Country Code=%{location}<extra></extra>",
         "hovertext": [
          "Bangladesh"
         ],
         "locations": [
          "BGD"
         ],
         "name": "93.68999",
         "showlegend": true,
         "showscale": false,
         "type": "choropleth",
         "z": [
          1
         ]
        },
        {
         "colorscale": [
          [
           0,
           "#00cc96"
          ],
          [
           1,
           "#00cc96"
          ]
         ],
         "geo": "geo",
         "hovertemplate": "<b>%{hovertext}</b><br><br>2005 [YR2005]=90.23547<br>Country Code=%{location}<extra></extra>",
         "hovertext": [
          "Barbados"
         ],
         "locations": [
          "BRB"
         ],
         "name": "90.23547",
         "showlegend": true,
         "showscale": false,
         "type": "choropleth",
         "z": [
          1
         ]
        },
        {
         "colorscale": [
          [
           0,
           "#ab63fa"
          ],
          [
           1,
           "#ab63fa"
          ]
         ],
         "geo": "geo",
         "hovertemplate": "<b>%{hovertext}</b><br><br>2005 [YR2005]=89.60983<br>Country Code=%{location}<extra></extra>",
         "hovertext": [
          "Belarus"
         ],
         "locations": [
          "BLR"
         ],
         "name": "89.60983",
         "showlegend": true,
         "showscale": false,
         "type": "choropleth",
         "z": [
          1
         ]
        },
        {
         "colorscale": [
          [
           0,
           "#FFA15A"
          ],
          [
           1,
           "#FFA15A"
          ]
         ],
         "geo": "geo",
         "hovertemplate": "<b>%{hovertext}</b><br><br>2005 [YR2005]=95.74554<br>Country Code=%{location}<extra></extra>",
         "hovertext": [
          "Belgium"
         ],
         "locations": [
          "BEL"
         ],
         "name": "95.74554",
         "showlegend": true,
         "showscale": false,
         "type": "choropleth",
         "z": [
          1
         ]
        },
        {
         "colorscale": [
          [
           0,
           "#19d3f3"
          ],
          [
           1,
           "#19d3f3"
          ]
         ],
         "geo": "geo",
         "hovertemplate": "<b>%{hovertext}</b><br><br>2005 [YR2005]=92.96664<br>Country Code=%{location}<extra></extra>",
         "hovertext": [
          "Belize"
         ],
         "locations": [
          "BLZ"
         ],
         "name": "92.96664",
         "showlegend": true,
         "showscale": false,
         "type": "choropleth",
         "z": [
          1
         ]
        },
        {
         "colorscale": [
          [
           0,
           "#FF6692"
          ],
          [
           1,
           "#FF6692"
          ]
         ],
         "geo": "geo",
         "hovertemplate": "<b>%{hovertext}</b><br><br>2005 [YR2005]=81.92453<br>Country Code=%{location}<extra></extra>",
         "hovertext": [
          "Benin"
         ],
         "locations": [
          "BEN"
         ],
         "name": "81.92453",
         "showlegend": true,
         "showscale": false,
         "type": "choropleth",
         "z": [
          1
         ]
        },
        {
         "colorscale": [
          [
           0,
           "#B6E880"
          ],
          [
           1,
           "#B6E880"
          ]
         ],
         "geo": "geo",
         "hovertemplate": "<b>%{hovertext}</b><br><br>2005 [YR2005]=96.99323<br>Country Code=%{location}<extra></extra>",
         "hovertext": [
          "Bermuda"
         ],
         "locations": [
          "BMU"
         ],
         "name": "96.99323",
         "showlegend": true,
         "showscale": false,
         "type": "choropleth",
         "z": [
          1
         ]
        },
        {
         "colorscale": [
          [
           0,
           "#FF97FF"
          ],
          [
           1,
           "#FF97FF"
          ]
         ],
         "geo": "geo",
         "hovertemplate": "<b>%{hovertext}</b><br><br>2005 [YR2005]=69.57875<br>Country Code=%{location}<extra></extra>",
         "hovertext": [
          "Bhutan"
         ],
         "locations": [
          "BTN"
         ],
         "name": "69.57875",
         "showlegend": true,
         "showscale": false,
         "type": "choropleth",
         "z": [
          1
         ]
        },
        {
         "colorscale": [
          [
           0,
           "#FECB52"
          ],
          [
           1,
           "#FECB52"
          ]
         ],
         "geo": "geo",
         "hovertemplate": "<b>%{hovertext}</b><br><br>2005 [YR2005]=94.96596<br>Country Code=%{location}<extra></extra>",
         "hovertext": [
          "Bolivia"
         ],
         "locations": [
          "BOL"
         ],
         "name": "94.96596",
         "showlegend": true,
         "showscale": false,
         "type": "choropleth",
         "z": [
          1
         ]
        },
        {
         "colorscale": [
          [
           0,
           "#636efa"
          ],
          [
           1,
           "#636efa"
          ]
         ],
         "geo": "geo",
         "hovertemplate": "<b>%{hovertext}</b><br><br>2005 [YR2005]=87.65819<br>Country Code=%{location}<extra></extra>",
         "hovertext": [
          "Botswana"
         ],
         "locations": [
          "BWA"
         ],
         "name": "87.65819",
         "showlegend": true,
         "showscale": false,
         "type": "choropleth",
         "z": [
          1
         ]
        },
        {
         "colorscale": [
          [
           0,
           "#EF553B"
          ],
          [
           1,
           "#EF553B"
          ]
         ],
         "geo": "geo",
         "hovertemplate": "<b>%{hovertext}</b><br><br>2005 [YR2005]=94.85334<br>Country Code=%{location}<extra></extra>",
         "hovertext": [
          "Brazil"
         ],
         "locations": [
          "BRA"
         ],
         "name": "94.85334",
         "showlegend": true,
         "showscale": false,
         "type": "choropleth",
         "z": [
          1
         ]
        },
        {
         "colorscale": [
          [
           0,
           "#00cc96"
          ],
          [
           1,
           "#00cc96"
          ]
         ],
         "geo": "geo",
         "hovertemplate": "<b>%{hovertext}</b><br><br>2005 [YR2005]=89.76744<br>Country Code=%{location}<extra></extra>",
         "hovertext": [
          "British Virgin Islands"
         ],
         "locations": [
          "VGB"
         ],
         "name": "89.76744",
         "showlegend": true,
         "showscale": false,
         "type": "choropleth",
         "z": [
          1
         ]
        },
        {
         "colorscale": [
          [
           0,
           "#ab63fa"
          ],
          [
           1,
           "#ab63fa"
          ]
         ],
         "geo": "geo",
         "hovertemplate": "<b>%{hovertext}</b><br><br>2005 [YR2005]=94.18482<br>Country Code=%{location}<extra></extra>",
         "hovertext": [
          "Bulgaria"
         ],
         "locations": [
          "BGR"
         ],
         "name": "94.18482",
         "showlegend": true,
         "showscale": false,
         "type": "choropleth",
         "z": [
          1
         ]
        },
        {
         "colorscale": [
          [
           0,
           "#FFA15A"
          ],
          [
           1,
           "#FFA15A"
          ]
         ],
         "geo": "geo",
         "hovertemplate": "<b>%{hovertext}</b><br><br>2005 [YR2005]=45.7476<br>Country Code=%{location}<extra></extra>",
         "hovertext": [
          "Burkina Faso"
         ],
         "locations": [
          "BFA"
         ],
         "name": "45.7476",
         "showlegend": true,
         "showscale": false,
         "type": "choropleth",
         "z": [
          1
         ]
        },
        {
         "colorscale": [
          [
           0,
           "#19d3f3"
          ],
          [
           1,
           "#19d3f3"
          ]
         ],
         "geo": "geo",
         "hovertemplate": "<b>%{hovertext}</b><br><br>2005 [YR2005]=57.65405<br>Country Code=%{location}<extra></extra>",
         "hovertext": [
          "Burundi"
         ],
         "locations": [
          "BDI"
         ],
         "name": "57.65405",
         "showlegend": true,
         "showscale": false,
         "type": "choropleth",
         "z": [
          1
         ]
        },
        {
         "colorscale": [
          [
           0,
           "#FF6692"
          ],
          [
           1,
           "#FF6692"
          ]
         ],
         "geo": "geo",
         "hovertemplate": "<b>%{hovertext}</b><br><br>2005 [YR2005]=95.31446<br>Country Code=%{location}<extra></extra>",
         "hovertext": [
          "Cabo Verde"
         ],
         "locations": [
          "CPV"
         ],
         "name": "95.31446",
         "showlegend": true,
         "showscale": false,
         "type": "choropleth",
         "z": [
          1
         ]
        },
        {
         "colorscale": [
          [
           0,
           "#B6E880"
          ],
          [
           1,
           "#B6E880"
          ]
         ],
         "geo": "geo",
         "hovertemplate": "<b>%{hovertext}</b><br><br>2005 [YR2005]=90.7363<br>Country Code=%{location}<extra></extra>",
         "hovertext": [
          "Caribbean small states"
         ],
         "locations": [
          "CSS"
         ],
         "name": "90.7363",
         "showlegend": true,
         "showscale": false,
         "type": "choropleth",
         "z": [
          1
         ]
        },
        {
         "colorscale": [
          [
           0,
           "#FF97FF"
          ],
          [
           1,
           "#FF97FF"
          ]
         ],
         "geo": "geo",
         "hovertemplate": "<b>%{hovertext}</b><br><br>2005 [YR2005]=47.50865<br>Country Code=%{location}<extra></extra>",
         "hovertext": [
          "Central African Republic"
         ],
         "locations": [
          "CAF"
         ],
         "name": "47.50865",
         "showlegend": true,
         "showscale": false,
         "type": "choropleth",
         "z": [
          1
         ]
        },
        {
         "colorscale": [
          [
           0,
           "#FECB52"
          ],
          [
           1,
           "#FECB52"
          ]
         ],
         "geo": "geo",
         "hovertemplate": "<b>%{hovertext}</b><br><br>2005 [YR2005]=92.23515<br>Country Code=%{location}<extra></extra>",
         "hovertext": [
          "Central Europe and the Baltics"
         ],
         "locations": [
          "CEB"
         ],
         "name": "92.23515",
         "showlegend": true,
         "showscale": false,
         "type": "choropleth",
         "z": [
          1
         ]
        },
        {
         "colorscale": [
          [
           0,
           "#636efa"
          ],
          [
           1,
           "#636efa"
          ]
         ],
         "geo": "geo",
         "hovertemplate": "<b>%{hovertext}</b><br><br>2005 [YR2005]=94.1217<br>Country Code=%{location}<extra></extra>",
         "hovertext": [
          "Colombia"
         ],
         "locations": [
          "COL"
         ],
         "name": "94.1217",
         "showlegend": true,
         "showscale": false,
         "type": "choropleth",
         "z": [
          1
         ]
        },
        {
         "colorscale": [
          [
           0,
           "#EF553B"
          ],
          [
           1,
           "#EF553B"
          ]
         ],
         "geo": "geo",
         "hovertemplate": "<b>%{hovertext}</b><br><br>2005 [YR2005]=51.82475<br>Country Code=%{location}<extra></extra>",
         "hovertext": [
          "Congo, Rep."
         ],
         "locations": [
          "COG"
         ],
         "name": "51.82475",
         "showlegend": true,
         "showscale": false,
         "type": "choropleth",
         "z": [
          1
         ]
        },
        {
         "colorscale": [
          [
           0,
           "#00cc96"
          ],
          [
           1,
           "#00cc96"
          ]
         ],
         "geo": "geo",
         "hovertemplate": "<b>%{hovertext}</b><br><br>2005 [YR2005]=90.43858<br>Country Code=%{location}<extra></extra>",
         "hovertext": [
          "Croatia"
         ],
         "locations": [
          "HRV"
         ],
         "name": "90.43858",
         "showlegend": true,
         "showscale": false,
         "type": "choropleth",
         "z": [
          1
         ]
        },
        {
         "colorscale": [
          [
           0,
           "#ab63fa"
          ],
          [
           1,
           "#ab63fa"
          ]
         ],
         "geo": "geo",
         "hovertemplate": "<b>%{hovertext}</b><br><br>2005 [YR2005]=96.63556<br>Country Code=%{location}<extra></extra>",
         "hovertext": [
          "Cuba"
         ],
         "locations": [
          "CUB"
         ],
         "name": "96.63556",
         "showlegend": true,
         "showscale": false,
         "type": "choropleth",
         "z": [
          1
         ]
        },
        {
         "colorscale": [
          [
           0,
           "#FFA15A"
          ],
          [
           1,
           "#FFA15A"
          ]
         ],
         "geo": "geo",
         "hovertemplate": "<b>%{hovertext}</b><br><br>2005 [YR2005]=99.34591<br>Country Code=%{location}<extra></extra>",
         "hovertext": [
          "Cyprus"
         ],
         "locations": [
          "CYP"
         ],
         "name": "99.34591",
         "showlegend": true,
         "showscale": false,
         "type": "choropleth",
         "z": [
          1
         ]
        },
        {
         "colorscale": [
          [
           0,
           "#19d3f3"
          ],
          [
           1,
           "#19d3f3"
          ]
         ],
         "geo": "geo",
         "hovertemplate": "<b>%{hovertext}</b><br><br>2005 [YR2005]=95.6588<br>Country Code=%{location}<extra></extra>",
         "hovertext": [
          "Denmark"
         ],
         "locations": [
          "DNK"
         ],
         "name": "95.6588",
         "showlegend": true,
         "showscale": false,
         "type": "choropleth",
         "z": [
          1
         ]
        },
        {
         "colorscale": [
          [
           0,
           "#FF6692"
          ],
          [
           1,
           "#FF6692"
          ]
         ],
         "geo": "geo",
         "hovertemplate": "<b>%{hovertext}</b><br><br>2005 [YR2005]=36.13749<br>Country Code=%{location}<extra></extra>",
         "hovertext": [
          "Djibouti"
         ],
         "locations": [
          "DJI"
         ],
         "name": "36.13749",
         "showlegend": true,
         "showscale": false,
         "type": "choropleth",
         "z": [
          1
         ]
        },
        {
         "colorscale": [
          [
           0,
           "#B6E880"
          ],
          [
           1,
           "#B6E880"
          ]
         ],
         "geo": "geo",
         "hovertemplate": "<b>%{hovertext}</b><br><br>2005 [YR2005]=83.42215<br>Country Code=%{location}<extra></extra>",
         "hovertext": [
          "Dominica"
         ],
         "locations": [
          "DMA"
         ],
         "name": "83.42215",
         "showlegend": true,
         "showscale": false,
         "type": "choropleth",
         "z": [
          1
         ]
        },
        {
         "colorscale": [
          [
           0,
           "#FF97FF"
          ],
          [
           1,
           "#FF97FF"
          ]
         ],
         "geo": "geo",
         "hovertemplate": "<b>%{hovertext}</b><br><br>2005 [YR2005]=84.25703<br>Country Code=%{location}<extra></extra>",
         "hovertext": [
          "Dominican Republic"
         ],
         "locations": [
          "DOM"
         ],
         "name": "84.25703",
         "showlegend": true,
         "showscale": false,
         "type": "choropleth",
         "z": [
          1
         ]
        },
        {
         "colorscale": [
          [
           0,
           "#FECB52"
          ],
          [
           1,
           "#FECB52"
          ]
         ],
         "geo": "geo",
         "hovertemplate": "<b>%{hovertext}</b><br><br>2005 [YR2005]=86.02361<br>Country Code=%{location}<extra></extra>",
         "hovertext": [
          "Early-demographic dividend"
         ],
         "locations": [
          "EAR"
         ],
         "name": "86.02361",
         "showlegend": true,
         "showscale": false,
         "type": "choropleth",
         "z": [
          1
         ]
        },
        {
         "colorscale": [
          [
           0,
           "#636efa"
          ],
          [
           1,
           "#636efa"
          ]
         ],
         "geo": "geo",
         "hovertemplate": "<b>%{hovertext}</b><br><br>2005 [YR2005]=94.3745<br>Country Code=%{location}<extra></extra>",
         "hovertext": [
          "East Asia & Pacific"
         ],
         "locations": [
          "EAS"
         ],
         "name": "94.3745",
         "showlegend": true,
         "showscale": false,
         "type": "choropleth",
         "z": [
          1
         ]
        },
        {
         "colorscale": [
          [
           0,
           "#EF553B"
          ],
          [
           1,
           "#EF553B"
          ]
         ],
         "geo": "geo",
         "hovertemplate": "<b>%{hovertext}</b><br><br>2005 [YR2005]=94.3309<br>Country Code=%{location}<extra></extra>",
         "hovertext": [
          "East Asia & Pacific (excluding high income)"
         ],
         "locations": [
          "EAP"
         ],
         "name": "94.3309",
         "showlegend": true,
         "showscale": false,
         "type": "choropleth",
         "z": [
          1
         ]
        },
        {
         "colorscale": [
          [
           0,
           "#00cc96"
          ],
          [
           1,
           "#00cc96"
          ]
         ],
         "geo": "geo",
         "hovertemplate": "<b>%{hovertext}</b><br><br>2005 [YR2005]=94.33375<br>Country Code=%{location}<extra></extra>",
         "hovertext": [
          "East Asia & Pacific (IDA & IBRD countries)"
         ],
         "locations": [
          "TEA"
         ],
         "name": "94.33375",
         "showlegend": true,
         "showscale": false,
         "type": "choropleth",
         "z": [
          1
         ]
        },
        {
         "colorscale": [
          [
           0,
           "#ab63fa"
          ],
          [
           1,
           "#ab63fa"
          ]
         ],
         "geo": "geo",
         "hovertemplate": "<b>%{hovertext}</b><br><br>2005 [YR2005]=95.95781<br>Country Code=%{location}<extra></extra>",
         "hovertext": [
          "Ecuador"
         ],
         "locations": [
          "ECU"
         ],
         "name": "95.95781",
         "showlegend": true,
         "showscale": false,
         "type": "choropleth",
         "z": [
          1
         ]
        },
        {
         "colorscale": [
          [
           0,
           "#FFA15A"
          ],
          [
           1,
           "#FFA15A"
          ]
         ],
         "geo": "geo",
         "hovertemplate": "<b>%{hovertext}</b><br><br>2005 [YR2005]=89.13222<br>Country Code=%{location}<extra></extra>",
         "hovertext": [
          "Egypt, Arab Rep."
         ],
         "locations": [
          "EGY"
         ],
         "name": "89.13222",
         "showlegend": true,
         "showscale": false,
         "type": "choropleth",
         "z": [
          1
         ]
        },
        {
         "colorscale": [
          [
           0,
           "#19d3f3"
          ],
          [
           1,
           "#19d3f3"
          ]
         ],
         "geo": "geo",
         "hovertemplate": "<b>%{hovertext}</b><br><br>2005 [YR2005]=94.36592<br>Country Code=%{location}<extra></extra>",
         "hovertext": [
          "El Salvador"
         ],
         "locations": [
          "SLV"
         ],
         "name": "94.36592",
         "showlegend": true,
         "showscale": false,
         "type": "choropleth",
         "z": [
          1
         ]
        },
        {
         "colorscale": [
          [
           0,
           "#FF6692"
          ],
          [
           1,
           "#FF6692"
          ]
         ],
         "geo": "geo",
         "hovertemplate": "<b>%{hovertext}</b><br><br>2005 [YR2005]=82.46788<br>Country Code=%{location}<extra></extra>",
         "hovertext": [
          "Eritrea"
         ],
         "locations": [
          "ERI"
         ],
         "name": "82.46788",
         "showlegend": true,
         "showscale": false,
         "type": "choropleth",
         "z": [
          1
         ]
        },
        {
         "colorscale": [
          [
           0,
           "#B6E880"
          ],
          [
           1,
           "#B6E880"
          ]
         ],
         "geo": "geo",
         "hovertemplate": "<b>%{hovertext}</b><br><br>2005 [YR2005]=93.81157<br>Country Code=%{location}<extra></extra>",
         "hovertext": [
          "Estonia"
         ],
         "locations": [
          "EST"
         ],
         "name": "93.81157",
         "showlegend": true,
         "showscale": false,
         "type": "choropleth",
         "z": [
          1
         ]
        },
        {
         "colorscale": [
          [
           0,
           "#FF97FF"
          ],
          [
           1,
           "#FF97FF"
          ]
         ],
         "geo": "geo",
         "hovertemplate": "<b>%{hovertext}</b><br><br>2005 [YR2005]=60.38556<br>Country Code=%{location}<extra></extra>",
         "hovertext": [
          "Ethiopia"
         ],
         "locations": [
          "ETH"
         ],
         "name": "60.38556",
         "showlegend": true,
         "showscale": false,
         "type": "choropleth",
         "z": [
          1
         ]
        },
        {
         "colorscale": [
          [
           0,
           "#FECB52"
          ],
          [
           1,
           "#FECB52"
          ]
         ],
         "geo": "geo",
         "hovertemplate": "<b>%{hovertext}</b><br><br>2005 [YR2005]=97.8101<br>Country Code=%{location}<extra></extra>",
         "hovertext": [
          "Euro area"
         ],
         "locations": [
          "EMU"
         ],
         "name": "97.8101",
         "showlegend": true,
         "showscale": false,
         "type": "choropleth",
         "z": [
          1
         ]
        },
        {
         "colorscale": [
          [
           0,
           "#636efa"
          ],
          [
           1,
           "#636efa"
          ]
         ],
         "geo": "geo",
         "hovertemplate": "<b>%{hovertext}</b><br><br>2005 [YR2005]=95.05319<br>Country Code=%{location}<extra></extra>",
         "hovertext": [
          "Europe & Central Asia"
         ],
         "locations": [
          "ECS"
         ],
         "name": "95.05319",
         "showlegend": true,
         "showscale": false,
         "type": "choropleth",
         "z": [
          1
         ]
        },
        {
         "colorscale": [
          [
           0,
           "#EF553B"
          ],
          [
           1,
           "#EF553B"
          ]
         ],
         "geo": "geo",
         "hovertemplate": "<b>%{hovertext}</b><br><br>2005 [YR2005]=92.75084<br>Country Code=%{location}<extra></extra>",
         "hovertext": [
          "Europe & Central Asia (excluding high income)"
         ],
         "locations": [
          "ECA"
         ],
         "name": "92.75084",
         "showlegend": true,
         "showscale": false,
         "type": "choropleth",
         "z": [
          1
         ]
        },
        {
         "colorscale": [
          [
           0,
           "#00cc96"
          ],
          [
           1,
           "#00cc96"
          ]
         ],
         "geo": "geo",
         "hovertemplate": "<b>%{hovertext}</b><br><br>2005 [YR2005]=92.77085<br>Country Code=%{location}<extra></extra>",
         "hovertext": [
          "Europe & Central Asia (IDA & IBRD countries)"
         ],
         "locations": [
          "TEC"
         ],
         "name": "92.77085",
         "showlegend": true,
         "showscale": false,
         "type": "choropleth",
         "z": [
          1
         ]
        },
        {
         "colorscale": [
          [
           0,
           "#ab63fa"
          ],
          [
           1,
           "#ab63fa"
          ]
         ],
         "geo": "geo",
         "hovertemplate": "<b>%{hovertext}</b><br><br>2005 [YR2005]=96.86078<br>Country Code=%{location}<extra></extra>",
         "hovertext": [
          "European Union"
         ],
         "locations": [
          "EUU"
         ],
         "name": "96.86078",
         "showlegend": true,
         "showscale": false,
         "type": "choropleth",
         "z": [
          1
         ]
        },
        {
         "colorscale": [
          [
           0,
           "#FFA15A"
          ],
          [
           1,
           "#FFA15A"
          ]
         ],
         "geo": "geo",
         "hovertemplate": "<b>%{hovertext}</b><br><br>2005 [YR2005]=97.1783<br>Country Code=%{location}<extra></extra>",
         "hovertext": [
          "Finland"
         ],
         "locations": [
          "FIN"
         ],
         "name": "97.1783",
         "showlegend": true,
         "showscale": false,
         "type": "choropleth",
         "z": [
          1
         ]
        },
        {
         "colorscale": [
          [
           0,
           "#19d3f3"
          ],
          [
           1,
           "#19d3f3"
          ]
         ],
         "geo": "geo",
         "hovertemplate": "<b>%{hovertext}</b><br><br>2005 [YR2005]=66.47881<br>Country Code=%{location}<extra></extra>",
         "hovertext": [
          "Fragile and conflict affected situations"
         ],
         "locations": [
          "FCS"
         ],
         "name": "66.47881",
         "showlegend": true,
         "showscale": false,
         "type": "choropleth",
         "z": [
          1
         ]
        },
        {
         "colorscale": [
          [
           0,
           "#FF6692"
          ],
          [
           1,
           "#FF6692"
          ]
         ],
         "geo": "geo",
         "hovertemplate": "<b>%{hovertext}</b><br><br>2005 [YR2005]=98.55515<br>Country Code=%{location}<extra></extra>",
         "hovertext": [
          "France"
         ],
         "locations": [
          "FRA"
         ],
         "name": "98.55515",
         "showlegend": true,
         "showscale": false,
         "type": "choropleth",
         "z": [
          1
         ]
        },
        {
         "colorscale": [
          [
           0,
           "#B6E880"
          ],
          [
           1,
           "#B6E880"
          ]
         ],
         "geo": "geo",
         "hovertemplate": "<b>%{hovertext}</b><br><br>2005 [YR2005]=62.77374<br>Country Code=%{location}<extra></extra>",
         "hovertext": [
          "Gambia, The"
         ],
         "locations": [
          "GMB"
         ],
         "name": "62.77374",
         "showlegend": true,
         "showscale": false,
         "type": "choropleth",
         "z": [
          1
         ]
        },
        {
         "colorscale": [
          [
           0,
           "#FF97FF"
          ],
          [
           1,
           "#FF97FF"
          ]
         ],
         "geo": "geo",
         "hovertemplate": "<b>%{hovertext}</b><br><br>2005 [YR2005]=92.75616<br>Country Code=%{location}<extra></extra>",
         "hovertext": [
          "Georgia"
         ],
         "locations": [
          "GEO"
         ],
         "name": "92.75616",
         "showlegend": true,
         "showscale": false,
         "type": "choropleth",
         "z": [
          1
         ]
        },
        {
         "colorscale": [
          [
           0,
           "#FECB52"
          ],
          [
           1,
           "#FECB52"
          ]
         ],
         "geo": "geo",
         "hovertemplate": "<b>%{hovertext}</b><br><br>2005 [YR2005]=87.00548<br>Country Code=%{location}<extra></extra>",
         "hovertext": [
          "Germany"
         ],
         "locations": [
          "DEU"
         ],
         "name": "87.00548",
         "showlegend": true,
         "showscale": false,
         "type": "choropleth",
         "z": [
          1
         ]
        },
        {
         "colorscale": [
          [
           0,
           "#636efa"
          ],
          [
           1,
           "#636efa"
          ]
         ],
         "geo": "geo",
         "hovertemplate": "<b>%{hovertext}</b><br><br>2005 [YR2005]=63.70558<br>Country Code=%{location}<extra></extra>",
         "hovertext": [
          "Ghana"
         ],
         "locations": [
          "GHA"
         ],
         "name": "63.70558",
         "showlegend": true,
         "showscale": false,
         "type": "choropleth",
         "z": [
          1
         ]
        },
        {
         "colorscale": [
          [
           0,
           "#EF553B"
          ],
          [
           1,
           "#EF553B"
          ]
         ],
         "geo": "geo",
         "hovertemplate": "<b>%{hovertext}</b><br><br>2005 [YR2005]=95.79944<br>Country Code=%{location}<extra></extra>",
         "hovertext": [
          "Greece"
         ],
         "locations": [
          "GRC"
         ],
         "name": "95.79944",
         "showlegend": true,
         "showscale": false,
         "type": "choropleth",
         "z": [
          1
         ]
        },
        {
         "colorscale": [
          [
           0,
           "#00cc96"
          ],
          [
           1,
           "#00cc96"
          ]
         ],
         "geo": "geo",
         "hovertemplate": "<b>%{hovertext}</b><br><br>2005 [YR2005]=93.1893<br>Country Code=%{location}<extra></extra>",
         "hovertext": [
          "Grenada"
         ],
         "locations": [
          "GRD"
         ],
         "name": "93.1893",
         "showlegend": true,
         "showscale": false,
         "type": "choropleth",
         "z": [
          1
         ]
        },
        {
         "colorscale": [
          [
           0,
           "#ab63fa"
          ],
          [
           1,
           "#ab63fa"
          ]
         ],
         "geo": "geo",
         "hovertemplate": "<b>%{hovertext}</b><br><br>2005 [YR2005]=90.80877<br>Country Code=%{location}<extra></extra>",
         "hovertext": [
          "Guatemala"
         ],
         "locations": [
          "GTM"
         ],
         "name": "90.80877",
         "showlegend": true,
         "showscale": false,
         "type": "choropleth",
         "z": [
          1
         ]
        },
        {
         "colorscale": [
          [
           0,
           "#FFA15A"
          ],
          [
           1,
           "#FFA15A"
          ]
         ],
         "geo": "geo",
         "hovertemplate": "<b>%{hovertext}</b><br><br>2005 [YR2005]=62.90998<br>Country Code=%{location}<extra></extra>",
         "hovertext": [
          "Guinea"
         ],
         "locations": [
          "GIN"
         ],
         "name": "62.90998",
         "showlegend": true,
         "showscale": false,
         "type": "choropleth",
         "z": [
          1
         ]
        },
        {
         "colorscale": [
          [
           0,
           "#19d3f3"
          ],
          [
           1,
           "#19d3f3"
          ]
         ],
         "geo": "geo",
         "hovertemplate": "<b>%{hovertext}</b><br><br>2005 [YR2005]=94.98987<br>Country Code=%{location}<extra></extra>",
         "hovertext": [
          "High income"
         ],
         "locations": [
          "HIC"
         ],
         "name": "94.98987",
         "showlegend": true,
         "showscale": false,
         "type": "choropleth",
         "z": [
          1
         ]
        },
        {
         "colorscale": [
          [
           0,
           "#FF6692"
          ],
          [
           1,
           "#FF6692"
          ]
         ],
         "geo": "geo",
         "hovertemplate": "<b>%{hovertext}</b><br><br>2005 [YR2005]=82.83074<br>Country Code=%{location}<extra></extra>",
         "hovertext": [
          "Honduras"
         ],
         "locations": [
          "HND"
         ],
         "name": "82.83074",
         "showlegend": true,
         "showscale": false,
         "type": "choropleth",
         "z": [
          1
         ]
        },
        {
         "colorscale": [
          [
           0,
           "#B6E880"
          ],
          [
           1,
           "#B6E880"
          ]
         ],
         "geo": "geo",
         "hovertemplate": "<b>%{hovertext}</b><br><br>2005 [YR2005]=89.3733<br>Country Code=%{location}<extra></extra>",
         "hovertext": [
          "Hungary"
         ],
         "locations": [
          "HUN"
         ],
         "name": "89.3733",
         "showlegend": true,
         "showscale": false,
         "type": "choropleth",
         "z": [
          1
         ]
        },
        {
         "colorscale": [
          [
           0,
           "#FF97FF"
          ],
          [
           1,
           "#FF97FF"
          ]
         ],
         "geo": "geo",
         "hovertemplate": "<b>%{hovertext}</b><br><br>2005 [YR2005]=96.76546<br>Country Code=%{location}<extra></extra>",
         "hovertext": [
          "Iceland"
         ],
         "locations": [
          "ISL"
         ],
         "name": "96.76546",
         "showlegend": true,
         "showscale": false,
         "type": "choropleth",
         "z": [
          1
         ]
        },
        {
         "colorscale": [
          [
           0,
           "#FECB52"
          ],
          [
           1,
           "#FECB52"
          ]
         ],
         "geo": "geo",
         "hovertemplate": "<b>%{hovertext}</b><br><br>2005 [YR2005]=85.76534<br>Country Code=%{location}<extra></extra>",
         "hovertext": [
          "IDA & IBRD total"
         ],
         "locations": [
          "IBT"
         ],
         "name": "85.76534",
         "showlegend": true,
         "showscale": false,
         "type": "choropleth",
         "z": [
          1
         ]
        },
        {
         "colorscale": [
          [
           0,
           "#636efa"
          ],
          [
           1,
           "#636efa"
          ]
         ],
         "geo": "geo",
         "hovertemplate": "<b>%{hovertext}</b><br><br>2005 [YR2005]=88.93075<br>Country Code=%{location}<extra></extra>",
         "hovertext": [
          "Indonesia"
         ],
         "locations": [
          "IDN"
         ],
         "name": "88.93075",
         "showlegend": true,
         "showscale": false,
         "type": "choropleth",
         "z": [
          1
         ]
        },
        {
         "colorscale": [
          [
           0,
           "#EF553B"
          ],
          [
           1,
           "#EF553B"
          ]
         ],
         "geo": "geo",
         "hovertemplate": "<b>%{hovertext}</b><br><br>2005 [YR2005]=95.32962<br>Country Code=%{location}<extra></extra>",
         "hovertext": [
          "Iran, Islamic Rep."
         ],
         "locations": [
          "IRN"
         ],
         "name": "95.32962",
         "showlegend": true,
         "showscale": false,
         "type": "choropleth",
         "z": [
          1
         ]
        },
        {
         "colorscale": [
          [
           0,
           "#00cc96"
          ],
          [
           1,
           "#00cc96"
          ]
         ],
         "geo": "geo",
         "hovertemplate": "<b>%{hovertext}</b><br><br>2005 [YR2005]=94.81635<br>Country Code=%{location}<extra></extra>",
         "hovertext": [
          "Ireland"
         ],
         "locations": [
          "IRL"
         ],
         "name": "94.81635",
         "showlegend": true,
         "showscale": false,
         "type": "choropleth",
         "z": [
          1
         ]
        },
        {
         "colorscale": [
          [
           0,
           "#ab63fa"
          ],
          [
           1,
           "#ab63fa"
          ]
         ],
         "geo": "geo",
         "hovertemplate": "<b>%{hovertext}</b><br><br>2005 [YR2005]=97.47827<br>Country Code=%{location}<extra></extra>",
         "hovertext": [
          "Israel"
         ],
         "locations": [
          "ISR"
         ],
         "name": "97.47827",
         "showlegend": true,
         "showscale": false,
         "type": "choropleth",
         "z": [
          1
         ]
        },
        {
         "colorscale": [
          [
           0,
           "#FFA15A"
          ],
          [
           1,
           "#FFA15A"
          ]
         ],
         "geo": "geo",
         "hovertemplate": "<b>%{hovertext}</b><br><br>2005 [YR2005]=98.408<br>Country Code=%{location}<extra></extra>",
         "hovertext": [
          "Italy"
         ],
         "locations": [
          "ITA"
         ],
         "name": "98.408",
         "showlegend": true,
         "showscale": false,
         "type": "choropleth",
         "z": [
          1
         ]
        },
        {
         "colorscale": [
          [
           0,
           "#19d3f3"
          ],
          [
           1,
           "#19d3f3"
          ]
         ],
         "geo": "geo",
         "hovertemplate": "<b>%{hovertext}</b><br><br>2005 [YR2005]=89.88528<br>Country Code=%{location}<extra></extra>",
         "hovertext": [
          "Jordan"
         ],
         "locations": [
          "JOR"
         ],
         "name": "89.88528",
         "showlegend": true,
         "showscale": false,
         "type": "choropleth",
         "z": [
          1
         ]
        },
        {
         "colorscale": [
          [
           0,
           "#FF6692"
          ],
          [
           1,
           "#FF6692"
          ]
         ],
         "geo": "geo",
         "hovertemplate": "<b>%{hovertext}</b><br><br>2005 [YR2005]=91.09722<br>Country Code=%{location}<extra></extra>",
         "hovertext": [
          "Kazakhstan"
         ],
         "locations": [
          "KAZ"
         ],
         "name": "91.09722",
         "showlegend": true,
         "showscale": false,
         "type": "choropleth",
         "z": [
          1
         ]
        },
        {
         "colorscale": [
          [
           0,
           "#B6E880"
          ],
          [
           1,
           "#B6E880"
          ]
         ],
         "geo": "geo",
         "hovertemplate": "<b>%{hovertext}</b><br><br>2005 [YR2005]=69.58856<br>Country Code=%{location}<extra></extra>",
         "hovertext": [
          "Kenya"
         ],
         "locations": [
          "KEN"
         ],
         "name": "69.58856",
         "showlegend": true,
         "showscale": false,
         "type": "choropleth",
         "z": [
          1
         ]
        },
        {
         "colorscale": [
          [
           0,
           "#FF97FF"
          ],
          [
           1,
           "#FF97FF"
          ]
         ],
         "geo": "geo",
         "hovertemplate": "<b>%{hovertext}</b><br><br>2005 [YR2005]=99.38856<br>Country Code=%{location}<extra></extra>",
         "hovertext": [
          "Korea, Rep."
         ],
         "locations": [
          "KOR"
         ],
         "name": "99.38856",
         "showlegend": true,
         "showscale": false,
         "type": "choropleth",
         "z": [
          1
         ]
        },
        {
         "colorscale": [
          [
           0,
           "#FECB52"
          ],
          [
           1,
           "#FECB52"
          ]
         ],
         "geo": "geo",
         "hovertemplate": "<b>%{hovertext}</b><br><br>2005 [YR2005]=92.70689<br>Country Code=%{location}<extra></extra>",
         "hovertext": [
          "Kuwait"
         ],
         "locations": [
          "KWT"
         ],
         "name": "92.70689",
         "showlegend": true,
         "showscale": false,
         "type": "choropleth",
         "z": [
          1
         ]
        },
        {
         "colorscale": [
          [
           0,
           "#636efa"
          ],
          [
           1,
           "#636efa"
          ]
         ],
         "geo": "geo",
         "hovertemplate": "<b>%{hovertext}</b><br><br>2005 [YR2005]=87.72328<br>Country Code=%{location}<extra></extra>",
         "hovertext": [
          "Kyrgyz Republic"
         ],
         "locations": [
          "KGZ"
         ],
         "name": "87.72328",
         "showlegend": true,
         "showscale": false,
         "type": "choropleth",
         "z": [
          1
         ]
        },
        {
         "colorscale": [
          [
           0,
           "#EF553B"
          ],
          [
           1,
           "#EF553B"
          ]
         ],
         "geo": "geo",
         "hovertemplate": "<b>%{hovertext}</b><br><br>2005 [YR2005]=81.105<br>Country Code=%{location}<extra></extra>",
         "hovertext": [
          "Lao PDR"
         ],
         "locations": [
          "LAO"
         ],
         "name": "81.105",
         "showlegend": true,
         "showscale": false,
         "type": "choropleth",
         "z": [
          1
         ]
        },
        {
         "colorscale": [
          [
           0,
           "#00cc96"
          ],
          [
           1,
           "#00cc96"
          ]
         ],
         "geo": "geo",
         "hovertemplate": "<b>%{hovertext}</b><br><br>2005 [YR2005]=95.59285<br>Country Code=%{location}<extra></extra>",
         "hovertext": [
          "Late-demographic dividend"
         ],
         "locations": [
          "LTE"
         ],
         "name": "95.59285",
         "showlegend": true,
         "showscale": false,
         "type": "choropleth",
         "z": [
          1
         ]
        },
        {
         "colorscale": [
          [
           0,
           "#ab63fa"
          ],
          [
           1,
           "#ab63fa"
          ]
         ],
         "geo": "geo",
         "hovertemplate": "<b>%{hovertext}</b><br><br>2005 [YR2005]=94.17077<br>Country Code=%{location}<extra></extra>",
         "hovertext": [
          "Latin America & Caribbean"
         ],
         "locations": [
          "LCN"
         ],
         "name": "94.17077",
         "showlegend": true,
         "showscale": false,
         "type": "choropleth",
         "z": [
          1
         ]
        },
        {
         "colorscale": [
          [
           0,
           "#FFA15A"
          ],
          [
           1,
           "#FFA15A"
          ]
         ],
         "geo": "geo",
         "hovertemplate": "<b>%{hovertext}</b><br><br>2005 [YR2005]=94.19796<br>Country Code=%{location}<extra></extra>",
         "hovertext": [
          "Latin America & Caribbean (excluding high income)"
         ],
         "locations": [
          "LAC"
         ],
         "name": "94.19796",
         "showlegend": true,
         "showscale": false,
         "type": "choropleth",
         "z": [
          1
         ]
        },
        {
         "colorscale": [
          [
           0,
           "#19d3f3"
          ],
          [
           1,
           "#19d3f3"
          ]
         ],
         "geo": "geo",
         "hovertemplate": "<b>%{hovertext}</b><br><br>2005 [YR2005]=94.16808<br>Country Code=%{location}<extra></extra>",
         "hovertext": [
          "Latin America & the Caribbean (IDA & IBRD countries)"
         ],
         "locations": [
          "TLA"
         ],
         "name": "94.16808",
         "showlegend": true,
         "showscale": false,
         "type": "choropleth",
         "z": [
          1
         ]
        },
        {
         "colorscale": [
          [
           0,
           "#FF6692"
          ],
          [
           1,
           "#FF6692"
          ]
         ],
         "geo": "geo",
         "hovertemplate": "<b>%{hovertext}</b><br><br>2005 [YR2005]=73.39791<br>Country Code=%{location}<extra></extra>",
         "hovertext": [
          "Least developed countries: UN classification"
         ],
         "locations": [
          "LDC"
         ],
         "name": "73.39791",
         "showlegend": true,
         "showscale": false,
         "type": "choropleth",
         "z": [
          1
         ]
        },
        {
         "colorscale": [
          [
           0,
           "#B6E880"
          ],
          [
           1,
           "#B6E880"
          ]
         ],
         "geo": "geo",
         "hovertemplate": "<b>%{hovertext}</b><br><br>2005 [YR2005]=83.75431<br>Country Code=%{location}<extra></extra>",
         "hovertext": [
          "Lesotho"
         ],
         "locations": [
          "LSO"
         ],
         "name": "83.75431",
         "showlegend": true,
         "showscale": false,
         "type": "choropleth",
         "z": [
          1
         ]
        },
        {
         "colorscale": [
          [
           0,
           "#FF97FF"
          ],
          [
           1,
           "#FF97FF"
          ]
         ],
         "geo": "geo",
         "hovertemplate": "<b>%{hovertext}</b><br><br>2005 [YR2005]=90.54969<br>Country Code=%{location}<extra></extra>",
         "hovertext": [
          "Liechtenstein"
         ],
         "locations": [
          "LIE"
         ],
         "name": "90.54969",
         "showlegend": true,
         "showscale": false,
         "type": "choropleth",
         "z": [
          1
         ]
        },
        {
         "colorscale": [
          [
           0,
           "#FECB52"
          ],
          [
           1,
           "#FECB52"
          ]
         ],
         "geo": "geo",
         "hovertemplate": "<b>%{hovertext}</b><br><br>2005 [YR2005]=95.6621<br>Country Code=%{location}<extra></extra>",
         "hovertext": [
          "Lithuania"
         ],
         "locations": [
          "LTU"
         ],
         "name": "95.6621",
         "showlegend": true,
         "showscale": false,
         "type": "choropleth",
         "z": [
          1
         ]
        },
        {
         "colorscale": [
          [
           0,
           "#636efa"
          ],
          [
           1,
           "#636efa"
          ]
         ],
         "geo": "geo",
         "hovertemplate": "<b>%{hovertext}</b><br><br>2005 [YR2005]=85.72567<br>Country Code=%{location}<extra></extra>",
         "hovertext": [
          "Low & middle income"
         ],
         "locations": [
          "LMY"
         ],
         "name": "85.72567",
         "showlegend": true,
         "showscale": false,
         "type": "choropleth",
         "z": [
          1
         ]
        },
        {
         "colorscale": [
          [
           0,
           "#EF553B"
          ],
          [
           1,
           "#EF553B"
          ]
         ],
         "geo": "geo",
         "hovertemplate": "<b>%{hovertext}</b><br><br>2005 [YR2005]=82.82935<br>Country Code=%{location}<extra></extra>",
         "hovertext": [
          "Lower middle income"
         ],
         "locations": [
          "LMC"
         ],
         "name": "82.82935",
         "showlegend": true,
         "showscale": false,
         "type": "choropleth",
         "z": [
          1
         ]
        },
        {
         "colorscale": [
          [
           0,
           "#00cc96"
          ],
          [
           1,
           "#00cc96"
          ]
         ],
         "geo": "geo",
         "hovertemplate": "<b>%{hovertext}</b><br><br>2005 [YR2005]=96.25162<br>Country Code=%{location}<extra></extra>",
         "hovertext": [
          "Luxembourg"
         ],
         "locations": [
          "LUX"
         ],
         "name": "96.25162",
         "showlegend": true,
         "showscale": false,
         "type": "choropleth",
         "z": [
          1
         ]
        },
        {
         "colorscale": [
          [
           0,
           "#ab63fa"
          ],
          [
           1,
           "#ab63fa"
          ]
         ],
         "geo": "geo",
         "hovertemplate": "<b>%{hovertext}</b><br><br>2005 [YR2005]=85.43399<br>Country Code=%{location}<extra></extra>",
         "hovertext": [
          "Macao SAR, China"
         ],
         "locations": [
          "MAC"
         ],
         "name": "85.43399",
         "showlegend": true,
         "showscale": false,
         "type": "choropleth",
         "z": [
          1
         ]
        },
        {
         "colorscale": [
          [
           0,
           "#FFA15A"
          ],
          [
           1,
           "#FFA15A"
          ]
         ],
         "geo": "geo",
         "hovertemplate": "<b>%{hovertext}</b><br><br>2005 [YR2005]=97.78176<br>Country Code=%{location}<extra></extra>",
         "hovertext": [
          "Malawi"
         ],
         "locations": [
          "MWI"
         ],
         "name": "97.78176",
         "showlegend": true,
         "showscale": false,
         "type": "choropleth",
         "z": [
          1
         ]
        },
        {
         "colorscale": [
          [
           0,
           "#19d3f3"
          ],
          [
           1,
           "#19d3f3"
          ]
         ],
         "geo": "geo",
         "hovertemplate": "<b>%{hovertext}</b><br><br>2005 [YR2005]=99.59294<br>Country Code=%{location}<extra></extra>",
         "hovertext": [
          "Malaysia"
         ],
         "locations": [
          "MYS"
         ],
         "name": "99.59294",
         "showlegend": true,
         "showscale": false,
         "type": "choropleth",
         "z": [
          1
         ]
        },
        {
         "colorscale": [
          [
           0,
           "#FF6692"
          ],
          [
           1,
           "#FF6692"
          ]
         ],
         "geo": "geo",
         "hovertemplate": "<b>%{hovertext}</b><br><br>2005 [YR2005]=97.25467<br>Country Code=%{location}<extra></extra>",
         "hovertext": [
          "Maldives"
         ],
         "locations": [
          "MDV"
         ],
         "name": "97.25467",
         "showlegend": true,
         "showscale": false,
         "type": "choropleth",
         "z": [
          1
         ]
        },
        {
         "colorscale": [
          [
           0,
           "#B6E880"
          ],
          [
           1,
           "#B6E880"
          ]
         ],
         "geo": "geo",
         "hovertemplate": "<b>%{hovertext}</b><br><br>2005 [YR2005]=56.65099<br>Country Code=%{location}<extra></extra>",
         "hovertext": [
          "Mali"
         ],
         "locations": [
          "MLI"
         ],
         "name": "56.65099",
         "showlegend": true,
         "showscale": false,
         "type": "choropleth",
         "z": [
          1
         ]
        },
        {
         "colorscale": [
          [
           0,
           "#FF97FF"
          ],
          [
           1,
           "#FF97FF"
          ]
         ],
         "geo": "geo",
         "hovertemplate": "<b>%{hovertext}</b><br><br>2005 [YR2005]=72.5486<br>Country Code=%{location}<extra></extra>",
         "hovertext": [
          "Mauritania"
         ],
         "locations": [
          "MRT"
         ],
         "name": "72.5486",
         "showlegend": true,
         "showscale": false,
         "type": "choropleth",
         "z": [
          1
         ]
        },
        {
         "colorscale": [
          [
           0,
           "#FECB52"
          ],
          [
           1,
           "#FECB52"
          ]
         ],
         "geo": "geo",
         "hovertemplate": "<b>%{hovertext}</b><br><br>2005 [YR2005]=96.02008<br>Country Code=%{location}<extra></extra>",
         "hovertext": [
          "Mauritius"
         ],
         "locations": [
          "MUS"
         ],
         "name": "96.02008",
         "showlegend": true,
         "showscale": false,
         "type": "choropleth",
         "z": [
          1
         ]
        },
        {
         "colorscale": [
          [
           0,
           "#636efa"
          ],
          [
           1,
           "#636efa"
          ]
         ],
         "geo": "geo",
         "hovertemplate": "<b>%{hovertext}</b><br><br>2005 [YR2005]=97.87734<br>Country Code=%{location}<extra></extra>",
         "hovertext": [
          "Mexico"
         ],
         "locations": [
          "MEX"
         ],
         "name": "97.87734",
         "showlegend": true,
         "showscale": false,
         "type": "choropleth",
         "z": [
          1
         ]
        },
        {
         "colorscale": [
          [
           0,
           "#EF553B"
          ],
          [
           1,
           "#EF553B"
          ]
         ],
         "geo": "geo",
         "hovertemplate": "<b>%{hovertext}</b><br><br>2005 [YR2005]=88.9663<br>Country Code=%{location}<extra></extra>",
         "hovertext": [
          "Middle East & North Africa"
         ],
         "locations": [
          "MEA"
         ],
         "name": "88.9663",
         "showlegend": true,
         "showscale": false,
         "type": "choropleth",
         "z": [
          1
         ]
        },
        {
         "colorscale": [
          [
           0,
           "#00cc96"
          ],
          [
           1,
           "#00cc96"
          ]
         ],
         "geo": "geo",
         "hovertemplate": "<b>%{hovertext}</b><br><br>2005 [YR2005]=89.45346<br>Country Code=%{location}<extra></extra>",
         "hovertext": [
          "Middle East & North Africa (excluding high income)"
         ],
         "locations": [
          "MNA"
         ],
         "name": "89.45346",
         "showlegend": true,
         "showscale": false,
         "type": "choropleth",
         "z": [
          1
         ]
        },
        {
         "colorscale": [
          [
           0,
           "#ab63fa"
          ],
          [
           1,
           "#ab63fa"
          ]
         ],
         "geo": "geo",
         "hovertemplate": "<b>%{hovertext}</b><br><br>2005 [YR2005]=89.56867<br>Country Code=%{location}<extra></extra>",
         "hovertext": [
          "Middle East & North Africa (IDA & IBRD countries)"
         ],
         "locations": [
          "TMN"
         ],
         "name": "89.56867",
         "showlegend": true,
         "showscale": false,
         "type": "choropleth",
         "z": [
          1
         ]
        },
        {
         "colorscale": [
          [
           0,
           "#FFA15A"
          ],
          [
           1,
           "#FFA15A"
          ]
         ],
         "geo": "geo",
         "hovertemplate": "<b>%{hovertext}</b><br><br>2005 [YR2005]=88.22677<br>Country Code=%{location}<extra></extra>",
         "hovertext": [
          "Middle income"
         ],
         "locations": [
          "MIC"
         ],
         "name": "88.22677",
         "showlegend": true,
         "showscale": false,
         "type": "choropleth",
         "z": [
          1
         ]
        },
        {
         "colorscale": [
          [
           0,
           "#19d3f3"
          ],
          [
           1,
           "#19d3f3"
          ]
         ],
         "geo": "geo",
         "hovertemplate": "<b>%{hovertext}</b><br><br>2005 [YR2005]=90.98955<br>Country Code=%{location}<extra></extra>",
         "hovertext": [
          "Moldova"
         ],
         "locations": [
          "MDA"
         ],
         "name": "90.98955",
         "showlegend": true,
         "showscale": false,
         "type": "choropleth",
         "z": [
          1
         ]
        },
        {
         "colorscale": [
          [
           0,
           "#FF6692"
          ],
          [
           1,
           "#FF6692"
          ]
         ],
         "geo": "geo",
         "hovertemplate": "<b>%{hovertext}</b><br><br>2005 [YR2005]=87.92489<br>Country Code=%{location}<extra></extra>",
         "hovertext": [
          "Mongolia"
         ],
         "locations": [
          "MNG"
         ],
         "name": "87.92489",
         "showlegend": true,
         "showscale": false,
         "type": "choropleth",
         "z": [
          1
         ]
        },
        {
         "colorscale": [
          [
           0,
           "#B6E880"
          ],
          [
           1,
           "#B6E880"
          ]
         ],
         "geo": "geo",
         "hovertemplate": "<b>%{hovertext}</b><br><br>2005 [YR2005]=97.91655<br>Country Code=%{location}<extra></extra>",
         "hovertext": [
          "Montenegro"
         ],
         "locations": [
          "MNE"
         ],
         "name": "97.91655",
         "showlegend": true,
         "showscale": false,
         "type": "choropleth",
         "z": [
          1
         ]
        },
        {
         "colorscale": [
          [
           0,
           "#FF97FF"
          ],
          [
           1,
           "#FF97FF"
          ]
         ],
         "geo": "geo",
         "hovertemplate": "<b>%{hovertext}</b><br><br>2005 [YR2005]=86.73812<br>Country Code=%{location}<extra></extra>",
         "hovertext": [
          "Morocco"
         ],
         "locations": [
          "MAR"
         ],
         "name": "86.73812",
         "showlegend": true,
         "showscale": false,
         "type": "choropleth",
         "z": [
          1
         ]
        },
        {
         "colorscale": [
          [
           0,
           "#FECB52"
          ],
          [
           1,
           "#FECB52"
          ]
         ],
         "geo": "geo",
         "hovertemplate": "<b>%{hovertext}</b><br><br>2005 [YR2005]=75.35226<br>Country Code=%{location}<extra></extra>",
         "hovertext": [
          "Mozambique"
         ],
         "locations": [
          "MOZ"
         ],
         "name": "75.35226",
         "showlegend": true,
         "showscale": false,
         "type": "choropleth",
         "z": [
          1
         ]
        },
        {
         "colorscale": [
          [
           0,
           "#636efa"
          ],
          [
           1,
           "#636efa"
          ]
         ],
         "geo": "geo",
         "hovertemplate": "<b>%{hovertext}</b><br><br>2005 [YR2005]=88.82624<br>Country Code=%{location}<extra></extra>",
         "hovertext": [
          "Myanmar"
         ],
         "locations": [
          "MMR"
         ],
         "name": "88.82624",
         "showlegend": true,
         "showscale": false,
         "type": "choropleth",
         "z": [
          1
         ]
        },
        {
         "colorscale": [
          [
           0,
           "#EF553B"
          ],
          [
           1,
           "#EF553B"
          ]
         ],
         "geo": "geo",
         "hovertemplate": "<b>%{hovertext}</b><br><br>2005 [YR2005]=90.36721<br>Country Code=%{location}<extra></extra>",
         "hovertext": [
          "Namibia"
         ],
         "locations": [
          "NAM"
         ],
         "name": "90.36721",
         "showlegend": true,
         "showscale": false,
         "type": "choropleth",
         "z": [
          1
         ]
        },
        {
         "colorscale": [
          [
           0,
           "#00cc96"
          ],
          [
           1,
           "#00cc96"
          ]
         ],
         "geo": "geo",
         "hovertemplate": "<b>%{hovertext}</b><br><br>2005 [YR2005]=98.11317<br>Country Code=%{location}<extra></extra>",
         "hovertext": [
          "Netherlands"
         ],
         "locations": [
          "NLD"
         ],
         "name": "98.11317",
         "showlegend": true,
         "showscale": false,
         "type": "choropleth",
         "z": [
          1
         ]
        },
        {
         "colorscale": [
          [
           0,
           "#ab63fa"
          ],
          [
           1,
           "#ab63fa"
          ]
         ],
         "geo": "geo",
         "hovertemplate": "<b>%{hovertext}</b><br><br>2005 [YR2005]=92.4662<br>Country Code=%{location}<extra></extra>",
         "hovertext": [
          "Nicaragua"
         ],
         "locations": [
          "NIC"
         ],
         "name": "92.4662",
         "showlegend": true,
         "showscale": false,
         "type": "choropleth",
         "z": [
          1
         ]
        },
        {
         "colorscale": [
          [
           0,
           "#FFA15A"
          ],
          [
           1,
           "#FFA15A"
          ]
         ],
         "geo": "geo",
         "hovertemplate": "<b>%{hovertext}</b><br><br>2005 [YR2005]=41.3199<br>Country Code=%{location}<extra></extra>",
         "hovertext": [
          "Niger"
         ],
         "locations": [
          "NER"
         ],
         "name": "41.3199",
         "showlegend": true,
         "showscale": false,
         "type": "choropleth",
         "z": [
          1
         ]
        },
        {
         "colorscale": [
          [
           0,
           "#19d3f3"
          ],
          [
           1,
           "#19d3f3"
          ]
         ],
         "geo": "geo",
         "hovertemplate": "<b>%{hovertext}</b><br><br>2005 [YR2005]=66.85314<br>Country Code=%{location}<extra></extra>",
         "hovertext": [
          "Nigeria"
         ],
         "locations": [
          "NGA"
         ],
         "name": "66.85314",
         "showlegend": true,
         "showscale": false,
         "type": "choropleth",
         "z": [
          1
         ]
        },
        {
         "colorscale": [
          [
           0,
           "#FF6692"
          ],
          [
           1,
           "#FF6692"
          ]
         ],
         "geo": "geo",
         "hovertemplate": "<b>%{hovertext}</b><br><br>2005 [YR2005]=94.96574<br>Country Code=%{location}<extra></extra>",
         "hovertext": [
          "North America"
         ],
         "locations": [
          "NAC"
         ],
         "name": "94.96574",
         "showlegend": true,
         "showscale": false,
         "type": "choropleth",
         "z": [
          1
         ]
        },
        {
         "colorscale": [
          [
           0,
           "#B6E880"
          ],
          [
           1,
           "#B6E880"
          ]
         ],
         "geo": "geo",
         "hovertemplate": "<b>%{hovertext}</b><br><br>2005 [YR2005]=87.6979<br>Country Code=%{location}<extra></extra>",
         "hovertext": [
          "North Macedonia"
         ],
         "locations": [
          "MKD"
         ],
         "name": "87.6979",
         "showlegend": true,
         "showscale": false,
         "type": "choropleth",
         "z": [
          1
         ]
        },
        {
         "colorscale": [
          [
           0,
           "#FF97FF"
          ],
          [
           1,
           "#FF97FF"
          ]
         ],
         "geo": "geo",
         "hovertemplate": "<b>%{hovertext}</b><br><br>2005 [YR2005]=98.5115<br>Country Code=%{location}<extra></extra>",
         "hovertext": [
          "Norway"
         ],
         "locations": [
          "NOR"
         ],
         "name": "98.5115",
         "showlegend": true,
         "showscale": false,
         "type": "choropleth",
         "z": [
          1
         ]
        },
        {
         "colorscale": [
          [
           0,
           "#FECB52"
          ],
          [
           1,
           "#FECB52"
          ]
         ],
         "geo": "geo",
         "hovertemplate": "<b>%{hovertext}</b><br><br>2005 [YR2005]=96.19609<br>Country Code=%{location}<extra></extra>",
         "hovertext": [
          "OECD members"
         ],
         "locations": [
          "OED"
         ],
         "name": "96.19609",
         "showlegend": true,
         "showscale": false,
         "type": "choropleth",
         "z": [
          1
         ]
        },
        {
         "colorscale": [
          [
           0,
           "#636efa"
          ],
          [
           1,
           "#636efa"
          ]
         ],
         "geo": "geo",
         "hovertemplate": "<b>%{hovertext}</b><br><br>2005 [YR2005]=63.39651<br>Country Code=%{location}<extra></extra>",
         "hovertext": [
          "Pakistan"
         ],
         "locations": [
          "PAK"
         ],
         "name": "63.39651",
         "showlegend": true,
         "showscale": false,
         "type": "choropleth",
         "z": [
          1
         ]
        },
        {
         "colorscale": [
          [
           0,
           "#EF553B"
          ],
          [
           1,
           "#EF553B"
          ]
         ],
         "geo": "geo",
         "hovertemplate": "<b>%{hovertext}</b><br><br>2005 [YR2005]=97.56968<br>Country Code=%{location}<extra></extra>",
         "hovertext": [
          "Panama"
         ],
         "locations": [
          "PAN"
         ],
         "name": "97.56968",
         "showlegend": true,
         "showscale": false,
         "type": "choropleth",
         "z": [
          1
         ]
        },
        {
         "colorscale": [
          [
           0,
           "#00cc96"
          ],
          [
           1,
           "#00cc96"
          ]
         ],
         "geo": "geo",
         "hovertemplate": "<b>%{hovertext}</b><br><br>2005 [YR2005]=93.95193<br>Country Code=%{location}<extra></extra>",
         "hovertext": [
          "Paraguay"
         ],
         "locations": [
          "PRY"
         ],
         "name": "93.95193",
         "showlegend": true,
         "showscale": false,
         "type": "choropleth",
         "z": [
          1
         ]
        },
        {
         "colorscale": [
          [
           0,
           "#ab63fa"
          ],
          [
           1,
           "#ab63fa"
          ]
         ],
         "geo": "geo",
         "hovertemplate": "<b>%{hovertext}</b><br><br>2005 [YR2005]=96.58075<br>Country Code=%{location}<extra></extra>",
         "hovertext": [
          "Peru"
         ],
         "locations": [
          "PER"
         ],
         "name": "96.58075",
         "showlegend": true,
         "showscale": false,
         "type": "choropleth",
         "z": [
          1
         ]
        },
        {
         "colorscale": [
          [
           0,
           "#FFA15A"
          ],
          [
           1,
           "#FFA15A"
          ]
         ],
         "geo": "geo",
         "hovertemplate": "<b>%{hovertext}</b><br><br>2005 [YR2005]=88.55488<br>Country Code=%{location}<extra></extra>",
         "hovertext": [
          "Philippines"
         ],
         "locations": [
          "PHL"
         ],
         "name": "88.55488",
         "showlegend": true,
         "showscale": false,
         "type": "choropleth",
         "z": [
          1
         ]
        },
        {
         "colorscale": [
          [
           0,
           "#19d3f3"
          ],
          [
           1,
           "#19d3f3"
          ]
         ],
         "geo": "geo",
         "hovertemplate": "<b>%{hovertext}</b><br><br>2005 [YR2005]=93.08055<br>Country Code=%{location}<extra></extra>",
         "hovertext": [
          "Poland"
         ],
         "locations": [
          "POL"
         ],
         "name": "93.08055",
         "showlegend": true,
         "showscale": false,
         "type": "choropleth",
         "z": [
          1
         ]
        },
        {
         "colorscale": [
          [
           0,
           "#FF6692"
          ],
          [
           1,
           "#FF6692"
          ]
         ],
         "geo": "geo",
         "hovertemplate": "<b>%{hovertext}</b><br><br>2005 [YR2005]=97.96037<br>Country Code=%{location}<extra></extra>",
         "hovertext": [
          "Portugal"
         ],
         "locations": [
          "PRT"
         ],
         "name": "97.96037",
         "showlegend": true,
         "showscale": false,
         "type": "choropleth",
         "z": [
          1
         ]
        },
        {
         "colorscale": [
          [
           0,
           "#B6E880"
          ],
          [
           1,
           "#B6E880"
          ]
         ],
         "geo": "geo",
         "hovertemplate": "<b>%{hovertext}</b><br><br>2005 [YR2005]=95.69963<br>Country Code=%{location}<extra></extra>",
         "hovertext": [
          "Post-demographic dividend"
         ],
         "locations": [
          "PST"
         ],
         "name": "95.69963",
         "showlegend": true,
         "showscale": false,
         "type": "choropleth",
         "z": [
          1
         ]
        },
        {
         "colorscale": [
          [
           0,
           "#FF97FF"
          ],
          [
           1,
           "#FF97FF"
          ]
         ],
         "geo": "geo",
         "hovertemplate": "<b>%{hovertext}</b><br><br>2005 [YR2005]=94.99625<br>Country Code=%{location}<extra></extra>",
         "hovertext": [
          "Qatar"
         ],
         "locations": [
          "QAT"
         ],
         "name": "94.99625",
         "showlegend": true,
         "showscale": false,
         "type": "choropleth",
         "z": [
          1
         ]
        },
        {
         "colorscale": [
          [
           0,
           "#FECB52"
          ],
          [
           1,
           "#FECB52"
          ]
         ],
         "geo": "geo",
         "hovertemplate": "<b>%{hovertext}</b><br><br>2005 [YR2005]=95.07328<br>Country Code=%{location}<extra></extra>",
         "hovertext": [
          "Romania"
         ],
         "locations": [
          "ROU"
         ],
         "name": "95.07328",
         "showlegend": true,
         "showscale": false,
         "type": "choropleth",
         "z": [
          1
         ]
        },
        {
         "colorscale": [
          [
           0,
           "#636efa"
          ],
          [
           1,
           "#636efa"
          ]
         ],
         "geo": "geo",
         "hovertemplate": "<b>%{hovertext}</b><br><br>2005 [YR2005]=94.99835<br>Country Code=%{location}<extra></extra>",
         "hovertext": [
          "Sao Tome and Principe"
         ],
         "locations": [
          "STP"
         ],
         "name": "94.99835",
         "showlegend": true,
         "showscale": false,
         "type": "choropleth",
         "z": [
          1
         ]
        },
        {
         "colorscale": [
          [
           0,
           "#EF553B"
          ],
          [
           1,
           "#EF553B"
          ]
         ],
         "geo": "geo",
         "hovertemplate": "<b>%{hovertext}</b><br><br>2005 [YR2005]=64.73078<br>Country Code=%{location}<extra></extra>",
         "hovertext": [
          "Senegal"
         ],
         "locations": [
          "SEN"
         ],
         "name": "64.73078",
         "showlegend": true,
         "showscale": false,
         "type": "choropleth",
         "z": [
          1
         ]
        },
        {
         "colorscale": [
          [
           0,
           "#00cc96"
          ],
          [
           1,
           "#00cc96"
          ]
         ],
         "geo": "geo",
         "hovertemplate": "<b>%{hovertext}</b><br><br>2005 [YR2005]=99.70359<br>Country Code=%{location}<extra></extra>",
         "hovertext": [
          "Serbia"
         ],
         "locations": [
          "SRB"
         ],
         "name": "99.70359",
         "showlegend": true,
         "showscale": false,
         "type": "choropleth",
         "z": [
          1
         ]
        },
        {
         "colorscale": [
          [
           0,
           "#ab63fa"
          ],
          [
           1,
           "#ab63fa"
          ]
         ],
         "geo": "geo",
         "hovertemplate": "<b>%{hovertext}</b><br><br>2005 [YR2005]=95.48517<br>Country Code=%{location}<extra></extra>",
         "hovertext": [
          "Seychelles"
         ],
         "locations": [
          "SYC"
         ],
         "name": "95.48517",
         "showlegend": true,
         "showscale": false,
         "type": "choropleth",
         "z": [
          1
         ]
        },
        {
         "colorscale": [
          [
           0,
           "#FFA15A"
          ],
          [
           1,
           "#FFA15A"
          ]
         ],
         "geo": "geo",
         "hovertemplate": "<b>%{hovertext}</b><br><br>2005 [YR2005]=83.00852<br>Country Code=%{location}<extra></extra>",
         "hovertext": [
          "Slovak Republic"
         ],
         "locations": [
          "SVK"
         ],
         "name": "83.00852",
         "showlegend": true,
         "showscale": false,
         "type": "choropleth",
         "z": [
          1
         ]
        },
        {
         "colorscale": [
          [
           0,
           "#19d3f3"
          ],
          [
           1,
           "#19d3f3"
          ]
         ],
         "geo": "geo",
         "hovertemplate": "<b>%{hovertext}</b><br><br>2005 [YR2005]=97.42762<br>Country Code=%{location}<extra></extra>",
         "hovertext": [
          "Slovenia"
         ],
         "locations": [
          "SVN"
         ],
         "name": "97.42762",
         "showlegend": true,
         "showscale": false,
         "type": "choropleth",
         "z": [
          1
         ]
        },
        {
         "colorscale": [
          [
           0,
           "#FF6692"
          ],
          [
           1,
           "#FF6692"
          ]
         ],
         "geo": "geo",
         "hovertemplate": "<b>%{hovertext}</b><br><br>2005 [YR2005]=75.38095<br>Country Code=%{location}<extra></extra>",
         "hovertext": [
          "Solomon Islands"
         ],
         "locations": [
          "SLB"
         ],
         "name": "75.38095",
         "showlegend": true,
         "showscale": false,
         "type": "choropleth",
         "z": [
          1
         ]
        },
        {
         "colorscale": [
          [
           0,
           "#B6E880"
          ],
          [
           1,
           "#B6E880"
          ]
         ],
         "geo": "geo",
         "hovertemplate": "<b>%{hovertext}</b><br><br>2005 [YR2005]=88.64586<br>Country Code=%{location}<extra></extra>",
         "hovertext": [
          "South Africa"
         ],
         "locations": [
          "ZAF"
         ],
         "name": "88.64586",
         "showlegend": true,
         "showscale": false,
         "type": "choropleth",
         "z": [
          1
         ]
        },
        {
         "colorscale": [
          [
           0,
           "#FF97FF"
          ],
          [
           1,
           "#FF97FF"
          ]
         ],
         "geo": "geo",
         "hovertemplate": "<b>%{hovertext}</b><br><br>2005 [YR2005]=83.98378<br>Country Code=%{location}<extra></extra>",
         "hovertext": [
          "South Asia",
          "South Asia (IDA & IBRD)"
         ],
         "locations": [
          "SAS",
          "TSA"
         ],
         "name": "83.98378",
         "showlegend": true,
         "showscale": false,
         "type": "choropleth",
         "z": [
          1,
          1
         ]
        },
        {
         "colorscale": [
          [
           0,
           "#FECB52"
          ],
          [
           1,
           "#FECB52"
          ]
         ],
         "geo": "geo",
         "hovertemplate": "<b>%{hovertext}</b><br><br>2005 [YR2005]=99.65855<br>Country Code=%{location}<extra></extra>",
         "hovertext": [
          "Spain"
         ],
         "locations": [
          "ESP"
         ],
         "name": "99.65855",
         "showlegend": true,
         "showscale": false,
         "type": "choropleth",
         "z": [
          1
         ]
        },
        {
         "colorscale": [
          [
           0,
           "#636efa"
          ],
          [
           1,
           "#636efa"
          ]
         ],
         "geo": "geo",
         "hovertemplate": "<b>%{hovertext}</b><br><br>2005 [YR2005]=97.19208<br>Country Code=%{location}<extra></extra>",
         "hovertext": [
          "Sri Lanka"
         ],
         "locations": [
          "LKA"
         ],
         "name": "97.19208",
         "showlegend": true,
         "showscale": false,
         "type": "choropleth",
         "z": [
          1
         ]
        },
        {
         "colorscale": [
          [
           0,
           "#EF553B"
          ],
          [
           1,
           "#EF553B"
          ]
         ],
         "geo": "geo",
         "hovertemplate": "<b>%{hovertext}</b><br><br>2005 [YR2005]=97.33724<br>Country Code=%{location}<extra></extra>",
         "hovertext": [
          "St. Kitts and Nevis"
         ],
         "locations": [
          "KNA"
         ],
         "name": "97.33724",
         "showlegend": true,
         "showscale": false,
         "type": "choropleth",
         "z": [
          1
         ]
        },
        {
         "colorscale": [
          [
           0,
           "#00cc96"
          ],
          [
           1,
           "#00cc96"
          ]
         ],
         "geo": "geo",
         "hovertemplate": "<b>%{hovertext}</b><br><br>2005 [YR2005]=91.79219<br>Country Code=%{location}<extra></extra>",
         "hovertext": [
          "St. Lucia"
         ],
         "locations": [
          "LCA"
         ],
         "name": "91.79219",
         "showlegend": true,
         "showscale": false,
         "type": "choropleth",
         "z": [
          1
         ]
        },
        {
         "colorscale": [
          [
           0,
           "#ab63fa"
          ],
          [
           1,
           "#ab63fa"
          ]
         ],
         "geo": "geo",
         "hovertemplate": "<b>%{hovertext}</b><br><br>2005 [YR2005]=96.01852<br>Country Code=%{location}<extra></extra>",
         "hovertext": [
          "St. Vincent and the Grenadines"
         ],
         "locations": [
          "VCT"
         ],
         "name": "96.01852",
         "showlegend": true,
         "showscale": false,
         "type": "choropleth",
         "z": [
          1
         ]
        },
        {
         "colorscale": [
          [
           0,
           "#FFA15A"
          ],
          [
           1,
           "#FFA15A"
          ]
         ],
         "geo": "geo",
         "hovertemplate": "<b>%{hovertext}</b><br><br>2005 [YR2005]=69.67395<br>Country Code=%{location}<extra></extra>",
         "hovertext": [
          "Sub-Saharan Africa",
          "Sub-Saharan Africa (IDA & IBRD countries)"
         ],
         "locations": [
          "SSF",
          "TSS"
         ],
         "name": "69.67395",
         "showlegend": true,
         "showscale": false,
         "type": "choropleth",
         "z": [
          1,
          1
         ]
        },
        {
         "colorscale": [
          [
           0,
           "#19d3f3"
          ],
          [
           1,
           "#19d3f3"
          ]
         ],
         "geo": "geo",
         "hovertemplate": "<b>%{hovertext}</b><br><br>2005 [YR2005]=69.6722<br>Country Code=%{location}<extra></extra>",
         "hovertext": [
          "Sub-Saharan Africa (excluding high income)"
         ],
         "locations": [
          "SSA"
         ],
         "name": "69.6722",
         "showlegend": true,
         "showscale": false,
         "type": "choropleth",
         "z": [
          1
         ]
        },
        {
         "colorscale": [
          [
           0,
           "#FF6692"
          ],
          [
           1,
           "#FF6692"
          ]
         ],
         "geo": "geo",
         "hovertemplate": "<b>%{hovertext}</b><br><br>2005 [YR2005]=82.56368<br>Country Code=%{location}<extra></extra>",
         "hovertext": [
          "Suriname"
         ],
         "locations": [
          "SUR"
         ],
         "name": "82.56368",
         "showlegend": true,
         "showscale": false,
         "type": "choropleth",
         "z": [
          1
         ]
        },
        {
         "colorscale": [
          [
           0,
           "#B6E880"
          ],
          [
           1,
           "#B6E880"
          ]
         ],
         "geo": "geo",
         "hovertemplate": "<b>%{hovertext}</b><br><br>2005 [YR2005]=95.39294<br>Country Code=%{location}<extra></extra>",
         "hovertext": [
          "Sweden"
         ],
         "locations": [
          "SWE"
         ],
         "name": "95.39294",
         "showlegend": true,
         "showscale": false,
         "type": "choropleth",
         "z": [
          1
         ]
        },
        {
         "colorscale": [
          [
           0,
           "#FF97FF"
          ],
          [
           1,
           "#FF97FF"
          ]
         ],
         "geo": "geo",
         "hovertemplate": "<b>%{hovertext}</b><br><br>2005 [YR2005]=93.7217<br>Country Code=%{location}<extra></extra>",
         "hovertext": [
          "Switzerland"
         ],
         "locations": [
          "CHE"
         ],
         "name": "93.7217",
         "showlegend": true,
         "showscale": false,
         "type": "choropleth",
         "z": [
          1
         ]
        },
        {
         "colorscale": [
          [
           0,
           "#FECB52"
          ],
          [
           1,
           "#FECB52"
          ]
         ],
         "geo": "geo",
         "hovertemplate": "<b>%{hovertext}</b><br><br>2005 [YR2005]=92.57075<br>Country Code=%{location}<extra></extra>",
         "hovertext": [
          "Syrian Arab Republic"
         ],
         "locations": [
          "SYR"
         ],
         "name": "92.57075",
         "showlegend": true,
         "showscale": false,
         "type": "choropleth",
         "z": [
          1
         ]
        },
        {
         "colorscale": [
          [
           0,
           "#636efa"
          ],
          [
           1,
           "#636efa"
          ]
         ],
         "geo": "geo",
         "hovertemplate": "<b>%{hovertext}</b><br><br>2005 [YR2005]=97.6536<br>Country Code=%{location}<extra></extra>",
         "hovertext": [
          "Tajikistan"
         ],
         "locations": [
          "TJK"
         ],
         "name": "97.6536",
         "showlegend": true,
         "showscale": false,
         "type": "choropleth",
         "z": [
          1
         ]
        },
        {
         "colorscale": [
          [
           0,
           "#EF553B"
          ],
          [
           1,
           "#EF553B"
          ]
         ],
         "geo": "geo",
         "hovertemplate": "<b>%{hovertext}</b><br><br>2005 [YR2005]=90.85074<br>Country Code=%{location}<extra></extra>",
         "hovertext": [
          "Tanzania"
         ],
         "locations": [
          "TZA"
         ],
         "name": "90.85074",
         "showlegend": true,
         "showscale": false,
         "type": "choropleth",
         "z": [
          1
         ]
        },
        {
         "colorscale": [
          [
           0,
           "#00cc96"
          ],
          [
           1,
           "#00cc96"
          ]
         ],
         "geo": "geo",
         "hovertemplate": "<b>%{hovertext}</b><br><br>2005 [YR2005]=89.39777<br>Country Code=%{location}<extra></extra>",
         "hovertext": [
          "Togo"
         ],
         "locations": [
          "TGO"
         ],
         "name": "89.39777",
         "showlegend": true,
         "showscale": false,
         "type": "choropleth",
         "z": [
          1
         ]
        },
        {
         "colorscale": [
          [
           0,
           "#ab63fa"
          ],
          [
           1,
           "#ab63fa"
          ]
         ],
         "geo": "geo",
         "hovertemplate": "<b>%{hovertext}</b><br><br>2005 [YR2005]=98.81118<br>Country Code=%{location}<extra></extra>",
         "hovertext": [
          "Tonga"
         ],
         "locations": [
          "TON"
         ],
         "name": "98.81118",
         "showlegend": true,
         "showscale": false,
         "type": "choropleth",
         "z": [
          1
         ]
        },
        {
         "colorscale": [
          [
           0,
           "#FFA15A"
          ],
          [
           1,
           "#FFA15A"
          ]
         ],
         "geo": "geo",
         "hovertemplate": "<b>%{hovertext}</b><br><br>2005 [YR2005]=88.68652<br>Country Code=%{location}<extra></extra>",
         "hovertext": [
          "Trinidad and Tobago"
         ],
         "locations": [
          "TTO"
         ],
         "name": "88.68652",
         "showlegend": true,
         "showscale": false,
         "type": "choropleth",
         "z": [
          1
         ]
        },
        {
         "colorscale": [
          [
           0,
           "#19d3f3"
          ],
          [
           1,
           "#19d3f3"
          ]
         ],
         "geo": "geo",
         "hovertemplate": "<b>%{hovertext}</b><br><br>2005 [YR2005]=98.74059<br>Country Code=%{location}<extra></extra>",
         "hovertext": [
          "Tunisia"
         ],
         "locations": [
          "TUN"
         ],
         "name": "98.74059",
         "showlegend": true,
         "showscale": false,
         "type": "choropleth",
         "z": [
          1
         ]
        },
        {
         "colorscale": [
          [
           0,
           "#FF6692"
          ],
          [
           1,
           "#FF6692"
          ]
         ],
         "geo": "geo",
         "hovertemplate": "<b>%{hovertext}</b><br><br>2005 [YR2005]=97.79379<br>Country Code=%{location}<extra></extra>",
         "hovertext": [
          "Turkiye"
         ],
         "locations": [
          "TUR"
         ],
         "name": "97.79379",
         "showlegend": true,
         "showscale": false,
         "type": "choropleth",
         "z": [
          1
         ]
        },
        {
         "colorscale": [
          [
           0,
           "#B6E880"
          ],
          [
           1,
           "#B6E880"
          ]
         ],
         "geo": "geo",
         "hovertemplate": "<b>%{hovertext}</b><br><br>2005 [YR2005]=89.53734<br>Country Code=%{location}<extra></extra>",
         "hovertext": [
          "Ukraine"
         ],
         "locations": [
          "UKR"
         ],
         "name": "89.53734",
         "showlegend": true,
         "showscale": false,
         "type": "choropleth",
         "z": [
          1
         ]
        },
        {
         "colorscale": [
          [
           0,
           "#FF97FF"
          ],
          [
           1,
           "#FF97FF"
          ]
         ],
         "geo": "geo",
         "hovertemplate": "<b>%{hovertext}</b><br><br>2005 [YR2005]=98.78009<br>Country Code=%{location}<extra></extra>",
         "hovertext": [
          "United Kingdom"
         ],
         "locations": [
          "GBR"
         ],
         "name": "98.78009",
         "showlegend": true,
         "showscale": false,
         "type": "choropleth",
         "z": [
          1
         ]
        },
        {
         "colorscale": [
          [
           0,
           "#FECB52"
          ],
          [
           1,
           "#FECB52"
          ]
         ],
         "geo": "geo",
         "hovertemplate": "<b>%{hovertext}</b><br><br>2005 [YR2005]=94.77826<br>Country Code=%{location}<extra></extra>",
         "hovertext": [
          "United States"
         ],
         "locations": [
          "USA"
         ],
         "name": "94.77826",
         "showlegend": true,
         "showscale": false,
         "type": "choropleth",
         "z": [
          1
         ]
        },
        {
         "colorscale": [
          [
           0,
           "#636efa"
          ],
          [
           1,
           "#636efa"
          ]
         ],
         "geo": "geo",
         "hovertemplate": "<b>%{hovertext}</b><br><br>2005 [YR2005]=95.73099<br>Country Code=%{location}<extra></extra>",
         "hovertext": [
          "Upper middle income"
         ],
         "locations": [
          "UMC"
         ],
         "name": "95.73099",
         "showlegend": true,
         "showscale": false,
         "type": "choropleth",
         "z": [
          1
         ]
        },
        {
         "colorscale": [
          [
           0,
           "#EF553B"
          ],
          [
           1,
           "#EF553B"
          ]
         ],
         "geo": "geo",
         "hovertemplate": "<b>%{hovertext}</b><br><br>2005 [YR2005]=97.34989<br>Country Code=%{location}<extra></extra>",
         "hovertext": [
          "Uruguay"
         ],
         "locations": [
          "URY"
         ],
         "name": "97.34989",
         "showlegend": true,
         "showscale": false,
         "type": "choropleth",
         "z": [
          1
         ]
        },
        {
         "colorscale": [
          [
           0,
           "#00cc96"
          ],
          [
           1,
           "#00cc96"
          ]
         ],
         "geo": "geo",
         "hovertemplate": "<b>%{hovertext}</b><br><br>2005 [YR2005]=98.90831<br>Country Code=%{location}<extra></extra>",
         "hovertext": [
          "Vanuatu"
         ],
         "locations": [
          "VUT"
         ],
         "name": "98.90831",
         "showlegend": true,
         "showscale": false,
         "type": "choropleth",
         "z": [
          1
         ]
        },
        {
         "colorscale": [
          [
           0,
           "#ab63fa"
          ],
          [
           1,
           "#ab63fa"
          ]
         ],
         "geo": "geo",
         "hovertemplate": "<b>%{hovertext}</b><br><br>2005 [YR2005]=90.65024<br>Country Code=%{location}<extra></extra>",
         "hovertext": [
          "Venezuela, RB"
         ],
         "locations": [
          "VEN"
         ],
         "name": "90.65024",
         "showlegend": true,
         "showscale": false,
         "type": "choropleth",
         "z": [
          1
         ]
        },
        {
         "colorscale": [
          [
           0,
           "#FFA15A"
          ],
          [
           1,
           "#FFA15A"
          ]
         ],
         "geo": "geo",
         "hovertemplate": "<b>%{hovertext}</b><br><br>2005 [YR2005]=90.70151<br>Country Code=%{location}<extra></extra>",
         "hovertext": [
          "Viet Nam"
         ],
         "locations": [
          "VNM"
         ],
         "name": "90.70151",
         "showlegend": true,
         "showscale": false,
         "type": "choropleth",
         "z": [
          1
         ]
        },
        {
         "colorscale": [
          [
           0,
           "#19d3f3"
          ],
          [
           1,
           "#19d3f3"
          ]
         ],
         "geo": "geo",
         "hovertemplate": "<b>%{hovertext}</b><br><br>2005 [YR2005]=79.69969<br>Country Code=%{location}<extra></extra>",
         "hovertext": [
          "West Bank and Gaza"
         ],
         "locations": [
          "PSE"
         ],
         "name": "79.69969",
         "showlegend": true,
         "showscale": false,
         "type": "choropleth",
         "z": [
          1
         ]
        },
        {
         "colorscale": [
          [
           0,
           "#FF6692"
          ],
          [
           1,
           "#FF6692"
          ]
         ],
         "geo": "geo",
         "hovertemplate": "<b>%{hovertext}</b><br><br>2005 [YR2005]=86.78988<br>Country Code=%{location}<extra></extra>",
         "hovertext": [
          "World"
         ],
         "locations": [
          "WLD"
         ],
         "name": "86.78988",
         "showlegend": true,
         "showscale": false,
         "type": "choropleth",
         "z": [
          1
         ]
        },
        {
         "colorscale": [
          [
           0,
           "#B6E880"
          ],
          [
           1,
           "#B6E880"
          ]
         ],
         "geo": "geo",
         "hovertemplate": "<b>%{hovertext}</b><br><br>2005 [YR2005]=76.71869<br>Country Code=%{location}<extra></extra>",
         "hovertext": [
          "Yemen, Rep."
         ],
         "locations": [
          "YEM"
         ],
         "name": "76.71869",
         "showlegend": true,
         "showscale": false,
         "type": "choropleth",
         "z": [
          1
         ]
        },
        {
         "colorscale": [
          [
           0,
           "#FF97FF"
          ],
          [
           1,
           "#FF97FF"
          ]
         ],
         "geo": "geo",
         "hovertemplate": "<b>%{hovertext}</b><br><br>2005 [YR2005]=89.74576<br>Country Code=%{location}<extra></extra>",
         "hovertext": [
          "Zambia"
         ],
         "locations": [
          "ZMB"
         ],
         "name": "89.74576",
         "showlegend": true,
         "showscale": false,
         "type": "choropleth",
         "z": [
          1
         ]
        }
       ],
       "layout": {
        "geo": {
         "center": {},
         "domain": {
          "x": [
           0,
           1
          ],
          "y": [
           0,
           1
          ]
         }
        },
        "legend": {
         "title": {
          "text": "2005 [YR2005]"
         },
         "tracegroupgap": 0
        },
        "margin": {
         "t": 60
        },
        "template": {
         "data": {
          "bar": [
           {
            "error_x": {
             "color": "#2a3f5f"
            },
            "error_y": {
             "color": "#2a3f5f"
            },
            "marker": {
             "line": {
              "color": "#E5ECF6",
              "width": 0.5
             },
             "pattern": {
              "fillmode": "overlay",
              "size": 10,
              "solidity": 0.2
             }
            },
            "type": "bar"
           }
          ],
          "barpolar": [
           {
            "marker": {
             "line": {
              "color": "#E5ECF6",
              "width": 0.5
             },
             "pattern": {
              "fillmode": "overlay",
              "size": 10,
              "solidity": 0.2
             }
            },
            "type": "barpolar"
           }
          ],
          "carpet": [
           {
            "aaxis": {
             "endlinecolor": "#2a3f5f",
             "gridcolor": "white",
             "linecolor": "white",
             "minorgridcolor": "white",
             "startlinecolor": "#2a3f5f"
            },
            "baxis": {
             "endlinecolor": "#2a3f5f",
             "gridcolor": "white",
             "linecolor": "white",
             "minorgridcolor": "white",
             "startlinecolor": "#2a3f5f"
            },
            "type": "carpet"
           }
          ],
          "choropleth": [
           {
            "colorbar": {
             "outlinewidth": 0,
             "ticks": ""
            },
            "type": "choropleth"
           }
          ],
          "contour": [
           {
            "colorbar": {
             "outlinewidth": 0,
             "ticks": ""
            },
            "colorscale": [
             [
              0,
              "#0d0887"
             ],
             [
              0.1111111111111111,
              "#46039f"
             ],
             [
              0.2222222222222222,
              "#7201a8"
             ],
             [
              0.3333333333333333,
              "#9c179e"
             ],
             [
              0.4444444444444444,
              "#bd3786"
             ],
             [
              0.5555555555555556,
              "#d8576b"
             ],
             [
              0.6666666666666666,
              "#ed7953"
             ],
             [
              0.7777777777777778,
              "#fb9f3a"
             ],
             [
              0.8888888888888888,
              "#fdca26"
             ],
             [
              1,
              "#f0f921"
             ]
            ],
            "type": "contour"
           }
          ],
          "contourcarpet": [
           {
            "colorbar": {
             "outlinewidth": 0,
             "ticks": ""
            },
            "type": "contourcarpet"
           }
          ],
          "heatmap": [
           {
            "colorbar": {
             "outlinewidth": 0,
             "ticks": ""
            },
            "colorscale": [
             [
              0,
              "#0d0887"
             ],
             [
              0.1111111111111111,
              "#46039f"
             ],
             [
              0.2222222222222222,
              "#7201a8"
             ],
             [
              0.3333333333333333,
              "#9c179e"
             ],
             [
              0.4444444444444444,
              "#bd3786"
             ],
             [
              0.5555555555555556,
              "#d8576b"
             ],
             [
              0.6666666666666666,
              "#ed7953"
             ],
             [
              0.7777777777777778,
              "#fb9f3a"
             ],
             [
              0.8888888888888888,
              "#fdca26"
             ],
             [
              1,
              "#f0f921"
             ]
            ],
            "type": "heatmap"
           }
          ],
          "heatmapgl": [
           {
            "colorbar": {
             "outlinewidth": 0,
             "ticks": ""
            },
            "colorscale": [
             [
              0,
              "#0d0887"
             ],
             [
              0.1111111111111111,
              "#46039f"
             ],
             [
              0.2222222222222222,
              "#7201a8"
             ],
             [
              0.3333333333333333,
              "#9c179e"
             ],
             [
              0.4444444444444444,
              "#bd3786"
             ],
             [
              0.5555555555555556,
              "#d8576b"
             ],
             [
              0.6666666666666666,
              "#ed7953"
             ],
             [
              0.7777777777777778,
              "#fb9f3a"
             ],
             [
              0.8888888888888888,
              "#fdca26"
             ],
             [
              1,
              "#f0f921"
             ]
            ],
            "type": "heatmapgl"
           }
          ],
          "histogram": [
           {
            "marker": {
             "pattern": {
              "fillmode": "overlay",
              "size": 10,
              "solidity": 0.2
             }
            },
            "type": "histogram"
           }
          ],
          "histogram2d": [
           {
            "colorbar": {
             "outlinewidth": 0,
             "ticks": ""
            },
            "colorscale": [
             [
              0,
              "#0d0887"
             ],
             [
              0.1111111111111111,
              "#46039f"
             ],
             [
              0.2222222222222222,
              "#7201a8"
             ],
             [
              0.3333333333333333,
              "#9c179e"
             ],
             [
              0.4444444444444444,
              "#bd3786"
             ],
             [
              0.5555555555555556,
              "#d8576b"
             ],
             [
              0.6666666666666666,
              "#ed7953"
             ],
             [
              0.7777777777777778,
              "#fb9f3a"
             ],
             [
              0.8888888888888888,
              "#fdca26"
             ],
             [
              1,
              "#f0f921"
             ]
            ],
            "type": "histogram2d"
           }
          ],
          "histogram2dcontour": [
           {
            "colorbar": {
             "outlinewidth": 0,
             "ticks": ""
            },
            "colorscale": [
             [
              0,
              "#0d0887"
             ],
             [
              0.1111111111111111,
              "#46039f"
             ],
             [
              0.2222222222222222,
              "#7201a8"
             ],
             [
              0.3333333333333333,
              "#9c179e"
             ],
             [
              0.4444444444444444,
              "#bd3786"
             ],
             [
              0.5555555555555556,
              "#d8576b"
             ],
             [
              0.6666666666666666,
              "#ed7953"
             ],
             [
              0.7777777777777778,
              "#fb9f3a"
             ],
             [
              0.8888888888888888,
              "#fdca26"
             ],
             [
              1,
              "#f0f921"
             ]
            ],
            "type": "histogram2dcontour"
           }
          ],
          "mesh3d": [
           {
            "colorbar": {
             "outlinewidth": 0,
             "ticks": ""
            },
            "type": "mesh3d"
           }
          ],
          "parcoords": [
           {
            "line": {
             "colorbar": {
              "outlinewidth": 0,
              "ticks": ""
             }
            },
            "type": "parcoords"
           }
          ],
          "pie": [
           {
            "automargin": true,
            "type": "pie"
           }
          ],
          "scatter": [
           {
            "fillpattern": {
             "fillmode": "overlay",
             "size": 10,
             "solidity": 0.2
            },
            "type": "scatter"
           }
          ],
          "scatter3d": [
           {
            "line": {
             "colorbar": {
              "outlinewidth": 0,
              "ticks": ""
             }
            },
            "marker": {
             "colorbar": {
              "outlinewidth": 0,
              "ticks": ""
             }
            },
            "type": "scatter3d"
           }
          ],
          "scattercarpet": [
           {
            "marker": {
             "colorbar": {
              "outlinewidth": 0,
              "ticks": ""
             }
            },
            "type": "scattercarpet"
           }
          ],
          "scattergeo": [
           {
            "marker": {
             "colorbar": {
              "outlinewidth": 0,
              "ticks": ""
             }
            },
            "type": "scattergeo"
           }
          ],
          "scattergl": [
           {
            "marker": {
             "colorbar": {
              "outlinewidth": 0,
              "ticks": ""
             }
            },
            "type": "scattergl"
           }
          ],
          "scattermapbox": [
           {
            "marker": {
             "colorbar": {
              "outlinewidth": 0,
              "ticks": ""
             }
            },
            "type": "scattermapbox"
           }
          ],
          "scatterpolar": [
           {
            "marker": {
             "colorbar": {
              "outlinewidth": 0,
              "ticks": ""
             }
            },
            "type": "scatterpolar"
           }
          ],
          "scatterpolargl": [
           {
            "marker": {
             "colorbar": {
              "outlinewidth": 0,
              "ticks": ""
             }
            },
            "type": "scatterpolargl"
           }
          ],
          "scatterternary": [
           {
            "marker": {
             "colorbar": {
              "outlinewidth": 0,
              "ticks": ""
             }
            },
            "type": "scatterternary"
           }
          ],
          "surface": [
           {
            "colorbar": {
             "outlinewidth": 0,
             "ticks": ""
            },
            "colorscale": [
             [
              0,
              "#0d0887"
             ],
             [
              0.1111111111111111,
              "#46039f"
             ],
             [
              0.2222222222222222,
              "#7201a8"
             ],
             [
              0.3333333333333333,
              "#9c179e"
             ],
             [
              0.4444444444444444,
              "#bd3786"
             ],
             [
              0.5555555555555556,
              "#d8576b"
             ],
             [
              0.6666666666666666,
              "#ed7953"
             ],
             [
              0.7777777777777778,
              "#fb9f3a"
             ],
             [
              0.8888888888888888,
              "#fdca26"
             ],
             [
              1,
              "#f0f921"
             ]
            ],
            "type": "surface"
           }
          ],
          "table": [
           {
            "cells": {
             "fill": {
              "color": "#EBF0F8"
             },
             "line": {
              "color": "white"
             }
            },
            "header": {
             "fill": {
              "color": "#C8D4E3"
             },
             "line": {
              "color": "white"
             }
            },
            "type": "table"
           }
          ]
         },
         "layout": {
          "annotationdefaults": {
           "arrowcolor": "#2a3f5f",
           "arrowhead": 0,
           "arrowwidth": 1
          },
          "autotypenumbers": "strict",
          "coloraxis": {
           "colorbar": {
            "outlinewidth": 0,
            "ticks": ""
           }
          },
          "colorscale": {
           "diverging": [
            [
             0,
             "#8e0152"
            ],
            [
             0.1,
             "#c51b7d"
            ],
            [
             0.2,
             "#de77ae"
            ],
            [
             0.3,
             "#f1b6da"
            ],
            [
             0.4,
             "#fde0ef"
            ],
            [
             0.5,
             "#f7f7f7"
            ],
            [
             0.6,
             "#e6f5d0"
            ],
            [
             0.7,
             "#b8e186"
            ],
            [
             0.8,
             "#7fbc41"
            ],
            [
             0.9,
             "#4d9221"
            ],
            [
             1,
             "#276419"
            ]
           ],
           "sequential": [
            [
             0,
             "#0d0887"
            ],
            [
             0.1111111111111111,
             "#46039f"
            ],
            [
             0.2222222222222222,
             "#7201a8"
            ],
            [
             0.3333333333333333,
             "#9c179e"
            ],
            [
             0.4444444444444444,
             "#bd3786"
            ],
            [
             0.5555555555555556,
             "#d8576b"
            ],
            [
             0.6666666666666666,
             "#ed7953"
            ],
            [
             0.7777777777777778,
             "#fb9f3a"
            ],
            [
             0.8888888888888888,
             "#fdca26"
            ],
            [
             1,
             "#f0f921"
            ]
           ],
           "sequentialminus": [
            [
             0,
             "#0d0887"
            ],
            [
             0.1111111111111111,
             "#46039f"
            ],
            [
             0.2222222222222222,
             "#7201a8"
            ],
            [
             0.3333333333333333,
             "#9c179e"
            ],
            [
             0.4444444444444444,
             "#bd3786"
            ],
            [
             0.5555555555555556,
             "#d8576b"
            ],
            [
             0.6666666666666666,
             "#ed7953"
            ],
            [
             0.7777777777777778,
             "#fb9f3a"
            ],
            [
             0.8888888888888888,
             "#fdca26"
            ],
            [
             1,
             "#f0f921"
            ]
           ]
          },
          "colorway": [
           "#636efa",
           "#EF553B",
           "#00cc96",
           "#ab63fa",
           "#FFA15A",
           "#19d3f3",
           "#FF6692",
           "#B6E880",
           "#FF97FF",
           "#FECB52"
          ],
          "font": {
           "color": "#2a3f5f"
          },
          "geo": {
           "bgcolor": "white",
           "lakecolor": "white",
           "landcolor": "#E5ECF6",
           "showlakes": true,
           "showland": true,
           "subunitcolor": "white"
          },
          "hoverlabel": {
           "align": "left"
          },
          "hovermode": "closest",
          "mapbox": {
           "style": "light"
          },
          "paper_bgcolor": "white",
          "plot_bgcolor": "#E5ECF6",
          "polar": {
           "angularaxis": {
            "gridcolor": "white",
            "linecolor": "white",
            "ticks": ""
           },
           "bgcolor": "#E5ECF6",
           "radialaxis": {
            "gridcolor": "white",
            "linecolor": "white",
            "ticks": ""
           }
          },
          "scene": {
           "xaxis": {
            "backgroundcolor": "#E5ECF6",
            "gridcolor": "white",
            "gridwidth": 2,
            "linecolor": "white",
            "showbackground": true,
            "ticks": "",
            "zerolinecolor": "white"
           },
           "yaxis": {
            "backgroundcolor": "#E5ECF6",
            "gridcolor": "white",
            "gridwidth": 2,
            "linecolor": "white",
            "showbackground": true,
            "ticks": "",
            "zerolinecolor": "white"
           },
           "zaxis": {
            "backgroundcolor": "#E5ECF6",
            "gridcolor": "white",
            "gridwidth": 2,
            "linecolor": "white",
            "showbackground": true,
            "ticks": "",
            "zerolinecolor": "white"
           }
          },
          "shapedefaults": {
           "line": {
            "color": "#2a3f5f"
           }
          },
          "ternary": {
           "aaxis": {
            "gridcolor": "white",
            "linecolor": "white",
            "ticks": ""
           },
           "baxis": {
            "gridcolor": "white",
            "linecolor": "white",
            "ticks": ""
           },
           "bgcolor": "#E5ECF6",
           "caxis": {
            "gridcolor": "white",
            "linecolor": "white",
            "ticks": ""
           }
          },
          "title": {
           "x": 0.05
          },
          "xaxis": {
           "automargin": true,
           "gridcolor": "white",
           "linecolor": "white",
           "ticks": "",
           "title": {
            "standoff": 15
           },
           "zerolinecolor": "white",
           "zerolinewidth": 2
          },
          "yaxis": {
           "automargin": true,
           "gridcolor": "white",
           "linecolor": "white",
           "ticks": "",
           "title": {
            "standoff": 15
           },
           "zerolinecolor": "white",
           "zerolinewidth": 2
          }
         }
        }
       }
      },
      "image/png": "[encoded data removed]",
      "text/html": [
       "<div>                            <div id=\"559e154f-f81a-4975-bb34-7910bc6abc67\" class=\"plotly-graph-div\" style=\"height:525px; width:100%;\"></div>            <script type=\"text/javascript\">                require([\"plotly\"], function(Plotly) {                    window.PLOTLYENV=window.PLOTLYENV || {};                                    if (document.getElementById(\"559e154f-f81a-4975-bb34-7910bc6abc67\")) {                    Plotly.newPlot(                        \"559e154f-f81a-4975-bb34-7910bc6abc67\",                        [{\"colorscale\":[[0.0,\"#636efa\"],[1.0,\"#636efa\"]],\"geo\":\"geo\",\"hovertemplate\":\"\\u003cb\\u003e%{hovertext}\\u003c\\u002fb\\u003e\\u003cbr\\u003e\\u003cbr\\u003e2005 [YR2005]=..\\u003cbr\\u003eCountry Code=%{location}\\u003cextra\\u003e\\u003c\\u002fextra\\u003e\",\"hovertext\":[\"Afghanistan\",\"Africa Eastern and Southern\",\"Africa Western and Central\",\"Albania\",\"American Samoa\",\"Andorra\",\"Angola\",\"Antigua and Barbuda\",\"Bosnia and Herzegovina\",\"Brunei Darussalam\",\"Cambodia\",\"Cameroon\",\"Canada\",\"Cayman Islands\",\"Chad\",\"Channel Islands\",\"Chile\",\"China\",\"Comoros\",\"Congo, Dem. Rep.\",\"Costa Rica\",\"Cote d'Ivoire\",\"Curacao\",\"Czechia\",\"Equatorial Guinea\",\"Eswatini\",\"Faroe Islands\",\"Fiji\",\"French Polynesia\",\"Gabon\",\"Gibraltar\",\"Greenland\",\"Guam\",\"Guinea-Bissau\",\"Guyana\",\"Haiti\",\"Heavily indebted poor countries (HIPC)\",\"Hong Kong SAR, China\",\"IBRD only\",\"IDA blend\",\"IDA only\",\"IDA total\",\"India\",\"Iraq\",\"Isle of Man\",\"Jamaica\",\"Japan\",\"Kiribati\",\"Korea, Dem. People's Rep.\",\"Kosovo\",\"Latvia\",\"Lebanon\",\"Liberia\",\"Libya\",\"Low income\",\"Madagascar\",\"Malta\",\"Marshall Islands\",\"Micronesia, Fed. Sts.\",\"Monaco\",\"Nauru\",\"Nepal\",\"New Caledonia\",\"New Zealand\",\"Northern Mariana Islands\",\"Not classified\",\"Oman\",\"Other small states\",\"Pacific island small states\",\"Palau\",\"Papua New Guinea\",\"Pre-demographic dividend\",\"Puerto Rico\",\"Russian Federation\",\"Rwanda\",\"Samoa\",\"San Marino\",\"Saudi Arabia\",\"Sierra Leone\",\"Singapore\",\"Sint Maarten (Dutch part)\",\"Small states\",\"Somalia\",\"South Sudan\",\"St. Martin (French part)\",\"Sudan\",\"Thailand\",\"Timor-Leste\",\"Turkmenistan\",\"Turks and Caicos Islands\",\"Tuvalu\",\"Uganda\",\"United Arab Emirates\",\"Uzbekistan\",\"Virgin Islands (U.S.)\",\"Zimbabwe\"],\"locations\":[\"AFG\",\"AFE\",\"AFW\",\"ALB\",\"ASM\",\"AND\",\"AGO\",\"ATG\",\"BIH\",\"BRN\",\"KHM\",\"CMR\",\"CAN\",\"CYM\",\"TCD\",\"CHI\",\"CHL\",\"CHN\",\"COM\",\"COD\",\"CRI\",\"CIV\",\"CUW\",\"CZE\",\"GNQ\",\"SWZ\",\"FRO\",\"FJI\",\"PYF\",\"GAB\",\"GIB\",\"GRL\",\"GUM\",\"GNB\",\"GUY\",\"HTI\",\"HPC\",\"HKG\",\"IBD\",\"IDB\",\"IDX\",\"IDA\",\"IND\",\"IRQ\",\"IMN\",\"JAM\",\"JPN\",\"KIR\",\"PRK\",\"XKX\",\"LVA\",\"LBN\",\"LBR\",\"LBY\",\"LIC\",\"MDG\",\"MLT\",\"MHL\",\"FSM\",\"MCO\",\"NRU\",\"NPL\",\"NCL\",\"NZL\",\"MNP\",\"INX\",\"OMN\",\"OSS\",\"PSS\",\"PLW\",\"PNG\",\"PRE\",\"PRI\",\"RUS\",\"RWA\",\"WSM\",\"SMR\",\"SAU\",\"SLE\",\"SGP\",\"SXM\",\"SST\",\"SOM\",\"SSD\",\"MAF\",\"SDN\",\"THA\",\"TLS\",\"TKM\",\"TCA\",\"TUV\",\"UGA\",\"ARE\",\"UZB\",\"VIR\",\"ZWE\"],\"name\":\"..\",\"showlegend\":true,\"showscale\":false,\"z\":[1,1,1,1,1,1,1,1,1,1,1,1,1,1,1,1,1,1,1,1,1,1,1,1,1,1,1,1,1,1,1,1,1,1,1,1,1,1,1,1,1,1,1,1,1,1,1,1,1,1,1,1,1,1,1,1,1,1,1,1,1,1,1,1,1,1,1,1,1,1,1,1,1,1,1,1,1,1,1,1,1,1,1,1,1,1,1,1,1,1,1,1,1,1,1,1],\"type\":\"choropleth\"},{\"colorscale\":[[0.0,\"#EF553B\"],[1.0,\"#EF553B\"]],\"geo\":\"geo\",\"hovertemplate\":\"\\u003cb\\u003e%{hovertext}\\u003c\\u002fb\\u003e\\u003cbr\\u003e\\u003cbr\\u003e2005 [YR2005]=93.09766\\u003cbr\\u003eCountry Code=%{location}\\u003cextra\\u003e\\u003c\\u002fextra\\u003e\",\"hovertext\":[\"Algeria\"],\"locations\":[\"DZA\"],\"name\":\"93.09766\",\"showlegend\":true,\"showscale\":false,\"z\":[1],\"type\":\"choropleth\"},{\"colorscale\":[[0.0,\"#00cc96\"],[1.0,\"#00cc96\"]],\"geo\":\"geo\",\"hovertemplate\":\"\\u003cb\\u003e%{hovertext}\\u003c\\u002fb\\u003e\\u003cbr\\u003e\\u003cbr\\u003e2005 [YR2005]=80.2983\\u003cbr\\u003eCountry Code=%{location}\\u003cextra\\u003e\\u003c\\u002fextra\\u003e\",\"hovertext\":[\"Arab World\"],\"locations\":[\"ARB\"],\"name\":\"80.2983\",\"showlegend\":true,\"showscale\":false,\"z\":[1],\"type\":\"choropleth\"},{\"colorscale\":[[0.0,\"#ab63fa\"],[1.0,\"#ab63fa\"]],\"geo\":\"geo\",\"hovertemplate\":\"\\u003cb\\u003e%{hovertext}\\u003c\\u002fb\\u003e\\u003cbr\\u003e\\u003cbr\\u003e2005 [YR2005]=98.81425\\u003cbr\\u003eCountry Code=%{location}\\u003cextra\\u003e\\u003c\\u002fextra\\u003e\",\"hovertext\":[\"Argentina\"],\"locations\":[\"ARG\"],\"name\":\"98.81425\",\"showlegend\":true,\"showscale\":false,\"z\":[1],\"type\":\"choropleth\"},{\"colorscale\":[[0.0,\"#FFA15A\"],[1.0,\"#FFA15A\"]],\"geo\":\"geo\",\"hovertemplate\":\"\\u003cb\\u003e%{hovertext}\\u003c\\u002fb\\u003e\\u003cbr\\u003e\\u003cbr\\u003e2005 [YR2005]=81.05196\\u003cbr\\u003eCountry Code=%{location}\\u003cextra\\u003e\\u003c\\u002fextra\\u003e\",\"hovertext\":[\"Armenia\"],\"locations\":[\"ARM\"],\"name\":\"81.05196\",\"showlegend\":true,\"showscale\":false,\"z\":[1],\"type\":\"choropleth\"},{\"colorscale\":[[0.0,\"#19d3f3\"],[1.0,\"#19d3f3\"]],\"geo\":\"geo\",\"hovertemplate\":\"\\u003cb\\u003e%{hovertext}\\u003c\\u002fb\\u003e\\u003cbr\\u003e\\u003cbr\\u003e2005 [YR2005]=97.80506\\u003cbr\\u003eCountry Code=%{location}\\u003cextra\\u003e\\u003c\\u002fextra\\u003e\",\"hovertext\":[\"Aruba\"],\"locations\":[\"ABW\"],\"name\":\"97.80506\",\"showlegend\":true,\"showscale\":false,\"z\":[1],\"type\":\"choropleth\"},{\"colorscale\":[[0.0,\"#FF6692\"],[1.0,\"#FF6692\"]],\"geo\":\"geo\",\"hovertemplate\":\"\\u003cb\\u003e%{hovertext}\\u003c\\u002fb\\u003e\\u003cbr\\u003e\\u003cbr\\u003e2005 [YR2005]=95.50656\\u003cbr\\u003eCountry Code=%{location}\\u003cextra\\u003e\\u003c\\u002fextra\\u003e\",\"hovertext\":[\"Australia\"],\"locations\":[\"AUS\"],\"name\":\"95.50656\",\"showlegend\":true,\"showscale\":false,\"z\":[1],\"type\":\"choropleth\"},{\"colorscale\":[[0.0,\"#B6E880\"],[1.0,\"#B6E880\"]],\"geo\":\"geo\",\"hovertemplate\":\"\\u003cb\\u003e%{hovertext}\\u003c\\u002fb\\u003e\\u003cbr\\u003e\\u003cbr\\u003e2005 [YR2005]=87.83857\\u003cbr\\u003eCountry Code=%{location}\\u003cextra\\u003e\\u003c\\u002fextra\\u003e\",\"hovertext\":[\"Austria\"],\"locations\":[\"AUT\"],\"name\":\"87.83857\",\"showlegend\":true,\"showscale\":false,\"z\":[1],\"type\":\"choropleth\"},{\"colorscale\":[[0.0,\"#FF97FF\"],[1.0,\"#FF97FF\"]],\"geo\":\"geo\",\"hovertemplate\":\"\\u003cb\\u003e%{hovertext}\\u003c\\u002fb\\u003e\\u003cbr\\u003e\\u003cbr\\u003e2005 [YR2005]=83.86862\\u003cbr\\u003eCountry Code=%{location}\\u003cextra\\u003e\\u003c\\u002fextra\\u003e\",\"hovertext\":[\"Azerbaijan\"],\"locations\":[\"AZE\"],\"name\":\"83.86862\",\"showlegend\":true,\"showscale\":false,\"z\":[1],\"type\":\"choropleth\"},{\"colorscale\":[[0.0,\"#FECB52\"],[1.0,\"#FECB52\"]],\"geo\":\"geo\",\"hovertemplate\":\"\\u003cb\\u003e%{hovertext}\\u003c\\u002fb\\u003e\\u003cbr\\u003e\\u003cbr\\u003e2005 [YR2005]=90.23928\\u003cbr\\u003eCountry Code=%{location}\\u003cextra\\u003e\\u003c\\u002fextra\\u003e\",\"hovertext\":[\"Bahamas, The\"],\"locations\":[\"BHS\"],\"name\":\"90.23928\",\"showlegend\":true,\"showscale\":false,\"z\":[1],\"type\":\"choropleth\"},{\"colorscale\":[[0.0,\"#636efa\"],[1.0,\"#636efa\"]],\"geo\":\"geo\",\"hovertemplate\":\"\\u003cb\\u003e%{hovertext}\\u003c\\u002fb\\u003e\\u003cbr\\u003e\\u003cbr\\u003e2005 [YR2005]=89.10805\\u003cbr\\u003eCountry Code=%{location}\\u003cextra\\u003e\\u003c\\u002fextra\\u003e\",\"hovertext\":[\"Bahrain\"],\"locations\":[\"BHR\"],\"name\":\"89.10805\",\"showlegend\":true,\"showscale\":false,\"z\":[1],\"type\":\"choropleth\"},{\"colorscale\":[[0.0,\"#EF553B\"],[1.0,\"#EF553B\"]],\"geo\":\"geo\",\"hovertemplate\":\"\\u003cb\\u003e%{hovertext}\\u003c\\u002fb\\u003e\\u003cbr\\u003e\\u003cbr\\u003e2005 [YR2005]=93.68999\\u003cbr\\u003eCountry Code=%{location}\\u003cextra\\u003e\\u003c\\u002fextra\\u003e\",\"hovertext\":[\"Bangladesh\"],\"locations\":[\"BGD\"],\"name\":\"93.68999\",\"showlegend\":true,\"showscale\":false,\"z\":[1],\"type\":\"choropleth\"},{\"colorscale\":[[0.0,\"#00cc96\"],[1.0,\"#00cc96\"]],\"geo\":\"geo\",\"hovertemplate\":\"\\u003cb\\u003e%{hovertext}\\u003c\\u002fb\\u003e\\u003cbr\\u003e\\u003cbr\\u003e2005 [YR2005]=90.23547\\u003cbr\\u003eCountry Code=%{location}\\u003cextra\\u003e\\u003c\\u002fextra\\u003e\",\"hovertext\":[\"Barbados\"],\"locations\":[\"BRB\"],\"name\":\"90.23547\",\"showlegend\":true,\"showscale\":false,\"z\":[1],\"type\":\"choropleth\"},{\"colorscale\":[[0.0,\"#ab63fa\"],[1.0,\"#ab63fa\"]],\"geo\":\"geo\",\"hovertemplate\":\"\\u003cb\\u003e%{hovertext}\\u003c\\u002fb\\u003e\\u003cbr\\u003e\\u003cbr\\u003e2005 [YR2005]=89.60983\\u003cbr\\u003eCountry Code=%{location}\\u003cextra\\u003e\\u003c\\u002fextra\\u003e\",\"hovertext\":[\"Belarus\"],\"locations\":[\"BLR\"],\"name\":\"89.60983\",\"showlegend\":true,\"showscale\":false,\"z\":[1],\"type\":\"choropleth\"},{\"colorscale\":[[0.0,\"#FFA15A\"],[1.0,\"#FFA15A\"]],\"geo\":\"geo\",\"hovertemplate\":\"\\u003cb\\u003e%{hovertext}\\u003c\\u002fb\\u003e\\u003cbr\\u003e\\u003cbr\\u003e2005 [YR2005]=95.74554\\u003cbr\\u003eCountry Code=%{location}\\u003cextra\\u003e\\u003c\\u002fextra\\u003e\",\"hovertext\":[\"Belgium\"],\"locations\":[\"BEL\"],\"name\":\"95.74554\",\"showlegend\":true,\"showscale\":false,\"z\":[1],\"type\":\"choropleth\"},{\"colorscale\":[[0.0,\"#19d3f3\"],[1.0,\"#19d3f3\"]],\"geo\":\"geo\",\"hovertemplate\":\"\\u003cb\\u003e%{hovertext}\\u003c\\u002fb\\u003e\\u003cbr\\u003e\\u003cbr\\u003e2005 [YR2005]=92.96664\\u003cbr\\u003eCountry Code=%{location}\\u003cextra\\u003e\\u003c\\u002fextra\\u003e\",\"hovertext\":[\"Belize\"],\"locations\":[\"BLZ\"],\"name\":\"92.96664\",\"showlegend\":true,\"showscale\":false,\"z\":[1],\"type\":\"choropleth\"},{\"colorscale\":[[0.0,\"#FF6692\"],[1.0,\"#FF6692\"]],\"geo\":\"geo\",\"hovertemplate\":\"\\u003cb\\u003e%{hovertext}\\u003c\\u002fb\\u003e\\u003cbr\\u003e\\u003cbr\\u003e2005 [YR2005]=81.92453\\u003cbr\\u003eCountry Code=%{location}\\u003cextra\\u003e\\u003c\\u002fextra\\u003e\",\"hovertext\":[\"Benin\"],\"locations\":[\"BEN\"],\"name\":\"81.92453\",\"showlegend\":true,\"showscale\":false,\"z\":[1],\"type\":\"choropleth\"},{\"colorscale\":[[0.0,\"#B6E880\"],[1.0,\"#B6E880\"]],\"geo\":\"geo\",\"hovertemplate\":\"\\u003cb\\u003e%{hovertext}\\u003c\\u002fb\\u003e\\u003cbr\\u003e\\u003cbr\\u003e2005 [YR2005]=96.99323\\u003cbr\\u003eCountry Code=%{location}\\u003cextra\\u003e\\u003c\\u002fextra\\u003e\",\"hovertext\":[\"Bermuda\"],\"locations\":[\"BMU\"],\"name\":\"96.99323\",\"showlegend\":true,\"showscale\":false,\"z\":[1],\"type\":\"choropleth\"},{\"colorscale\":[[0.0,\"#FF97FF\"],[1.0,\"#FF97FF\"]],\"geo\":\"geo\",\"hovertemplate\":\"\\u003cb\\u003e%{hovertext}\\u003c\\u002fb\\u003e\\u003cbr\\u003e\\u003cbr\\u003e2005 [YR2005]=69.57875\\u003cbr\\u003eCountry Code=%{location}\\u003cextra\\u003e\\u003c\\u002fextra\\u003e\",\"hovertext\":[\"Bhutan\"],\"locations\":[\"BTN\"],\"name\":\"69.57875\",\"showlegend\":true,\"showscale\":false,\"z\":[1],\"type\":\"choropleth\"},{\"colorscale\":[[0.0,\"#FECB52\"],[1.0,\"#FECB52\"]],\"geo\":\"geo\",\"hovertemplate\":\"\\u003cb\\u003e%{hovertext}\\u003c\\u002fb\\u003e\\u003cbr\\u003e\\u003cbr\\u003e2005 [YR2005]=94.96596\\u003cbr\\u003eCountry Code=%{location}\\u003cextra\\u003e\\u003c\\u002fextra\\u003e\",\"hovertext\":[\"Bolivia\"],\"locations\":[\"BOL\"],\"name\":\"94.96596\",\"showlegend\":true,\"showscale\":false,\"z\":[1],\"type\":\"choropleth\"},{\"colorscale\":[[0.0,\"#636efa\"],[1.0,\"#636efa\"]],\"geo\":\"geo\",\"hovertemplate\":\"\\u003cb\\u003e%{hovertext}\\u003c\\u002fb\\u003e\\u003cbr\\u003e\\u003cbr\\u003e2005 [YR2005]=87.65819\\u003cbr\\u003eCountry Code=%{location}\\u003cextra\\u003e\\u003c\\u002fextra\\u003e\",\"hovertext\":[\"Botswana\"],\"locations\":[\"BWA\"],\"name\":\"87.65819\",\"showlegend\":true,\"showscale\":false,\"z\":[1],\"type\":\"choropleth\"},{\"colorscale\":[[0.0,\"#EF553B\"],[1.0,\"#EF553B\"]],\"geo\":\"geo\",\"hovertemplate\":\"\\u003cb\\u003e%{hovertext}\\u003c\\u002fb\\u003e\\u003cbr\\u003e\\u003cbr\\u003e2005 [YR2005]=94.85334\\u003cbr\\u003eCountry Code=%{location}\\u003cextra\\u003e\\u003c\\u002fextra\\u003e\",\"hovertext\":[\"Brazil\"],\"locations\":[\"BRA\"],\"name\":\"94.85334\",\"showlegend\":true,\"showscale\":false,\"z\":[1],\"type\":\"choropleth\"},{\"colorscale\":[[0.0,\"#00cc96\"],[1.0,\"#00cc96\"]],\"geo\":\"geo\",\"hovertemplate\":\"\\u003cb\\u003e%{hovertext}\\u003c\\u002fb\\u003e\\u003cbr\\u003e\\u003cbr\\u003e2005 [YR2005]=89.76744\\u003cbr\\u003eCountry Code=%{location}\\u003cextra\\u003e\\u003c\\u002fextra\\u003e\",\"hovertext\":[\"British Virgin Islands\"],\"locations\":[\"VGB\"],\"name\":\"89.76744\",\"showlegend\":true,\"showscale\":false,\"z\":[1],\"type\":\"choropleth\"},{\"colorscale\":[[0.0,\"#ab63fa\"],[1.0,\"#ab63fa\"]],\"geo\":\"geo\",\"hovertemplate\":\"\\u003cb\\u003e%{hovertext}\\u003c\\u002fb\\u003e\\u003cbr\\u003e\\u003cbr\\u003e2005 [YR2005]=94.18482\\u003cbr\\u003eCountry Code=%{location}\\u003cextra\\u003e\\u003c\\u002fextra\\u003e\",\"hovertext\":[\"Bulgaria\"],\"locations\":[\"BGR\"],\"name\":\"94.18482\",\"showlegend\":true,\"showscale\":false,\"z\":[1],\"type\":\"choropleth\"},{\"colorscale\":[[0.0,\"#FFA15A\"],[1.0,\"#FFA15A\"]],\"geo\":\"geo\",\"hovertemplate\":\"\\u003cb\\u003e%{hovertext}\\u003c\\u002fb\\u003e\\u003cbr\\u003e\\u003cbr\\u003e2005 [YR2005]=45.7476\\u003cbr\\u003eCountry Code=%{location}\\u003cextra\\u003e\\u003c\\u002fextra\\u003e\",\"hovertext\":[\"Burkina Faso\"],\"locations\":[\"BFA\"],\"name\":\"45.7476\",\"showlegend\":true,\"showscale\":false,\"z\":[1],\"type\":\"choropleth\"},{\"colorscale\":[[0.0,\"#19d3f3\"],[1.0,\"#19d3f3\"]],\"geo\":\"geo\",\"hovertemplate\":\"\\u003cb\\u003e%{hovertext}\\u003c\\u002fb\\u003e\\u003cbr\\u003e\\u003cbr\\u003e2005 [YR2005]=57.65405\\u003cbr\\u003eCountry Code=%{location}\\u003cextra\\u003e\\u003c\\u002fextra\\u003e\",\"hovertext\":[\"Burundi\"],\"locations\":[\"BDI\"],\"name\":\"57.65405\",\"showlegend\":true,\"showscale\":false,\"z\":[1],\"type\":\"choropleth\"},{\"colorscale\":[[0.0,\"#FF6692\"],[1.0,\"#FF6692\"]],\"geo\":\"geo\",\"hovertemplate\":\"\\u003cb\\u003e%{hovertext}\\u003c\\u002fb\\u003e\\u003cbr\\u003e\\u003cbr\\u003e2005 [YR2005]=95.31446\\u003cbr\\u003eCountry Code=%{location}\\u003cextra\\u003e\\u003c\\u002fextra\\u003e\",\"hovertext\":[\"Cabo Verde\"],\"locations\":[\"CPV\"],\"name\":\"95.31446\",\"showlegend\":true,\"showscale\":false,\"z\":[1],\"type\":\"choropleth\"},{\"colorscale\":[[0.0,\"#B6E880\"],[1.0,\"#B6E880\"]],\"geo\":\"geo\",\"hovertemplate\":\"\\u003cb\\u003e%{hovertext}\\u003c\\u002fb\\u003e\\u003cbr\\u003e\\u003cbr\\u003e2005 [YR2005]=90.7363\\u003cbr\\u003eCountry Code=%{location}\\u003cextra\\u003e\\u003c\\u002fextra\\u003e\",\"hovertext\":[\"Caribbean small states\"],\"locations\":[\"CSS\"],\"name\":\"90.7363\",\"showlegend\":true,\"showscale\":false,\"z\":[1],\"type\":\"choropleth\"},{\"colorscale\":[[0.0,\"#FF97FF\"],[1.0,\"#FF97FF\"]],\"geo\":\"geo\",\"hovertemplate\":\"\\u003cb\\u003e%{hovertext}\\u003c\\u002fb\\u003e\\u003cbr\\u003e\\u003cbr\\u003e2005 [YR2005]=47.50865\\u003cbr\\u003eCountry Code=%{location}\\u003cextra\\u003e\\u003c\\u002fextra\\u003e\",\"hovertext\":[\"Central African Republic\"],\"locations\":[\"CAF\"],\"name\":\"47.50865\",\"showlegend\":true,\"showscale\":false,\"z\":[1],\"type\":\"choropleth\"},{\"colorscale\":[[0.0,\"#FECB52\"],[1.0,\"#FECB52\"]],\"geo\":\"geo\",\"hovertemplate\":\"\\u003cb\\u003e%{hovertext}\\u003c\\u002fb\\u003e\\u003cbr\\u003e\\u003cbr\\u003e2005 [YR2005]=92.23515\\u003cbr\\u003eCountry Code=%{location}\\u003cextra\\u003e\\u003c\\u002fextra\\u003e\",\"hovertext\":[\"Central Europe and the Baltics\"],\"locations\":[\"CEB\"],\"name\":\"92.23515\",\"showlegend\":true,\"showscale\":false,\"z\":[1],\"type\":\"choropleth\"},{\"colorscale\":[[0.0,\"#636efa\"],[1.0,\"#636efa\"]],\"geo\":\"geo\",\"hovertemplate\":\"\\u003cb\\u003e%{hovertext}\\u003c\\u002fb\\u003e\\u003cbr\\u003e\\u003cbr\\u003e2005 [YR2005]=94.1217\\u003cbr\\u003eCountry Code=%{location}\\u003cextra\\u003e\\u003c\\u002fextra\\u003e\",\"hovertext\":[\"Colombia\"],\"locations\":[\"COL\"],\"name\":\"94.1217\",\"showlegend\":true,\"showscale\":false,\"z\":[1],\"type\":\"choropleth\"},{\"colorscale\":[[0.0,\"#EF553B\"],[1.0,\"#EF553B\"]],\"geo\":\"geo\",\"hovertemplate\":\"\\u003cb\\u003e%{hovertext}\\u003c\\u002fb\\u003e\\u003cbr\\u003e\\u003cbr\\u003e2005 [YR2005]=51.82475\\u003cbr\\u003eCountry Code=%{location}\\u003cextra\\u003e\\u003c\\u002fextra\\u003e\",\"hovertext\":[\"Congo, Rep.\"],\"locations\":[\"COG\"],\"name\":\"51.82475\",\"showlegend\":true,\"showscale\":false,\"z\":[1],\"type\":\"choropleth\"},{\"colorscale\":[[0.0,\"#00cc96\"],[1.0,\"#00cc96\"]],\"geo\":\"geo\",\"hovertemplate\":\"\\u003cb\\u003e%{hovertext}\\u003c\\u002fb\\u003e\\u003cbr\\u003e\\u003cbr\\u003e2005 [YR2005]=90.43858\\u003cbr\\u003eCountry Code=%{location}\\u003cextra\\u003e\\u003c\\u002fextra\\u003e\",\"hovertext\":[\"Croatia\"],\"locations\":[\"HRV\"],\"name\":\"90.43858\",\"showlegend\":true,\"showscale\":false,\"z\":[1],\"type\":\"choropleth\"},{\"colorscale\":[[0.0,\"#ab63fa\"],[1.0,\"#ab63fa\"]],\"geo\":\"geo\",\"hovertemplate\":\"\\u003cb\\u003e%{hovertext}\\u003c\\u002fb\\u003e\\u003cbr\\u003e\\u003cbr\\u003e2005 [YR2005]=96.63556\\u003cbr\\u003eCountry Code=%{location}\\u003cextra\\u003e\\u003c\\u002fextra\\u003e\",\"hovertext\":[\"Cuba\"],\"locations\":[\"CUB\"],\"name\":\"96.63556\",\"showlegend\":true,\"showscale\":false,\"z\":[1],\"type\":\"choropleth\"},{\"colorscale\":[[0.0,\"#FFA15A\"],[1.0,\"#FFA15A\"]],\"geo\":\"geo\",\"hovertemplate\":\"\\u003cb\\u003e%{hovertext}\\u003c\\u002fb\\u003e\\u003cbr\\u003e\\u003cbr\\u003e2005 [YR2005]=99.34591\\u003cbr\\u003eCountry Code=%{location}\\u003cextra\\u003e\\u003c\\u002fextra\\u003e\",\"hovertext\":[\"Cyprus\"],\"locations\":[\"CYP\"],\"name\":\"99.34591\",\"showlegend\":true,\"showscale\":false,\"z\":[1],\"type\":\"choropleth\"},{\"colorscale\":[[0.0,\"#19d3f3\"],[1.0,\"#19d3f3\"]],\"geo\":\"geo\",\"hovertemplate\":\"\\u003cb\\u003e%{hovertext}\\u003c\\u002fb\\u003e\\u003cbr\\u003e\\u003cbr\\u003e2005 [YR2005]=95.6588\\u003cbr\\u003eCountry Code=%{location}\\u003cextra\\u003e\\u003c\\u002fextra\\u003e\",\"hovertext\":[\"Denmark\"],\"locations\":[\"DNK\"],\"name\":\"95.6588\",\"showlegend\":true,\"showscale\":false,\"z\":[1],\"type\":\"choropleth\"},{\"colorscale\":[[0.0,\"#FF6692\"],[1.0,\"#FF6692\"]],\"geo\":\"geo\",\"hovertemplate\":\"\\u003cb\\u003e%{hovertext}\\u003c\\u002fb\\u003e\\u003cbr\\u003e\\u003cbr\\u003e2005 [YR2005]=36.13749\\u003cbr\\u003eCountry Code=%{location}\\u003cextra\\u003e\\u003c\\u002fextra\\u003e\",\"hovertext\":[\"Djibouti\"],\"locations\":[\"DJI\"],\"name\":\"36.13749\",\"showlegend\":true,\"showscale\":false,\"z\":[1],\"type\":\"choropleth\"},{\"colorscale\":[[0.0,\"#B6E880\"],[1.0,\"#B6E880\"]],\"geo\":\"geo\",\"hovertemplate\":\"\\u003cb\\u003e%{hovertext}\\u003c\\u002fb\\u003e\\u003cbr\\u003e\\u003cbr\\u003e2005 [YR2005]=83.42215\\u003cbr\\u003eCountry Code=%{location}\\u003cextra\\u003e\\u003c\\u002fextra\\u003e\",\"hovertext\":[\"Dominica\"],\"locations\":[\"DMA\"],\"name\":\"83.42215\",\"showlegend\":true,\"showscale\":false,\"z\":[1],\"type\":\"choropleth\"},{\"colorscale\":[[0.0,\"#FF97FF\"],[1.0,\"#FF97FF\"]],\"geo\":\"geo\",\"hovertemplate\":\"\\u003cb\\u003e%{hovertext}\\u003c\\u002fb\\u003e\\u003cbr\\u003e\\u003cbr\\u003e2005 [YR2005]=84.25703\\u003cbr\\u003eCountry Code=%{location}\\u003cextra\\u003e\\u003c\\u002fextra\\u003e\",\"hovertext\":[\"Dominican Republic\"],\"locations\":[\"DOM\"],\"name\":\"84.25703\",\"showlegend\":true,\"showscale\":false,\"z\":[1],\"type\":\"choropleth\"},{\"colorscale\":[[0.0,\"#FECB52\"],[1.0,\"#FECB52\"]],\"geo\":\"geo\",\"hovertemplate\":\"\\u003cb\\u003e%{hovertext}\\u003c\\u002fb\\u003e\\u003cbr\\u003e\\u003cbr\\u003e2005 [YR2005]=86.02361\\u003cbr\\u003eCountry Code=%{location}\\u003cextra\\u003e\\u003c\\u002fextra\\u003e\",\"hovertext\":[\"Early-demographic dividend\"],\"locations\":[\"EAR\"],\"name\":\"86.02361\",\"showlegend\":true,\"showscale\":false,\"z\":[1],\"type\":\"choropleth\"},{\"colorscale\":[[0.0,\"#636efa\"],[1.0,\"#636efa\"]],\"geo\":\"geo\",\"hovertemplate\":\"\\u003cb\\u003e%{hovertext}\\u003c\\u002fb\\u003e\\u003cbr\\u003e\\u003cbr\\u003e2005 [YR2005]=94.3745\\u003cbr\\u003eCountry Code=%{location}\\u003cextra\\u003e\\u003c\\u002fextra\\u003e\",\"hovertext\":[\"East Asia & Pacific\"],\"locations\":[\"EAS\"],\"name\":\"94.3745\",\"showlegend\":true,\"showscale\":false,\"z\":[1],\"type\":\"choropleth\"},{\"colorscale\":[[0.0,\"#EF553B\"],[1.0,\"#EF553B\"]],\"geo\":\"geo\",\"hovertemplate\":\"\\u003cb\\u003e%{hovertext}\\u003c\\u002fb\\u003e\\u003cbr\\u003e\\u003cbr\\u003e2005 [YR2005]=94.3309\\u003cbr\\u003eCountry Code=%{location}\\u003cextra\\u003e\\u003c\\u002fextra\\u003e\",\"hovertext\":[\"East Asia & Pacific (excluding high income)\"],\"locations\":[\"EAP\"],\"name\":\"94.3309\",\"showlegend\":true,\"showscale\":false,\"z\":[1],\"type\":\"choropleth\"},{\"colorscale\":[[0.0,\"#00cc96\"],[1.0,\"#00cc96\"]],\"geo\":\"geo\",\"hovertemplate\":\"\\u003cb\\u003e%{hovertext}\\u003c\\u002fb\\u003e\\u003cbr\\u003e\\u003cbr\\u003e2005 [YR2005]=94.33375\\u003cbr\\u003eCountry Code=%{location}\\u003cextra\\u003e\\u003c\\u002fextra\\u003e\",\"hovertext\":[\"East Asia & Pacific (IDA & IBRD countries)\"],\"locations\":[\"TEA\"],\"name\":\"94.33375\",\"showlegend\":true,\"showscale\":false,\"z\":[1],\"type\":\"choropleth\"},{\"colorscale\":[[0.0,\"#ab63fa\"],[1.0,\"#ab63fa\"]],\"geo\":\"geo\",\"hovertemplate\":\"\\u003cb\\u003e%{hovertext}\\u003c\\u002fb\\u003e\\u003cbr\\u003e\\u003cbr\\u003e2005 [YR2005]=95.95781\\u003cbr\\u003eCountry Code=%{location}\\u003cextra\\u003e\\u003c\\u002fextra\\u003e\",\"hovertext\":[\"Ecuador\"],\"locations\":[\"ECU\"],\"name\":\"95.95781\",\"showlegend\":true,\"showscale\":false,\"z\":[1],\"type\":\"choropleth\"},{\"colorscale\":[[0.0,\"#FFA15A\"],[1.0,\"#FFA15A\"]],\"geo\":\"geo\",\"hovertemplate\":\"\\u003cb\\u003e%{hovertext}\\u003c\\u002fb\\u003e\\u003cbr\\u003e\\u003cbr\\u003e2005 [YR2005]=89.13222\\u003cbr\\u003eCountry Code=%{location}\\u003cextra\\u003e\\u003c\\u002fextra\\u003e\",\"hovertext\":[\"Egypt, Arab Rep.\"],\"locations\":[\"EGY\"],\"name\":\"89.13222\",\"showlegend\":true,\"showscale\":false,\"z\":[1],\"type\":\"choropleth\"},{\"colorscale\":[[0.0,\"#19d3f3\"],[1.0,\"#19d3f3\"]],\"geo\":\"geo\",\"hovertemplate\":\"\\u003cb\\u003e%{hovertext}\\u003c\\u002fb\\u003e\\u003cbr\\u003e\\u003cbr\\u003e2005 [YR2005]=94.36592\\u003cbr\\u003eCountry Code=%{location}\\u003cextra\\u003e\\u003c\\u002fextra\\u003e\",\"hovertext\":[\"El Salvador\"],\"locations\":[\"SLV\"],\"name\":\"94.36592\",\"showlegend\":true,\"showscale\":false,\"z\":[1],\"type\":\"choropleth\"},{\"colorscale\":[[0.0,\"#FF6692\"],[1.0,\"#FF6692\"]],\"geo\":\"geo\",\"hovertemplate\":\"\\u003cb\\u003e%{hovertext}\\u003c\\u002fb\\u003e\\u003cbr\\u003e\\u003cbr\\u003e2005 [YR2005]=82.46788\\u003cbr\\u003eCountry Code=%{location}\\u003cextra\\u003e\\u003c\\u002fextra\\u003e\",\"hovertext\":[\"Eritrea\"],\"locations\":[\"ERI\"],\"name\":\"82.46788\",\"showlegend\":true,\"showscale\":false,\"z\":[1],\"type\":\"choropleth\"},{\"colorscale\":[[0.0,\"#B6E880\"],[1.0,\"#B6E880\"]],\"geo\":\"geo\",\"hovertemplate\":\"\\u003cb\\u003e%{hovertext}\\u003c\\u002fb\\u003e\\u003cbr\\u003e\\u003cbr\\u003e2005 [YR2005]=93.81157\\u003cbr\\u003eCountry Code=%{location}\\u003cextra\\u003e\\u003c\\u002fextra\\u003e\",\"hovertext\":[\"Estonia\"],\"locations\":[\"EST\"],\"name\":\"93.81157\",\"showlegend\":true,\"showscale\":false,\"z\":[1],\"type\":\"choropleth\"},{\"colorscale\":[[0.0,\"#FF97FF\"],[1.0,\"#FF97FF\"]],\"geo\":\"geo\",\"hovertemplate\":\"\\u003cb\\u003e%{hovertext}\\u003c\\u002fb\\u003e\\u003cbr\\u003e\\u003cbr\\u003e2005 [YR2005]=60.38556\\u003cbr\\u003eCountry Code=%{location}\\u003cextra\\u003e\\u003c\\u002fextra\\u003e\",\"hovertext\":[\"Ethiopia\"],\"locations\":[\"ETH\"],\"name\":\"60.38556\",\"showlegend\":true,\"showscale\":false,\"z\":[1],\"type\":\"choropleth\"},{\"colorscale\":[[0.0,\"#FECB52\"],[1.0,\"#FECB52\"]],\"geo\":\"geo\",\"hovertemplate\":\"\\u003cb\\u003e%{hovertext}\\u003c\\u002fb\\u003e\\u003cbr\\u003e\\u003cbr\\u003e2005 [YR2005]=97.8101\\u003cbr\\u003eCountry Code=%{location}\\u003cextra\\u003e\\u003c\\u002fextra\\u003e\",\"hovertext\":[\"Euro area\"],\"locations\":[\"EMU\"],\"name\":\"97.8101\",\"showlegend\":true,\"showscale\":false,\"z\":[1],\"type\":\"choropleth\"},{\"colorscale\":[[0.0,\"#636efa\"],[1.0,\"#636efa\"]],\"geo\":\"geo\",\"hovertemplate\":\"\\u003cb\\u003e%{hovertext}\\u003c\\u002fb\\u003e\\u003cbr\\u003e\\u003cbr\\u003e2005 [YR2005]=95.05319\\u003cbr\\u003eCountry Code=%{location}\\u003cextra\\u003e\\u003c\\u002fextra\\u003e\",\"hovertext\":[\"Europe & Central Asia\"],\"locations\":[\"ECS\"],\"name\":\"95.05319\",\"showlegend\":true,\"showscale\":false,\"z\":[1],\"type\":\"choropleth\"},{\"colorscale\":[[0.0,\"#EF553B\"],[1.0,\"#EF553B\"]],\"geo\":\"geo\",\"hovertemplate\":\"\\u003cb\\u003e%{hovertext}\\u003c\\u002fb\\u003e\\u003cbr\\u003e\\u003cbr\\u003e2005 [YR2005]=92.75084\\u003cbr\\u003eCountry Code=%{location}\\u003cextra\\u003e\\u003c\\u002fextra\\u003e\",\"hovertext\":[\"Europe & Central Asia (excluding high income)\"],\"locations\":[\"ECA\"],\"name\":\"92.75084\",\"showlegend\":true,\"showscale\":false,\"z\":[1],\"type\":\"choropleth\"},{\"colorscale\":[[0.0,\"#00cc96\"],[1.0,\"#00cc96\"]],\"geo\":\"geo\",\"hovertemplate\":\"\\u003cb\\u003e%{hovertext}\\u003c\\u002fb\\u003e\\u003cbr\\u003e\\u003cbr\\u003e2005 [YR2005]=92.77085\\u003cbr\\u003eCountry Code=%{location}\\u003cextra\\u003e\\u003c\\u002fextra\\u003e\",\"hovertext\":[\"Europe & Central Asia (IDA & IBRD countries)\"],\"locations\":[\"TEC\"],\"name\":\"92.77085\",\"showlegend\":true,\"showscale\":false,\"z\":[1],\"type\":\"choropleth\"},{\"colorscale\":[[0.0,\"#ab63fa\"],[1.0,\"#ab63fa\"]],\"geo\":\"geo\",\"hovertemplate\":\"\\u003cb\\u003e%{hovertext}\\u003c\\u002fb\\u003e\\u003cbr\\u003e\\u003cbr\\u003e2005 [YR2005]=96.86078\\u003cbr\\u003eCountry Code=%{location}\\u003cextra\\u003e\\u003c\\u002fextra\\u003e\",\"hovertext\":[\"European Union\"],\"locations\":[\"EUU\"],\"name\":\"96.86078\",\"showlegend\":true,\"showscale\":false,\"z\":[1],\"type\":\"choropleth\"},{\"colorscale\":[[0.0,\"#FFA15A\"],[1.0,\"#FFA15A\"]],\"geo\":\"geo\",\"hovertemplate\":\"\\u003cb\\u003e%{hovertext}\\u003c\\u002fb\\u003e\\u003cbr\\u003e\\u003cbr\\u003e2005 [YR2005]=97.1783\\u003cbr\\u003eCountry Code=%{location}\\u003cextra\\u003e\\u003c\\u002fextra\\u003e\",\"hovertext\":[\"Finland\"],\"locations\":[\"FIN\"],\"name\":\"97.1783\",\"showlegend\":true,\"showscale\":false,\"z\":[1],\"type\":\"choropleth\"},{\"colorscale\":[[0.0,\"#19d3f3\"],[1.0,\"#19d3f3\"]],\"geo\":\"geo\",\"hovertemplate\":\"\\u003cb\\u003e%{hovertext}\\u003c\\u002fb\\u003e\\u003cbr\\u003e\\u003cbr\\u003e2005 [YR2005]=66.47881\\u003cbr\\u003eCountry Code=%{location}\\u003cextra\\u003e\\u003c\\u002fextra\\u003e\",\"hovertext\":[\"Fragile and conflict affected situations\"],\"locations\":[\"FCS\"],\"name\":\"66.47881\",\"showlegend\":true,\"showscale\":false,\"z\":[1],\"type\":\"choropleth\"},{\"colorscale\":[[0.0,\"#FF6692\"],[1.0,\"#FF6692\"]],\"geo\":\"geo\",\"hovertemplate\":\"\\u003cb\\u003e%{hovertext}\\u003c\\u002fb\\u003e\\u003cbr\\u003e\\u003cbr\\u003e2005 [YR2005]=98.55515\\u003cbr\\u003eCountry Code=%{location}\\u003cextra\\u003e\\u003c\\u002fextra\\u003e\",\"hovertext\":[\"France\"],\"locations\":[\"FRA\"],\"name\":\"98.55515\",\"showlegend\":true,\"showscale\":false,\"z\":[1],\"type\":\"choropleth\"},{\"colorscale\":[[0.0,\"#B6E880\"],[1.0,\"#B6E880\"]],\"geo\":\"geo\",\"hovertemplate\":\"\\u003cb\\u003e%{hovertext}\\u003c\\u002fb\\u003e\\u003cbr\\u003e\\u003cbr\\u003e2005 [YR2005]=62.77374\\u003cbr\\u003eCountry Code=%{location}\\u003cextra\\u003e\\u003c\\u002fextra\\u003e\",\"hovertext\":[\"Gambia, The\"],\"locations\":[\"GMB\"],\"name\":\"62.77374\",\"showlegend\":true,\"showscale\":false,\"z\":[1],\"type\":\"choropleth\"},{\"colorscale\":[[0.0,\"#FF97FF\"],[1.0,\"#FF97FF\"]],\"geo\":\"geo\",\"hovertemplate\":\"\\u003cb\\u003e%{hovertext}\\u003c\\u002fb\\u003e\\u003cbr\\u003e\\u003cbr\\u003e2005 [YR2005]=92.75616\\u003cbr\\u003eCountry Code=%{location}\\u003cextra\\u003e\\u003c\\u002fextra\\u003e\",\"hovertext\":[\"Georgia\"],\"locations\":[\"GEO\"],\"name\":\"92.75616\",\"showlegend\":true,\"showscale\":false,\"z\":[1],\"type\":\"choropleth\"},{\"colorscale\":[[0.0,\"#FECB52\"],[1.0,\"#FECB52\"]],\"geo\":\"geo\",\"hovertemplate\":\"\\u003cb\\u003e%{hovertext}\\u003c\\u002fb\\u003e\\u003cbr\\u003e\\u003cbr\\u003e2005 [YR2005]=87.00548\\u003cbr\\u003eCountry Code=%{location}\\u003cextra\\u003e\\u003c\\u002fextra\\u003e\",\"hovertext\":[\"Germany\"],\"locations\":[\"DEU\"],\"name\":\"87.00548\",\"showlegend\":true,\"showscale\":false,\"z\":[1],\"type\":\"choropleth\"},{\"colorscale\":[[0.0,\"#636efa\"],[1.0,\"#636efa\"]],\"geo\":\"geo\",\"hovertemplate\":\"\\u003cb\\u003e%{hovertext}\\u003c\\u002fb\\u003e\\u003cbr\\u003e\\u003cbr\\u003e2005 [YR2005]=63.70558\\u003cbr\\u003eCountry Code=%{location}\\u003cextra\\u003e\\u003c\\u002fextra\\u003e\",\"hovertext\":[\"Ghana\"],\"locations\":[\"GHA\"],\"name\":\"63.70558\",\"showlegend\":true,\"showscale\":false,\"z\":[1],\"type\":\"choropleth\"},{\"colorscale\":[[0.0,\"#EF553B\"],[1.0,\"#EF553B\"]],\"geo\":\"geo\",\"hovertemplate\":\"\\u003cb\\u003e%{hovertext}\\u003c\\u002fb\\u003e\\u003cbr\\u003e\\u003cbr\\u003e2005 [YR2005]=95.79944\\u003cbr\\u003eCountry Code=%{location}\\u003cextra\\u003e\\u003c\\u002fextra\\u003e\",\"hovertext\":[\"Greece\"],\"locations\":[\"GRC\"],\"name\":\"95.79944\",\"showlegend\":true,\"showscale\":false,\"z\":[1],\"type\":\"choropleth\"},{\"colorscale\":[[0.0,\"#00cc96\"],[1.0,\"#00cc96\"]],\"geo\":\"geo\",\"hovertemplate\":\"\\u003cb\\u003e%{hovertext}\\u003c\\u002fb\\u003e\\u003cbr\\u003e\\u003cbr\\u003e2005 [YR2005]=93.1893\\u003cbr\\u003eCountry Code=%{location}\\u003cextra\\u003e\\u003c\\u002fextra\\u003e\",\"hovertext\":[\"Grenada\"],\"locations\":[\"GRD\"],\"name\":\"93.1893\",\"showlegend\":true,\"showscale\":false,\"z\":[1],\"type\":\"choropleth\"},{\"colorscale\":[[0.0,\"#ab63fa\"],[1.0,\"#ab63fa\"]],\"geo\":\"geo\",\"hovertemplate\":\"\\u003cb\\u003e%{hovertext}\\u003c\\u002fb\\u003e\\u003cbr\\u003e\\u003cbr\\u003e2005 [YR2005]=90.80877\\u003cbr\\u003eCountry Code=%{location}\\u003cextra\\u003e\\u003c\\u002fextra\\u003e\",\"hovertext\":[\"Guatemala\"],\"locations\":[\"GTM\"],\"name\":\"90.80877\",\"showlegend\":true,\"showscale\":false,\"z\":[1],\"type\":\"choropleth\"},{\"colorscale\":[[0.0,\"#FFA15A\"],[1.0,\"#FFA15A\"]],\"geo\":\"geo\",\"hovertemplate\":\"\\u003cb\\u003e%{hovertext}\\u003c\\u002fb\\u003e\\u003cbr\\u003e\\u003cbr\\u003e2005 [YR2005]=62.90998\\u003cbr\\u003eCountry Code=%{location}\\u003cextra\\u003e\\u003c\\u002fextra\\u003e\",\"hovertext\":[\"Guinea\"],\"locations\":[\"GIN\"],\"name\":\"62.90998\",\"showlegend\":true,\"showscale\":false,\"z\":[1],\"type\":\"choropleth\"},{\"colorscale\":[[0.0,\"#19d3f3\"],[1.0,\"#19d3f3\"]],\"geo\":\"geo\",\"hovertemplate\":\"\\u003cb\\u003e%{hovertext}\\u003c\\u002fb\\u003e\\u003cbr\\u003e\\u003cbr\\u003e2005 [YR2005]=94.98987\\u003cbr\\u003eCountry Code=%{location}\\u003cextra\\u003e\\u003c\\u002fextra\\u003e\",\"hovertext\":[\"High income\"],\"locations\":[\"HIC\"],\"name\":\"94.98987\",\"showlegend\":true,\"showscale\":false,\"z\":[1],\"type\":\"choropleth\"},{\"colorscale\":[[0.0,\"#FF6692\"],[1.0,\"#FF6692\"]],\"geo\":\"geo\",\"hovertemplate\":\"\\u003cb\\u003e%{hovertext}\\u003c\\u002fb\\u003e\\u003cbr\\u003e\\u003cbr\\u003e2005 [YR2005]=82.83074\\u003cbr\\u003eCountry Code=%{location}\\u003cextra\\u003e\\u003c\\u002fextra\\u003e\",\"hovertext\":[\"Honduras\"],\"locations\":[\"HND\"],\"name\":\"82.83074\",\"showlegend\":true,\"showscale\":false,\"z\":[1],\"type\":\"choropleth\"},{\"colorscale\":[[0.0,\"#B6E880\"],[1.0,\"#B6E880\"]],\"geo\":\"geo\",\"hovertemplate\":\"\\u003cb\\u003e%{hovertext}\\u003c\\u002fb\\u003e\\u003cbr\\u003e\\u003cbr\\u003e2005 [YR2005]=89.3733\\u003cbr\\u003eCountry Code=%{location}\\u003cextra\\u003e\\u003c\\u002fextra\\u003e\",\"hovertext\":[\"Hungary\"],\"locations\":[\"HUN\"],\"name\":\"89.3733\",\"showlegend\":true,\"showscale\":false,\"z\":[1],\"type\":\"choropleth\"},{\"colorscale\":[[0.0,\"#FF97FF\"],[1.0,\"#FF97FF\"]],\"geo\":\"geo\",\"hovertemplate\":\"\\u003cb\\u003e%{hovertext}\\u003c\\u002fb\\u003e\\u003cbr\\u003e\\u003cbr\\u003e2005 [YR2005]=96.76546\\u003cbr\\u003eCountry Code=%{location}\\u003cextra\\u003e\\u003c\\u002fextra\\u003e\",\"hovertext\":[\"Iceland\"],\"locations\":[\"ISL\"],\"name\":\"96.76546\",\"showlegend\":true,\"showscale\":false,\"z\":[1],\"type\":\"choropleth\"},{\"colorscale\":[[0.0,\"#FECB52\"],[1.0,\"#FECB52\"]],\"geo\":\"geo\",\"hovertemplate\":\"\\u003cb\\u003e%{hovertext}\\u003c\\u002fb\\u003e\\u003cbr\\u003e\\u003cbr\\u003e2005 [YR2005]=85.76534\\u003cbr\\u003eCountry Code=%{location}\\u003cextra\\u003e\\u003c\\u002fextra\\u003e\",\"hovertext\":[\"IDA & IBRD total\"],\"locations\":[\"IBT\"],\"name\":\"85.76534\",\"showlegend\":true,\"showscale\":false,\"z\":[1],\"type\":\"choropleth\"},{\"colorscale\":[[0.0,\"#636efa\"],[1.0,\"#636efa\"]],\"geo\":\"geo\",\"hovertemplate\":\"\\u003cb\\u003e%{hovertext}\\u003c\\u002fb\\u003e\\u003cbr\\u003e\\u003cbr\\u003e2005 [YR2005]=88.93075\\u003cbr\\u003eCountry Code=%{location}\\u003cextra\\u003e\\u003c\\u002fextra\\u003e\",\"hovertext\":[\"Indonesia\"],\"locations\":[\"IDN\"],\"name\":\"88.93075\",\"showlegend\":true,\"showscale\":false,\"z\":[1],\"type\":\"choropleth\"},{\"colorscale\":[[0.0,\"#EF553B\"],[1.0,\"#EF553B\"]],\"geo\":\"geo\",\"hovertemplate\":\"\\u003cb\\u003e%{hovertext}\\u003c\\u002fb\\u003e\\u003cbr\\u003e\\u003cbr\\u003e2005 [YR2005]=95.32962\\u003cbr\\u003eCountry Code=%{location}\\u003cextra\\u003e\\u003c\\u002fextra\\u003e\",\"hovertext\":[\"Iran, Islamic Rep.\"],\"locations\":[\"IRN\"],\"name\":\"95.32962\",\"showlegend\":true,\"showscale\":false,\"z\":[1],\"type\":\"choropleth\"},{\"colorscale\":[[0.0,\"#00cc96\"],[1.0,\"#00cc96\"]],\"geo\":\"geo\",\"hovertemplate\":\"\\u003cb\\u003e%{hovertext}\\u003c\\u002fb\\u003e\\u003cbr\\u003e\\u003cbr\\u003e2005 [YR2005]=94.81635\\u003cbr\\u003eCountry Code=%{location}\\u003cextra\\u003e\\u003c\\u002fextra\\u003e\",\"hovertext\":[\"Ireland\"],\"locations\":[\"IRL\"],\"name\":\"94.81635\",\"showlegend\":true,\"showscale\":false,\"z\":[1],\"type\":\"choropleth\"},{\"colorscale\":[[0.0,\"#ab63fa\"],[1.0,\"#ab63fa\"]],\"geo\":\"geo\",\"hovertemplate\":\"\\u003cb\\u003e%{hovertext}\\u003c\\u002fb\\u003e\\u003cbr\\u003e\\u003cbr\\u003e2005 [YR2005]=97.47827\\u003cbr\\u003eCountry Code=%{location}\\u003cextra\\u003e\\u003c\\u002fextra\\u003e\",\"hovertext\":[\"Israel\"],\"locations\":[\"ISR\"],\"name\":\"97.47827\",\"showlegend\":true,\"showscale\":false,\"z\":[1],\"type\":\"choropleth\"},{\"colorscale\":[[0.0,\"#FFA15A\"],[1.0,\"#FFA15A\"]],\"geo\":\"geo\",\"hovertemplate\":\"\\u003cb\\u003e%{hovertext}\\u003c\\u002fb\\u003e\\u003cbr\\u003e\\u003cbr\\u003e2005 [YR2005]=98.408\\u003cbr\\u003eCountry Code=%{location}\\u003cextra\\u003e\\u003c\\u002fextra\\u003e\",\"hovertext\":[\"Italy\"],\"locations\":[\"ITA\"],\"name\":\"98.408\",\"showlegend\":true,\"showscale\":false,\"z\":[1],\"type\":\"choropleth\"},{\"colorscale\":[[0.0,\"#19d3f3\"],[1.0,\"#19d3f3\"]],\"geo\":\"geo\",\"hovertemplate\":\"\\u003cb\\u003e%{hovertext}\\u003c\\u002fb\\u003e\\u003cbr\\u003e\\u003cbr\\u003e2005 [YR2005]=89.88528\\u003cbr\\u003eCountry Code=%{location}\\u003cextra\\u003e\\u003c\\u002fextra\\u003e\",\"hovertext\":[\"Jordan\"],\"locations\":[\"JOR\"],\"name\":\"89.88528\",\"showlegend\":true,\"showscale\":false,\"z\":[1],\"type\":\"choropleth\"},{\"colorscale\":[[0.0,\"#FF6692\"],[1.0,\"#FF6692\"]],\"geo\":\"geo\",\"hovertemplate\":\"\\u003cb\\u003e%{hovertext}\\u003c\\u002fb\\u003e\\u003cbr\\u003e\\u003cbr\\u003e2005 [YR2005]=91.09722\\u003cbr\\u003eCountry Code=%{location}\\u003cextra\\u003e\\u003c\\u002fextra\\u003e\",\"hovertext\":[\"Kazakhstan\"],\"locations\":[\"KAZ\"],\"name\":\"91.09722\",\"showlegend\":true,\"showscale\":false,\"z\":[1],\"type\":\"choropleth\"},{\"colorscale\":[[0.0,\"#B6E880\"],[1.0,\"#B6E880\"]],\"geo\":\"geo\",\"hovertemplate\":\"\\u003cb\\u003e%{hovertext}\\u003c\\u002fb\\u003e\\u003cbr\\u003e\\u003cbr\\u003e2005 [YR2005]=69.58856\\u003cbr\\u003eCountry Code=%{location}\\u003cextra\\u003e\\u003c\\u002fextra\\u003e\",\"hovertext\":[\"Kenya\"],\"locations\":[\"KEN\"],\"name\":\"69.58856\",\"showlegend\":true,\"showscale\":false,\"z\":[1],\"type\":\"choropleth\"},{\"colorscale\":[[0.0,\"#FF97FF\"],[1.0,\"#FF97FF\"]],\"geo\":\"geo\",\"hovertemplate\":\"\\u003cb\\u003e%{hovertext}\\u003c\\u002fb\\u003e\\u003cbr\\u003e\\u003cbr\\u003e2005 [YR2005]=99.38856\\u003cbr\\u003eCountry Code=%{location}\\u003cextra\\u003e\\u003c\\u002fextra\\u003e\",\"hovertext\":[\"Korea, Rep.\"],\"locations\":[\"KOR\"],\"name\":\"99.38856\",\"showlegend\":true,\"showscale\":false,\"z\":[1],\"type\":\"choropleth\"},{\"colorscale\":[[0.0,\"#FECB52\"],[1.0,\"#FECB52\"]],\"geo\":\"geo\",\"hovertemplate\":\"\\u003cb\\u003e%{hovertext}\\u003c\\u002fb\\u003e\\u003cbr\\u003e\\u003cbr\\u003e2005 [YR2005]=92.70689\\u003cbr\\u003eCountry Code=%{location}\\u003cextra\\u003e\\u003c\\u002fextra\\u003e\",\"hovertext\":[\"Kuwait\"],\"locations\":[\"KWT\"],\"name\":\"92.70689\",\"showlegend\":true,\"showscale\":false,\"z\":[1],\"type\":\"choropleth\"},{\"colorscale\":[[0.0,\"#636efa\"],[1.0,\"#636efa\"]],\"geo\":\"geo\",\"hovertemplate\":\"\\u003cb\\u003e%{hovertext}\\u003c\\u002fb\\u003e\\u003cbr\\u003e\\u003cbr\\u003e2005 [YR2005]=87.72328\\u003cbr\\u003eCountry Code=%{location}\\u003cextra\\u003e\\u003c\\u002fextra\\u003e\",\"hovertext\":[\"Kyrgyz Republic\"],\"locations\":[\"KGZ\"],\"name\":\"87.72328\",\"showlegend\":true,\"showscale\":false,\"z\":[1],\"type\":\"choropleth\"},{\"colorscale\":[[0.0,\"#EF553B\"],[1.0,\"#EF553B\"]],\"geo\":\"geo\",\"hovertemplate\":\"\\u003cb\\u003e%{hovertext}\\u003c\\u002fb\\u003e\\u003cbr\\u003e\\u003cbr\\u003e2005 [YR2005]=81.105\\u003cbr\\u003eCountry Code=%{location}\\u003cextra\\u003e\\u003c\\u002fextra\\u003e\",\"hovertext\":[\"Lao PDR\"],\"locations\":[\"LAO\"],\"name\":\"81.105\",\"showlegend\":true,\"showscale\":false,\"z\":[1],\"type\":\"choropleth\"},{\"colorscale\":[[0.0,\"#00cc96\"],[1.0,\"#00cc96\"]],\"geo\":\"geo\",\"hovertemplate\":\"\\u003cb\\u003e%{hovertext}\\u003c\\u002fb\\u003e\\u003cbr\\u003e\\u003cbr\\u003e2005 [YR2005]=95.59285\\u003cbr\\u003eCountry Code=%{location}\\u003cextra\\u003e\\u003c\\u002fextra\\u003e\",\"hovertext\":[\"Late-demographic dividend\"],\"locations\":[\"LTE\"],\"name\":\"95.59285\",\"showlegend\":true,\"showscale\":false,\"z\":[1],\"type\":\"choropleth\"},{\"colorscale\":[[0.0,\"#ab63fa\"],[1.0,\"#ab63fa\"]],\"geo\":\"geo\",\"hovertemplate\":\"\\u003cb\\u003e%{hovertext}\\u003c\\u002fb\\u003e\\u003cbr\\u003e\\u003cbr\\u003e2005 [YR2005]=94.17077\\u003cbr\\u003eCountry Code=%{location}\\u003cextra\\u003e\\u003c\\u002fextra\\u003e\",\"hovertext\":[\"Latin America & Caribbean\"],\"locations\":[\"LCN\"],\"name\":\"94.17077\",\"showlegend\":true,\"showscale\":false,\"z\":[1],\"type\":\"choropleth\"},{\"colorscale\":[[0.0,\"#FFA15A\"],[1.0,\"#FFA15A\"]],\"geo\":\"geo\",\"hovertemplate\":\"\\u003cb\\u003e%{hovertext}\\u003c\\u002fb\\u003e\\u003cbr\\u003e\\u003cbr\\u003e2005 [YR2005]=94.19796\\u003cbr\\u003eCountry Code=%{location}\\u003cextra\\u003e\\u003c\\u002fextra\\u003e\",\"hovertext\":[\"Latin America & Caribbean (excluding high income)\"],\"locations\":[\"LAC\"],\"name\":\"94.19796\",\"showlegend\":true,\"showscale\":false,\"z\":[1],\"type\":\"choropleth\"},{\"colorscale\":[[0.0,\"#19d3f3\"],[1.0,\"#19d3f3\"]],\"geo\":\"geo\",\"hovertemplate\":\"\\u003cb\\u003e%{hovertext}\\u003c\\u002fb\\u003e\\u003cbr\\u003e\\u003cbr\\u003e2005 [YR2005]=94.16808\\u003cbr\\u003eCountry Code=%{location}\\u003cextra\\u003e\\u003c\\u002fextra\\u003e\",\"hovertext\":[\"Latin America & the Caribbean (IDA & IBRD countries)\"],\"locations\":[\"TLA\"],\"name\":\"94.16808\",\"showlegend\":true,\"showscale\":false,\"z\":[1],\"type\":\"choropleth\"},{\"colorscale\":[[0.0,\"#FF6692\"],[1.0,\"#FF6692\"]],\"geo\":\"geo\",\"hovertemplate\":\"\\u003cb\\u003e%{hovertext}\\u003c\\u002fb\\u003e\\u003cbr\\u003e\\u003cbr\\u003e2005 [YR2005]=73.39791\\u003cbr\\u003eCountry Code=%{location}\\u003cextra\\u003e\\u003c\\u002fextra\\u003e\",\"hovertext\":[\"Least developed countries: UN classification\"],\"locations\":[\"LDC\"],\"name\":\"73.39791\",\"showlegend\":true,\"showscale\":false,\"z\":[1],\"type\":\"choropleth\"},{\"colorscale\":[[0.0,\"#B6E880\"],[1.0,\"#B6E880\"]],\"geo\":\"geo\",\"hovertemplate\":\"\\u003cb\\u003e%{hovertext}\\u003c\\u002fb\\u003e\\u003cbr\\u003e\\u003cbr\\u003e2005 [YR2005]=83.75431\\u003cbr\\u003eCountry Code=%{location}\\u003cextra\\u003e\\u003c\\u002fextra\\u003e\",\"hovertext\":[\"Lesotho\"],\"locations\":[\"LSO\"],\"name\":\"83.75431\",\"showlegend\":true,\"showscale\":false,\"z\":[1],\"type\":\"choropleth\"},{\"colorscale\":[[0.0,\"#FF97FF\"],[1.0,\"#FF97FF\"]],\"geo\":\"geo\",\"hovertemplate\":\"\\u003cb\\u003e%{hovertext}\\u003c\\u002fb\\u003e\\u003cbr\\u003e\\u003cbr\\u003e2005 [YR2005]=90.54969\\u003cbr\\u003eCountry Code=%{location}\\u003cextra\\u003e\\u003c\\u002fextra\\u003e\",\"hovertext\":[\"Liechtenstein\"],\"locations\":[\"LIE\"],\"name\":\"90.54969\",\"showlegend\":true,\"showscale\":false,\"z\":[1],\"type\":\"choropleth\"},{\"colorscale\":[[0.0,\"#FECB52\"],[1.0,\"#FECB52\"]],\"geo\":\"geo\",\"hovertemplate\":\"\\u003cb\\u003e%{hovertext}\\u003c\\u002fb\\u003e\\u003cbr\\u003e\\u003cbr\\u003e2005 [YR2005]=95.6621\\u003cbr\\u003eCountry Code=%{location}\\u003cextra\\u003e\\u003c\\u002fextra\\u003e\",\"hovertext\":[\"Lithuania\"],\"locations\":[\"LTU\"],\"name\":\"95.6621\",\"showlegend\":true,\"showscale\":false,\"z\":[1],\"type\":\"choropleth\"},{\"colorscale\":[[0.0,\"#636efa\"],[1.0,\"#636efa\"]],\"geo\":\"geo\",\"hovertemplate\":\"\\u003cb\\u003e%{hovertext}\\u003c\\u002fb\\u003e\\u003cbr\\u003e\\u003cbr\\u003e2005 [YR2005]=85.72567\\u003cbr\\u003eCountry Code=%{location}\\u003cextra\\u003e\\u003c\\u002fextra\\u003e\",\"hovertext\":[\"Low & middle income\"],\"locations\":[\"LMY\"],\"name\":\"85.72567\",\"showlegend\":true,\"showscale\":false,\"z\":[1],\"type\":\"choropleth\"},{\"colorscale\":[[0.0,\"#EF553B\"],[1.0,\"#EF553B\"]],\"geo\":\"geo\",\"hovertemplate\":\"\\u003cb\\u003e%{hovertext}\\u003c\\u002fb\\u003e\\u003cbr\\u003e\\u003cbr\\u003e2005 [YR2005]=82.82935\\u003cbr\\u003eCountry Code=%{location}\\u003cextra\\u003e\\u003c\\u002fextra\\u003e\",\"hovertext\":[\"Lower middle income\"],\"locations\":[\"LMC\"],\"name\":\"82.82935\",\"showlegend\":true,\"showscale\":false,\"z\":[1],\"type\":\"choropleth\"},{\"colorscale\":[[0.0,\"#00cc96\"],[1.0,\"#00cc96\"]],\"geo\":\"geo\",\"hovertemplate\":\"\\u003cb\\u003e%{hovertext}\\u003c\\u002fb\\u003e\\u003cbr\\u003e\\u003cbr\\u003e2005 [YR2005]=96.25162\\u003cbr\\u003eCountry Code=%{location}\\u003cextra\\u003e\\u003c\\u002fextra\\u003e\",\"hovertext\":[\"Luxembourg\"],\"locations\":[\"LUX\"],\"name\":\"96.25162\",\"showlegend\":true,\"showscale\":false,\"z\":[1],\"type\":\"choropleth\"},{\"colorscale\":[[0.0,\"#ab63fa\"],[1.0,\"#ab63fa\"]],\"geo\":\"geo\",\"hovertemplate\":\"\\u003cb\\u003e%{hovertext}\\u003c\\u002fb\\u003e\\u003cbr\\u003e\\u003cbr\\u003e2005 [YR2005]=85.43399\\u003cbr\\u003eCountry Code=%{location}\\u003cextra\\u003e\\u003c\\u002fextra\\u003e\",\"hovertext\":[\"Macao SAR, China\"],\"locations\":[\"MAC\"],\"name\":\"85.43399\",\"showlegend\":true,\"showscale\":false,\"z\":[1],\"type\":\"choropleth\"},{\"colorscale\":[[0.0,\"#FFA15A\"],[1.0,\"#FFA15A\"]],\"geo\":\"geo\",\"hovertemplate\":\"\\u003cb\\u003e%{hovertext}\\u003c\\u002fb\\u003e\\u003cbr\\u003e\\u003cbr\\u003e2005 [YR2005]=97.78176\\u003cbr\\u003eCountry Code=%{location}\\u003cextra\\u003e\\u003c\\u002fextra\\u003e\",\"hovertext\":[\"Malawi\"],\"locations\":[\"MWI\"],\"name\":\"97.78176\",\"showlegend\":true,\"showscale\":false,\"z\":[1],\"type\":\"choropleth\"},{\"colorscale\":[[0.0,\"#19d3f3\"],[1.0,\"#19d3f3\"]],\"geo\":\"geo\",\"hovertemplate\":\"\\u003cb\\u003e%{hovertext}\\u003c\\u002fb\\u003e\\u003cbr\\u003e\\u003cbr\\u003e2005 [YR2005]=99.59294\\u003cbr\\u003eCountry Code=%{location}\\u003cextra\\u003e\\u003c\\u002fextra\\u003e\",\"hovertext\":[\"Malaysia\"],\"locations\":[\"MYS\"],\"name\":\"99.59294\",\"showlegend\":true,\"showscale\":false,\"z\":[1],\"type\":\"choropleth\"},{\"colorscale\":[[0.0,\"#FF6692\"],[1.0,\"#FF6692\"]],\"geo\":\"geo\",\"hovertemplate\":\"\\u003cb\\u003e%{hovertext}\\u003c\\u002fb\\u003e\\u003cbr\\u003e\\u003cbr\\u003e2005 [YR2005]=97.25467\\u003cbr\\u003eCountry Code=%{location}\\u003cextra\\u003e\\u003c\\u002fextra\\u003e\",\"hovertext\":[\"Maldives\"],\"locations\":[\"MDV\"],\"name\":\"97.25467\",\"showlegend\":true,\"showscale\":false,\"z\":[1],\"type\":\"choropleth\"},{\"colorscale\":[[0.0,\"#B6E880\"],[1.0,\"#B6E880\"]],\"geo\":\"geo\",\"hovertemplate\":\"\\u003cb\\u003e%{hovertext}\\u003c\\u002fb\\u003e\\u003cbr\\u003e\\u003cbr\\u003e2005 [YR2005]=56.65099\\u003cbr\\u003eCountry Code=%{location}\\u003cextra\\u003e\\u003c\\u002fextra\\u003e\",\"hovertext\":[\"Mali\"],\"locations\":[\"MLI\"],\"name\":\"56.65099\",\"showlegend\":true,\"showscale\":false,\"z\":[1],\"type\":\"choropleth\"},{\"colorscale\":[[0.0,\"#FF97FF\"],[1.0,\"#FF97FF\"]],\"geo\":\"geo\",\"hovertemplate\":\"\\u003cb\\u003e%{hovertext}\\u003c\\u002fb\\u003e\\u003cbr\\u003e\\u003cbr\\u003e2005 [YR2005]=72.5486\\u003cbr\\u003eCountry Code=%{location}\\u003cextra\\u003e\\u003c\\u002fextra\\u003e\",\"hovertext\":[\"Mauritania\"],\"locations\":[\"MRT\"],\"name\":\"72.5486\",\"showlegend\":true,\"showscale\":false,\"z\":[1],\"type\":\"choropleth\"},{\"colorscale\":[[0.0,\"#FECB52\"],[1.0,\"#FECB52\"]],\"geo\":\"geo\",\"hovertemplate\":\"\\u003cb\\u003e%{hovertext}\\u003c\\u002fb\\u003e\\u003cbr\\u003e\\u003cbr\\u003e2005 [YR2005]=96.02008\\u003cbr\\u003eCountry Code=%{location}\\u003cextra\\u003e\\u003c\\u002fextra\\u003e\",\"hovertext\":[\"Mauritius\"],\"locations\":[\"MUS\"],\"name\":\"96.02008\",\"showlegend\":true,\"showscale\":false,\"z\":[1],\"type\":\"choropleth\"},{\"colorscale\":[[0.0,\"#636efa\"],[1.0,\"#636efa\"]],\"geo\":\"geo\",\"hovertemplate\":\"\\u003cb\\u003e%{hovertext}\\u003c\\u002fb\\u003e\\u003cbr\\u003e\\u003cbr\\u003e2005 [YR2005]=97.87734\\u003cbr\\u003eCountry Code=%{location}\\u003cextra\\u003e\\u003c\\u002fextra\\u003e\",\"hovertext\":[\"Mexico\"],\"locations\":[\"MEX\"],\"name\":\"97.87734\",\"showlegend\":true,\"showscale\":false,\"z\":[1],\"type\":\"choropleth\"},{\"colorscale\":[[0.0,\"#EF553B\"],[1.0,\"#EF553B\"]],\"geo\":\"geo\",\"hovertemplate\":\"\\u003cb\\u003e%{hovertext}\\u003c\\u002fb\\u003e\\u003cbr\\u003e\\u003cbr\\u003e2005 [YR2005]=88.9663\\u003cbr\\u003eCountry Code=%{location}\\u003cextra\\u003e\\u003c\\u002fextra\\u003e\",\"hovertext\":[\"Middle East & North Africa\"],\"locations\":[\"MEA\"],\"name\":\"88.9663\",\"showlegend\":true,\"showscale\":false,\"z\":[1],\"type\":\"choropleth\"},{\"colorscale\":[[0.0,\"#00cc96\"],[1.0,\"#00cc96\"]],\"geo\":\"geo\",\"hovertemplate\":\"\\u003cb\\u003e%{hovertext}\\u003c\\u002fb\\u003e\\u003cbr\\u003e\\u003cbr\\u003e2005 [YR2005]=89.45346\\u003cbr\\u003eCountry Code=%{location}\\u003cextra\\u003e\\u003c\\u002fextra\\u003e\",\"hovertext\":[\"Middle East & North Africa (excluding high income)\"],\"locations\":[\"MNA\"],\"name\":\"89.45346\",\"showlegend\":true,\"showscale\":false,\"z\":[1],\"type\":\"choropleth\"},{\"colorscale\":[[0.0,\"#ab63fa\"],[1.0,\"#ab63fa\"]],\"geo\":\"geo\",\"hovertemplate\":\"\\u003cb\\u003e%{hovertext}\\u003c\\u002fb\\u003e\\u003cbr\\u003e\\u003cbr\\u003e2005 [YR2005]=89.56867\\u003cbr\\u003eCountry Code=%{location}\\u003cextra\\u003e\\u003c\\u002fextra\\u003e\",\"hovertext\":[\"Middle East & North Africa (IDA & IBRD countries)\"],\"locations\":[\"TMN\"],\"name\":\"89.56867\",\"showlegend\":true,\"showscale\":false,\"z\":[1],\"type\":\"choropleth\"},{\"colorscale\":[[0.0,\"#FFA15A\"],[1.0,\"#FFA15A\"]],\"geo\":\"geo\",\"hovertemplate\":\"\\u003cb\\u003e%{hovertext}\\u003c\\u002fb\\u003e\\u003cbr\\u003e\\u003cbr\\u003e2005 [YR2005]=88.22677\\u003cbr\\u003eCountry Code=%{location}\\u003cextra\\u003e\\u003c\\u002fextra\\u003e\",\"hovertext\":[\"Middle income\"],\"locations\":[\"MIC\"],\"name\":\"88.22677\",\"showlegend\":true,\"showscale\":false,\"z\":[1],\"type\":\"choropleth\"},{\"colorscale\":[[0.0,\"#19d3f3\"],[1.0,\"#19d3f3\"]],\"geo\":\"geo\",\"hovertemplate\":\"\\u003cb\\u003e%{hovertext}\\u003c\\u002fb\\u003e\\u003cbr\\u003e\\u003cbr\\u003e2005 [YR2005]=90.98955\\u003cbr\\u003eCountry Code=%{location}\\u003cextra\\u003e\\u003c\\u002fextra\\u003e\",\"hovertext\":[\"Moldova\"],\"locations\":[\"MDA\"],\"name\":\"90.98955\",\"showlegend\":true,\"showscale\":false,\"z\":[1],\"type\":\"choropleth\"},{\"colorscale\":[[0.0,\"#FF6692\"],[1.0,\"#FF6692\"]],\"geo\":\"geo\",\"hovertemplate\":\"\\u003cb\\u003e%{hovertext}\\u003c\\u002fb\\u003e\\u003cbr\\u003e\\u003cbr\\u003e2005 [YR2005]=87.92489\\u003cbr\\u003eCountry Code=%{location}\\u003cextra\\u003e\\u003c\\u002fextra\\u003e\",\"hovertext\":[\"Mongolia\"],\"locations\":[\"MNG\"],\"name\":\"87.92489\",\"showlegend\":true,\"showscale\":false,\"z\":[1],\"type\":\"choropleth\"},{\"colorscale\":[[0.0,\"#B6E880\"],[1.0,\"#B6E880\"]],\"geo\":\"geo\",\"hovertemplate\":\"\\u003cb\\u003e%{hovertext}\\u003c\\u002fb\\u003e\\u003cbr\\u003e\\u003cbr\\u003e2005 [YR2005]=97.91655\\u003cbr\\u003eCountry Code=%{location}\\u003cextra\\u003e\\u003c\\u002fextra\\u003e\",\"hovertext\":[\"Montenegro\"],\"locations\":[\"MNE\"],\"name\":\"97.91655\",\"showlegend\":true,\"showscale\":false,\"z\":[1],\"type\":\"choropleth\"},{\"colorscale\":[[0.0,\"#FF97FF\"],[1.0,\"#FF97FF\"]],\"geo\":\"geo\",\"hovertemplate\":\"\\u003cb\\u003e%{hovertext}\\u003c\\u002fb\\u003e\\u003cbr\\u003e\\u003cbr\\u003e2005 [YR2005]=86.73812\\u003cbr\\u003eCountry Code=%{location}\\u003cextra\\u003e\\u003c\\u002fextra\\u003e\",\"hovertext\":[\"Morocco\"],\"locations\":[\"MAR\"],\"name\":\"86.73812\",\"showlegend\":true,\"showscale\":false,\"z\":[1],\"type\":\"choropleth\"},{\"colorscale\":[[0.0,\"#FECB52\"],[1.0,\"#FECB52\"]],\"geo\":\"geo\",\"hovertemplate\":\"\\u003cb\\u003e%{hovertext}\\u003c\\u002fb\\u003e\\u003cbr\\u003e\\u003cbr\\u003e2005 [YR2005]=75.35226\\u003cbr\\u003eCountry Code=%{location}\\u003cextra\\u003e\\u003c\\u002fextra\\u003e\",\"hovertext\":[\"Mozambique\"],\"locations\":[\"MOZ\"],\"name\":\"75.35226\",\"showlegend\":true,\"showscale\":false,\"z\":[1],\"type\":\"choropleth\"},{\"colorscale\":[[0.0,\"#636efa\"],[1.0,\"#636efa\"]],\"geo\":\"geo\",\"hovertemplate\":\"\\u003cb\\u003e%{hovertext}\\u003c\\u002fb\\u003e\\u003cbr\\u003e\\u003cbr\\u003e2005 [YR2005]=88.82624\\u003cbr\\u003eCountry Code=%{location}\\u003cextra\\u003e\\u003c\\u002fextra\\u003e\",\"hovertext\":[\"Myanmar\"],\"locations\":[\"MMR\"],\"name\":\"88.82624\",\"showlegend\":true,\"showscale\":false,\"z\":[1],\"type\":\"choropleth\"},{\"colorscale\":[[0.0,\"#EF553B\"],[1.0,\"#EF553B\"]],\"geo\":\"geo\",\"hovertemplate\":\"\\u003cb\\u003e%{hovertext}\\u003c\\u002fb\\u003e\\u003cbr\\u003e\\u003cbr\\u003e2005 [YR2005]=90.36721\\u003cbr\\u003eCountry Code=%{location}\\u003cextra\\u003e\\u003c\\u002fextra\\u003e\",\"hovertext\":[\"Namibia\"],\"locations\":[\"NAM\"],\"name\":\"90.36721\",\"showlegend\":true,\"showscale\":false,\"z\":[1],\"type\":\"choropleth\"},{\"colorscale\":[[0.0,\"#00cc96\"],[1.0,\"#00cc96\"]],\"geo\":\"geo\",\"hovertemplate\":\"\\u003cb\\u003e%{hovertext}\\u003c\\u002fb\\u003e\\u003cbr\\u003e\\u003cbr\\u003e2005 [YR2005]=98.11317\\u003cbr\\u003eCountry Code=%{location}\\u003cextra\\u003e\\u003c\\u002fextra\\u003e\",\"hovertext\":[\"Netherlands\"],\"locations\":[\"NLD\"],\"name\":\"98.11317\",\"showlegend\":true,\"showscale\":false,\"z\":[1],\"type\":\"choropleth\"},{\"colorscale\":[[0.0,\"#ab63fa\"],[1.0,\"#ab63fa\"]],\"geo\":\"geo\",\"hovertemplate\":\"\\u003cb\\u003e%{hovertext}\\u003c\\u002fb\\u003e\\u003cbr\\u003e\\u003cbr\\u003e2005 [YR2005]=92.4662\\u003cbr\\u003eCountry Code=%{location}\\u003cextra\\u003e\\u003c\\u002fextra\\u003e\",\"hovertext\":[\"Nicaragua\"],\"locations\":[\"NIC\"],\"name\":\"92.4662\",\"showlegend\":true,\"showscale\":false,\"z\":[1],\"type\":\"choropleth\"},{\"colorscale\":[[0.0,\"#FFA15A\"],[1.0,\"#FFA15A\"]],\"geo\":\"geo\",\"hovertemplate\":\"\\u003cb\\u003e%{hovertext}\\u003c\\u002fb\\u003e\\u003cbr\\u003e\\u003cbr\\u003e2005 [YR2005]=41.3199\\u003cbr\\u003eCountry Code=%{location}\\u003cextra\\u003e\\u003c\\u002fextra\\u003e\",\"hovertext\":[\"Niger\"],\"locations\":[\"NER\"],\"name\":\"41.3199\",\"showlegend\":true,\"showscale\":false,\"z\":[1],\"type\":\"choropleth\"},{\"colorscale\":[[0.0,\"#19d3f3\"],[1.0,\"#19d3f3\"]],\"geo\":\"geo\",\"hovertemplate\":\"\\u003cb\\u003e%{hovertext}\\u003c\\u002fb\\u003e\\u003cbr\\u003e\\u003cbr\\u003e2005 [YR2005]=66.85314\\u003cbr\\u003eCountry Code=%{location}\\u003cextra\\u003e\\u003c\\u002fextra\\u003e\",\"hovertext\":[\"Nigeria\"],\"locations\":[\"NGA\"],\"name\":\"66.85314\",\"showlegend\":true,\"showscale\":false,\"z\":[1],\"type\":\"choropleth\"},{\"colorscale\":[[0.0,\"#FF6692\"],[1.0,\"#FF6692\"]],\"geo\":\"geo\",\"hovertemplate\":\"\\u003cb\\u003e%{hovertext}\\u003c\\u002fb\\u003e\\u003cbr\\u003e\\u003cbr\\u003e2005 [YR2005]=94.96574\\u003cbr\\u003eCountry Code=%{location}\\u003cextra\\u003e\\u003c\\u002fextra\\u003e\",\"hovertext\":[\"North America\"],\"locations\":[\"NAC\"],\"name\":\"94.96574\",\"showlegend\":true,\"showscale\":false,\"z\":[1],\"type\":\"choropleth\"},{\"colorscale\":[[0.0,\"#B6E880\"],[1.0,\"#B6E880\"]],\"geo\":\"geo\",\"hovertemplate\":\"\\u003cb\\u003e%{hovertext}\\u003c\\u002fb\\u003e\\u003cbr\\u003e\\u003cbr\\u003e2005 [YR2005]=87.6979\\u003cbr\\u003eCountry Code=%{location}\\u003cextra\\u003e\\u003c\\u002fextra\\u003e\",\"hovertext\":[\"North Macedonia\"],\"locations\":[\"MKD\"],\"name\":\"87.6979\",\"showlegend\":true,\"showscale\":false,\"z\":[1],\"type\":\"choropleth\"},{\"colorscale\":[[0.0,\"#FF97FF\"],[1.0,\"#FF97FF\"]],\"geo\":\"geo\",\"hovertemplate\":\"\\u003cb\\u003e%{hovertext}\\u003c\\u002fb\\u003e\\u003cbr\\u003e\\u003cbr\\u003e2005 [YR2005]=98.5115\\u003cbr\\u003eCountry Code=%{location}\\u003cextra\\u003e\\u003c\\u002fextra\\u003e\",\"hovertext\":[\"Norway\"],\"locations\":[\"NOR\"],\"name\":\"98.5115\",\"showlegend\":true,\"showscale\":false,\"z\":[1],\"type\":\"choropleth\"},{\"colorscale\":[[0.0,\"#FECB52\"],[1.0,\"#FECB52\"]],\"geo\":\"geo\",\"hovertemplate\":\"\\u003cb\\u003e%{hovertext}\\u003c\\u002fb\\u003e\\u003cbr\\u003e\\u003cbr\\u003e2005 [YR2005]=96.19609\\u003cbr\\u003eCountry Code=%{location}\\u003cextra\\u003e\\u003c\\u002fextra\\u003e\",\"hovertext\":[\"OECD members\"],\"locations\":[\"OED\"],\"name\":\"96.19609\",\"showlegend\":true,\"showscale\":false,\"z\":[1],\"type\":\"choropleth\"},{\"colorscale\":[[0.0,\"#636efa\"],[1.0,\"#636efa\"]],\"geo\":\"geo\",\"hovertemplate\":\"\\u003cb\\u003e%{hovertext}\\u003c\\u002fb\\u003e\\u003cbr\\u003e\\u003cbr\\u003e2005 [YR2005]=63.39651\\u003cbr\\u003eCountry Code=%{location}\\u003cextra\\u003e\\u003c\\u002fextra\\u003e\",\"hovertext\":[\"Pakistan\"],\"locations\":[\"PAK\"],\"name\":\"63.39651\",\"showlegend\":true,\"showscale\":false,\"z\":[1],\"type\":\"choropleth\"},{\"colorscale\":[[0.0,\"#EF553B\"],[1.0,\"#EF553B\"]],\"geo\":\"geo\",\"hovertemplate\":\"\\u003cb\\u003e%{hovertext}\\u003c\\u002fb\\u003e\\u003cbr\\u003e\\u003cbr\\u003e2005 [YR2005]=97.56968\\u003cbr\\u003eCountry Code=%{location}\\u003cextra\\u003e\\u003c\\u002fextra\\u003e\",\"hovertext\":[\"Panama\"],\"locations\":[\"PAN\"],\"name\":\"97.56968\",\"showlegend\":true,\"showscale\":false,\"z\":[1],\"type\":\"choropleth\"},{\"colorscale\":[[0.0,\"#00cc96\"],[1.0,\"#00cc96\"]],\"geo\":\"geo\",\"hovertemplate\":\"\\u003cb\\u003e%{hovertext}\\u003c\\u002fb\\u003e\\u003cbr\\u003e\\u003cbr\\u003e2005 [YR2005]=93.95193\\u003cbr\\u003eCountry Code=%{location}\\u003cextra\\u003e\\u003c\\u002fextra\\u003e\",\"hovertext\":[\"Paraguay\"],\"locations\":[\"PRY\"],\"name\":\"93.95193\",\"showlegend\":true,\"showscale\":false,\"z\":[1],\"type\":\"choropleth\"},{\"colorscale\":[[0.0,\"#ab63fa\"],[1.0,\"#ab63fa\"]],\"geo\":\"geo\",\"hovertemplate\":\"\\u003cb\\u003e%{hovertext}\\u003c\\u002fb\\u003e\\u003cbr\\u003e\\u003cbr\\u003e2005 [YR2005]=96.58075\\u003cbr\\u003eCountry Code=%{location}\\u003cextra\\u003e\\u003c\\u002fextra\\u003e\",\"hovertext\":[\"Peru\"],\"locations\":[\"PER\"],\"name\":\"96.58075\",\"showlegend\":true,\"showscale\":false,\"z\":[1],\"type\":\"choropleth\"},{\"colorscale\":[[0.0,\"#FFA15A\"],[1.0,\"#FFA15A\"]],\"geo\":\"geo\",\"hovertemplate\":\"\\u003cb\\u003e%{hovertext}\\u003c\\u002fb\\u003e\\u003cbr\\u003e\\u003cbr\\u003e2005 [YR2005]=88.55488\\u003cbr\\u003eCountry Code=%{location}\\u003cextra\\u003e\\u003c\\u002fextra\\u003e\",\"hovertext\":[\"Philippines\"],\"locations\":[\"PHL\"],\"name\":\"88.55488\",\"showlegend\":true,\"showscale\":false,\"z\":[1],\"type\":\"choropleth\"},{\"colorscale\":[[0.0,\"#19d3f3\"],[1.0,\"#19d3f3\"]],\"geo\":\"geo\",\"hovertemplate\":\"\\u003cb\\u003e%{hovertext}\\u003c\\u002fb\\u003e\\u003cbr\\u003e\\u003cbr\\u003e2005 [YR2005]=93.08055\\u003cbr\\u003eCountry Code=%{location}\\u003cextra\\u003e\\u003c\\u002fextra\\u003e\",\"hovertext\":[\"Poland\"],\"locations\":[\"POL\"],\"name\":\"93.08055\",\"showlegend\":true,\"showscale\":false,\"z\":[1],\"type\":\"choropleth\"},{\"colorscale\":[[0.0,\"#FF6692\"],[1.0,\"#FF6692\"]],\"geo\":\"geo\",\"hovertemplate\":\"\\u003cb\\u003e%{hovertext}\\u003c\\u002fb\\u003e\\u003cbr\\u003e\\u003cbr\\u003e2005 [YR2005]=97.96037\\u003cbr\\u003eCountry Code=%{location}\\u003cextra\\u003e\\u003c\\u002fextra\\u003e\",\"hovertext\":[\"Portugal\"],\"locations\":[\"PRT\"],\"name\":\"97.96037\",\"showlegend\":true,\"showscale\":false,\"z\":[1],\"type\":\"choropleth\"},{\"colorscale\":[[0.0,\"#B6E880\"],[1.0,\"#B6E880\"]],\"geo\":\"geo\",\"hovertemplate\":\"\\u003cb\\u003e%{hovertext}\\u003c\\u002fb\\u003e\\u003cbr\\u003e\\u003cbr\\u003e2005 [YR2005]=95.69963\\u003cbr\\u003eCountry Code=%{location}\\u003cextra\\u003e\\u003c\\u002fextra\\u003e\",\"hovertext\":[\"Post-demographic dividend\"],\"locations\":[\"PST\"],\"name\":\"95.69963\",\"showlegend\":true,\"showscale\":false,\"z\":[1],\"type\":\"choropleth\"},{\"colorscale\":[[0.0,\"#FF97FF\"],[1.0,\"#FF97FF\"]],\"geo\":\"geo\",\"hovertemplate\":\"\\u003cb\\u003e%{hovertext}\\u003c\\u002fb\\u003e\\u003cbr\\u003e\\u003cbr\\u003e2005 [YR2005]=94.99625\\u003cbr\\u003eCountry Code=%{location}\\u003cextra\\u003e\\u003c\\u002fextra\\u003e\",\"hovertext\":[\"Qatar\"],\"locations\":[\"QAT\"],\"name\":\"94.99625\",\"showlegend\":true,\"showscale\":false,\"z\":[1],\"type\":\"choropleth\"},{\"colorscale\":[[0.0,\"#FECB52\"],[1.0,\"#FECB52\"]],\"geo\":\"geo\",\"hovertemplate\":\"\\u003cb\\u003e%{hovertext}\\u003c\\u002fb\\u003e\\u003cbr\\u003e\\u003cbr\\u003e2005 [YR2005]=95.07328\\u003cbr\\u003eCountry Code=%{location}\\u003cextra\\u003e\\u003c\\u002fextra\\u003e\",\"hovertext\":[\"Romania\"],\"locations\":[\"ROU\"],\"name\":\"95.07328\",\"showlegend\":true,\"showscale\":false,\"z\":[1],\"type\":\"choropleth\"},{\"colorscale\":[[0.0,\"#636efa\"],[1.0,\"#636efa\"]],\"geo\":\"geo\",\"hovertemplate\":\"\\u003cb\\u003e%{hovertext}\\u003c\\u002fb\\u003e\\u003cbr\\u003e\\u003cbr\\u003e2005 [YR2005]=94.99835\\u003cbr\\u003eCountry Code=%{location}\\u003cextra\\u003e\\u003c\\u002fextra\\u003e\",\"hovertext\":[\"Sao Tome and Principe\"],\"locations\":[\"STP\"],\"name\":\"94.99835\",\"showlegend\":true,\"showscale\":false,\"z\":[1],\"type\":\"choropleth\"},{\"colorscale\":[[0.0,\"#EF553B\"],[1.0,\"#EF553B\"]],\"geo\":\"geo\",\"hovertemplate\":\"\\u003cb\\u003e%{hovertext}\\u003c\\u002fb\\u003e\\u003cbr\\u003e\\u003cbr\\u003e2005 [YR2005]=64.73078\\u003cbr\\u003eCountry Code=%{location}\\u003cextra\\u003e\\u003c\\u002fextra\\u003e\",\"hovertext\":[\"Senegal\"],\"locations\":[\"SEN\"],\"name\":\"64.73078\",\"showlegend\":true,\"showscale\":false,\"z\":[1],\"type\":\"choropleth\"},{\"colorscale\":[[0.0,\"#00cc96\"],[1.0,\"#00cc96\"]],\"geo\":\"geo\",\"hovertemplate\":\"\\u003cb\\u003e%{hovertext}\\u003c\\u002fb\\u003e\\u003cbr\\u003e\\u003cbr\\u003e2005 [YR2005]=99.70359\\u003cbr\\u003eCountry Code=%{location}\\u003cextra\\u003e\\u003c\\u002fextra\\u003e\",\"hovertext\":[\"Serbia\"],\"locations\":[\"SRB\"],\"name\":\"99.70359\",\"showlegend\":true,\"showscale\":false,\"z\":[1],\"type\":\"choropleth\"},{\"colorscale\":[[0.0,\"#ab63fa\"],[1.0,\"#ab63fa\"]],\"geo\":\"geo\",\"hovertemplate\":\"\\u003cb\\u003e%{hovertext}\\u003c\\u002fb\\u003e\\u003cbr\\u003e\\u003cbr\\u003e2005 [YR2005]=95.48517\\u003cbr\\u003eCountry Code=%{location}\\u003cextra\\u003e\\u003c\\u002fextra\\u003e\",\"hovertext\":[\"Seychelles\"],\"locations\":[\"SYC\"],\"name\":\"95.48517\",\"showlegend\":true,\"showscale\":false,\"z\":[1],\"type\":\"choropleth\"},{\"colorscale\":[[0.0,\"#FFA15A\"],[1.0,\"#FFA15A\"]],\"geo\":\"geo\",\"hovertemplate\":\"\\u003cb\\u003e%{hovertext}\\u003c\\u002fb\\u003e\\u003cbr\\u003e\\u003cbr\\u003e2005 [YR2005]=83.00852\\u003cbr\\u003eCountry Code=%{location}\\u003cextra\\u003e\\u003c\\u002fextra\\u003e\",\"hovertext\":[\"Slovak Republic\"],\"locations\":[\"SVK\"],\"name\":\"83.00852\",\"showlegend\":true,\"showscale\":false,\"z\":[1],\"type\":\"choropleth\"},{\"colorscale\":[[0.0,\"#19d3f3\"],[1.0,\"#19d3f3\"]],\"geo\":\"geo\",\"hovertemplate\":\"\\u003cb\\u003e%{hovertext}\\u003c\\u002fb\\u003e\\u003cbr\\u003e\\u003cbr\\u003e2005 [YR2005]=97.42762\\u003cbr\\u003eCountry Code=%{location}\\u003cextra\\u003e\\u003c\\u002fextra\\u003e\",\"hovertext\":[\"Slovenia\"],\"locations\":[\"SVN\"],\"name\":\"97.42762\",\"showlegend\":true,\"showscale\":false,\"z\":[1],\"type\":\"choropleth\"},{\"colorscale\":[[0.0,\"#FF6692\"],[1.0,\"#FF6692\"]],\"geo\":\"geo\",\"hovertemplate\":\"\\u003cb\\u003e%{hovertext}\\u003c\\u002fb\\u003e\\u003cbr\\u003e\\u003cbr\\u003e2005 [YR2005]=75.38095\\u003cbr\\u003eCountry Code=%{location}\\u003cextra\\u003e\\u003c\\u002fextra\\u003e\",\"hovertext\":[\"Solomon Islands\"],\"locations\":[\"SLB\"],\"name\":\"75.38095\",\"showlegend\":true,\"showscale\":false,\"z\":[1],\"type\":\"choropleth\"},{\"colorscale\":[[0.0,\"#B6E880\"],[1.0,\"#B6E880\"]],\"geo\":\"geo\",\"hovertemplate\":\"\\u003cb\\u003e%{hovertext}\\u003c\\u002fb\\u003e\\u003cbr\\u003e\\u003cbr\\u003e2005 [YR2005]=88.64586\\u003cbr\\u003eCountry Code=%{location}\\u003cextra\\u003e\\u003c\\u002fextra\\u003e\",\"hovertext\":[\"South Africa\"],\"locations\":[\"ZAF\"],\"name\":\"88.64586\",\"showlegend\":true,\"showscale\":false,\"z\":[1],\"type\":\"choropleth\"},{\"colorscale\":[[0.0,\"#FF97FF\"],[1.0,\"#FF97FF\"]],\"geo\":\"geo\",\"hovertemplate\":\"\\u003cb\\u003e%{hovertext}\\u003c\\u002fb\\u003e\\u003cbr\\u003e\\u003cbr\\u003e2005 [YR2005]=83.98378\\u003cbr\\u003eCountry Code=%{location}\\u003cextra\\u003e\\u003c\\u002fextra\\u003e\",\"hovertext\":[\"South Asia\",\"South Asia (IDA & IBRD)\"],\"locations\":[\"SAS\",\"TSA\"],\"name\":\"83.98378\",\"showlegend\":true,\"showscale\":false,\"z\":[1,1],\"type\":\"choropleth\"},{\"colorscale\":[[0.0,\"#FECB52\"],[1.0,\"#FECB52\"]],\"geo\":\"geo\",\"hovertemplate\":\"\\u003cb\\u003e%{hovertext}\\u003c\\u002fb\\u003e\\u003cbr\\u003e\\u003cbr\\u003e2005 [YR2005]=99.65855\\u003cbr\\u003eCountry Code=%{location}\\u003cextra\\u003e\\u003c\\u002fextra\\u003e\",\"hovertext\":[\"Spain\"],\"locations\":[\"ESP\"],\"name\":\"99.65855\",\"showlegend\":true,\"showscale\":false,\"z\":[1],\"type\":\"choropleth\"},{\"colorscale\":[[0.0,\"#636efa\"],[1.0,\"#636efa\"]],\"geo\":\"geo\",\"hovertemplate\":\"\\u003cb\\u003e%{hovertext}\\u003c\\u002fb\\u003e\\u003cbr\\u003e\\u003cbr\\u003e2005 [YR2005]=97.19208\\u003cbr\\u003eCountry Code=%{location}\\u003cextra\\u003e\\u003c\\u002fextra\\u003e\",\"hovertext\":[\"Sri Lanka\"],\"locations\":[\"LKA\"],\"name\":\"97.19208\",\"showlegend\":true,\"showscale\":false,\"z\":[1],\"type\":\"choropleth\"},{\"colorscale\":[[0.0,\"#EF553B\"],[1.0,\"#EF553B\"]],\"geo\":\"geo\",\"hovertemplate\":\"\\u003cb\\u003e%{hovertext}\\u003c\\u002fb\\u003e\\u003cbr\\u003e\\u003cbr\\u003e2005 [YR2005]=97.33724\\u003cbr\\u003eCountry Code=%{location}\\u003cextra\\u003e\\u003c\\u002fextra\\u003e\",\"hovertext\":[\"St. Kitts and Nevis\"],\"locations\":[\"KNA\"],\"name\":\"97.33724\",\"showlegend\":true,\"showscale\":false,\"z\":[1],\"type\":\"choropleth\"},{\"colorscale\":[[0.0,\"#00cc96\"],[1.0,\"#00cc96\"]],\"geo\":\"geo\",\"hovertemplate\":\"\\u003cb\\u003e%{hovertext}\\u003c\\u002fb\\u003e\\u003cbr\\u003e\\u003cbr\\u003e2005 [YR2005]=91.79219\\u003cbr\\u003eCountry Code=%{location}\\u003cextra\\u003e\\u003c\\u002fextra\\u003e\",\"hovertext\":[\"St. Lucia\"],\"locations\":[\"LCA\"],\"name\":\"91.79219\",\"showlegend\":true,\"showscale\":false,\"z\":[1],\"type\":\"choropleth\"},{\"colorscale\":[[0.0,\"#ab63fa\"],[1.0,\"#ab63fa\"]],\"geo\":\"geo\",\"hovertemplate\":\"\\u003cb\\u003e%{hovertext}\\u003c\\u002fb\\u003e\\u003cbr\\u003e\\u003cbr\\u003e2005 [YR2005]=96.01852\\u003cbr\\u003eCountry Code=%{location}\\u003cextra\\u003e\\u003c\\u002fextra\\u003e\",\"hovertext\":[\"St. Vincent and the Grenadines\"],\"locations\":[\"VCT\"],\"name\":\"96.01852\",\"showlegend\":true,\"showscale\":false,\"z\":[1],\"type\":\"choropleth\"},{\"colorscale\":[[0.0,\"#FFA15A\"],[1.0,\"#FFA15A\"]],\"geo\":\"geo\",\"hovertemplate\":\"\\u003cb\\u003e%{hovertext}\\u003c\\u002fb\\u003e\\u003cbr\\u003e\\u003cbr\\u003e2005 [YR2005]=69.67395\\u003cbr\\u003eCountry Code=%{location}\\u003cextra\\u003e\\u003c\\u002fextra\\u003e\",\"hovertext\":[\"Sub-Saharan Africa\",\"Sub-Saharan Africa (IDA & IBRD countries)\"],\"locations\":[\"SSF\",\"TSS\"],\"name\":\"69.67395\",\"showlegend\":true,\"showscale\":false,\"z\":[1,1],\"type\":\"choropleth\"},{\"colorscale\":[[0.0,\"#19d3f3\"],[1.0,\"#19d3f3\"]],\"geo\":\"geo\",\"hovertemplate\":\"\\u003cb\\u003e%{hovertext}\\u003c\\u002fb\\u003e\\u003cbr\\u003e\\u003cbr\\u003e2005 [YR2005]=69.6722\\u003cbr\\u003eCountry Code=%{location}\\u003cextra\\u003e\\u003c\\u002fextra\\u003e\",\"hovertext\":[\"Sub-Saharan Africa (excluding high income)\"],\"locations\":[\"SSA\"],\"name\":\"69.6722\",\"showlegend\":true,\"showscale\":false,\"z\":[1],\"type\":\"choropleth\"},{\"colorscale\":[[0.0,\"#FF6692\"],[1.0,\"#FF6692\"]],\"geo\":\"geo\",\"hovertemplate\":\"\\u003cb\\u003e%{hovertext}\\u003c\\u002fb\\u003e\\u003cbr\\u003e\\u003cbr\\u003e2005 [YR2005]=82.56368\\u003cbr\\u003eCountry Code=%{location}\\u003cextra\\u003e\\u003c\\u002fextra\\u003e\",\"hovertext\":[\"Suriname\"],\"locations\":[\"SUR\"],\"name\":\"82.56368\",\"showlegend\":true,\"showscale\":false,\"z\":[1],\"type\":\"choropleth\"},{\"colorscale\":[[0.0,\"#B6E880\"],[1.0,\"#B6E880\"]],\"geo\":\"geo\",\"hovertemplate\":\"\\u003cb\\u003e%{hovertext}\\u003c\\u002fb\\u003e\\u003cbr\\u003e\\u003cbr\\u003e2005 [YR2005]=95.39294\\u003cbr\\u003eCountry Code=%{location}\\u003cextra\\u003e\\u003c\\u002fextra\\u003e\",\"hovertext\":[\"Sweden\"],\"locations\":[\"SWE\"],\"name\":\"95.39294\",\"showlegend\":true,\"showscale\":false,\"z\":[1],\"type\":\"choropleth\"},{\"colorscale\":[[0.0,\"#FF97FF\"],[1.0,\"#FF97FF\"]],\"geo\":\"geo\",\"hovertemplate\":\"\\u003cb\\u003e%{hovertext}\\u003c\\u002fb\\u003e\\u003cbr\\u003e\\u003cbr\\u003e2005 [YR2005]=93.7217\\u003cbr\\u003eCountry Code=%{location}\\u003cextra\\u003e\\u003c\\u002fextra\\u003e\",\"hovertext\":[\"Switzerland\"],\"locations\":[\"CHE\"],\"name\":\"93.7217\",\"showlegend\":true,\"showscale\":false,\"z\":[1],\"type\":\"choropleth\"},{\"colorscale\":[[0.0,\"#FECB52\"],[1.0,\"#FECB52\"]],\"geo\":\"geo\",\"hovertemplate\":\"\\u003cb\\u003e%{hovertext}\\u003c\\u002fb\\u003e\\u003cbr\\u003e\\u003cbr\\u003e2005 [YR2005]=92.57075\\u003cbr\\u003eCountry Code=%{location}\\u003cextra\\u003e\\u003c\\u002fextra\\u003e\",\"hovertext\":[\"Syrian Arab Republic\"],\"locations\":[\"SYR\"],\"name\":\"92.57075\",\"showlegend\":true,\"showscale\":false,\"z\":[1],\"type\":\"choropleth\"},{\"colorscale\":[[0.0,\"#636efa\"],[1.0,\"#636efa\"]],\"geo\":\"geo\",\"hovertemplate\":\"\\u003cb\\u003e%{hovertext}\\u003c\\u002fb\\u003e\\u003cbr\\u003e\\u003cbr\\u003e2005 [YR2005]=97.6536\\u003cbr\\u003eCountry Code=%{location}\\u003cextra\\u003e\\u003c\\u002fextra\\u003e\",\"hovertext\":[\"Tajikistan\"],\"locations\":[\"TJK\"],\"name\":\"97.6536\",\"showlegend\":true,\"showscale\":false,\"z\":[1],\"type\":\"choropleth\"},{\"colorscale\":[[0.0,\"#EF553B\"],[1.0,\"#EF553B\"]],\"geo\":\"geo\",\"hovertemplate\":\"\\u003cb\\u003e%{hovertext}\\u003c\\u002fb\\u003e\\u003cbr\\u003e\\u003cbr\\u003e2005 [YR2005]=90.85074\\u003cbr\\u003eCountry Code=%{location}\\u003cextra\\u003e\\u003c\\u002fextra\\u003e\",\"hovertext\":[\"Tanzania\"],\"locations\":[\"TZA\"],\"name\":\"90.85074\",\"showlegend\":true,\"showscale\":false,\"z\":[1],\"type\":\"choropleth\"},{\"colorscale\":[[0.0,\"#00cc96\"],[1.0,\"#00cc96\"]],\"geo\":\"geo\",\"hovertemplate\":\"\\u003cb\\u003e%{hovertext}\\u003c\\u002fb\\u003e\\u003cbr\\u003e\\u003cbr\\u003e2005 [YR2005]=89.39777\\u003cbr\\u003eCountry Code=%{location}\\u003cextra\\u003e\\u003c\\u002fextra\\u003e\",\"hovertext\":[\"Togo\"],\"locations\":[\"TGO\"],\"name\":\"89.39777\",\"showlegend\":true,\"showscale\":false,\"z\":[1],\"type\":\"choropleth\"},{\"colorscale\":[[0.0,\"#ab63fa\"],[1.0,\"#ab63fa\"]],\"geo\":\"geo\",\"hovertemplate\":\"\\u003cb\\u003e%{hovertext}\\u003c\\u002fb\\u003e\\u003cbr\\u003e\\u003cbr\\u003e2005 [YR2005]=98.81118\\u003cbr\\u003eCountry Code=%{location}\\u003cextra\\u003e\\u003c\\u002fextra\\u003e\",\"hovertext\":[\"Tonga\"],\"locations\":[\"TON\"],\"name\":\"98.81118\",\"showlegend\":true,\"showscale\":false,\"z\":[1],\"type\":\"choropleth\"},{\"colorscale\":[[0.0,\"#FFA15A\"],[1.0,\"#FFA15A\"]],\"geo\":\"geo\",\"hovertemplate\":\"\\u003cb\\u003e%{hovertext}\\u003c\\u002fb\\u003e\\u003cbr\\u003e\\u003cbr\\u003e2005 [YR2005]=88.68652\\u003cbr\\u003eCountry Code=%{location}\\u003cextra\\u003e\\u003c\\u002fextra\\u003e\",\"hovertext\":[\"Trinidad and Tobago\"],\"locations\":[\"TTO\"],\"name\":\"88.68652\",\"showlegend\":true,\"showscale\":false,\"z\":[1],\"type\":\"choropleth\"},{\"colorscale\":[[0.0,\"#19d3f3\"],[1.0,\"#19d3f3\"]],\"geo\":\"geo\",\"hovertemplate\":\"\\u003cb\\u003e%{hovertext}\\u003c\\u002fb\\u003e\\u003cbr\\u003e\\u003cbr\\u003e2005 [YR2005]=98.74059\\u003cbr\\u003eCountry Code=%{location}\\u003cextra\\u003e\\u003c\\u002fextra\\u003e\",\"hovertext\":[\"Tunisia\"],\"locations\":[\"TUN\"],\"name\":\"98.74059\",\"showlegend\":true,\"showscale\":false,\"z\":[1],\"type\":\"choropleth\"},{\"colorscale\":[[0.0,\"#FF6692\"],[1.0,\"#FF6692\"]],\"geo\":\"geo\",\"hovertemplate\":\"\\u003cb\\u003e%{hovertext}\\u003c\\u002fb\\u003e\\u003cbr\\u003e\\u003cbr\\u003e2005 [YR2005]=97.79379\\u003cbr\\u003eCountry Code=%{location}\\u003cextra\\u003e\\u003c\\u002fextra\\u003e\",\"hovertext\":[\"Turkiye\"],\"locations\":[\"TUR\"],\"name\":\"97.79379\",\"showlegend\":true,\"showscale\":false,\"z\":[1],\"type\":\"choropleth\"},{\"colorscale\":[[0.0,\"#B6E880\"],[1.0,\"#B6E880\"]],\"geo\":\"geo\",\"hovertemplate\":\"\\u003cb\\u003e%{hovertext}\\u003c\\u002fb\\u003e\\u003cbr\\u003e\\u003cbr\\u003e2005 [YR2005]=89.53734\\u003cbr\\u003eCountry Code=%{location}\\u003cextra\\u003e\\u003c\\u002fextra\\u003e\",\"hovertext\":[\"Ukraine\"],\"locations\":[\"UKR\"],\"name\":\"89.53734\",\"showlegend\":true,\"showscale\":false,\"z\":[1],\"type\":\"choropleth\"},{\"colorscale\":[[0.0,\"#FF97FF\"],[1.0,\"#FF97FF\"]],\"geo\":\"geo\",\"hovertemplate\":\"\\u003cb\\u003e%{hovertext}\\u003c\\u002fb\\u003e\\u003cbr\\u003e\\u003cbr\\u003e2005 [YR2005]=98.78009\\u003cbr\\u003eCountry Code=%{location}\\u003cextra\\u003e\\u003c\\u002fextra\\u003e\",\"hovertext\":[\"United Kingdom\"],\"locations\":[\"GBR\"],\"name\":\"98.78009\",\"showlegend\":true,\"showscale\":false,\"z\":[1],\"type\":\"choropleth\"},{\"colorscale\":[[0.0,\"#FECB52\"],[1.0,\"#FECB52\"]],\"geo\":\"geo\",\"hovertemplate\":\"\\u003cb\\u003e%{hovertext}\\u003c\\u002fb\\u003e\\u003cbr\\u003e\\u003cbr\\u003e2005 [YR2005]=94.77826\\u003cbr\\u003eCountry Code=%{location}\\u003cextra\\u003e\\u003c\\u002fextra\\u003e\",\"hovertext\":[\"United States\"],\"locations\":[\"USA\"],\"name\":\"94.77826\",\"showlegend\":true,\"showscale\":false,\"z\":[1],\"type\":\"choropleth\"},{\"colorscale\":[[0.0,\"#636efa\"],[1.0,\"#636efa\"]],\"geo\":\"geo\",\"hovertemplate\":\"\\u003cb\\u003e%{hovertext}\\u003c\\u002fb\\u003e\\u003cbr\\u003e\\u003cbr\\u003e2005 [YR2005]=95.73099\\u003cbr\\u003eCountry Code=%{location}\\u003cextra\\u003e\\u003c\\u002fextra\\u003e\",\"hovertext\":[\"Upper middle income\"],\"locations\":[\"UMC\"],\"name\":\"95.73099\",\"showlegend\":true,\"showscale\":false,\"z\":[1],\"type\":\"choropleth\"},{\"colorscale\":[[0.0,\"#EF553B\"],[1.0,\"#EF553B\"]],\"geo\":\"geo\",\"hovertemplate\":\"\\u003cb\\u003e%{hovertext}\\u003c\\u002fb\\u003e\\u003cbr\\u003e\\u003cbr\\u003e2005 [YR2005]=97.34989\\u003cbr\\u003eCountry Code=%{location}\\u003cextra\\u003e\\u003c\\u002fextra\\u003e\",\"hovertext\":[\"Uruguay\"],\"locations\":[\"URY\"],\"name\":\"97.34989\",\"showlegend\":true,\"showscale\":false,\"z\":[1],\"type\":\"choropleth\"},{\"colorscale\":[[0.0,\"#00cc96\"],[1.0,\"#00cc96\"]],\"geo\":\"geo\",\"hovertemplate\":\"\\u003cb\\u003e%{hovertext}\\u003c\\u002fb\\u003e\\u003cbr\\u003e\\u003cbr\\u003e2005 [YR2005]=98.90831\\u003cbr\\u003eCountry Code=%{location}\\u003cextra\\u003e\\u003c\\u002fextra\\u003e\",\"hovertext\":[\"Vanuatu\"],\"locations\":[\"VUT\"],\"name\":\"98.90831\",\"showlegend\":true,\"showscale\":false,\"z\":[1],\"type\":\"choropleth\"},{\"colorscale\":[[0.0,\"#ab63fa\"],[1.0,\"#ab63fa\"]],\"geo\":\"geo\",\"hovertemplate\":\"\\u003cb\\u003e%{hovertext}\\u003c\\u002fb\\u003e\\u003cbr\\u003e\\u003cbr\\u003e2005 [YR2005]=90.65024\\u003cbr\\u003eCountry Code=%{location}\\u003cextra\\u003e\\u003c\\u002fextra\\u003e\",\"hovertext\":[\"Venezuela, RB\"],\"locations\":[\"VEN\"],\"name\":\"90.65024\",\"showlegend\":true,\"showscale\":false,\"z\":[1],\"type\":\"choropleth\"},{\"colorscale\":[[0.0,\"#FFA15A\"],[1.0,\"#FFA15A\"]],\"geo\":\"geo\",\"hovertemplate\":\"\\u003cb\\u003e%{hovertext}\\u003c\\u002fb\\u003e\\u003cbr\\u003e\\u003cbr\\u003e2005 [YR2005]=90.70151\\u003cbr\\u003eCountry Code=%{location}\\u003cextra\\u003e\\u003c\\u002fextra\\u003e\",\"hovertext\":[\"Viet Nam\"],\"locations\":[\"VNM\"],\"name\":\"90.70151\",\"showlegend\":true,\"showscale\":false,\"z\":[1],\"type\":\"choropleth\"},{\"colorscale\":[[0.0,\"#19d3f3\"],[1.0,\"#19d3f3\"]],\"geo\":\"geo\",\"hovertemplate\":\"\\u003cb\\u003e%{hovertext}\\u003c\\u002fb\\u003e\\u003cbr\\u003e\\u003cbr\\u003e2005 [YR2005]=79.69969\\u003cbr\\u003eCountry Code=%{location}\\u003cextra\\u003e\\u003c\\u002fextra\\u003e\",\"hovertext\":[\"West Bank and Gaza\"],\"locations\":[\"PSE\"],\"name\":\"79.69969\",\"showlegend\":true,\"showscale\":false,\"z\":[1],\"type\":\"choropleth\"},{\"colorscale\":[[0.0,\"#FF6692\"],[1.0,\"#FF6692\"]],\"geo\":\"geo\",\"hovertemplate\":\"\\u003cb\\u003e%{hovertext}\\u003c\\u002fb\\u003e\\u003cbr\\u003e\\u003cbr\\u003e2005 [YR2005]=86.78988\\u003cbr\\u003eCountry Code=%{location}\\u003cextra\\u003e\\u003c\\u002fextra\\u003e\",\"hovertext\":[\"World\"],\"locations\":[\"WLD\"],\"name\":\"86.78988\",\"showlegend\":true,\"showscale\":false,\"z\":[1],\"type\":\"choropleth\"},{\"colorscale\":[[0.0,\"#B6E880\"],[1.0,\"#B6E880\"]],\"geo\":\"geo\",\"hovertemplate\":\"\\u003cb\\u003e%{hovertext}\\u003c\\u002fb\\u003e\\u003cbr\\u003e\\u003cbr\\u003e2005 [YR2005]=76.71869\\u003cbr\\u003eCountry Code=%{location}\\u003cextra\\u003e\\u003c\\u002fextra\\u003e\",\"hovertext\":[\"Yemen, Rep.\"],\"locations\":[\"YEM\"],\"name\":\"76.71869\",\"showlegend\":true,\"showscale\":false,\"z\":[1],\"type\":\"choropleth\"},{\"colorscale\":[[0.0,\"#FF97FF\"],[1.0,\"#FF97FF\"]],\"geo\":\"geo\",\"hovertemplate\":\"\\u003cb\\u003e%{hovertext}\\u003c\\u002fb\\u003e\\u003cbr\\u003e\\u003cbr\\u003e2005 [YR2005]=89.74576\\u003cbr\\u003eCountry Code=%{location}\\u003cextra\\u003e\\u003c\\u002fextra\\u003e\",\"hovertext\":[\"Zambia\"],\"locations\":[\"ZMB\"],\"name\":\"89.74576\",\"showlegend\":true,\"showscale\":false,\"z\":[1],\"type\":\"choropleth\"}],                        {\"template\":{\"data\":{\"histogram2dcontour\":[{\"type\":\"histogram2dcontour\",\"colorbar\":{\"outlinewidth\":0,\"ticks\":\"\"},\"colorscale\":[[0.0,\"#0d0887\"],[0.1111111111111111,\"#46039f\"],[0.2222222222222222,\"#7201a8\"],[0.3333333333333333,\"#9c179e\"],[0.4444444444444444,\"#bd3786\"],[0.5555555555555556,\"#d8576b\"],[0.6666666666666666,\"#ed7953\"],[0.7777777777777778,\"#fb9f3a\"],[0.8888888888888888,\"#fdca26\"],[1.0,\"#f0f921\"]]}],\"choropleth\":[{\"type\":\"choropleth\",\"colorbar\":{\"outlinewidth\":0,\"ticks\":\"\"}}],\"histogram2d\":[{\"type\":\"histogram2d\",\"colorbar\":{\"outlinewidth\":0,\"ticks\":\"\"},\"colorscale\":[[0.0,\"#0d0887\"],[0.1111111111111111,\"#46039f\"],[0.2222222222222222,\"#7201a8\"],[0.3333333333333333,\"#9c179e\"],[0.4444444444444444,\"#bd3786\"],[0.5555555555555556,\"#d8576b\"],[0.6666666666666666,\"#ed7953\"],[0.7777777777777778,\"#fb9f3a\"],[0.8888888888888888,\"#fdca26\"],[1.0,\"#f0f921\"]]}],\"heatmap\":[{\"type\":\"heatmap\",\"colorbar\":{\"outlinewidth\":0,\"ticks\":\"\"},\"colorscale\":[[0.0,\"#0d0887\"],[0.1111111111111111,\"#46039f\"],[0.2222222222222222,\"#7201a8\"],[0.3333333333333333,\"#9c179e\"],[0.4444444444444444,\"#bd3786\"],[0.5555555555555556,\"#d8576b\"],[0.6666666666666666,\"#ed7953\"],[0.7777777777777778,\"#fb9f3a\"],[0.8888888888888888,\"#fdca26\"],[1.0,\"#f0f921\"]]}],\"heatmapgl\":[{\"type\":\"heatmapgl\",\"colorbar\":{\"outlinewidth\":0,\"ticks\":\"\"},\"colorscale\":[[0.0,\"#0d0887\"],[0.1111111111111111,\"#46039f\"],[0.2222222222222222,\"#7201a8\"],[0.3333333333333333,\"#9c179e\"],[0.4444444444444444,\"#bd3786\"],[0.5555555555555556,\"#d8576b\"],[0.6666666666666666,\"#ed7953\"],[0.7777777777777778,\"#fb9f3a\"],[0.8888888888888888,\"#fdca26\"],[1.0,\"#f0f921\"]]}],\"contourcarpet\":[{\"type\":\"contourcarpet\",\"colorbar\":{\"outlinewidth\":0,\"ticks\":\"\"}}],\"contour\":[{\"type\":\"contour\",\"colorbar\":{\"outlinewidth\":0,\"ticks\":\"\"},\"colorscale\":[[0.0,\"#0d0887\"],[0.1111111111111111,\"#46039f\"],[0.2222222222222222,\"#7201a8\"],[0.3333333333333333,\"#9c179e\"],[0.4444444444444444,\"#bd3786\"],[0.5555555555555556,\"#d8576b\"],[0.6666666666666666,\"#ed7953\"],[0.7777777777777778,\"#fb9f3a\"],[0.8888888888888888,\"#fdca26\"],[1.0,\"#f0f921\"]]}],\"surface\":[{\"type\":\"surface\",\"colorbar\":{\"outlinewidth\":0,\"ticks\":\"\"},\"colorscale\":[[0.0,\"#0d0887\"],[0.1111111111111111,\"#46039f\"],[0.2222222222222222,\"#7201a8\"],[0.3333333333333333,\"#9c179e\"],[0.4444444444444444,\"#bd3786\"],[0.5555555555555556,\"#d8576b\"],[0.6666666666666666,\"#ed7953\"],[0.7777777777777778,\"#fb9f3a\"],[0.8888888888888888,\"#fdca26\"],[1.0,\"#f0f921\"]]}],\"mesh3d\":[{\"type\":\"mesh3d\",\"colorbar\":{\"outlinewidth\":0,\"ticks\":\"\"}}],\"scatter\":[{\"fillpattern\":{\"fillmode\":\"overlay\",\"size\":10,\"solidity\":0.2},\"type\":\"scatter\"}],\"parcoords\":[{\"type\":\"parcoords\",\"line\":{\"colorbar\":{\"outlinewidth\":0,\"ticks\":\"\"}}}],\"scatterpolargl\":[{\"type\":\"scatterpolargl\",\"marker\":{\"colorbar\":{\"outlinewidth\":0,\"ticks\":\"\"}}}],\"bar\":[{\"error_x\":{\"color\":\"#2a3f5f\"},\"error_y\":{\"color\":\"#2a3f5f\"},\"marker\":{\"line\":{\"color\":\"#E5ECF6\",\"width\":0.5},\"pattern\":{\"fillmode\":\"overlay\",\"size\":10,\"solidity\":0.2}},\"type\":\"bar\"}],\"scattergeo\":[{\"type\":\"scattergeo\",\"marker\":{\"colorbar\":{\"outlinewidth\":0,\"ticks\":\"\"}}}],\"scatterpolar\":[{\"type\":\"scatterpolar\",\"marker\":{\"colorbar\":{\"outlinewidth\":0,\"ticks\":\"\"}}}],\"histogram\":[{\"marker\":{\"pattern\":{\"fillmode\":\"overlay\",\"size\":10,\"solidity\":0.2}},\"type\":\"histogram\"}],\"scattergl\":[{\"type\":\"scattergl\",\"marker\":{\"colorbar\":{\"outlinewidth\":0,\"ticks\":\"\"}}}],\"scatter3d\":[{\"type\":\"scatter3d\",\"line\":{\"colorbar\":{\"outlinewidth\":0,\"ticks\":\"\"}},\"marker\":{\"colorbar\":{\"outlinewidth\":0,\"ticks\":\"\"}}}],\"scattermapbox\":[{\"type\":\"scattermapbox\",\"marker\":{\"colorbar\":{\"outlinewidth\":0,\"ticks\":\"\"}}}],\"scatterternary\":[{\"type\":\"scatterternary\",\"marker\":{\"colorbar\":{\"outlinewidth\":0,\"ticks\":\"\"}}}],\"scattercarpet\":[{\"type\":\"scattercarpet\",\"marker\":{\"colorbar\":{\"outlinewidth\":0,\"ticks\":\"\"}}}],\"carpet\":[{\"aaxis\":{\"endlinecolor\":\"#2a3f5f\",\"gridcolor\":\"white\",\"linecolor\":\"white\",\"minorgridcolor\":\"white\",\"startlinecolor\":\"#2a3f5f\"},\"baxis\":{\"endlinecolor\":\"#2a3f5f\",\"gridcolor\":\"white\",\"linecolor\":\"white\",\"minorgridcolor\":\"white\",\"startlinecolor\":\"#2a3f5f\"},\"type\":\"carpet\"}],\"table\":[{\"cells\":{\"fill\":{\"color\":\"#EBF0F8\"},\"line\":{\"color\":\"white\"}},\"header\":{\"fill\":{\"color\":\"#C8D4E3\"},\"line\":{\"color\":\"white\"}},\"type\":\"table\"}],\"barpolar\":[{\"marker\":{\"line\":{\"color\":\"#E5ECF6\",\"width\":0.5},\"pattern\":{\"fillmode\":\"overlay\",\"size\":10,\"solidity\":0.2}},\"type\":\"barpolar\"}],\"pie\":[{\"automargin\":true,\"type\":\"pie\"}]},\"layout\":{\"autotypenumbers\":\"strict\",\"colorway\":[\"#636efa\",\"#EF553B\",\"#00cc96\",\"#ab63fa\",\"#FFA15A\",\"#19d3f3\",\"#FF6692\",\"#B6E880\",\"#FF97FF\",\"#FECB52\"],\"font\":{\"color\":\"#2a3f5f\"},\"hovermode\":\"closest\",\"hoverlabel\":{\"align\":\"left\"},\"paper_bgcolor\":\"white\",\"plot_bgcolor\":\"#E5ECF6\",\"polar\":{\"bgcolor\":\"#E5ECF6\",\"angularaxis\":{\"gridcolor\":\"white\",\"linecolor\":\"white\",\"ticks\":\"\"},\"radialaxis\":{\"gridcolor\":\"white\",\"linecolor\":\"white\",\"ticks\":\"\"}},\"ternary\":{\"bgcolor\":\"#E5ECF6\",\"aaxis\":{\"gridcolor\":\"white\",\"linecolor\":\"white\",\"ticks\":\"\"},\"baxis\":{\"gridcolor\":\"white\",\"linecolor\":\"white\",\"ticks\":\"\"},\"caxis\":{\"gridcolor\":\"white\",\"linecolor\":\"white\",\"ticks\":\"\"}},\"coloraxis\":{\"colorbar\":{\"outlinewidth\":0,\"ticks\":\"\"}},\"colorscale\":{\"sequential\":[[0.0,\"#0d0887\"],[0.1111111111111111,\"#46039f\"],[0.2222222222222222,\"#7201a8\"],[0.3333333333333333,\"#9c179e\"],[0.4444444444444444,\"#bd3786\"],[0.5555555555555556,\"#d8576b\"],[0.6666666666666666,\"#ed7953\"],[0.7777777777777778,\"#fb9f3a\"],[0.8888888888888888,\"#fdca26\"],[1.0,\"#f0f921\"]],\"sequentialminus\":[[0.0,\"#0d0887\"],[0.1111111111111111,\"#46039f\"],[0.2222222222222222,\"#7201a8\"],[0.3333333333333333,\"#9c179e\"],[0.4444444444444444,\"#bd3786\"],[0.5555555555555556,\"#d8576b\"],[0.6666666666666666,\"#ed7953\"],[0.7777777777777778,\"#fb9f3a\"],[0.8888888888888888,\"#fdca26\"],[1.0,\"#f0f921\"]],\"diverging\":[[0,\"#8e0152\"],[0.1,\"#c51b7d\"],[0.2,\"#de77ae\"],[0.3,\"#f1b6da\"],[0.4,\"#fde0ef\"],[0.5,\"#f7f7f7\"],[0.6,\"#e6f5d0\"],[0.7,\"#b8e186\"],[0.8,\"#7fbc41\"],[0.9,\"#4d9221\"],[1,\"#276419\"]]},\"xaxis\":{\"gridcolor\":\"white\",\"linecolor\":\"white\",\"ticks\":\"\",\"title\":{\"standoff\":15},\"zerolinecolor\":\"white\",\"automargin\":true,\"zerolinewidth\":2},\"yaxis\":{\"gridcolor\":\"white\",\"linecolor\":\"white\",\"ticks\":\"\",\"title\":{\"standoff\":15},\"zerolinecolor\":\"white\",\"automargin\":true,\"zerolinewidth\":2},\"scene\":{\"xaxis\":{\"backgroundcolor\":\"#E5ECF6\",\"gridcolor\":\"white\",\"linecolor\":\"white\",\"showbackground\":true,\"ticks\":\"\",\"zerolinecolor\":\"white\",\"gridwidth\":2},\"yaxis\":{\"backgroundcolor\":\"#E5ECF6\",\"gridcolor\":\"white\",\"linecolor\":\"white\",\"showbackground\":true,\"ticks\":\"\",\"zerolinecolor\":\"white\",\"gridwidth\":2},\"zaxis\":{\"backgroundcolor\":\"#E5ECF6\",\"gridcolor\":\"white\",\"linecolor\":\"white\",\"showbackground\":true,\"ticks\":\"\",\"zerolinecolor\":\"white\",\"gridwidth\":2}},\"shapedefaults\":{\"line\":{\"color\":\"#2a3f5f\"}},\"annotationdefaults\":{\"arrowcolor\":\"#2a3f5f\",\"arrowhead\":0,\"arrowwidth\":1},\"geo\":{\"bgcolor\":\"white\",\"landcolor\":\"#E5ECF6\",\"subunitcolor\":\"white\",\"showland\":true,\"showlakes\":true,\"lakecolor\":\"white\"},\"title\":{\"x\":0.05},\"mapbox\":{\"style\":\"light\"}}},\"geo\":{\"domain\":{\"x\":[0.0,1.0],\"y\":[0.0,1.0]},\"center\":{}},\"legend\":{\"title\":{\"text\":\"2005 [YR2005]\"},\"tracegroupgap\":0},\"margin\":{\"t\":60}},                        {\"responsive\": true}                    ).then(function(){\n",
       "                            \n",
       "var gd = document.getElementById('559e154f-f81a-4975-bb34-7910bc6abc67');\n",
       "var x = new MutationObserver(function (mutations, observer) {{\n",
       "        var display = window.getComputedStyle(gd).display;\n",
       "        if (!display || display === 'none') {{\n",
       "            console.log([gd, 'removed!']);\n",
       "            Plotly.purge(gd);\n",
       "            observer.disconnect();\n",
       "        }}\n",
       "}});\n",
       "\n",
       "// Listen for the removal of the full notebook cells\n",
       "var notebookContainer = gd.closest('#notebook-container');\n",
       "if (notebookContainer) {{\n",
       "    x.observe(notebookContainer, {childList: true});\n",
       "}}\n",
       "\n",
       "// Listen for the clearing of the current output cell\n",
       "var outputEl = gd.closest('.output');\n",
       "if (outputEl) {{\n",
       "    x.observe(outputEl, {childList: true});\n",
       "}}\n",
       "\n",
       "                        })                };                });            </script>        </div>"
      ]
     },
     "metadata": {},
     "output_type": "display_data"
    }
   ],
   "source": [
    "px.choropleth(dff, locations=\"Country Code\", color=\"2005 [YR2005]\", hover_name=\"Country Name\", color_continuous_scale=px.colors.sequential.Plasma)"
   ]
  },
  {
   "cell_type": "code",
   "execution_count": 20,
   "id": "01142cce-9269-40b9-9248-4628f9676f0e",
   "metadata": {},
   "outputs": [
    {
     "data": {
      "text/html": [
       "<div>\n",
       "<style scoped>\n",
       "    .dataframe tbody tr th:only-of-type {\n",
       "        vertical-align: middle;\n",
       "    }\n",
       "\n",
       "    .dataframe tbody tr th {\n",
       "        vertical-align: top;\n",
       "    }\n",
       "\n",
       "    .dataframe thead th {\n",
       "        text-align: right;\n",
       "    }\n",
       "</style>\n",
       "<table border=\"1\" class=\"dataframe\">\n",
       "  <thead>\n",
       "    <tr style=\"text-align: right;\">\n",
       "      <th></th>\n",
       "      <th>Series Name</th>\n",
       "      <th>Series Code</th>\n",
       "      <th>Country Name</th>\n",
       "      <th>Country Code</th>\n",
       "      <th>2005 [YR2005]</th>\n",
       "      <th>2006 [YR2006]</th>\n",
       "      <th>2007 [YR2007]</th>\n",
       "      <th>2008 [YR2008]</th>\n",
       "      <th>2009 [YR2009]</th>\n",
       "      <th>2010 [YR2010]</th>\n",
       "      <th>...</th>\n",
       "      <th>2014 [YR2014]</th>\n",
       "      <th>2015 [YR2015]</th>\n",
       "      <th>2016 [YR2016]</th>\n",
       "      <th>2017 [YR2017]</th>\n",
       "      <th>2018 [YR2018]</th>\n",
       "      <th>2019 [YR2019]</th>\n",
       "      <th>2020 [YR2020]</th>\n",
       "      <th>2021 [YR2021]</th>\n",
       "      <th>2022 [YR2022]</th>\n",
       "      <th>2023 [YR2023]</th>\n",
       "    </tr>\n",
       "  </thead>\n",
       "  <tbody>\n",
       "    <tr>\n",
       "      <th>112252</th>\n",
       "      <td>School enrollment, primary (% net)</td>\n",
       "      <td>SE.PRM.NENR</td>\n",
       "      <td>Afghanistan</td>\n",
       "      <td>AFG</td>\n",
       "      <td>..</td>\n",
       "      <td>..</td>\n",
       "      <td>..</td>\n",
       "      <td>..</td>\n",
       "      <td>..</td>\n",
       "      <td>..</td>\n",
       "      <td>...</td>\n",
       "      <td>..</td>\n",
       "      <td>..</td>\n",
       "      <td>..</td>\n",
       "      <td>..</td>\n",
       "      <td>..</td>\n",
       "      <td>..</td>\n",
       "      <td>..</td>\n",
       "      <td>..</td>\n",
       "      <td>..</td>\n",
       "      <td>..</td>\n",
       "    </tr>\n",
       "    <tr>\n",
       "      <th>112253</th>\n",
       "      <td>School enrollment, primary (% net)</td>\n",
       "      <td>SE.PRM.NENR</td>\n",
       "      <td>Africa Eastern and Southern</td>\n",
       "      <td>AFE</td>\n",
       "      <td>..</td>\n",
       "      <td>..</td>\n",
       "      <td>..</td>\n",
       "      <td>..</td>\n",
       "      <td>..</td>\n",
       "      <td>..</td>\n",
       "      <td>...</td>\n",
       "      <td>..</td>\n",
       "      <td>..</td>\n",
       "      <td>..</td>\n",
       "      <td>..</td>\n",
       "      <td>..</td>\n",
       "      <td>..</td>\n",
       "      <td>..</td>\n",
       "      <td>..</td>\n",
       "      <td>..</td>\n",
       "      <td>..</td>\n",
       "    </tr>\n",
       "    <tr>\n",
       "      <th>112254</th>\n",
       "      <td>School enrollment, primary (% net)</td>\n",
       "      <td>SE.PRM.NENR</td>\n",
       "      <td>Africa Western and Central</td>\n",
       "      <td>AFW</td>\n",
       "      <td>..</td>\n",
       "      <td>..</td>\n",
       "      <td>..</td>\n",
       "      <td>..</td>\n",
       "      <td>..</td>\n",
       "      <td>..</td>\n",
       "      <td>...</td>\n",
       "      <td>..</td>\n",
       "      <td>..</td>\n",
       "      <td>..</td>\n",
       "      <td>..</td>\n",
       "      <td>..</td>\n",
       "      <td>..</td>\n",
       "      <td>..</td>\n",
       "      <td>..</td>\n",
       "      <td>..</td>\n",
       "      <td>..</td>\n",
       "    </tr>\n",
       "    <tr>\n",
       "      <th>112255</th>\n",
       "      <td>School enrollment, primary (% net)</td>\n",
       "      <td>SE.PRM.NENR</td>\n",
       "      <td>Albania</td>\n",
       "      <td>ALB</td>\n",
       "      <td>..</td>\n",
       "      <td>..</td>\n",
       "      <td>..</td>\n",
       "      <td>86.78701</td>\n",
       "      <td>85.34118</td>\n",
       "      <td>85.95611</td>\n",
       "      <td>...</td>\n",
       "      <td>93.78369</td>\n",
       "      <td>94.17835</td>\n",
       "      <td>94.05692</td>\n",
       "      <td>95.53947</td>\n",
       "      <td>94.52966</td>\n",
       "      <td>..</td>\n",
       "      <td>..</td>\n",
       "      <td>..</td>\n",
       "      <td>..</td>\n",
       "      <td>..</td>\n",
       "    </tr>\n",
       "    <tr>\n",
       "      <th>112256</th>\n",
       "      <td>School enrollment, primary (% net)</td>\n",
       "      <td>SE.PRM.NENR</td>\n",
       "      <td>Algeria</td>\n",
       "      <td>DZA</td>\n",
       "      <td>93.09766</td>\n",
       "      <td>93.20169</td>\n",
       "      <td>95.24939</td>\n",
       "      <td>96.36304</td>\n",
       "      <td>97.44184</td>\n",
       "      <td>97.23353</td>\n",
       "      <td>...</td>\n",
       "      <td>..</td>\n",
       "      <td>97.54838</td>\n",
       "      <td>97.5908</td>\n",
       "      <td>97.5883</td>\n",
       "      <td>97.63517</td>\n",
       "      <td>..</td>\n",
       "      <td>..</td>\n",
       "      <td>..</td>\n",
       "      <td>..</td>\n",
       "      <td>..</td>\n",
       "    </tr>\n",
       "    <tr>\n",
       "      <th>...</th>\n",
       "      <td>...</td>\n",
       "      <td>...</td>\n",
       "      <td>...</td>\n",
       "      <td>...</td>\n",
       "      <td>...</td>\n",
       "      <td>...</td>\n",
       "      <td>...</td>\n",
       "      <td>...</td>\n",
       "      <td>...</td>\n",
       "      <td>...</td>\n",
       "      <td>...</td>\n",
       "      <td>...</td>\n",
       "      <td>...</td>\n",
       "      <td>...</td>\n",
       "      <td>...</td>\n",
       "      <td>...</td>\n",
       "      <td>...</td>\n",
       "      <td>...</td>\n",
       "      <td>...</td>\n",
       "      <td>...</td>\n",
       "      <td>...</td>\n",
       "    </tr>\n",
       "    <tr>\n",
       "      <th>112513</th>\n",
       "      <td>School enrollment, primary (% net)</td>\n",
       "      <td>SE.PRM.NENR</td>\n",
       "      <td>West Bank and Gaza</td>\n",
       "      <td>PSE</td>\n",
       "      <td>79.69969</td>\n",
       "      <td>80.21203</td>\n",
       "      <td>79.59043</td>\n",
       "      <td>83.73253</td>\n",
       "      <td>85.43541</td>\n",
       "      <td>87.00422</td>\n",
       "      <td>...</td>\n",
       "      <td>93.53142</td>\n",
       "      <td>93.22201</td>\n",
       "      <td>93.8445</td>\n",
       "      <td>95.26274</td>\n",
       "      <td>94.84281</td>\n",
       "      <td>..</td>\n",
       "      <td>..</td>\n",
       "      <td>..</td>\n",
       "      <td>..</td>\n",
       "      <td>..</td>\n",
       "    </tr>\n",
       "    <tr>\n",
       "      <th>112514</th>\n",
       "      <td>School enrollment, primary (% net)</td>\n",
       "      <td>SE.PRM.NENR</td>\n",
       "      <td>World</td>\n",
       "      <td>WLD</td>\n",
       "      <td>86.78988</td>\n",
       "      <td>87.21038</td>\n",
       "      <td>88.44145</td>\n",
       "      <td>88.65773</td>\n",
       "      <td>88.62895</td>\n",
       "      <td>88.63339</td>\n",
       "      <td>...</td>\n",
       "      <td>89.22588</td>\n",
       "      <td>89.16969</td>\n",
       "      <td>89.41678</td>\n",
       "      <td>89.26194</td>\n",
       "      <td>89.4124</td>\n",
       "      <td>..</td>\n",
       "      <td>..</td>\n",
       "      <td>..</td>\n",
       "      <td>..</td>\n",
       "      <td>..</td>\n",
       "    </tr>\n",
       "    <tr>\n",
       "      <th>112515</th>\n",
       "      <td>School enrollment, primary (% net)</td>\n",
       "      <td>SE.PRM.NENR</td>\n",
       "      <td>Yemen, Rep.</td>\n",
       "      <td>YEM</td>\n",
       "      <td>76.71869</td>\n",
       "      <td>..</td>\n",
       "      <td>..</td>\n",
       "      <td>76.80185</td>\n",
       "      <td>..</td>\n",
       "      <td>81.53256</td>\n",
       "      <td>...</td>\n",
       "      <td>..</td>\n",
       "      <td>..</td>\n",
       "      <td>84.16556</td>\n",
       "      <td>..</td>\n",
       "      <td>..</td>\n",
       "      <td>..</td>\n",
       "      <td>..</td>\n",
       "      <td>..</td>\n",
       "      <td>..</td>\n",
       "      <td>..</td>\n",
       "    </tr>\n",
       "    <tr>\n",
       "      <th>112516</th>\n",
       "      <td>School enrollment, primary (% net)</td>\n",
       "      <td>SE.PRM.NENR</td>\n",
       "      <td>Zambia</td>\n",
       "      <td>ZMB</td>\n",
       "      <td>89.74576</td>\n",
       "      <td>89.24665</td>\n",
       "      <td>90.45893</td>\n",
       "      <td>92.16696</td>\n",
       "      <td>87.28261</td>\n",
       "      <td>84.80889</td>\n",
       "      <td>...</td>\n",
       "      <td>..</td>\n",
       "      <td>..</td>\n",
       "      <td>..</td>\n",
       "      <td>83.16745</td>\n",
       "      <td>..</td>\n",
       "      <td>..</td>\n",
       "      <td>..</td>\n",
       "      <td>..</td>\n",
       "      <td>..</td>\n",
       "      <td>..</td>\n",
       "    </tr>\n",
       "    <tr>\n",
       "      <th>112517</th>\n",
       "      <td>School enrollment, primary (% net)</td>\n",
       "      <td>SE.PRM.NENR</td>\n",
       "      <td>Zimbabwe</td>\n",
       "      <td>ZWE</td>\n",
       "      <td>..</td>\n",
       "      <td>..</td>\n",
       "      <td>..</td>\n",
       "      <td>..</td>\n",
       "      <td>..</td>\n",
       "      <td>..</td>\n",
       "      <td>...</td>\n",
       "      <td>..</td>\n",
       "      <td>..</td>\n",
       "      <td>..</td>\n",
       "      <td>..</td>\n",
       "      <td>..</td>\n",
       "      <td>..</td>\n",
       "      <td>..</td>\n",
       "      <td>..</td>\n",
       "      <td>..</td>\n",
       "      <td>..</td>\n",
       "    </tr>\n",
       "  </tbody>\n",
       "</table>\n",
       "<p>266 rows × 23 columns</p>\n",
       "</div>"
      ],
      "text/plain": [
       "                               Series Name  Series Code  \\\n",
       "112252  School enrollment, primary (% net)  SE.PRM.NENR   \n",
       "112253  School enrollment, primary (% net)  SE.PRM.NENR   \n",
       "112254  School enrollment, primary (% net)  SE.PRM.NENR   \n",
       "112255  School enrollment, primary (% net)  SE.PRM.NENR   \n",
       "112256  School enrollment, primary (% net)  SE.PRM.NENR   \n",
       "...                                    ...          ...   \n",
       "112513  School enrollment, primary (% net)  SE.PRM.NENR   \n",
       "112514  School enrollment, primary (% net)  SE.PRM.NENR   \n",
       "112515  School enrollment, primary (% net)  SE.PRM.NENR   \n",
       "112516  School enrollment, primary (% net)  SE.PRM.NENR   \n",
       "112517  School enrollment, primary (% net)  SE.PRM.NENR   \n",
       "\n",
       "                       Country Name Country Code 2005 [YR2005] 2006 [YR2006]  \\\n",
       "112252                  Afghanistan          AFG            ..            ..   \n",
       "112253  Africa Eastern and Southern          AFE            ..            ..   \n",
       "112254   Africa Western and Central          AFW            ..            ..   \n",
       "112255                      Albania          ALB            ..            ..   \n",
       "112256                      Algeria          DZA      93.09766      93.20169   \n",
       "...                             ...          ...           ...           ...   \n",
       "112513           West Bank and Gaza          PSE      79.69969      80.21203   \n",
       "112514                        World          WLD      86.78988      87.21038   \n",
       "112515                  Yemen, Rep.          YEM      76.71869            ..   \n",
       "112516                       Zambia          ZMB      89.74576      89.24665   \n",
       "112517                     Zimbabwe          ZWE            ..            ..   \n",
       "\n",
       "       2007 [YR2007] 2008 [YR2008] 2009 [YR2009] 2010 [YR2010]  ...  \\\n",
       "112252            ..            ..            ..            ..  ...   \n",
       "112253            ..            ..            ..            ..  ...   \n",
       "112254            ..            ..            ..            ..  ...   \n",
       "112255            ..      86.78701      85.34118      85.95611  ...   \n",
       "112256      95.24939      96.36304      97.44184      97.23353  ...   \n",
       "...              ...           ...           ...           ...  ...   \n",
       "112513      79.59043      83.73253      85.43541      87.00422  ...   \n",
       "112514      88.44145      88.65773      88.62895      88.63339  ...   \n",
       "112515            ..      76.80185            ..      81.53256  ...   \n",
       "112516      90.45893      92.16696      87.28261      84.80889  ...   \n",
       "112517            ..            ..            ..            ..  ...   \n",
       "\n",
       "       2014 [YR2014] 2015 [YR2015] 2016 [YR2016] 2017 [YR2017] 2018 [YR2018]  \\\n",
       "112252            ..            ..            ..            ..            ..   \n",
       "112253            ..            ..            ..            ..            ..   \n",
       "112254            ..            ..            ..            ..            ..   \n",
       "112255      93.78369      94.17835      94.05692      95.53947      94.52966   \n",
       "112256            ..      97.54838       97.5908       97.5883      97.63517   \n",
       "...              ...           ...           ...           ...           ...   \n",
       "112513      93.53142      93.22201       93.8445      95.26274      94.84281   \n",
       "112514      89.22588      89.16969      89.41678      89.26194       89.4124   \n",
       "112515            ..            ..      84.16556            ..            ..   \n",
       "112516            ..            ..            ..      83.16745            ..   \n",
       "112517            ..            ..            ..            ..            ..   \n",
       "\n",
       "       2019 [YR2019] 2020 [YR2020] 2021 [YR2021] 2022 [YR2022] 2023 [YR2023]  \n",
       "112252            ..            ..            ..            ..            ..  \n",
       "112253            ..            ..            ..            ..            ..  \n",
       "112254            ..            ..            ..            ..            ..  \n",
       "112255            ..            ..            ..            ..            ..  \n",
       "112256            ..            ..            ..            ..            ..  \n",
       "...              ...           ...           ...           ...           ...  \n",
       "112513            ..            ..            ..            ..            ..  \n",
       "112514            ..            ..            ..            ..            ..  \n",
       "112515            ..            ..            ..            ..            ..  \n",
       "112516            ..            ..            ..            ..            ..  \n",
       "112517            ..            ..            ..            ..            ..  \n",
       "\n",
       "[266 rows x 23 columns]"
      ]
     },
     "execution_count": 20,
     "metadata": {},
     "output_type": "execute_result"
    }
   ],
   "source": [
    "dff"
   ]
  },
  {
   "cell_type": "code",
   "execution_count": null,
   "id": "f17394e5-697e-4e01-a8cf-e8916b38f48b",
   "metadata": {},
   "outputs": [],
   "source": []
  }
 ],
 "metadata": {
  "kernelspec": {
   "display_name": "Python 3 (ipykernel)",
   "language": "python",
   "name": "python3"
  },
  "language_info": {
   "codemirror_mode": {
    "name": "ipython",
    "version": 3
   },
   "file_extension": ".py",
   "mimetype": "text/x-python",
   "name": "python",
   "nbconvert_exporter": "python",
   "pygments_lexer": "ipython3",
   "version": "3.12.4"
  }
 },
 "nbformat": 4,
 "nbformat_minor": 5
}
