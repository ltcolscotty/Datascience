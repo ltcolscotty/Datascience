{
 "cells": [
  {
   "cell_type": "markdown",
   "id": "483c7d4a-e854-4bc1-9471-79419901d631",
   "metadata": {},
   "source": [
    "# US Election Analysis 2000-2020\n",
    "\n",
    "Since its election season, I figured there's no better time than now to practice on an election result data set. My README.md file contains my source for the data, and for now I'll be interested in making Choropleth charts to do various analyses on the different measures in the data set. In the future I'll try to match this with other datasets to find correlations in analyses.\n",
    "\n",
    "## Relevant measures\n",
    "- year\n",
    "- state (state_po for the charts)\n",
    "- county (county_fips for the charts)\n",
    "- party\n",
    "- candidatevotes\n",
    "- totalvotes"
   ]
  },
  {
   "cell_type": "code",
   "execution_count": 46,
   "id": "d332afc6-81ff-41e4-8259-71a7bd9d7933",
   "metadata": {},
   "outputs": [],
   "source": [
    "import pandas as pd\n",
    "import plotly.express as px\n",
    "from urllib.request import urlopen\n",
    "import json"
   ]
  },
  {
   "cell_type": "code",
   "execution_count": 53,
   "id": "0d79415f-f662-40ce-8c2c-c54403563f24",
   "metadata": {},
   "outputs": [],
   "source": [
    "with urlopen('https://raw.githubusercontent.com/plotly/datasets/master/geojson-counties-fips.json') as response:\n",
    "    counties = json.load(response)\n",
    "\n",
    "election_years = [2000, 2004, 2008, 2012, 2016, 2020]\n",
    "parties = ['DEMOCRAT', 'REPUBLICAN', 'GREEN', 'OTHER']\n",
    "party_color = {\n",
    "    'DEMOCRAT': 'Blues', \n",
    "    'REPUBLICAN': 'Reds', \n",
    "    'GREEN': 'Greens', \n",
    "    'OTHER': 'Oranges'\n",
    "}"
   ]
  },
  {
   "cell_type": "code",
   "execution_count": 57,
   "id": "6d0c5114-3dd9-47dc-9275-87d78a3a2d76",
   "metadata": {},
   "outputs": [],
   "source": [
    "df_main = pd.read_csv('Data/main_data.csv')"
   ]
  },
  {
   "cell_type": "code",
   "execution_count": 59,
   "id": "42a54cf7-4742-4c27-b115-72b871214c65",
   "metadata": {},
   "outputs": [],
   "source": [
    "df_states = df_main.groupby('state_po')"
   ]
  },
  {
   "cell_type": "code",
   "execution_count": 60,
   "id": "8894638a-4ff1-4d49-a863-4d4e2111f68e",
   "metadata": {},
   "outputs": [
    {
     "data": {
      "text/plain": [
       "<pandas.core.groupby.generic.DataFrameGroupBy object at 0x000001E1340A73D0>"
      ]
     },
     "execution_count": 60,
     "metadata": {},
     "output_type": "execute_result"
    }
   ],
   "source": [
    "df_states"
   ]
  },
  {
   "cell_type": "code",
   "execution_count": 50,
   "id": "74c8cb2f-7fbd-46ce-81e8-2bfb3e159411",
   "metadata": {},
   "outputs": [],
   "source": [
    "dfmain['percentage'] = dfmain['candidatevotes']/dfmain['totalvotes']"
   ]
  },
  {
   "cell_type": "code",
   "execution_count": 51,
   "id": "cdd87f87-c537-4832-8e21-d288ce136574",
   "metadata": {},
   "outputs": [],
   "source": [
    "election1df = dfmain[dfmain['year'] == 2000]\n",
    "election2df = dfmain[dfmain['year'] == 2004]\n",
    "election3df = dfmain[dfmain['year'] == 2008]\n",
    "election4df = dfmain[dfmain['year'] == 2012]\n",
    "election5df = dfmain[dfmain['year'] == 2016]\n",
    "election6df = dfmain[dfmain['year'] == 2020]"
   ]
  },
  {
   "cell_type": "code",
   "execution_count": 52,
   "id": "3abc32d1-3c14-4e0d-b028-52eea70ed670",
   "metadata": {},
   "outputs": [],
   "source": [
    "e1Ddf = election1df[election1df['party'] == 'DEMOCRAT']\n",
    "e1Rdf = election1df[election1df['party'] == 'REPUBLICAN']\n",
    "e1Gdf = election1df[election1df['party'] == 'GREEN']\n",
    "e1Odf = election1df[election1df['party'] == 'OTHER']"
   ]
  },
  {
   "cell_type": "code",
   "execution_count": 45,
   "id": "8c63adfe-3b4e-4cb0-8e36-c0d172fe9ac7",
   "metadata": {},
   "outputs": [],
   "source": [
    "fig_D = px.choropleth(e1Ddf, geojson=counties, locations='county_fips', color='percentage',\n",
    "                           color_continuous_scale=\"Blues\",\n",
    "                           range_color=(0, 1),\n",
    "                           scope=\"usa\",\n",
    "                           labels={'votes':'candidatevotes'}\n",
    "                          )\n",
    "fig_R = px.choropleth(e1Rdf, geojson=counties, locations='county_fips', color='percentage',\n",
    "                           color_continuous_scale=\"Reds\",\n",
    "                           range_color=(0, 1),\n",
    "                           scope=\"usa\",\n",
    "                           labels={'votes':'candidatevotes'}\n",
    "                          )\n",
    "fig_G = px.choropleth(e1Gdf, geojson=counties, locations='county_fips', color='percentage',\n",
    "                           color_continuous_scale=\"Greens\",\n",
    "                           range_color=(0, 1),\n",
    "                           scope=\"usa\",\n",
    "                           labels={'votes':'candidatevotes'}\n",
    "                          )\n",
    "fig_O = px.choropleth(e1Odf, geojson=counties, locations='county_fips', color='percentage',\n",
    "                           color_continuous_scale=\"Oranges\",\n",
    "                           range_color=(0, 1),\n",
    "                           scope=\"usa\",\n",
    "                           labels={'votes':'candidatevotes'}\n",
    "                          )"
   ]
  }
 ],
 "metadata": {
  "kernelspec": {
   "display_name": "Python 3 (ipykernel)",
   "language": "python",
   "name": "python3"
  },
  "language_info": {
   "codemirror_mode": {
    "name": "ipython",
    "version": 3
   },
   "file_extension": ".py",
   "mimetype": "text/x-python",
   "name": "python",
   "nbconvert_exporter": "python",
   "pygments_lexer": "ipython3",
   "version": "3.11.5"
  }
 },
 "nbformat": 4,
 "nbformat_minor": 5
}
