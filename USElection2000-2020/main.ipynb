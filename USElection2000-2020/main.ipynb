{
 "cells": [
  {
   "cell_type": "markdown",
   "id": "483c7d4a-e854-4bc1-9471-79419901d631",
   "metadata": {},
   "source": [
    "# US Election Analysis 2000-2020\n",
    "\n",
    "Since its election season, I figured there's no better time than now to practice on an election result data set. My README.md file contains my source for the data, and for now I'll be interested in making Choropleth charts to do various analyses on the different measures in the data set. In the future I'll try to match this with other datasets to find correlations in analyses.\n",
    "\n",
    "## Relevant measures\n",
    "- year\n",
    "- state (state_po for the charts)\n",
    "- county (county_fips for the charts)\n",
    "- party\n",
    "- candidatevotes\n",
    "- totalvotes"
   ]
  },
  {
   "cell_type": "code",
   "execution_count": 1,
   "id": "d332afc6-81ff-41e4-8259-71a7bd9d7933",
   "metadata": {},
   "outputs": [],
   "source": [
    "import pandas as pd\n",
    "import plotly.express as px\n",
    "from urllib.request import urlopen\n",
    "import json"
   ]
  },
  {
   "cell_type": "code",
   "execution_count": 2,
   "id": "0d79415f-f662-40ce-8c2c-c54403563f24",
   "metadata": {},
   "outputs": [],
   "source": [
    "with urlopen('https://raw.githubusercontent.com/plotly/datasets/master/geojson-counties-fips.json') as response:\n",
    "    counties = json.load(response)\n",
    "\n",
    "election_years = [2000, 2004, 2008, 2012, 2016, 2020]\n",
    "parties = ['DEMOCRAT', 'REPUBLICAN', 'GREEN', 'OTHER']\n",
    "party_color = {\n",
    "    'DEMOCRAT': 'Blues', \n",
    "    'REPUBLICAN': 'Reds', \n",
    "    'GREEN': 'Greens', \n",
    "    'OTHER': 'Oranges'\n",
    "}"
   ]
  },
  {
   "cell_type": "code",
   "execution_count": 18,
   "id": "6d0c5114-3dd9-47dc-9275-87d78a3a2d76",
   "metadata": {},
   "outputs": [],
   "source": [
    "df_main = pd.read_csv('Data/main_data.csv')\n",
    "df_states = df_main.groupby(['state_po', 'year', 'party'])['candidatevotes'].sum().reset_index()"
   ]
  },
  {
   "cell_type": "code",
   "execution_count": 19,
   "id": "1c79c27c-9ede-4d82-b786-e2a1b7cbccfb",
   "metadata": {},
   "outputs": [
    {
     "data": {
      "text/html": [
       "<div>\n",
       "<style scoped>\n",
       "    .dataframe tbody tr th:only-of-type {\n",
       "        vertical-align: middle;\n",
       "    }\n",
       "\n",
       "    .dataframe tbody tr th {\n",
       "        vertical-align: top;\n",
       "    }\n",
       "\n",
       "    .dataframe thead th {\n",
       "        text-align: right;\n",
       "    }\n",
       "</style>\n",
       "<table border=\"1\" class=\"dataframe\">\n",
       "  <thead>\n",
       "    <tr style=\"text-align: right;\">\n",
       "      <th></th>\n",
       "      <th>state_po</th>\n",
       "      <th>year</th>\n",
       "      <th>party</th>\n",
       "      <th>candidatevotes</th>\n",
       "    </tr>\n",
       "  </thead>\n",
       "  <tbody>\n",
       "    <tr>\n",
       "      <th>0</th>\n",
       "      <td>AK</td>\n",
       "      <td>2000</td>\n",
       "      <td>DEMOCRAT</td>\n",
       "      <td>79004</td>\n",
       "    </tr>\n",
       "    <tr>\n",
       "      <th>1</th>\n",
       "      <td>AK</td>\n",
       "      <td>2000</td>\n",
       "      <td>GREEN</td>\n",
       "      <td>28747</td>\n",
       "    </tr>\n",
       "    <tr>\n",
       "      <th>2</th>\n",
       "      <td>AK</td>\n",
       "      <td>2000</td>\n",
       "      <td>OTHER</td>\n",
       "      <td>10381</td>\n",
       "    </tr>\n",
       "    <tr>\n",
       "      <th>3</th>\n",
       "      <td>AK</td>\n",
       "      <td>2000</td>\n",
       "      <td>REPUBLICAN</td>\n",
       "      <td>167398</td>\n",
       "    </tr>\n",
       "    <tr>\n",
       "      <th>4</th>\n",
       "      <td>AK</td>\n",
       "      <td>2004</td>\n",
       "      <td>DEMOCRAT</td>\n",
       "      <td>180365</td>\n",
       "    </tr>\n",
       "    <tr>\n",
       "      <th>...</th>\n",
       "      <td>...</td>\n",
       "      <td>...</td>\n",
       "      <td>...</td>\n",
       "      <td>...</td>\n",
       "    </tr>\n",
       "    <tr>\n",
       "      <th>1036</th>\n",
       "      <td>WY</td>\n",
       "      <td>2016</td>\n",
       "      <td>REPUBLICAN</td>\n",
       "      <td>174419</td>\n",
       "    </tr>\n",
       "    <tr>\n",
       "      <th>1037</th>\n",
       "      <td>WY</td>\n",
       "      <td>2020</td>\n",
       "      <td>DEMOCRAT</td>\n",
       "      <td>73491</td>\n",
       "    </tr>\n",
       "    <tr>\n",
       "      <th>1038</th>\n",
       "      <td>WY</td>\n",
       "      <td>2020</td>\n",
       "      <td>LIBERTARIAN</td>\n",
       "      <td>5768</td>\n",
       "    </tr>\n",
       "    <tr>\n",
       "      <th>1039</th>\n",
       "      <td>WY</td>\n",
       "      <td>2020</td>\n",
       "      <td>OTHER</td>\n",
       "      <td>5685</td>\n",
       "    </tr>\n",
       "    <tr>\n",
       "      <th>1040</th>\n",
       "      <td>WY</td>\n",
       "      <td>2020</td>\n",
       "      <td>REPUBLICAN</td>\n",
       "      <td>193559</td>\n",
       "    </tr>\n",
       "  </tbody>\n",
       "</table>\n",
       "<p>1041 rows × 4 columns</p>\n",
       "</div>"
      ],
      "text/plain": [
       "     state_po  year        party  candidatevotes\n",
       "0          AK  2000     DEMOCRAT           79004\n",
       "1          AK  2000        GREEN           28747\n",
       "2          AK  2000        OTHER           10381\n",
       "3          AK  2000   REPUBLICAN          167398\n",
       "4          AK  2004     DEMOCRAT          180365\n",
       "...       ...   ...          ...             ...\n",
       "1036       WY  2016   REPUBLICAN          174419\n",
       "1037       WY  2020     DEMOCRAT           73491\n",
       "1038       WY  2020  LIBERTARIAN            5768\n",
       "1039       WY  2020        OTHER            5685\n",
       "1040       WY  2020   REPUBLICAN          193559\n",
       "\n",
       "[1041 rows x 4 columns]"
      ]
     },
     "execution_count": 19,
     "metadata": {},
     "output_type": "execute_result"
    }
   ],
   "source": [
    "df_states"
   ]
  },
  {
   "cell_type": "code",
   "execution_count": 21,
   "id": "f349599b-7dee-40e5-9586-5bdde5ab0375",
   "metadata": {},
   "outputs": [
    {
     "data": {
      "text/plain": [
       "array([20220315])"
      ]
     },
     "execution_count": 21,
     "metadata": {},
     "output_type": "execute_result"
    }
   ],
   "source": []
  },
  {
   "cell_type": "code",
   "execution_count": 50,
   "id": "74c8cb2f-7fbd-46ce-81e8-2bfb3e159411",
   "metadata": {},
   "outputs": [],
   "source": [
    "dfmain['percentage'] = dfmain['candidatevotes']/dfmain['totalvotes']"
   ]
  },
  {
   "cell_type": "code",
   "execution_count": 51,
   "id": "cdd87f87-c537-4832-8e21-d288ce136574",
   "metadata": {},
   "outputs": [],
   "source": [
    "election1df = dfmain[dfmain['year'] == 2000]\n",
    "election2df = dfmain[dfmain['year'] == 2004]\n",
    "election3df = dfmain[dfmain['year'] == 2008]\n",
    "election4df = dfmain[dfmain['year'] == 2012]\n",
    "election5df = dfmain[dfmain['year'] == 2016]\n",
    "election6df = dfmain[dfmain['year'] == 2020]"
   ]
  },
  {
   "cell_type": "code",
   "execution_count": 52,
   "id": "3abc32d1-3c14-4e0d-b028-52eea70ed670",
   "metadata": {},
   "outputs": [],
   "source": [
    "e1Ddf = election1df[election1df['party'] == 'DEMOCRAT']\n",
    "e1Rdf = election1df[election1df['party'] == 'REPUBLICAN']\n",
    "e1Gdf = election1df[election1df['party'] == 'GREEN']\n",
    "e1Odf = election1df[election1df['party'] == 'OTHER']"
   ]
  },
  {
   "cell_type": "code",
   "execution_count": 45,
   "id": "8c63adfe-3b4e-4cb0-8e36-c0d172fe9ac7",
   "metadata": {},
   "outputs": [],
   "source": [
    "fig_D = px.choropleth(e1Ddf, geojson=counties, locations='county_fips', color='percentage',\n",
    "                           color_continuous_scale=\"Blues\",\n",
    "                           range_color=(0, 1),\n",
    "                           scope=\"usa\",\n",
    "                           labels={'votes':'candidatevotes'}\n",
    "                          )\n",
    "fig_R = px.choropleth(e1Rdf, geojson=counties, locations='county_fips', color='percentage',\n",
    "                           color_continuous_scale=\"Reds\",\n",
    "                           range_color=(0, 1),\n",
    "                           scope=\"usa\",\n",
    "                           labels={'votes':'candidatevotes'}\n",
    "                          )\n",
    "fig_G = px.choropleth(e1Gdf, geojson=counties, locations='county_fips', color='percentage',\n",
    "                           color_continuous_scale=\"Greens\",\n",
    "                           range_color=(0, 1),\n",
    "                           scope=\"usa\",\n",
    "                           labels={'votes':'candidatevotes'}\n",
    "                          )\n",
    "fig_O = px.choropleth(e1Odf, geojson=counties, locations='county_fips', color='percentage',\n",
    "                           color_continuous_scale=\"Oranges\",\n",
    "                           range_color=(0, 1),\n",
    "                           scope=\"usa\",\n",
    "                           labels={'votes':'candidatevotes'}\n",
    "                          )"
   ]
  }
 ],
 "metadata": {
  "kernelspec": {
   "display_name": "Python 3 (ipykernel)",
   "language": "python",
   "name": "python3"
  },
  "language_info": {
   "codemirror_mode": {
    "name": "ipython",
    "version": 3
   },
   "file_extension": ".py",
   "mimetype": "text/x-python",
   "name": "python",
   "nbconvert_exporter": "python",
   "pygments_lexer": "ipython3",
   "version": "3.11.5"
  }
 },
 "nbformat": 4,
 "nbformat_minor": 5
}
